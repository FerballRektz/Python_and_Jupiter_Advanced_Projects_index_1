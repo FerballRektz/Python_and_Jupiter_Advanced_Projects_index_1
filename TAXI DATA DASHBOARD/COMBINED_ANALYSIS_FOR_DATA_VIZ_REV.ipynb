{
 "cells": [
  {
   "cell_type": "markdown",
   "metadata": {},
   "source": [
    "# DATA VISUALISATION OF GERARD IRAO"
   ]
  },
  {
   "cell_type": "code",
   "execution_count": 1,
   "metadata": {},
   "outputs": [],
   "source": [
    "import pandas as pd\n",
    "import numpy as np\n",
    "import matplotlib.pyplot as plt\n",
    "import seaborn as sns\n",
    "import dask.dataframe as dd "
   ]
  },
  {
   "cell_type": "markdown",
   "metadata": {},
   "source": [
    "## LOADING THE DATASET"
   ]
  },
  {
   "cell_type": "code",
   "execution_count": 54,
   "metadata": {},
   "outputs": [
    {
     "data": {
      "text/html": [
       "<div><strong>Dask DataFrame Structure:</strong></div>\n",
       "<div>\n",
       "<style scoped>\n",
       "    .dataframe tbody tr th:only-of-type {\n",
       "        vertical-align: middle;\n",
       "    }\n",
       "\n",
       "    .dataframe tbody tr th {\n",
       "        vertical-align: top;\n",
       "    }\n",
       "\n",
       "    .dataframe thead th {\n",
       "        text-align: right;\n",
       "    }\n",
       "</style>\n",
       "<table border=\"1\" class=\"dataframe\">\n",
       "  <thead>\n",
       "    <tr style=\"text-align: right;\">\n",
       "      <th></th>\n",
       "      <th>Type</th>\n",
       "      <th>PROVIDER NAME</th>\n",
       "      <th>StartDateTime</th>\n",
       "      <th>DateCreated</th>\n",
       "      <th>ID</th>\n",
       "      <th>ExternalID</th>\n",
       "      <th>FareAmount</th>\n",
       "      <th>GratuityAmount</th>\n",
       "      <th>SurchargeAmount</th>\n",
       "      <th>ExtraFareAmount</th>\n",
       "      <th>TollAmount</th>\n",
       "      <th>TotalAmount</th>\n",
       "      <th>PaymentType</th>\n",
       "      <th>StartDateTime.1</th>\n",
       "      <th>EndDateTime</th>\n",
       "      <th>OriginStreetNumber</th>\n",
       "      <th>OriginStreetName</th>\n",
       "      <th>OriginCity</th>\n",
       "      <th>OriginState</th>\n",
       "      <th>OriginZip</th>\n",
       "      <th>OriginLatitude</th>\n",
       "      <th>OriginLongitude</th>\n",
       "      <th>DestinationStreetNumber</th>\n",
       "      <th>DestinationStreetName</th>\n",
       "      <th>DestinationCity</th>\n",
       "      <th>DestinationState</th>\n",
       "      <th>DestinationZip</th>\n",
       "      <th>DestinationLatitude</th>\n",
       "      <th>DestinationLongitude</th>\n",
       "      <th>Milage</th>\n",
       "      <th>Duration</th>\n",
       "      <th>Unnamed: 31</th>\n",
       "    </tr>\n",
       "    <tr>\n",
       "      <th>npartitions=65</th>\n",
       "      <th></th>\n",
       "      <th></th>\n",
       "      <th></th>\n",
       "      <th></th>\n",
       "      <th></th>\n",
       "      <th></th>\n",
       "      <th></th>\n",
       "      <th></th>\n",
       "      <th></th>\n",
       "      <th></th>\n",
       "      <th></th>\n",
       "      <th></th>\n",
       "      <th></th>\n",
       "      <th></th>\n",
       "      <th></th>\n",
       "      <th></th>\n",
       "      <th></th>\n",
       "      <th></th>\n",
       "      <th></th>\n",
       "      <th></th>\n",
       "      <th></th>\n",
       "      <th></th>\n",
       "      <th></th>\n",
       "      <th></th>\n",
       "      <th></th>\n",
       "      <th></th>\n",
       "      <th></th>\n",
       "      <th></th>\n",
       "      <th></th>\n",
       "      <th></th>\n",
       "      <th></th>\n",
       "      <th></th>\n",
       "    </tr>\n",
       "  </thead>\n",
       "  <tbody>\n",
       "    <tr>\n",
       "      <th></th>\n",
       "      <td>int64</td>\n",
       "      <td>string</td>\n",
       "      <td>string</td>\n",
       "      <td>string</td>\n",
       "      <td>string</td>\n",
       "      <td>int64</td>\n",
       "      <td>float64</td>\n",
       "      <td>float64</td>\n",
       "      <td>float64</td>\n",
       "      <td>float64</td>\n",
       "      <td>float64</td>\n",
       "      <td>float64</td>\n",
       "      <td>int64</td>\n",
       "      <td>string</td>\n",
       "      <td>string</td>\n",
       "      <td>float64</td>\n",
       "      <td>string</td>\n",
       "      <td>float64</td>\n",
       "      <td>string</td>\n",
       "      <td>int64</td>\n",
       "      <td>float64</td>\n",
       "      <td>float64</td>\n",
       "      <td>float64</td>\n",
       "      <td>string</td>\n",
       "      <td>float64</td>\n",
       "      <td>string</td>\n",
       "      <td>int64</td>\n",
       "      <td>float64</td>\n",
       "      <td>float64</td>\n",
       "      <td>float64</td>\n",
       "      <td>int64</td>\n",
       "      <td>float64</td>\n",
       "    </tr>\n",
       "    <tr>\n",
       "      <th></th>\n",
       "      <td>...</td>\n",
       "      <td>...</td>\n",
       "      <td>...</td>\n",
       "      <td>...</td>\n",
       "      <td>...</td>\n",
       "      <td>...</td>\n",
       "      <td>...</td>\n",
       "      <td>...</td>\n",
       "      <td>...</td>\n",
       "      <td>...</td>\n",
       "      <td>...</td>\n",
       "      <td>...</td>\n",
       "      <td>...</td>\n",
       "      <td>...</td>\n",
       "      <td>...</td>\n",
       "      <td>...</td>\n",
       "      <td>...</td>\n",
       "      <td>...</td>\n",
       "      <td>...</td>\n",
       "      <td>...</td>\n",
       "      <td>...</td>\n",
       "      <td>...</td>\n",
       "      <td>...</td>\n",
       "      <td>...</td>\n",
       "      <td>...</td>\n",
       "      <td>...</td>\n",
       "      <td>...</td>\n",
       "      <td>...</td>\n",
       "      <td>...</td>\n",
       "      <td>...</td>\n",
       "      <td>...</td>\n",
       "      <td>...</td>\n",
       "    </tr>\n",
       "    <tr>\n",
       "      <th>...</th>\n",
       "      <td>...</td>\n",
       "      <td>...</td>\n",
       "      <td>...</td>\n",
       "      <td>...</td>\n",
       "      <td>...</td>\n",
       "      <td>...</td>\n",
       "      <td>...</td>\n",
       "      <td>...</td>\n",
       "      <td>...</td>\n",
       "      <td>...</td>\n",
       "      <td>...</td>\n",
       "      <td>...</td>\n",
       "      <td>...</td>\n",
       "      <td>...</td>\n",
       "      <td>...</td>\n",
       "      <td>...</td>\n",
       "      <td>...</td>\n",
       "      <td>...</td>\n",
       "      <td>...</td>\n",
       "      <td>...</td>\n",
       "      <td>...</td>\n",
       "      <td>...</td>\n",
       "      <td>...</td>\n",
       "      <td>...</td>\n",
       "      <td>...</td>\n",
       "      <td>...</td>\n",
       "      <td>...</td>\n",
       "      <td>...</td>\n",
       "      <td>...</td>\n",
       "      <td>...</td>\n",
       "      <td>...</td>\n",
       "      <td>...</td>\n",
       "    </tr>\n",
       "    <tr>\n",
       "      <th></th>\n",
       "      <td>...</td>\n",
       "      <td>...</td>\n",
       "      <td>...</td>\n",
       "      <td>...</td>\n",
       "      <td>...</td>\n",
       "      <td>...</td>\n",
       "      <td>...</td>\n",
       "      <td>...</td>\n",
       "      <td>...</td>\n",
       "      <td>...</td>\n",
       "      <td>...</td>\n",
       "      <td>...</td>\n",
       "      <td>...</td>\n",
       "      <td>...</td>\n",
       "      <td>...</td>\n",
       "      <td>...</td>\n",
       "      <td>...</td>\n",
       "      <td>...</td>\n",
       "      <td>...</td>\n",
       "      <td>...</td>\n",
       "      <td>...</td>\n",
       "      <td>...</td>\n",
       "      <td>...</td>\n",
       "      <td>...</td>\n",
       "      <td>...</td>\n",
       "      <td>...</td>\n",
       "      <td>...</td>\n",
       "      <td>...</td>\n",
       "      <td>...</td>\n",
       "      <td>...</td>\n",
       "      <td>...</td>\n",
       "      <td>...</td>\n",
       "    </tr>\n",
       "    <tr>\n",
       "      <th></th>\n",
       "      <td>...</td>\n",
       "      <td>...</td>\n",
       "      <td>...</td>\n",
       "      <td>...</td>\n",
       "      <td>...</td>\n",
       "      <td>...</td>\n",
       "      <td>...</td>\n",
       "      <td>...</td>\n",
       "      <td>...</td>\n",
       "      <td>...</td>\n",
       "      <td>...</td>\n",
       "      <td>...</td>\n",
       "      <td>...</td>\n",
       "      <td>...</td>\n",
       "      <td>...</td>\n",
       "      <td>...</td>\n",
       "      <td>...</td>\n",
       "      <td>...</td>\n",
       "      <td>...</td>\n",
       "      <td>...</td>\n",
       "      <td>...</td>\n",
       "      <td>...</td>\n",
       "      <td>...</td>\n",
       "      <td>...</td>\n",
       "      <td>...</td>\n",
       "      <td>...</td>\n",
       "      <td>...</td>\n",
       "      <td>...</td>\n",
       "      <td>...</td>\n",
       "      <td>...</td>\n",
       "      <td>...</td>\n",
       "      <td>...</td>\n",
       "    </tr>\n",
       "  </tbody>\n",
       "</table>\n",
       "</div>\n",
       "<div>Dask Name: to_pyarrow_string, 2 graph layers</div>"
      ],
      "text/plain": [
       "Dask DataFrame Structure:\n",
       "                 Type PROVIDER NAME StartDateTime DateCreated      ID ExternalID FareAmount GratuityAmount SurchargeAmount ExtraFareAmount TollAmount TotalAmount PaymentType StartDateTime.1 EndDateTime OriginStreetNumber OriginStreetName OriginCity OriginState OriginZip OriginLatitude OriginLongitude DestinationStreetNumber DestinationStreetName DestinationCity DestinationState DestinationZip DestinationLatitude DestinationLongitude   Milage Duration Unnamed: 31\n",
       "npartitions=65                                                                                                                                                                                                                                                                                                                                                                                                                                                                    \n",
       "                int64        string        string      string  string      int64    float64        float64         float64         float64    float64     float64       int64          string      string            float64           string    float64      string     int64        float64         float64                 float64                string         float64           string          int64             float64              float64  float64    int64     float64\n",
       "                  ...           ...           ...         ...     ...        ...        ...            ...             ...             ...        ...         ...         ...             ...         ...                ...              ...        ...         ...       ...            ...             ...                     ...                   ...             ...              ...            ...                 ...                  ...      ...      ...         ...\n",
       "...               ...           ...           ...         ...     ...        ...        ...            ...             ...             ...        ...         ...         ...             ...         ...                ...              ...        ...         ...       ...            ...             ...                     ...                   ...             ...              ...            ...                 ...                  ...      ...      ...         ...\n",
       "                  ...           ...           ...         ...     ...        ...        ...            ...             ...             ...        ...         ...         ...             ...         ...                ...              ...        ...         ...       ...            ...             ...                     ...                   ...             ...              ...            ...                 ...                  ...      ...      ...         ...\n",
       "                  ...           ...           ...         ...     ...        ...        ...            ...             ...             ...        ...         ...         ...             ...         ...                ...              ...        ...         ...       ...            ...             ...                     ...                   ...             ...              ...            ...                 ...                  ...      ...      ...         ...\n",
       "Dask Name: to_pyarrow_string, 2 graph layers"
      ]
     },
     "execution_count": 54,
     "metadata": {},
     "output_type": "execute_result"
    }
   ],
   "source": [
    "dd.read_csv(\"../../../../../data/big data/taxi_final.csv\")"
   ]
  },
  {
   "cell_type": "markdown",
   "metadata": {},
   "source": [
    "## PERFORM DATA CLEANING"
   ]
  },
  {
   "cell_type": "markdown",
   "metadata": {},
   "source": [
    "#### declare dataframe datatypes and columsn needed for the analysis"
   ]
  },
  {
   "cell_type": "code",
   "execution_count": 55,
   "metadata": {},
   "outputs": [],
   "source": [
    "cols = ['StartDateTime','EndDateTime','Duration','Milage',\n",
    "        'PROVIDER NAME','Type','TotalAmount',\n",
    "        'DestinationLatitude','DestinationLongitude','PaymentType']\n",
    "date_cols = ['StartDateTime','EndDateTime']\n",
    "\n",
    "dtype_mapping = {'Duration':np.float32, 'Milage':np.float32, 'TotalAmount':np.float32,\n",
    "                 'PROVIDER NAME':'category','Type':'category',\n",
    "                 'DestinationLatitude':np.float32,'DestinationLongitude':np.float32,'PaymentType': np.float32}"
   ]
  },
  {
   "cell_type": "markdown",
   "metadata": {},
   "source": [
    "#### load the new dataset with new datatypes and selected columns"
   ]
  },
  {
   "cell_type": "code",
   "execution_count": 56,
   "metadata": {},
   "outputs": [
    {
     "data": {
      "text/html": [
       "<div><strong>Dask DataFrame Structure:</strong></div>\n",
       "<div>\n",
       "<style scoped>\n",
       "    .dataframe tbody tr th:only-of-type {\n",
       "        vertical-align: middle;\n",
       "    }\n",
       "\n",
       "    .dataframe tbody tr th {\n",
       "        vertical-align: top;\n",
       "    }\n",
       "\n",
       "    .dataframe thead th {\n",
       "        text-align: right;\n",
       "    }\n",
       "</style>\n",
       "<table border=\"1\" class=\"dataframe\">\n",
       "  <thead>\n",
       "    <tr style=\"text-align: right;\">\n",
       "      <th></th>\n",
       "      <th>Type</th>\n",
       "      <th>PROVIDER NAME</th>\n",
       "      <th>StartDateTime</th>\n",
       "      <th>TotalAmount</th>\n",
       "      <th>PaymentType</th>\n",
       "      <th>EndDateTime</th>\n",
       "      <th>DestinationLatitude</th>\n",
       "      <th>DestinationLongitude</th>\n",
       "      <th>Milage</th>\n",
       "      <th>Duration</th>\n",
       "    </tr>\n",
       "    <tr>\n",
       "      <th>npartitions=65</th>\n",
       "      <th></th>\n",
       "      <th></th>\n",
       "      <th></th>\n",
       "      <th></th>\n",
       "      <th></th>\n",
       "      <th></th>\n",
       "      <th></th>\n",
       "      <th></th>\n",
       "      <th></th>\n",
       "      <th></th>\n",
       "    </tr>\n",
       "  </thead>\n",
       "  <tbody>\n",
       "    <tr>\n",
       "      <th></th>\n",
       "      <td>category[unknown]</td>\n",
       "      <td>category[unknown]</td>\n",
       "      <td>string</td>\n",
       "      <td>float32</td>\n",
       "      <td>float32</td>\n",
       "      <td>string</td>\n",
       "      <td>float32</td>\n",
       "      <td>float32</td>\n",
       "      <td>float32</td>\n",
       "      <td>float32</td>\n",
       "    </tr>\n",
       "    <tr>\n",
       "      <th></th>\n",
       "      <td>...</td>\n",
       "      <td>...</td>\n",
       "      <td>...</td>\n",
       "      <td>...</td>\n",
       "      <td>...</td>\n",
       "      <td>...</td>\n",
       "      <td>...</td>\n",
       "      <td>...</td>\n",
       "      <td>...</td>\n",
       "      <td>...</td>\n",
       "    </tr>\n",
       "    <tr>\n",
       "      <th>...</th>\n",
       "      <td>...</td>\n",
       "      <td>...</td>\n",
       "      <td>...</td>\n",
       "      <td>...</td>\n",
       "      <td>...</td>\n",
       "      <td>...</td>\n",
       "      <td>...</td>\n",
       "      <td>...</td>\n",
       "      <td>...</td>\n",
       "      <td>...</td>\n",
       "    </tr>\n",
       "    <tr>\n",
       "      <th></th>\n",
       "      <td>...</td>\n",
       "      <td>...</td>\n",
       "      <td>...</td>\n",
       "      <td>...</td>\n",
       "      <td>...</td>\n",
       "      <td>...</td>\n",
       "      <td>...</td>\n",
       "      <td>...</td>\n",
       "      <td>...</td>\n",
       "      <td>...</td>\n",
       "    </tr>\n",
       "    <tr>\n",
       "      <th></th>\n",
       "      <td>...</td>\n",
       "      <td>...</td>\n",
       "      <td>...</td>\n",
       "      <td>...</td>\n",
       "      <td>...</td>\n",
       "      <td>...</td>\n",
       "      <td>...</td>\n",
       "      <td>...</td>\n",
       "      <td>...</td>\n",
       "      <td>...</td>\n",
       "    </tr>\n",
       "  </tbody>\n",
       "</table>\n",
       "</div>\n",
       "<div>Dask Name: to_pyarrow_string, 2 graph layers</div>"
      ],
      "text/plain": [
       "Dask DataFrame Structure:\n",
       "                             Type      PROVIDER NAME StartDateTime TotalAmount PaymentType EndDateTime DestinationLatitude DestinationLongitude   Milage Duration\n",
       "npartitions=65                                                                                                                                                   \n",
       "                category[unknown]  category[unknown]        string     float32     float32      string             float32              float32  float32  float32\n",
       "                              ...                ...           ...         ...         ...         ...                 ...                  ...      ...      ...\n",
       "...                           ...                ...           ...         ...         ...         ...                 ...                  ...      ...      ...\n",
       "                              ...                ...           ...         ...         ...         ...                 ...                  ...      ...      ...\n",
       "                              ...                ...           ...         ...         ...         ...                 ...                  ...      ...      ...\n",
       "Dask Name: to_pyarrow_string, 2 graph layers"
      ]
     },
     "execution_count": 56,
     "metadata": {},
     "output_type": "execute_result"
    }
   ],
   "source": [
    "df = dd.read_csv(\"../../../../../data/big data/taxi_final.csv\",blocksize=\"64MB\", # chunksize\n",
    "                   usecols=cols, dtype=dtype_mapping,\n",
    "                   parse_dates=date_cols, date_format=\"%Y-%m-%d %H:%M:%S\",\n",
    "                   na_values='data unavailable')\n",
    "df"
   ]
  },
  {
   "cell_type": "markdown",
   "metadata": {},
   "source": [
    "#### use matematics to compute the needed size to load the dataset with respect to how many partitions to load the needed length of data needed"
   ]
  },
  {
   "cell_type": "code",
   "execution_count": 57,
   "metadata": {},
   "outputs": [
    {
     "data": {
      "text/plain": [
       "1846"
      ]
     },
     "execution_count": 57,
     "metadata": {},
     "output_type": "execute_result"
    }
   ],
   "source": [
    "sample_size = 120000 # target sample size\n",
    "sample_size_partition = sample_size//65 # 65 partitions\n",
    "sample_size_partition #size computed by each partition"
   ]
  },
  {
   "cell_type": "markdown",
   "metadata": {},
   "source": [
    "#### turn the dataframe from dask to python to make cleaning more easier by using compute "
   ]
  },
  {
   "cell_type": "code",
   "execution_count": 58,
   "metadata": {},
   "outputs": [],
   "source": [
    "df_test_data = df.loc[:sample_size_partition].compute()\n",
    "df_test_data= df_test_data.reset_index(drop=True) # to reset indexes ans get the true new index of the dataframe"
   ]
  },
  {
   "cell_type": "markdown",
   "metadata": {},
   "source": [
    "#### look at the dataset"
   ]
  },
  {
   "cell_type": "code",
   "execution_count": 59,
   "metadata": {},
   "outputs": [
    {
     "data": {
      "text/html": [
       "<div>\n",
       "<style scoped>\n",
       "    .dataframe tbody tr th:only-of-type {\n",
       "        vertical-align: middle;\n",
       "    }\n",
       "\n",
       "    .dataframe tbody tr th {\n",
       "        vertical-align: top;\n",
       "    }\n",
       "\n",
       "    .dataframe thead th {\n",
       "        text-align: right;\n",
       "    }\n",
       "</style>\n",
       "<table border=\"1\" class=\"dataframe\">\n",
       "  <thead>\n",
       "    <tr style=\"text-align: right;\">\n",
       "      <th></th>\n",
       "      <th>Type</th>\n",
       "      <th>PROVIDER NAME</th>\n",
       "      <th>StartDateTime</th>\n",
       "      <th>TotalAmount</th>\n",
       "      <th>PaymentType</th>\n",
       "      <th>EndDateTime</th>\n",
       "      <th>DestinationLatitude</th>\n",
       "      <th>DestinationLongitude</th>\n",
       "      <th>Milage</th>\n",
       "      <th>Duration</th>\n",
       "    </tr>\n",
       "  </thead>\n",
       "  <tbody>\n",
       "    <tr>\n",
       "      <th>0</th>\n",
       "      <td>1</td>\n",
       "      <td>Yellow Cab</td>\n",
       "      <td>2017-12-01 00:01:06.0000000 +00:00</td>\n",
       "      <td>11.00</td>\n",
       "      <td>1.0</td>\n",
       "      <td>2017-12-01 00:09:51.0000000 +00:00</td>\n",
       "      <td>38.902321</td>\n",
       "      <td>-77.035599</td>\n",
       "      <td>2.11</td>\n",
       "      <td>8.0</td>\n",
       "    </tr>\n",
       "    <tr>\n",
       "      <th>1</th>\n",
       "      <td>1</td>\n",
       "      <td>Yellow Cab</td>\n",
       "      <td>2017-12-01 00:05:27.0000000 +00:00</td>\n",
       "      <td>7.47</td>\n",
       "      <td>1.0</td>\n",
       "      <td>2017-12-01 00:11:40.0000000 +00:00</td>\n",
       "      <td>38.897369</td>\n",
       "      <td>-77.031029</td>\n",
       "      <td>0.62</td>\n",
       "      <td>6.0</td>\n",
       "    </tr>\n",
       "    <tr>\n",
       "      <th>2</th>\n",
       "      <td>1</td>\n",
       "      <td>Yellow Cab</td>\n",
       "      <td>2017-12-01 00:07:01.0000000 +00:00</td>\n",
       "      <td>8.01</td>\n",
       "      <td>1.0</td>\n",
       "      <td>2017-12-01 00:12:58.0000000 +00:00</td>\n",
       "      <td>38.912121</td>\n",
       "      <td>-77.041649</td>\n",
       "      <td>0.96</td>\n",
       "      <td>5.0</td>\n",
       "    </tr>\n",
       "    <tr>\n",
       "      <th>3</th>\n",
       "      <td>1</td>\n",
       "      <td>Yellow Cab</td>\n",
       "      <td>2017-12-01 00:04:23.0000000 +00:00</td>\n",
       "      <td>13.95</td>\n",
       "      <td>2.0</td>\n",
       "      <td>2017-12-01 00:15:07.0000000 +00:00</td>\n",
       "      <td>38.889809</td>\n",
       "      <td>-77.080109</td>\n",
       "      <td>4.05</td>\n",
       "      <td>10.0</td>\n",
       "    </tr>\n",
       "    <tr>\n",
       "      <th>4</th>\n",
       "      <td>1</td>\n",
       "      <td>Yellow Cab</td>\n",
       "      <td>2017-12-01 00:01:41.0000000 +00:00</td>\n",
       "      <td>14.41</td>\n",
       "      <td>2.0</td>\n",
       "      <td>2017-12-01 00:15:39.0000000 +00:00</td>\n",
       "      <td>38.883041</td>\n",
       "      <td>-76.978027</td>\n",
       "      <td>1.37</td>\n",
       "      <td>13.0</td>\n",
       "    </tr>\n",
       "  </tbody>\n",
       "</table>\n",
       "</div>"
      ],
      "text/plain": [
       "  Type PROVIDER NAME                       StartDateTime  TotalAmount  \\\n",
       "0    1    Yellow Cab  2017-12-01 00:01:06.0000000 +00:00        11.00   \n",
       "1    1    Yellow Cab  2017-12-01 00:05:27.0000000 +00:00         7.47   \n",
       "2    1    Yellow Cab  2017-12-01 00:07:01.0000000 +00:00         8.01   \n",
       "3    1    Yellow Cab  2017-12-01 00:04:23.0000000 +00:00        13.95   \n",
       "4    1    Yellow Cab  2017-12-01 00:01:41.0000000 +00:00        14.41   \n",
       "\n",
       "   PaymentType                         EndDateTime  DestinationLatitude  \\\n",
       "0          1.0  2017-12-01 00:09:51.0000000 +00:00            38.902321   \n",
       "1          1.0  2017-12-01 00:11:40.0000000 +00:00            38.897369   \n",
       "2          1.0  2017-12-01 00:12:58.0000000 +00:00            38.912121   \n",
       "3          2.0  2017-12-01 00:15:07.0000000 +00:00            38.889809   \n",
       "4          2.0  2017-12-01 00:15:39.0000000 +00:00            38.883041   \n",
       "\n",
       "   DestinationLongitude  Milage  Duration  \n",
       "0            -77.035599    2.11       8.0  \n",
       "1            -77.031029    0.62       6.0  \n",
       "2            -77.041649    0.96       5.0  \n",
       "3            -77.080109    4.05      10.0  \n",
       "4            -76.978027    1.37      13.0  "
      ]
     },
     "execution_count": 59,
     "metadata": {},
     "output_type": "execute_result"
    }
   ],
   "source": [
    "df_test_data.head()"
   ]
  },
  {
   "cell_type": "code",
   "execution_count": 60,
   "metadata": {},
   "outputs": [
    {
     "data": {
      "text/html": [
       "<div>\n",
       "<style scoped>\n",
       "    .dataframe tbody tr th:only-of-type {\n",
       "        vertical-align: middle;\n",
       "    }\n",
       "\n",
       "    .dataframe tbody tr th {\n",
       "        vertical-align: top;\n",
       "    }\n",
       "\n",
       "    .dataframe thead th {\n",
       "        text-align: right;\n",
       "    }\n",
       "</style>\n",
       "<table border=\"1\" class=\"dataframe\">\n",
       "  <thead>\n",
       "    <tr style=\"text-align: right;\">\n",
       "      <th></th>\n",
       "      <th>Type</th>\n",
       "      <th>PROVIDER NAME</th>\n",
       "      <th>StartDateTime</th>\n",
       "      <th>TotalAmount</th>\n",
       "      <th>PaymentType</th>\n",
       "      <th>EndDateTime</th>\n",
       "      <th>DestinationLatitude</th>\n",
       "      <th>DestinationLongitude</th>\n",
       "      <th>Milage</th>\n",
       "      <th>Duration</th>\n",
       "    </tr>\n",
       "  </thead>\n",
       "  <tbody>\n",
       "    <tr>\n",
       "      <th>120050</th>\n",
       "      <td>1</td>\n",
       "      <td>CMT</td>\n",
       "      <td>2017-04-26 18:13:42.4000000 +00:00</td>\n",
       "      <td>17.84</td>\n",
       "      <td>1.0</td>\n",
       "      <td>2017-04-26 18:29:21.1600000 +00:00</td>\n",
       "      <td>38.902500</td>\n",
       "      <td>-77.059608</td>\n",
       "      <td>3.00</td>\n",
       "      <td>16.0</td>\n",
       "    </tr>\n",
       "    <tr>\n",
       "      <th>120051</th>\n",
       "      <td>1</td>\n",
       "      <td>Transco</td>\n",
       "      <td>2017-04-26 11:19:00.0000000 +00:00</td>\n",
       "      <td>14.16</td>\n",
       "      <td>1.0</td>\n",
       "      <td>2017-04-26 11:35:00.0000000 +00:00</td>\n",
       "      <td>38.898750</td>\n",
       "      <td>-77.031891</td>\n",
       "      <td>2.13</td>\n",
       "      <td>16.0</td>\n",
       "    </tr>\n",
       "    <tr>\n",
       "      <th>120052</th>\n",
       "      <td>1</td>\n",
       "      <td>CMT</td>\n",
       "      <td>2017-04-26 19:28:20.2100000 +00:00</td>\n",
       "      <td>9.63</td>\n",
       "      <td>2.0</td>\n",
       "      <td>2017-04-26 19:33:41.9333333 +00:00</td>\n",
       "      <td>38.879162</td>\n",
       "      <td>-77.009827</td>\n",
       "      <td>0.00</td>\n",
       "      <td>5.0</td>\n",
       "    </tr>\n",
       "    <tr>\n",
       "      <th>120053</th>\n",
       "      <td>1</td>\n",
       "      <td>CMT</td>\n",
       "      <td>2017-04-26 20:18:04.4333333 +00:00</td>\n",
       "      <td>9.21</td>\n",
       "      <td>1.0</td>\n",
       "      <td>2017-04-26 20:23:28.9433333 +00:00</td>\n",
       "      <td>38.894440</td>\n",
       "      <td>-77.026154</td>\n",
       "      <td>0.00</td>\n",
       "      <td>5.0</td>\n",
       "    </tr>\n",
       "    <tr>\n",
       "      <th>120054</th>\n",
       "      <td>1</td>\n",
       "      <td>CMT</td>\n",
       "      <td>2017-04-26 21:13:14.2600000 +00:00</td>\n",
       "      <td>23.59</td>\n",
       "      <td>1.0</td>\n",
       "      <td>2017-04-26 21:25:45.5700000 +00:00</td>\n",
       "      <td>38.806831</td>\n",
       "      <td>-77.051064</td>\n",
       "      <td>7.00</td>\n",
       "      <td>13.0</td>\n",
       "    </tr>\n",
       "  </tbody>\n",
       "</table>\n",
       "</div>"
      ],
      "text/plain": [
       "       Type PROVIDER NAME                       StartDateTime  TotalAmount  \\\n",
       "120050    1           CMT  2017-04-26 18:13:42.4000000 +00:00        17.84   \n",
       "120051    1       Transco  2017-04-26 11:19:00.0000000 +00:00        14.16   \n",
       "120052    1           CMT  2017-04-26 19:28:20.2100000 +00:00         9.63   \n",
       "120053    1           CMT  2017-04-26 20:18:04.4333333 +00:00         9.21   \n",
       "120054    1           CMT  2017-04-26 21:13:14.2600000 +00:00        23.59   \n",
       "\n",
       "        PaymentType                         EndDateTime  DestinationLatitude  \\\n",
       "120050          1.0  2017-04-26 18:29:21.1600000 +00:00            38.902500   \n",
       "120051          1.0  2017-04-26 11:35:00.0000000 +00:00            38.898750   \n",
       "120052          2.0  2017-04-26 19:33:41.9333333 +00:00            38.879162   \n",
       "120053          1.0  2017-04-26 20:23:28.9433333 +00:00            38.894440   \n",
       "120054          1.0  2017-04-26 21:25:45.5700000 +00:00            38.806831   \n",
       "\n",
       "        DestinationLongitude  Milage  Duration  \n",
       "120050            -77.059608    3.00      16.0  \n",
       "120051            -77.031891    2.13      16.0  \n",
       "120052            -77.009827    0.00       5.0  \n",
       "120053            -77.026154    0.00       5.0  \n",
       "120054            -77.051064    7.00      13.0  "
      ]
     },
     "execution_count": 60,
     "metadata": {},
     "output_type": "execute_result"
    }
   ],
   "source": [
    "df_test_data.tail() "
   ]
  },
  {
   "cell_type": "markdown",
   "metadata": {},
   "source": [
    "#### look at the summary of data of this dataset"
   ]
  },
  {
   "cell_type": "code",
   "execution_count": 61,
   "metadata": {},
   "outputs": [
    {
     "data": {
      "text/html": [
       "<div>\n",
       "<style scoped>\n",
       "    .dataframe tbody tr th:only-of-type {\n",
       "        vertical-align: middle;\n",
       "    }\n",
       "\n",
       "    .dataframe tbody tr th {\n",
       "        vertical-align: top;\n",
       "    }\n",
       "\n",
       "    .dataframe thead th {\n",
       "        text-align: right;\n",
       "    }\n",
       "</style>\n",
       "<table border=\"1\" class=\"dataframe\">\n",
       "  <thead>\n",
       "    <tr style=\"text-align: right;\">\n",
       "      <th></th>\n",
       "      <th>TotalAmount</th>\n",
       "      <th>PaymentType</th>\n",
       "      <th>Milage</th>\n",
       "      <th>Duration</th>\n",
       "    </tr>\n",
       "  </thead>\n",
       "  <tbody>\n",
       "    <tr>\n",
       "      <th>count</th>\n",
       "      <td>119942.000000</td>\n",
       "      <td>120055.000000</td>\n",
       "      <td>115335.000000</td>\n",
       "      <td>1.123240e+05</td>\n",
       "    </tr>\n",
       "    <tr>\n",
       "      <th>mean</th>\n",
       "      <td>15.608211</td>\n",
       "      <td>1.531531</td>\n",
       "      <td>15.047025</td>\n",
       "      <td>4.108375e+02</td>\n",
       "    </tr>\n",
       "    <tr>\n",
       "      <th>std</th>\n",
       "      <td>27.595182</td>\n",
       "      <td>0.549561</td>\n",
       "      <td>217.668427</td>\n",
       "      <td>7.449952e+04</td>\n",
       "    </tr>\n",
       "    <tr>\n",
       "      <th>min</th>\n",
       "      <td>-19.350000</td>\n",
       "      <td>0.000000</td>\n",
       "      <td>-5.800000</td>\n",
       "      <td>0.000000e+00</td>\n",
       "    </tr>\n",
       "    <tr>\n",
       "      <th>25%</th>\n",
       "      <td>9.010000</td>\n",
       "      <td>1.000000</td>\n",
       "      <td>1.000000</td>\n",
       "      <td>8.000000e+00</td>\n",
       "    </tr>\n",
       "    <tr>\n",
       "      <th>50%</th>\n",
       "      <td>12.410000</td>\n",
       "      <td>2.000000</td>\n",
       "      <td>2.000000</td>\n",
       "      <td>1.400000e+01</td>\n",
       "    </tr>\n",
       "    <tr>\n",
       "      <th>75%</th>\n",
       "      <td>18.650000</td>\n",
       "      <td>2.000000</td>\n",
       "      <td>3.760000</td>\n",
       "      <td>3.300000e+01</td>\n",
       "    </tr>\n",
       "    <tr>\n",
       "      <th>max</th>\n",
       "      <td>4409.709961</td>\n",
       "      <td>4.000000</td>\n",
       "      <td>5716.009766</td>\n",
       "      <td>2.496658e+07</td>\n",
       "    </tr>\n",
       "  </tbody>\n",
       "</table>\n",
       "</div>"
      ],
      "text/plain": [
       "         TotalAmount    PaymentType         Milage      Duration\n",
       "count  119942.000000  120055.000000  115335.000000  1.123240e+05\n",
       "mean       15.608211       1.531531      15.047025  4.108375e+02\n",
       "std        27.595182       0.549561     217.668427  7.449952e+04\n",
       "min       -19.350000       0.000000      -5.800000  0.000000e+00\n",
       "25%         9.010000       1.000000       1.000000  8.000000e+00\n",
       "50%        12.410000       2.000000       2.000000  1.400000e+01\n",
       "75%        18.650000       2.000000       3.760000  3.300000e+01\n",
       "max      4409.709961       4.000000    5716.009766  2.496658e+07"
      ]
     },
     "execution_count": 61,
     "metadata": {},
     "output_type": "execute_result"
    }
   ],
   "source": [
    "df_test_data[[\"TotalAmount\",\"PaymentType\",\"Milage\",\"Duration\"]].describe()"
   ]
  },
  {
   "cell_type": "code",
   "execution_count": 62,
   "metadata": {},
   "outputs": [
    {
     "data": {
      "text/plain": [
       "120055"
      ]
     },
     "execution_count": 62,
     "metadata": {},
     "output_type": "execute_result"
    }
   ],
   "source": [
    "len(df_test_data) # look at its length"
   ]
  },
  {
   "cell_type": "markdown",
   "metadata": {},
   "source": [
    "#### Based from the artilce of Career Trend, The average mile of a taxi is 180 with 12-hour shifts\n",
    "#### Based form the DC.gov site, the wage per mile is $1.20 with additional charges with varying conditions\n",
    "\n",
    "#### Based on the data set, there will be a constraint of 180 miles and 720 minutes and will set a maximum of 400 dollars to take account all the varying conditions where the charge is more higher and tips\n",
    "\n"
   ]
  },
  {
   "cell_type": "code",
   "execution_count": 63,
   "metadata": {},
   "outputs": [],
   "source": [
    "df_test_data_constraint = df_test_data[\n",
    "    (df_test_data[\"Milage\"]>=0) & (df_test_data[\"Duration\"] >= 0) & (df_test_data[\"TotalAmount\"] >= 0) \n",
    "    & (df_test_data[\"Milage\"]<=180) & (df_test_data[\"Duration\"] <= 720) & (df_test_data[\"TotalAmount\"] <= 400)]\n",
    "df_test_data = df_test_data.reset_index(drop= True)"
   ]
  },
  {
   "cell_type": "markdown",
   "metadata": {},
   "source": [
    "#### Look at the new dataset"
   ]
  },
  {
   "cell_type": "code",
   "execution_count": 64,
   "metadata": {},
   "outputs": [
    {
     "data": {
      "text/html": [
       "<div>\n",
       "<style scoped>\n",
       "    .dataframe tbody tr th:only-of-type {\n",
       "        vertical-align: middle;\n",
       "    }\n",
       "\n",
       "    .dataframe tbody tr th {\n",
       "        vertical-align: top;\n",
       "    }\n",
       "\n",
       "    .dataframe thead th {\n",
       "        text-align: right;\n",
       "    }\n",
       "</style>\n",
       "<table border=\"1\" class=\"dataframe\">\n",
       "  <thead>\n",
       "    <tr style=\"text-align: right;\">\n",
       "      <th></th>\n",
       "      <th>Type</th>\n",
       "      <th>PROVIDER NAME</th>\n",
       "      <th>StartDateTime</th>\n",
       "      <th>TotalAmount</th>\n",
       "      <th>PaymentType</th>\n",
       "      <th>EndDateTime</th>\n",
       "      <th>DestinationLatitude</th>\n",
       "      <th>DestinationLongitude</th>\n",
       "      <th>Milage</th>\n",
       "      <th>Duration</th>\n",
       "    </tr>\n",
       "  </thead>\n",
       "  <tbody>\n",
       "    <tr>\n",
       "      <th>0</th>\n",
       "      <td>1</td>\n",
       "      <td>Yellow Cab</td>\n",
       "      <td>2017-12-01 00:01:06.0000000 +00:00</td>\n",
       "      <td>11.00</td>\n",
       "      <td>1.0</td>\n",
       "      <td>2017-12-01 00:09:51.0000000 +00:00</td>\n",
       "      <td>38.902321</td>\n",
       "      <td>-77.035599</td>\n",
       "      <td>2.11</td>\n",
       "      <td>8.0</td>\n",
       "    </tr>\n",
       "    <tr>\n",
       "      <th>1</th>\n",
       "      <td>1</td>\n",
       "      <td>Yellow Cab</td>\n",
       "      <td>2017-12-01 00:05:27.0000000 +00:00</td>\n",
       "      <td>7.47</td>\n",
       "      <td>1.0</td>\n",
       "      <td>2017-12-01 00:11:40.0000000 +00:00</td>\n",
       "      <td>38.897369</td>\n",
       "      <td>-77.031029</td>\n",
       "      <td>0.62</td>\n",
       "      <td>6.0</td>\n",
       "    </tr>\n",
       "    <tr>\n",
       "      <th>2</th>\n",
       "      <td>1</td>\n",
       "      <td>Yellow Cab</td>\n",
       "      <td>2017-12-01 00:07:01.0000000 +00:00</td>\n",
       "      <td>8.01</td>\n",
       "      <td>1.0</td>\n",
       "      <td>2017-12-01 00:12:58.0000000 +00:00</td>\n",
       "      <td>38.912121</td>\n",
       "      <td>-77.041649</td>\n",
       "      <td>0.96</td>\n",
       "      <td>5.0</td>\n",
       "    </tr>\n",
       "    <tr>\n",
       "      <th>3</th>\n",
       "      <td>1</td>\n",
       "      <td>Yellow Cab</td>\n",
       "      <td>2017-12-01 00:04:23.0000000 +00:00</td>\n",
       "      <td>13.95</td>\n",
       "      <td>2.0</td>\n",
       "      <td>2017-12-01 00:15:07.0000000 +00:00</td>\n",
       "      <td>38.889809</td>\n",
       "      <td>-77.080109</td>\n",
       "      <td>4.05</td>\n",
       "      <td>10.0</td>\n",
       "    </tr>\n",
       "    <tr>\n",
       "      <th>4</th>\n",
       "      <td>1</td>\n",
       "      <td>Yellow Cab</td>\n",
       "      <td>2017-12-01 00:01:41.0000000 +00:00</td>\n",
       "      <td>14.41</td>\n",
       "      <td>2.0</td>\n",
       "      <td>2017-12-01 00:15:39.0000000 +00:00</td>\n",
       "      <td>38.883041</td>\n",
       "      <td>-76.978027</td>\n",
       "      <td>1.37</td>\n",
       "      <td>13.0</td>\n",
       "    </tr>\n",
       "  </tbody>\n",
       "</table>\n",
       "</div>"
      ],
      "text/plain": [
       "  Type PROVIDER NAME                       StartDateTime  TotalAmount  \\\n",
       "0    1    Yellow Cab  2017-12-01 00:01:06.0000000 +00:00        11.00   \n",
       "1    1    Yellow Cab  2017-12-01 00:05:27.0000000 +00:00         7.47   \n",
       "2    1    Yellow Cab  2017-12-01 00:07:01.0000000 +00:00         8.01   \n",
       "3    1    Yellow Cab  2017-12-01 00:04:23.0000000 +00:00        13.95   \n",
       "4    1    Yellow Cab  2017-12-01 00:01:41.0000000 +00:00        14.41   \n",
       "\n",
       "   PaymentType                         EndDateTime  DestinationLatitude  \\\n",
       "0          1.0  2017-12-01 00:09:51.0000000 +00:00            38.902321   \n",
       "1          1.0  2017-12-01 00:11:40.0000000 +00:00            38.897369   \n",
       "2          1.0  2017-12-01 00:12:58.0000000 +00:00            38.912121   \n",
       "3          2.0  2017-12-01 00:15:07.0000000 +00:00            38.889809   \n",
       "4          2.0  2017-12-01 00:15:39.0000000 +00:00            38.883041   \n",
       "\n",
       "   DestinationLongitude  Milage  Duration  \n",
       "0            -77.035599    2.11       8.0  \n",
       "1            -77.031029    0.62       6.0  \n",
       "2            -77.041649    0.96       5.0  \n",
       "3            -77.080109    4.05      10.0  \n",
       "4            -76.978027    1.37      13.0  "
      ]
     },
     "execution_count": 64,
     "metadata": {},
     "output_type": "execute_result"
    }
   ],
   "source": [
    "df_test_data_constraint.head()"
   ]
  },
  {
   "cell_type": "code",
   "execution_count": 65,
   "metadata": {},
   "outputs": [
    {
     "data": {
      "text/html": [
       "<div>\n",
       "<style scoped>\n",
       "    .dataframe tbody tr th:only-of-type {\n",
       "        vertical-align: middle;\n",
       "    }\n",
       "\n",
       "    .dataframe tbody tr th {\n",
       "        vertical-align: top;\n",
       "    }\n",
       "\n",
       "    .dataframe thead th {\n",
       "        text-align: right;\n",
       "    }\n",
       "</style>\n",
       "<table border=\"1\" class=\"dataframe\">\n",
       "  <thead>\n",
       "    <tr style=\"text-align: right;\">\n",
       "      <th></th>\n",
       "      <th>Type</th>\n",
       "      <th>PROVIDER NAME</th>\n",
       "      <th>StartDateTime</th>\n",
       "      <th>TotalAmount</th>\n",
       "      <th>PaymentType</th>\n",
       "      <th>EndDateTime</th>\n",
       "      <th>DestinationLatitude</th>\n",
       "      <th>DestinationLongitude</th>\n",
       "      <th>Milage</th>\n",
       "      <th>Duration</th>\n",
       "    </tr>\n",
       "  </thead>\n",
       "  <tbody>\n",
       "    <tr>\n",
       "      <th>120050</th>\n",
       "      <td>1</td>\n",
       "      <td>CMT</td>\n",
       "      <td>2017-04-26 18:13:42.4000000 +00:00</td>\n",
       "      <td>17.84</td>\n",
       "      <td>1.0</td>\n",
       "      <td>2017-04-26 18:29:21.1600000 +00:00</td>\n",
       "      <td>38.902500</td>\n",
       "      <td>-77.059608</td>\n",
       "      <td>3.00</td>\n",
       "      <td>16.0</td>\n",
       "    </tr>\n",
       "    <tr>\n",
       "      <th>120051</th>\n",
       "      <td>1</td>\n",
       "      <td>Transco</td>\n",
       "      <td>2017-04-26 11:19:00.0000000 +00:00</td>\n",
       "      <td>14.16</td>\n",
       "      <td>1.0</td>\n",
       "      <td>2017-04-26 11:35:00.0000000 +00:00</td>\n",
       "      <td>38.898750</td>\n",
       "      <td>-77.031891</td>\n",
       "      <td>2.13</td>\n",
       "      <td>16.0</td>\n",
       "    </tr>\n",
       "    <tr>\n",
       "      <th>120052</th>\n",
       "      <td>1</td>\n",
       "      <td>CMT</td>\n",
       "      <td>2017-04-26 19:28:20.2100000 +00:00</td>\n",
       "      <td>9.63</td>\n",
       "      <td>2.0</td>\n",
       "      <td>2017-04-26 19:33:41.9333333 +00:00</td>\n",
       "      <td>38.879162</td>\n",
       "      <td>-77.009827</td>\n",
       "      <td>0.00</td>\n",
       "      <td>5.0</td>\n",
       "    </tr>\n",
       "    <tr>\n",
       "      <th>120053</th>\n",
       "      <td>1</td>\n",
       "      <td>CMT</td>\n",
       "      <td>2017-04-26 20:18:04.4333333 +00:00</td>\n",
       "      <td>9.21</td>\n",
       "      <td>1.0</td>\n",
       "      <td>2017-04-26 20:23:28.9433333 +00:00</td>\n",
       "      <td>38.894440</td>\n",
       "      <td>-77.026154</td>\n",
       "      <td>0.00</td>\n",
       "      <td>5.0</td>\n",
       "    </tr>\n",
       "    <tr>\n",
       "      <th>120054</th>\n",
       "      <td>1</td>\n",
       "      <td>CMT</td>\n",
       "      <td>2017-04-26 21:13:14.2600000 +00:00</td>\n",
       "      <td>23.59</td>\n",
       "      <td>1.0</td>\n",
       "      <td>2017-04-26 21:25:45.5700000 +00:00</td>\n",
       "      <td>38.806831</td>\n",
       "      <td>-77.051064</td>\n",
       "      <td>7.00</td>\n",
       "      <td>13.0</td>\n",
       "    </tr>\n",
       "  </tbody>\n",
       "</table>\n",
       "</div>"
      ],
      "text/plain": [
       "       Type PROVIDER NAME                       StartDateTime  TotalAmount  \\\n",
       "120050    1           CMT  2017-04-26 18:13:42.4000000 +00:00        17.84   \n",
       "120051    1       Transco  2017-04-26 11:19:00.0000000 +00:00        14.16   \n",
       "120052    1           CMT  2017-04-26 19:28:20.2100000 +00:00         9.63   \n",
       "120053    1           CMT  2017-04-26 20:18:04.4333333 +00:00         9.21   \n",
       "120054    1           CMT  2017-04-26 21:13:14.2600000 +00:00        23.59   \n",
       "\n",
       "        PaymentType                         EndDateTime  DestinationLatitude  \\\n",
       "120050          1.0  2017-04-26 18:29:21.1600000 +00:00            38.902500   \n",
       "120051          1.0  2017-04-26 11:35:00.0000000 +00:00            38.898750   \n",
       "120052          2.0  2017-04-26 19:33:41.9333333 +00:00            38.879162   \n",
       "120053          1.0  2017-04-26 20:23:28.9433333 +00:00            38.894440   \n",
       "120054          1.0  2017-04-26 21:25:45.5700000 +00:00            38.806831   \n",
       "\n",
       "        DestinationLongitude  Milage  Duration  \n",
       "120050            -77.059608    3.00      16.0  \n",
       "120051            -77.031891    2.13      16.0  \n",
       "120052            -77.009827    0.00       5.0  \n",
       "120053            -77.026154    0.00       5.0  \n",
       "120054            -77.051064    7.00      13.0  "
      ]
     },
     "execution_count": 65,
     "metadata": {},
     "output_type": "execute_result"
    }
   ],
   "source": [
    "df_test_data_constraint.tail()"
   ]
  },
  {
   "cell_type": "markdown",
   "metadata": {},
   "source": [
    "#### Look at the summary of the dataset"
   ]
  },
  {
   "cell_type": "code",
   "execution_count": 66,
   "metadata": {},
   "outputs": [
    {
     "data": {
      "text/html": [
       "<div>\n",
       "<style scoped>\n",
       "    .dataframe tbody tr th:only-of-type {\n",
       "        vertical-align: middle;\n",
       "    }\n",
       "\n",
       "    .dataframe tbody tr th {\n",
       "        vertical-align: top;\n",
       "    }\n",
       "\n",
       "    .dataframe thead th {\n",
       "        text-align: right;\n",
       "    }\n",
       "</style>\n",
       "<table border=\"1\" class=\"dataframe\">\n",
       "  <thead>\n",
       "    <tr style=\"text-align: right;\">\n",
       "      <th></th>\n",
       "      <th>TotalAmount</th>\n",
       "      <th>PaymentType</th>\n",
       "      <th>DestinationLatitude</th>\n",
       "      <th>DestinationLongitude</th>\n",
       "      <th>Milage</th>\n",
       "      <th>Duration</th>\n",
       "    </tr>\n",
       "  </thead>\n",
       "  <tbody>\n",
       "    <tr>\n",
       "      <th>count</th>\n",
       "      <td>100368.000000</td>\n",
       "      <td>100368.000000</td>\n",
       "      <td>100368.000000</td>\n",
       "      <td>100338.000000</td>\n",
       "      <td>100368.000000</td>\n",
       "      <td>100368.000000</td>\n",
       "    </tr>\n",
       "    <tr>\n",
       "      <th>mean</th>\n",
       "      <td>14.007372</td>\n",
       "      <td>1.523165</td>\n",
       "      <td>37.753304</td>\n",
       "      <td>-74.776848</td>\n",
       "      <td>2.928368</td>\n",
       "      <td>72.024094</td>\n",
       "    </tr>\n",
       "    <tr>\n",
       "      <th>std</th>\n",
       "      <td>10.014785</td>\n",
       "      <td>0.520660</td>\n",
       "      <td>6.592122</td>\n",
       "      <td>12.994259</td>\n",
       "      <td>5.055825</td>\n",
       "      <td>161.263535</td>\n",
       "    </tr>\n",
       "    <tr>\n",
       "      <th>min</th>\n",
       "      <td>0.000000</td>\n",
       "      <td>0.000000</td>\n",
       "      <td>0.000000</td>\n",
       "      <td>-77.899597</td>\n",
       "      <td>0.000000</td>\n",
       "      <td>0.000000</td>\n",
       "    </tr>\n",
       "    <tr>\n",
       "      <th>25%</th>\n",
       "      <td>8.550000</td>\n",
       "      <td>1.000000</td>\n",
       "      <td>38.892872</td>\n",
       "      <td>-77.044800</td>\n",
       "      <td>1.000000</td>\n",
       "      <td>8.000000</td>\n",
       "    </tr>\n",
       "    <tr>\n",
       "      <th>50%</th>\n",
       "      <td>11.360000</td>\n",
       "      <td>2.000000</td>\n",
       "      <td>38.901329</td>\n",
       "      <td>-77.032082</td>\n",
       "      <td>1.900000</td>\n",
       "      <td>13.000000</td>\n",
       "    </tr>\n",
       "    <tr>\n",
       "      <th>75%</th>\n",
       "      <td>16.410000</td>\n",
       "      <td>2.000000</td>\n",
       "      <td>38.911098</td>\n",
       "      <td>-77.017120</td>\n",
       "      <td>3.300000</td>\n",
       "      <td>21.000000</td>\n",
       "    </tr>\n",
       "    <tr>\n",
       "      <th>max</th>\n",
       "      <td>216.449997</td>\n",
       "      <td>4.000000</td>\n",
       "      <td>53.389530</td>\n",
       "      <td>6.242950</td>\n",
       "      <td>177.000000</td>\n",
       "      <td>720.000000</td>\n",
       "    </tr>\n",
       "  </tbody>\n",
       "</table>\n",
       "</div>"
      ],
      "text/plain": [
       "         TotalAmount    PaymentType  DestinationLatitude  \\\n",
       "count  100368.000000  100368.000000        100368.000000   \n",
       "mean       14.007372       1.523165            37.753304   \n",
       "std        10.014785       0.520660             6.592122   \n",
       "min         0.000000       0.000000             0.000000   \n",
       "25%         8.550000       1.000000            38.892872   \n",
       "50%        11.360000       2.000000            38.901329   \n",
       "75%        16.410000       2.000000            38.911098   \n",
       "max       216.449997       4.000000            53.389530   \n",
       "\n",
       "       DestinationLongitude         Milage       Duration  \n",
       "count         100338.000000  100368.000000  100368.000000  \n",
       "mean             -74.776848       2.928368      72.024094  \n",
       "std               12.994259       5.055825     161.263535  \n",
       "min              -77.899597       0.000000       0.000000  \n",
       "25%              -77.044800       1.000000       8.000000  \n",
       "50%              -77.032082       1.900000      13.000000  \n",
       "75%              -77.017120       3.300000      21.000000  \n",
       "max                6.242950     177.000000     720.000000  "
      ]
     },
     "execution_count": 66,
     "metadata": {},
     "output_type": "execute_result"
    }
   ],
   "source": [
    "df_test_data_constraint.describe()"
   ]
  },
  {
   "cell_type": "code",
   "execution_count": 67,
   "metadata": {},
   "outputs": [
    {
     "data": {
      "text/html": [
       "<div>\n",
       "<style scoped>\n",
       "    .dataframe tbody tr th:only-of-type {\n",
       "        vertical-align: middle;\n",
       "    }\n",
       "\n",
       "    .dataframe tbody tr th {\n",
       "        vertical-align: top;\n",
       "    }\n",
       "\n",
       "    .dataframe thead th {\n",
       "        text-align: right;\n",
       "    }\n",
       "</style>\n",
       "<table border=\"1\" class=\"dataframe\">\n",
       "  <thead>\n",
       "    <tr style=\"text-align: right;\">\n",
       "      <th></th>\n",
       "      <th>Type</th>\n",
       "      <th>PROVIDER NAME</th>\n",
       "      <th>StartDateTime</th>\n",
       "      <th>TotalAmount</th>\n",
       "      <th>PaymentType</th>\n",
       "      <th>EndDateTime</th>\n",
       "      <th>DestinationLatitude</th>\n",
       "      <th>DestinationLongitude</th>\n",
       "      <th>Milage</th>\n",
       "      <th>Duration</th>\n",
       "    </tr>\n",
       "  </thead>\n",
       "  <tbody>\n",
       "    <tr>\n",
       "      <th>0</th>\n",
       "      <td>1</td>\n",
       "      <td>Yellow Cab</td>\n",
       "      <td>2017-12-01 00:01:06.0000000 +00:00</td>\n",
       "      <td>11.00</td>\n",
       "      <td>1.0</td>\n",
       "      <td>2017-12-01 00:09:51.0000000 +00:00</td>\n",
       "      <td>38.902321</td>\n",
       "      <td>-77.035599</td>\n",
       "      <td>2.11</td>\n",
       "      <td>8.0</td>\n",
       "    </tr>\n",
       "    <tr>\n",
       "      <th>1</th>\n",
       "      <td>1</td>\n",
       "      <td>Yellow Cab</td>\n",
       "      <td>2017-12-01 00:05:27.0000000 +00:00</td>\n",
       "      <td>7.47</td>\n",
       "      <td>1.0</td>\n",
       "      <td>2017-12-01 00:11:40.0000000 +00:00</td>\n",
       "      <td>38.897369</td>\n",
       "      <td>-77.031029</td>\n",
       "      <td>0.62</td>\n",
       "      <td>6.0</td>\n",
       "    </tr>\n",
       "    <tr>\n",
       "      <th>2</th>\n",
       "      <td>1</td>\n",
       "      <td>Yellow Cab</td>\n",
       "      <td>2017-12-01 00:07:01.0000000 +00:00</td>\n",
       "      <td>8.01</td>\n",
       "      <td>1.0</td>\n",
       "      <td>2017-12-01 00:12:58.0000000 +00:00</td>\n",
       "      <td>38.912121</td>\n",
       "      <td>-77.041649</td>\n",
       "      <td>0.96</td>\n",
       "      <td>5.0</td>\n",
       "    </tr>\n",
       "    <tr>\n",
       "      <th>3</th>\n",
       "      <td>1</td>\n",
       "      <td>Yellow Cab</td>\n",
       "      <td>2017-12-01 00:04:23.0000000 +00:00</td>\n",
       "      <td>13.95</td>\n",
       "      <td>2.0</td>\n",
       "      <td>2017-12-01 00:15:07.0000000 +00:00</td>\n",
       "      <td>38.889809</td>\n",
       "      <td>-77.080109</td>\n",
       "      <td>4.05</td>\n",
       "      <td>10.0</td>\n",
       "    </tr>\n",
       "    <tr>\n",
       "      <th>4</th>\n",
       "      <td>1</td>\n",
       "      <td>Yellow Cab</td>\n",
       "      <td>2017-12-01 00:01:41.0000000 +00:00</td>\n",
       "      <td>14.41</td>\n",
       "      <td>2.0</td>\n",
       "      <td>2017-12-01 00:15:39.0000000 +00:00</td>\n",
       "      <td>38.883041</td>\n",
       "      <td>-76.978027</td>\n",
       "      <td>1.37</td>\n",
       "      <td>13.0</td>\n",
       "    </tr>\n",
       "  </tbody>\n",
       "</table>\n",
       "</div>"
      ],
      "text/plain": [
       "  Type PROVIDER NAME                       StartDateTime  TotalAmount  \\\n",
       "0    1    Yellow Cab  2017-12-01 00:01:06.0000000 +00:00        11.00   \n",
       "1    1    Yellow Cab  2017-12-01 00:05:27.0000000 +00:00         7.47   \n",
       "2    1    Yellow Cab  2017-12-01 00:07:01.0000000 +00:00         8.01   \n",
       "3    1    Yellow Cab  2017-12-01 00:04:23.0000000 +00:00        13.95   \n",
       "4    1    Yellow Cab  2017-12-01 00:01:41.0000000 +00:00        14.41   \n",
       "\n",
       "   PaymentType                         EndDateTime  DestinationLatitude  \\\n",
       "0          1.0  2017-12-01 00:09:51.0000000 +00:00            38.902321   \n",
       "1          1.0  2017-12-01 00:11:40.0000000 +00:00            38.897369   \n",
       "2          1.0  2017-12-01 00:12:58.0000000 +00:00            38.912121   \n",
       "3          2.0  2017-12-01 00:15:07.0000000 +00:00            38.889809   \n",
       "4          2.0  2017-12-01 00:15:39.0000000 +00:00            38.883041   \n",
       "\n",
       "   DestinationLongitude  Milage  Duration  \n",
       "0            -77.035599    2.11       8.0  \n",
       "1            -77.031029    0.62       6.0  \n",
       "2            -77.041649    0.96       5.0  \n",
       "3            -77.080109    4.05      10.0  \n",
       "4            -76.978027    1.37      13.0  "
      ]
     },
     "execution_count": 67,
     "metadata": {},
     "output_type": "execute_result"
    }
   ],
   "source": [
    "df_sample_index = df_test_data_constraint\n",
    "df_sample_index.head()"
   ]
  },
  {
   "cell_type": "markdown",
   "metadata": {},
   "source": [
    "#### Look at null values in the dataset"
   ]
  },
  {
   "cell_type": "code",
   "execution_count": 68,
   "metadata": {},
   "outputs": [
    {
     "data": {
      "text/plain": [
       "Type                    519\n",
       "PROVIDER NAME             0\n",
       "StartDateTime             0\n",
       "TotalAmount               0\n",
       "PaymentType               0\n",
       "EndDateTime               0\n",
       "DestinationLatitude       0\n",
       "DestinationLongitude     30\n",
       "Milage                    0\n",
       "Duration                  0\n",
       "dtype: int64"
      ]
     },
     "execution_count": 68,
     "metadata": {},
     "output_type": "execute_result"
    }
   ],
   "source": [
    "df_sample_index.isna().sum()"
   ]
  },
  {
   "cell_type": "markdown",
   "metadata": {},
   "source": [
    "#### Drop the rows with missing values"
   ]
  },
  {
   "cell_type": "code",
   "execution_count": 69,
   "metadata": {},
   "outputs": [],
   "source": [
    "df_sample_index_cleaned = df_sample_index.dropna()"
   ]
  },
  {
   "cell_type": "markdown",
   "metadata": {},
   "source": [
    "#### Recheck the new dataset if there are any null values after dropping rows"
   ]
  },
  {
   "cell_type": "code",
   "execution_count": 70,
   "metadata": {},
   "outputs": [
    {
     "data": {
      "text/plain": [
       "Type                    0\n",
       "PROVIDER NAME           0\n",
       "StartDateTime           0\n",
       "TotalAmount             0\n",
       "PaymentType             0\n",
       "EndDateTime             0\n",
       "DestinationLatitude     0\n",
       "DestinationLongitude    0\n",
       "Milage                  0\n",
       "Duration                0\n",
       "dtype: int64"
      ]
     },
     "execution_count": 70,
     "metadata": {},
     "output_type": "execute_result"
    }
   ],
   "source": [
    "df_sample_index_cleaned.isna().sum()"
   ]
  },
  {
   "cell_type": "markdown",
   "metadata": {},
   "source": [
    "#### Reset the index of the dataset again "
   ]
  },
  {
   "cell_type": "code",
   "execution_count": 71,
   "metadata": {},
   "outputs": [],
   "source": [
    "df_sample_cleaned_full = df_sample_index_cleaned.reset_index(drop=True)"
   ]
  },
  {
   "cell_type": "code",
   "execution_count": 72,
   "metadata": {},
   "outputs": [
    {
     "data": {
      "text/html": [
       "<div>\n",
       "<style scoped>\n",
       "    .dataframe tbody tr th:only-of-type {\n",
       "        vertical-align: middle;\n",
       "    }\n",
       "\n",
       "    .dataframe tbody tr th {\n",
       "        vertical-align: top;\n",
       "    }\n",
       "\n",
       "    .dataframe thead th {\n",
       "        text-align: right;\n",
       "    }\n",
       "</style>\n",
       "<table border=\"1\" class=\"dataframe\">\n",
       "  <thead>\n",
       "    <tr style=\"text-align: right;\">\n",
       "      <th></th>\n",
       "      <th>Type</th>\n",
       "      <th>PROVIDER NAME</th>\n",
       "      <th>StartDateTime</th>\n",
       "      <th>TotalAmount</th>\n",
       "      <th>PaymentType</th>\n",
       "      <th>EndDateTime</th>\n",
       "      <th>DestinationLatitude</th>\n",
       "      <th>DestinationLongitude</th>\n",
       "      <th>Milage</th>\n",
       "      <th>Duration</th>\n",
       "    </tr>\n",
       "  </thead>\n",
       "  <tbody>\n",
       "    <tr>\n",
       "      <th>0</th>\n",
       "      <td>1</td>\n",
       "      <td>Yellow Cab</td>\n",
       "      <td>2017-12-01 00:01:06.0000000 +00:00</td>\n",
       "      <td>11.00</td>\n",
       "      <td>1.0</td>\n",
       "      <td>2017-12-01 00:09:51.0000000 +00:00</td>\n",
       "      <td>38.902321</td>\n",
       "      <td>-77.035599</td>\n",
       "      <td>2.11</td>\n",
       "      <td>8.0</td>\n",
       "    </tr>\n",
       "    <tr>\n",
       "      <th>1</th>\n",
       "      <td>1</td>\n",
       "      <td>Yellow Cab</td>\n",
       "      <td>2017-12-01 00:05:27.0000000 +00:00</td>\n",
       "      <td>7.47</td>\n",
       "      <td>1.0</td>\n",
       "      <td>2017-12-01 00:11:40.0000000 +00:00</td>\n",
       "      <td>38.897369</td>\n",
       "      <td>-77.031029</td>\n",
       "      <td>0.62</td>\n",
       "      <td>6.0</td>\n",
       "    </tr>\n",
       "    <tr>\n",
       "      <th>2</th>\n",
       "      <td>1</td>\n",
       "      <td>Yellow Cab</td>\n",
       "      <td>2017-12-01 00:07:01.0000000 +00:00</td>\n",
       "      <td>8.01</td>\n",
       "      <td>1.0</td>\n",
       "      <td>2017-12-01 00:12:58.0000000 +00:00</td>\n",
       "      <td>38.912121</td>\n",
       "      <td>-77.041649</td>\n",
       "      <td>0.96</td>\n",
       "      <td>5.0</td>\n",
       "    </tr>\n",
       "    <tr>\n",
       "      <th>3</th>\n",
       "      <td>1</td>\n",
       "      <td>Yellow Cab</td>\n",
       "      <td>2017-12-01 00:04:23.0000000 +00:00</td>\n",
       "      <td>13.95</td>\n",
       "      <td>2.0</td>\n",
       "      <td>2017-12-01 00:15:07.0000000 +00:00</td>\n",
       "      <td>38.889809</td>\n",
       "      <td>-77.080109</td>\n",
       "      <td>4.05</td>\n",
       "      <td>10.0</td>\n",
       "    </tr>\n",
       "    <tr>\n",
       "      <th>4</th>\n",
       "      <td>1</td>\n",
       "      <td>Yellow Cab</td>\n",
       "      <td>2017-12-01 00:01:41.0000000 +00:00</td>\n",
       "      <td>14.41</td>\n",
       "      <td>2.0</td>\n",
       "      <td>2017-12-01 00:15:39.0000000 +00:00</td>\n",
       "      <td>38.883041</td>\n",
       "      <td>-76.978027</td>\n",
       "      <td>1.37</td>\n",
       "      <td>13.0</td>\n",
       "    </tr>\n",
       "  </tbody>\n",
       "</table>\n",
       "</div>"
      ],
      "text/plain": [
       "  Type PROVIDER NAME                       StartDateTime  TotalAmount  \\\n",
       "0    1    Yellow Cab  2017-12-01 00:01:06.0000000 +00:00        11.00   \n",
       "1    1    Yellow Cab  2017-12-01 00:05:27.0000000 +00:00         7.47   \n",
       "2    1    Yellow Cab  2017-12-01 00:07:01.0000000 +00:00         8.01   \n",
       "3    1    Yellow Cab  2017-12-01 00:04:23.0000000 +00:00        13.95   \n",
       "4    1    Yellow Cab  2017-12-01 00:01:41.0000000 +00:00        14.41   \n",
       "\n",
       "   PaymentType                         EndDateTime  DestinationLatitude  \\\n",
       "0          1.0  2017-12-01 00:09:51.0000000 +00:00            38.902321   \n",
       "1          1.0  2017-12-01 00:11:40.0000000 +00:00            38.897369   \n",
       "2          1.0  2017-12-01 00:12:58.0000000 +00:00            38.912121   \n",
       "3          2.0  2017-12-01 00:15:07.0000000 +00:00            38.889809   \n",
       "4          2.0  2017-12-01 00:15:39.0000000 +00:00            38.883041   \n",
       "\n",
       "   DestinationLongitude  Milage  Duration  \n",
       "0            -77.035599    2.11       8.0  \n",
       "1            -77.031029    0.62       6.0  \n",
       "2            -77.041649    0.96       5.0  \n",
       "3            -77.080109    4.05      10.0  \n",
       "4            -76.978027    1.37      13.0  "
      ]
     },
     "execution_count": 72,
     "metadata": {},
     "output_type": "execute_result"
    }
   ],
   "source": [
    "df_sample_cleaned_full.head()"
   ]
  },
  {
   "cell_type": "code",
   "execution_count": 73,
   "metadata": {},
   "outputs": [
    {
     "data": {
      "text/html": [
       "<div>\n",
       "<style scoped>\n",
       "    .dataframe tbody tr th:only-of-type {\n",
       "        vertical-align: middle;\n",
       "    }\n",
       "\n",
       "    .dataframe tbody tr th {\n",
       "        vertical-align: top;\n",
       "    }\n",
       "\n",
       "    .dataframe thead th {\n",
       "        text-align: right;\n",
       "    }\n",
       "</style>\n",
       "<table border=\"1\" class=\"dataframe\">\n",
       "  <thead>\n",
       "    <tr style=\"text-align: right;\">\n",
       "      <th></th>\n",
       "      <th>Type</th>\n",
       "      <th>PROVIDER NAME</th>\n",
       "      <th>StartDateTime</th>\n",
       "      <th>TotalAmount</th>\n",
       "      <th>PaymentType</th>\n",
       "      <th>EndDateTime</th>\n",
       "      <th>DestinationLatitude</th>\n",
       "      <th>DestinationLongitude</th>\n",
       "      <th>Milage</th>\n",
       "      <th>Duration</th>\n",
       "    </tr>\n",
       "  </thead>\n",
       "  <tbody>\n",
       "    <tr>\n",
       "      <th>99814</th>\n",
       "      <td>1</td>\n",
       "      <td>CMT</td>\n",
       "      <td>2017-04-26 18:13:42.4000000 +00:00</td>\n",
       "      <td>17.84</td>\n",
       "      <td>1.0</td>\n",
       "      <td>2017-04-26 18:29:21.1600000 +00:00</td>\n",
       "      <td>38.902500</td>\n",
       "      <td>-77.059608</td>\n",
       "      <td>3.00</td>\n",
       "      <td>16.0</td>\n",
       "    </tr>\n",
       "    <tr>\n",
       "      <th>99815</th>\n",
       "      <td>1</td>\n",
       "      <td>Transco</td>\n",
       "      <td>2017-04-26 11:19:00.0000000 +00:00</td>\n",
       "      <td>14.16</td>\n",
       "      <td>1.0</td>\n",
       "      <td>2017-04-26 11:35:00.0000000 +00:00</td>\n",
       "      <td>38.898750</td>\n",
       "      <td>-77.031891</td>\n",
       "      <td>2.13</td>\n",
       "      <td>16.0</td>\n",
       "    </tr>\n",
       "    <tr>\n",
       "      <th>99816</th>\n",
       "      <td>1</td>\n",
       "      <td>CMT</td>\n",
       "      <td>2017-04-26 19:28:20.2100000 +00:00</td>\n",
       "      <td>9.63</td>\n",
       "      <td>2.0</td>\n",
       "      <td>2017-04-26 19:33:41.9333333 +00:00</td>\n",
       "      <td>38.879162</td>\n",
       "      <td>-77.009827</td>\n",
       "      <td>0.00</td>\n",
       "      <td>5.0</td>\n",
       "    </tr>\n",
       "    <tr>\n",
       "      <th>99817</th>\n",
       "      <td>1</td>\n",
       "      <td>CMT</td>\n",
       "      <td>2017-04-26 20:18:04.4333333 +00:00</td>\n",
       "      <td>9.21</td>\n",
       "      <td>1.0</td>\n",
       "      <td>2017-04-26 20:23:28.9433333 +00:00</td>\n",
       "      <td>38.894440</td>\n",
       "      <td>-77.026154</td>\n",
       "      <td>0.00</td>\n",
       "      <td>5.0</td>\n",
       "    </tr>\n",
       "    <tr>\n",
       "      <th>99818</th>\n",
       "      <td>1</td>\n",
       "      <td>CMT</td>\n",
       "      <td>2017-04-26 21:13:14.2600000 +00:00</td>\n",
       "      <td>23.59</td>\n",
       "      <td>1.0</td>\n",
       "      <td>2017-04-26 21:25:45.5700000 +00:00</td>\n",
       "      <td>38.806831</td>\n",
       "      <td>-77.051064</td>\n",
       "      <td>7.00</td>\n",
       "      <td>13.0</td>\n",
       "    </tr>\n",
       "  </tbody>\n",
       "</table>\n",
       "</div>"
      ],
      "text/plain": [
       "      Type PROVIDER NAME                       StartDateTime  TotalAmount  \\\n",
       "99814    1           CMT  2017-04-26 18:13:42.4000000 +00:00        17.84   \n",
       "99815    1       Transco  2017-04-26 11:19:00.0000000 +00:00        14.16   \n",
       "99816    1           CMT  2017-04-26 19:28:20.2100000 +00:00         9.63   \n",
       "99817    1           CMT  2017-04-26 20:18:04.4333333 +00:00         9.21   \n",
       "99818    1           CMT  2017-04-26 21:13:14.2600000 +00:00        23.59   \n",
       "\n",
       "       PaymentType                         EndDateTime  DestinationLatitude  \\\n",
       "99814          1.0  2017-04-26 18:29:21.1600000 +00:00            38.902500   \n",
       "99815          1.0  2017-04-26 11:35:00.0000000 +00:00            38.898750   \n",
       "99816          2.0  2017-04-26 19:33:41.9333333 +00:00            38.879162   \n",
       "99817          1.0  2017-04-26 20:23:28.9433333 +00:00            38.894440   \n",
       "99818          1.0  2017-04-26 21:25:45.5700000 +00:00            38.806831   \n",
       "\n",
       "       DestinationLongitude  Milage  Duration  \n",
       "99814            -77.059608    3.00      16.0  \n",
       "99815            -77.031891    2.13      16.0  \n",
       "99816            -77.009827    0.00       5.0  \n",
       "99817            -77.026154    0.00       5.0  \n",
       "99818            -77.051064    7.00      13.0  "
      ]
     },
     "execution_count": 73,
     "metadata": {},
     "output_type": "execute_result"
    }
   ],
   "source": [
    "df_sample_cleaned_full.tail()"
   ]
  },
  {
   "cell_type": "markdown",
   "metadata": {},
   "source": [
    "#### Get the new length of the cleaned dataset"
   ]
  },
  {
   "cell_type": "code",
   "execution_count": 74,
   "metadata": {},
   "outputs": [
    {
     "data": {
      "text/plain": [
       "99819"
      ]
     },
     "execution_count": 74,
     "metadata": {},
     "output_type": "execute_result"
    }
   ],
   "source": [
    "len(df_sample_cleaned_full)"
   ]
  },
  {
   "cell_type": "markdown",
   "metadata": {},
   "source": [
    "#### Make the cleaned dataset into csv file"
   ]
  },
  {
   "cell_type": "code",
   "execution_count": 75,
   "metadata": {},
   "outputs": [],
   "source": [
    "df_sample_cleaned_full.to_csv(\"df_taxi_cleaned_data.csv\", index= False)"
   ]
  },
  {
   "cell_type": "markdown",
   "metadata": {},
   "source": [
    "## DATA EXPLORATION"
   ]
  },
  {
   "cell_type": "markdown",
   "metadata": {},
   "source": [
    "### \\#1 LOOK AT THE DIFFERENCE BY PROVIDER "
   ]
  },
  {
   "cell_type": "markdown",
   "metadata": {},
   "source": [
    "#### First thing I did is to look to see if there is a difference between the fares by each provider in washington using the total amount means in the dataset"
   ]
  },
  {
   "cell_type": "code",
   "execution_count": 76,
   "metadata": {},
   "outputs": [
    {
     "data": {
      "text/html": [
       "<div>\n",
       "<style scoped>\n",
       "    .dataframe tbody tr th:only-of-type {\n",
       "        vertical-align: middle;\n",
       "    }\n",
       "\n",
       "    .dataframe tbody tr th {\n",
       "        vertical-align: top;\n",
       "    }\n",
       "\n",
       "    .dataframe thead th {\n",
       "        text-align: right;\n",
       "    }\n",
       "</style>\n",
       "<table border=\"1\" class=\"dataframe\">\n",
       "  <thead>\n",
       "    <tr style=\"text-align: right;\">\n",
       "      <th></th>\n",
       "      <th>count</th>\n",
       "      <th>mean</th>\n",
       "      <th>std</th>\n",
       "      <th>min</th>\n",
       "      <th>25%</th>\n",
       "      <th>50%</th>\n",
       "      <th>75%</th>\n",
       "      <th>max</th>\n",
       "    </tr>\n",
       "    <tr>\n",
       "      <th>PROVIDER NAME</th>\n",
       "      <th></th>\n",
       "      <th></th>\n",
       "      <th></th>\n",
       "      <th></th>\n",
       "      <th></th>\n",
       "      <th></th>\n",
       "      <th></th>\n",
       "      <th></th>\n",
       "    </tr>\n",
       "  </thead>\n",
       "  <tbody>\n",
       "    <tr>\n",
       "      <th>CMT</th>\n",
       "      <td>20589.0</td>\n",
       "      <td>14.239275</td>\n",
       "      <td>10.059381</td>\n",
       "      <td>0.00</td>\n",
       "      <td>8.7400</td>\n",
       "      <td>11.71</td>\n",
       "      <td>16.650000</td>\n",
       "      <td>170.699997</td>\n",
       "    </tr>\n",
       "    <tr>\n",
       "      <th>DC VIP Cab</th>\n",
       "      <td>10412.0</td>\n",
       "      <td>13.610929</td>\n",
       "      <td>10.036351</td>\n",
       "      <td>2.03</td>\n",
       "      <td>8.3600</td>\n",
       "      <td>11.17</td>\n",
       "      <td>15.870000</td>\n",
       "      <td>204.110001</td>\n",
       "    </tr>\n",
       "    <tr>\n",
       "      <th>Transco</th>\n",
       "      <td>12385.0</td>\n",
       "      <td>14.843058</td>\n",
       "      <td>10.690348</td>\n",
       "      <td>0.25</td>\n",
       "      <td>8.9000</td>\n",
       "      <td>12.17</td>\n",
       "      <td>17.559999</td>\n",
       "      <td>216.449997</td>\n",
       "    </tr>\n",
       "    <tr>\n",
       "      <th>VeriFone</th>\n",
       "      <td>8452.0</td>\n",
       "      <td>14.444238</td>\n",
       "      <td>10.291749</td>\n",
       "      <td>0.25</td>\n",
       "      <td>8.7400</td>\n",
       "      <td>11.68</td>\n",
       "      <td>16.760000</td>\n",
       "      <td>156.050003</td>\n",
       "    </tr>\n",
       "    <tr>\n",
       "      <th>Yellow Cab</th>\n",
       "      <td>10400.0</td>\n",
       "      <td>16.718430</td>\n",
       "      <td>11.879592</td>\n",
       "      <td>0.00</td>\n",
       "      <td>9.4400</td>\n",
       "      <td>13.63</td>\n",
       "      <td>21.320000</td>\n",
       "      <td>165.550003</td>\n",
       "    </tr>\n",
       "    <tr>\n",
       "      <th>Bay Cab</th>\n",
       "      <td>3310.0</td>\n",
       "      <td>9.529830</td>\n",
       "      <td>2.952235</td>\n",
       "      <td>3.08</td>\n",
       "      <td>7.5500</td>\n",
       "      <td>9.36</td>\n",
       "      <td>11.060000</td>\n",
       "      <td>35.250000</td>\n",
       "    </tr>\n",
       "    <tr>\n",
       "      <th>Capitol Cab</th>\n",
       "      <td>484.0</td>\n",
       "      <td>13.211386</td>\n",
       "      <td>8.778903</td>\n",
       "      <td>3.25</td>\n",
       "      <td>8.0900</td>\n",
       "      <td>10.94</td>\n",
       "      <td>16.247499</td>\n",
       "      <td>102.080002</td>\n",
       "    </tr>\n",
       "    <tr>\n",
       "      <th>Grand Cab</th>\n",
       "      <td>1859.0</td>\n",
       "      <td>9.856422</td>\n",
       "      <td>3.238987</td>\n",
       "      <td>3.50</td>\n",
       "      <td>7.7400</td>\n",
       "      <td>9.63</td>\n",
       "      <td>11.360000</td>\n",
       "      <td>35.250000</td>\n",
       "    </tr>\n",
       "    <tr>\n",
       "      <th>UVC</th>\n",
       "      <td>15990.0</td>\n",
       "      <td>12.820976</td>\n",
       "      <td>9.091228</td>\n",
       "      <td>0.00</td>\n",
       "      <td>8.2800</td>\n",
       "      <td>10.52</td>\n",
       "      <td>14.410000</td>\n",
       "      <td>126.900002</td>\n",
       "    </tr>\n",
       "    <tr>\n",
       "      <th>Hitch</th>\n",
       "      <td>15668.0</td>\n",
       "      <td>13.700873</td>\n",
       "      <td>9.022470</td>\n",
       "      <td>3.25</td>\n",
       "      <td>8.5500</td>\n",
       "      <td>11.44</td>\n",
       "      <td>16.190001</td>\n",
       "      <td>131.750000</td>\n",
       "    </tr>\n",
       "    <tr>\n",
       "      <th>My taxi Control</th>\n",
       "      <td>270.0</td>\n",
       "      <td>13.569110</td>\n",
       "      <td>11.515281</td>\n",
       "      <td>0.00</td>\n",
       "      <td>7.3275</td>\n",
       "      <td>10.98</td>\n",
       "      <td>16.942501</td>\n",
       "      <td>90.419998</td>\n",
       "    </tr>\n",
       "  </tbody>\n",
       "</table>\n",
       "</div>"
      ],
      "text/plain": [
       "                   count       mean        std   min     25%    50%  \\\n",
       "PROVIDER NAME                                                         \n",
       "CMT              20589.0  14.239275  10.059381  0.00  8.7400  11.71   \n",
       "DC VIP Cab       10412.0  13.610929  10.036351  2.03  8.3600  11.17   \n",
       "Transco          12385.0  14.843058  10.690348  0.25  8.9000  12.17   \n",
       "VeriFone          8452.0  14.444238  10.291749  0.25  8.7400  11.68   \n",
       "Yellow Cab       10400.0  16.718430  11.879592  0.00  9.4400  13.63   \n",
       "Bay Cab           3310.0   9.529830   2.952235  3.08  7.5500   9.36   \n",
       "Capitol Cab        484.0  13.211386   8.778903  3.25  8.0900  10.94   \n",
       "Grand Cab         1859.0   9.856422   3.238987  3.50  7.7400   9.63   \n",
       "UVC              15990.0  12.820976   9.091228  0.00  8.2800  10.52   \n",
       "Hitch            15668.0  13.700873   9.022470  3.25  8.5500  11.44   \n",
       "My taxi Control    270.0  13.569110  11.515281  0.00  7.3275  10.98   \n",
       "\n",
       "                       75%         max  \n",
       "PROVIDER NAME                           \n",
       "CMT              16.650000  170.699997  \n",
       "DC VIP Cab       15.870000  204.110001  \n",
       "Transco          17.559999  216.449997  \n",
       "VeriFone         16.760000  156.050003  \n",
       "Yellow Cab       21.320000  165.550003  \n",
       "Bay Cab          11.060000   35.250000  \n",
       "Capitol Cab      16.247499  102.080002  \n",
       "Grand Cab        11.360000   35.250000  \n",
       "UVC              14.410000  126.900002  \n",
       "Hitch            16.190001  131.750000  \n",
       "My taxi Control  16.942501   90.419998  "
      ]
     },
     "execution_count": 76,
     "metadata": {},
     "output_type": "execute_result"
    }
   ],
   "source": [
    "df_sample_cleaned_full.groupby(\"PROVIDER NAME\", observed= True)[\"TotalAmount\"].describe()"
   ]
  },
  {
   "cell_type": "markdown",
   "metadata": {},
   "source": [
    "#### Created a boxplot to see any outliers and to see the comparision of means of the providers"
   ]
  },
  {
   "cell_type": "code",
   "execution_count": 77,
   "metadata": {},
   "outputs": [
    {
     "data": {
      "image/png": "[encoded data removed]",
      "text/plain": [
       "<Figure size 1500x1000 with 1 Axes>"
      ]
     },
     "metadata": {},
     "output_type": "display_data"
    }
   ],
   "source": [
    "Provider_name_arr= [\n",
    "    \"CMT\",                \n",
    "    \"DC VIP Cab\",         \n",
    "    \"Transco\",            \n",
    "    \"VeriFone\",           \n",
    "    \"Yellow Cab\",\n",
    "    \"Bay Cab\",            \n",
    "    \"Capitol Cab\",        \n",
    "    \"Grand Cab\",          \n",
    "    \"UVC\",                \n",
    "    \"Hitch\",              \n",
    "    \"My taxi Control\"   \n",
    "] \n",
    "\n",
    "df_boxplot_data = []\n",
    "for i in Provider_name_arr:\n",
    "    df_boxplot_data.append(df_sample_cleaned_full[df_sample_cleaned_full[\"PROVIDER NAME\"] == i][\"TotalAmount\"].tolist())\n",
    "\n",
    "plt.figure(figsize = (15,10))\n",
    "plt.boxplot(df_boxplot_data,labels= Provider_name_arr)\n",
    "plt.xlabel(\"Providers\")\n",
    "plt.ylabel(\"Total Amount\")\n",
    "plt.title(\"Boxplot Comparison of total charges Between Providers\")\n",
    "plt.show()\n",
    "\n"
   ]
  },
  {
   "cell_type": "markdown",
   "metadata": {},
   "source": [
    "#### To truly know that there is a difference between the means of total amount of providers is I did the Kruskal-Wallis test as data analyzed is composed of categorical and quantitative data and variances between the categories are different, The Kruskal-Wallis test is done by the bootstrapping method and is double checked by using the kruskal method in scipy."
   ]
  },
  {
   "cell_type": "markdown",
   "metadata": {},
   "source": [
    "#### Import the functions needed for bootstrapping"
   ]
  },
  {
   "cell_type": "code",
   "execution_count": 78,
   "metadata": {},
   "outputs": [],
   "source": [
    "# needed functions\n",
    "from collections.abc import Callable\n",
    "\n",
    "\n",
    "def get_bootstrap_data(data: np.array, size: int) -> np.array:\n",
    "    x_shape = size\n",
    "    y_shape = data.size\n",
    "    \n",
    "    if size > 1:\n",
    "        bs_data = np.random.choice(data, size=(x_shape, y_shape))\n",
    "    else:\n",
    "        bs_data = np.random.choice(data, size=y_shape)\n",
    "        \n",
    "    return bs_data\n",
    "\n",
    "\n",
    "def get_perm_data(data: np.array, n_class1: int) -> tuple:\n",
    "    result = np.random.permutation(data)\n",
    "    \n",
    "    return (result[n_class1:], result[:n_class1])\n",
    "\n",
    "\n",
    "def compute_differences(data1: np.array, data2: np.array) -> float:\n",
    "    # Step 5\n",
    "    return np.mean(data1) - np.mean(data2)\n",
    "\n",
    "\n",
    "def get_perm_replicate(data: np.array, n_class1: int, size: int, func: Callable) -> float:\n",
    "    replicates = np.empty(size)\n",
    "    \n",
    "    for i in range(size):\n",
    "        class1, class2 = get_perm_data(data=data, n_class1=n_class1)\n",
    "        replicates[i] = func(class1, class2)\n",
    "        \n",
    "    return replicates\n",
    "\n"
   ]
  },
  {
   "cell_type": "markdown",
   "metadata": {},
   "source": [
    "#### Using the Kruskal-Wallis bootstrapping test"
   ]
  },
  {
   "cell_type": "code",
   "execution_count": 79,
   "metadata": {},
   "outputs": [
    {
     "data": {
      "text/plain": [
       "3119.386526334274"
      ]
     },
     "execution_count": 79,
     "metadata": {},
     "output_type": "execute_result"
    }
   ],
   "source": [
    "# check the means of total amound by provider \n",
    "\n",
    "# Your code here\n",
    "# Null Hypothesis - There is no significant difference in Total Trip Charges by Provider\n",
    "# Alternative hypothesis - there is significant difference in Total Trip Charges by Provider\n",
    "# Kruskal-Wallis Test\n",
    "df_total_data = df_sample_cleaned_full.loc[:,[\"PROVIDER NAME\",\"TotalAmount\"]] # Combine the data all together\n",
    "Provider_name_arr= [\n",
    "    \"CMT\",                \n",
    "    \"DC VIP Cab\",         \n",
    "    \"Transco\",            \n",
    "    \"VeriFone\",           \n",
    "    \"Yellow Cab\",\n",
    "    \"Bay Cab\",            \n",
    "    \"Capitol Cab\",        \n",
    "    \"Grand Cab\",          \n",
    "    \"UVC\",                \n",
    "    \"Hitch\",              \n",
    "    \"My taxi Control\"   \n",
    "] \n",
    "\n",
    "# calculating observed \n",
    "\n",
    "# Sort the data for all groups/samples into ascending order in one combined set.\n",
    "df_total_data_sorted = df_total_data.sort_values(by = [\"TotalAmount\"])\n",
    "\n",
    "# Assign ranks to the sorted data points\n",
    "Rank_arr = [i for i in range(len(df_total_data_sorted))]\n",
    "df_total_data_sorted.loc[:,\"Rank\"] = Rank_arr\n",
    "\n",
    "# Calculate T_j^2/n_j\n",
    "df_total_data_sumcount = []\n",
    "for i in Provider_name_arr:\n",
    "    df_total_data_sumcount.append(df_total_data_sorted[df_total_data_sorted[\"PROVIDER NAME\"] == i][\"Rank\"].tolist())\n",
    "\n",
    "df_Tjsqslashn_arr = []\n",
    "for i in range(len(Provider_name_arr)):\n",
    "    df_Tjsqslashn_arr.append((np.sum(df_total_data_sumcount[i]))**float(2) / (float(len(df_total_data_sumcount[i]))))\n",
    "\n",
    "\n",
    "# Calculate the H statistic:\n",
    "n = len(df_total_data_sorted)\n",
    "H_obs = ((12/(n*(n + 1)))*np.sum(df_Tjsqslashn_arr)) - 3*(n + 1)\n",
    "\n",
    "H_obs"
   ]
  },
  {
   "cell_type": "code",
   "execution_count": 80,
   "metadata": {},
   "outputs": [
    {
     "data": {
      "image/png": "[encoded data removed]",
      "text/plain": [
       "<Figure size 1000x600 with 1 Axes>"
      ]
     },
     "metadata": {},
     "output_type": "display_data"
    },
    {
     "data": {
      "image/png": "[encoded data removed]",
      "text/plain": [
       "<Figure size 1000x600 with 1 Axes>"
      ]
     },
     "metadata": {},
     "output_type": "display_data"
    },
    {
     "name": "stdout",
     "output_type": "stream",
     "text": [
      "____________________________________________________________________________________________________\n",
      "pvalue:  0.0000  Original h-statistic:  3119.386526334274\n",
      "DECISION: REJECT THE NULL HYPOTHESIS\n",
      "CONCLUSION: It is evident that THERE IS significant difference in Total Trip Charges by Provider\n"
     ]
    }
   ],
   "source": [
    "# bootstrap sampling\n",
    "\n",
    "# initialize variables needed for bootstrap sampling\n",
    "num_samples = 10000\n",
    "H_bs = []\n",
    "sample_df_bs = df_sample_cleaned_full.loc[:,[\"PROVIDER NAME\", \"TotalAmount\"]]\n",
    "\n",
    "\n",
    "\n",
    "# 47.3 sec per 1000 rep\n",
    "for _ in range(num_samples):\n",
    "    # get a bootstrap sample\n",
    "    sample_df_bs[\"Bs_TotalAmount\"] = get_bootstrap_data(sample_df_bs[\"TotalAmount\"],1)\n",
    "    # Sort the data for all groups/samples into ascending order in one combined set.\n",
    "    sample_df_sorted = sample_df_bs.sort_values(by = [\"Bs_TotalAmount\"])\n",
    "    # Assign ranks to the sorted data points\n",
    "    Rank_arr_bs = [i for i in range(len(sample_df_bs))]\n",
    "    sample_df_sorted.loc[:,\"Bs_Rank\"] = Rank_arr_bs\n",
    "    # Calculate T_j^2/n_j\n",
    "    sample_df_ranks_arr_bs = []\n",
    "    for i in Provider_name_arr:\n",
    "        sample_df_ranks_arr_bs.append(sample_df_sorted[sample_df_sorted[\"PROVIDER NAME\"] == i][\"Bs_Rank\"].tolist())\n",
    "\n",
    "    sample_df_Tjsqslashn_arr_bs = []\n",
    "    for i in range(len(Provider_name_arr)):\n",
    "        sample_df_Tjsqslashn_arr_bs.append((np.sum(sample_df_ranks_arr_bs[i]))**float(2) / (float(len(sample_df_ranks_arr_bs[i]))))\n",
    "    # Calculate the H statistic:\n",
    "    n_bs = len(sample_df_sorted)\n",
    "    H_bs.append(((12/(n_bs*(n_bs + 1)))*np.sum(sample_df_Tjsqslashn_arr_bs)) - 3*(n_bs + 1))\n",
    "\n",
    "\n",
    "\n",
    "\n",
    "# plotting\n",
    "fig, ax = plt.subplots(figsize=(10,6))\n",
    "sns.histplot(x=H_bs, ax=ax, multiple='stack')\n",
    "ax.set_xlabel('$\\mu_0 - \\mu_1$')\n",
    "ax.set_title('Difference of Simulated bootstrap h-statistics')\n",
    "plt.show()\n",
    "\n",
    "\n",
    "fig, ax = plt.subplots(figsize=(10,6))\n",
    "sns.histplot(x=H_bs, ax=ax, multiple='stack')\n",
    "ax.axvline(H_obs, color='red', label='Observed Difference')\n",
    "ax.set_xlabel('$\\mu_0 - \\mu_1$')\n",
    "ax.set_title('Difference of Simulated bootstrap h-statistics compared to original')\n",
    "ax.legend()\n",
    "plt.show()\n",
    "\n",
    "# Hypothesis testing\n",
    "print(\"_\"*100)\n",
    "pvalue = np.mean(np.abs(H_bs) >= np.abs(H_obs))\n",
    "print(\"pvalue: \", \"{0:.4f}\".format(pvalue),\" Original h-statistic: \", H_obs)\n",
    "print(\"DECISION:\",end = \"\")\n",
    "if pvalue <= 0.05:\n",
    "    print(\" REJECT THE NULL HYPOTHESIS\")\n",
    "    print(\"CONCLUSION: It is evident that THERE IS significant difference in Total Trip Charges by Provider\")\n",
    "else:\n",
    "    print(\" DO NOT REJECT THE NULL HYPOTHESIS\")\n",
    "    print(\"CONCLUSION: It is evident that THERE IS NO significant difference in Total Trip Charges by Provider\")\n",
    "\n",
    "\n",
    "\n",
    "\n"
   ]
  },
  {
   "cell_type": "code",
   "execution_count": 81,
   "metadata": {},
   "outputs": [],
   "source": [
    "# store to not compute repeatedly\n",
    "Total_trip_charges_h_stats = H_bs\n",
    "Total_trip_charges_h_obs = H_obs\n",
    "Total_trip_charges_pval = pvalue"
   ]
  },
  {
   "cell_type": "markdown",
   "metadata": {},
   "source": [
    "#### Checking if the bootstrap Kruskal-Wallis is true"
   ]
  },
  {
   "cell_type": "code",
   "execution_count": 82,
   "metadata": {},
   "outputs": [
    {
     "data": {
      "text/plain": [
       "KruskalResult(statistic=3131.2764470862526, pvalue=0.0)"
      ]
     },
     "execution_count": 82,
     "metadata": {},
     "output_type": "execute_result"
    }
   ],
   "source": [
    "# check \n",
    "\n",
    "from scipy.stats import kruskal\n",
    "\n",
    "\n",
    "\n",
    "kruskal(df_boxplot_data[0],\n",
    "         df_boxplot_data[1],\n",
    "         df_boxplot_data[2],\n",
    "         df_boxplot_data[3],\n",
    "         df_boxplot_data[4],\n",
    "         df_boxplot_data[5],\n",
    "         df_boxplot_data[6],\n",
    "         df_boxplot_data[7],\n",
    "         df_boxplot_data[8],\n",
    "         df_boxplot_data[9],\n",
    "         df_boxplot_data[10])"
   ]
  },
  {
   "cell_type": "markdown",
   "metadata": {},
   "source": [
    "#### Now that I know there is a significant difference in means of total amount by provider, I check to see if there are differences in Milage if the trip by provider"
   ]
  },
  {
   "cell_type": "code",
   "execution_count": 83,
   "metadata": {},
   "outputs": [
    {
     "data": {
      "text/html": [
       "<div>\n",
       "<style scoped>\n",
       "    .dataframe tbody tr th:only-of-type {\n",
       "        vertical-align: middle;\n",
       "    }\n",
       "\n",
       "    .dataframe tbody tr th {\n",
       "        vertical-align: top;\n",
       "    }\n",
       "\n",
       "    .dataframe thead th {\n",
       "        text-align: right;\n",
       "    }\n",
       "</style>\n",
       "<table border=\"1\" class=\"dataframe\">\n",
       "  <thead>\n",
       "    <tr style=\"text-align: right;\">\n",
       "      <th></th>\n",
       "      <th>count</th>\n",
       "      <th>mean</th>\n",
       "      <th>std</th>\n",
       "      <th>min</th>\n",
       "      <th>25%</th>\n",
       "      <th>50%</th>\n",
       "      <th>75%</th>\n",
       "      <th>max</th>\n",
       "    </tr>\n",
       "    <tr>\n",
       "      <th>PROVIDER NAME</th>\n",
       "      <th></th>\n",
       "      <th></th>\n",
       "      <th></th>\n",
       "      <th></th>\n",
       "      <th></th>\n",
       "      <th></th>\n",
       "      <th></th>\n",
       "      <th></th>\n",
       "    </tr>\n",
       "  </thead>\n",
       "  <tbody>\n",
       "    <tr>\n",
       "      <th>CMT</th>\n",
       "      <td>20589.0</td>\n",
       "      <td>2.630094</td>\n",
       "      <td>3.572181</td>\n",
       "      <td>0.0</td>\n",
       "      <td>1.0000</td>\n",
       "      <td>2.000</td>\n",
       "      <td>3.0000</td>\n",
       "      <td>54.000000</td>\n",
       "    </tr>\n",
       "    <tr>\n",
       "      <th>DC VIP Cab</th>\n",
       "      <td>10412.0</td>\n",
       "      <td>2.610846</td>\n",
       "      <td>3.530495</td>\n",
       "      <td>0.0</td>\n",
       "      <td>0.9800</td>\n",
       "      <td>1.600</td>\n",
       "      <td>3.0000</td>\n",
       "      <td>74.599998</td>\n",
       "    </tr>\n",
       "    <tr>\n",
       "      <th>Transco</th>\n",
       "      <td>12385.0</td>\n",
       "      <td>3.132796</td>\n",
       "      <td>3.923256</td>\n",
       "      <td>0.0</td>\n",
       "      <td>1.1500</td>\n",
       "      <td>1.960</td>\n",
       "      <td>3.9000</td>\n",
       "      <td>97.230003</td>\n",
       "    </tr>\n",
       "    <tr>\n",
       "      <th>VeriFone</th>\n",
       "      <td>8452.0</td>\n",
       "      <td>2.998915</td>\n",
       "      <td>3.809881</td>\n",
       "      <td>0.0</td>\n",
       "      <td>1.1000</td>\n",
       "      <td>1.800</td>\n",
       "      <td>3.5000</td>\n",
       "      <td>54.900002</td>\n",
       "    </tr>\n",
       "    <tr>\n",
       "      <th>Yellow Cab</th>\n",
       "      <td>10400.0</td>\n",
       "      <td>5.196076</td>\n",
       "      <td>11.628551</td>\n",
       "      <td>0.0</td>\n",
       "      <td>1.3700</td>\n",
       "      <td>2.750</td>\n",
       "      <td>5.4625</td>\n",
       "      <td>177.000000</td>\n",
       "    </tr>\n",
       "    <tr>\n",
       "      <th>Bay Cab</th>\n",
       "      <td>3310.0</td>\n",
       "      <td>1.407861</td>\n",
       "      <td>0.967045</td>\n",
       "      <td>0.0</td>\n",
       "      <td>0.8200</td>\n",
       "      <td>1.220</td>\n",
       "      <td>1.7300</td>\n",
       "      <td>8.000000</td>\n",
       "    </tr>\n",
       "    <tr>\n",
       "      <th>Capitol Cab</th>\n",
       "      <td>484.0</td>\n",
       "      <td>2.813347</td>\n",
       "      <td>3.384629</td>\n",
       "      <td>0.0</td>\n",
       "      <td>1.0800</td>\n",
       "      <td>1.715</td>\n",
       "      <td>3.8225</td>\n",
       "      <td>36.700001</td>\n",
       "    </tr>\n",
       "    <tr>\n",
       "      <th>Grand Cab</th>\n",
       "      <td>1859.0</td>\n",
       "      <td>1.418863</td>\n",
       "      <td>0.987430</td>\n",
       "      <td>0.0</td>\n",
       "      <td>0.8100</td>\n",
       "      <td>1.190</td>\n",
       "      <td>1.6850</td>\n",
       "      <td>6.440000</td>\n",
       "    </tr>\n",
       "    <tr>\n",
       "      <th>UVC</th>\n",
       "      <td>15990.0</td>\n",
       "      <td>2.520458</td>\n",
       "      <td>3.397552</td>\n",
       "      <td>0.0</td>\n",
       "      <td>0.9600</td>\n",
       "      <td>1.520</td>\n",
       "      <td>2.8000</td>\n",
       "      <td>44.299999</td>\n",
       "    </tr>\n",
       "    <tr>\n",
       "      <th>Hitch</th>\n",
       "      <td>15668.0</td>\n",
       "      <td>2.808655</td>\n",
       "      <td>3.310512</td>\n",
       "      <td>0.0</td>\n",
       "      <td>1.0000</td>\n",
       "      <td>2.000</td>\n",
       "      <td>3.0000</td>\n",
       "      <td>54.000000</td>\n",
       "    </tr>\n",
       "    <tr>\n",
       "      <th>My taxi Control</th>\n",
       "      <td>270.0</td>\n",
       "      <td>2.977629</td>\n",
       "      <td>4.022146</td>\n",
       "      <td>0.0</td>\n",
       "      <td>0.9525</td>\n",
       "      <td>1.740</td>\n",
       "      <td>3.4700</td>\n",
       "      <td>30.870001</td>\n",
       "    </tr>\n",
       "  </tbody>\n",
       "</table>\n",
       "</div>"
      ],
      "text/plain": [
       "                   count      mean        std  min     25%    50%     75%  \\\n",
       "PROVIDER NAME                                                               \n",
       "CMT              20589.0  2.630094   3.572181  0.0  1.0000  2.000  3.0000   \n",
       "DC VIP Cab       10412.0  2.610846   3.530495  0.0  0.9800  1.600  3.0000   \n",
       "Transco          12385.0  3.132796   3.923256  0.0  1.1500  1.960  3.9000   \n",
       "VeriFone          8452.0  2.998915   3.809881  0.0  1.1000  1.800  3.5000   \n",
       "Yellow Cab       10400.0  5.196076  11.628551  0.0  1.3700  2.750  5.4625   \n",
       "Bay Cab           3310.0  1.407861   0.967045  0.0  0.8200  1.220  1.7300   \n",
       "Capitol Cab        484.0  2.813347   3.384629  0.0  1.0800  1.715  3.8225   \n",
       "Grand Cab         1859.0  1.418863   0.987430  0.0  0.8100  1.190  1.6850   \n",
       "UVC              15990.0  2.520458   3.397552  0.0  0.9600  1.520  2.8000   \n",
       "Hitch            15668.0  2.808655   3.310512  0.0  1.0000  2.000  3.0000   \n",
       "My taxi Control    270.0  2.977629   4.022146  0.0  0.9525  1.740  3.4700   \n",
       "\n",
       "                        max  \n",
       "PROVIDER NAME                \n",
       "CMT               54.000000  \n",
       "DC VIP Cab        74.599998  \n",
       "Transco           97.230003  \n",
       "VeriFone          54.900002  \n",
       "Yellow Cab       177.000000  \n",
       "Bay Cab            8.000000  \n",
       "Capitol Cab       36.700001  \n",
       "Grand Cab          6.440000  \n",
       "UVC               44.299999  \n",
       "Hitch             54.000000  \n",
       "My taxi Control   30.870001  "
      ]
     },
     "execution_count": 83,
     "metadata": {},
     "output_type": "execute_result"
    }
   ],
   "source": [
    "df_sample_cleaned_full.groupby(\"PROVIDER NAME\",observed= True)[\"Milage\"].describe()"
   ]
  },
  {
   "cell_type": "markdown",
   "metadata": {},
   "source": [
    "#### Creating a boxplot for more insight"
   ]
  },
  {
   "cell_type": "code",
   "execution_count": 84,
   "metadata": {},
   "outputs": [
    {
     "data": {
      "image/png": "[encoded data removed]",
      "text/plain": [
       "<Figure size 1500x1000 with 1 Axes>"
      ]
     },
     "metadata": {},
     "output_type": "display_data"
    }
   ],
   "source": [
    "Provider_name_arr= [\n",
    "    \"CMT\",                \n",
    "    \"DC VIP Cab\",         \n",
    "    \"Transco\",            \n",
    "    \"VeriFone\",           \n",
    "    \"Yellow Cab\",\n",
    "    \"Bay Cab\",            \n",
    "    \"Capitol Cab\",        \n",
    "    \"Grand Cab\",          \n",
    "    \"UVC\",                \n",
    "    \"Hitch\",              \n",
    "    \"My taxi Control\"   \n",
    "] \n",
    "\n",
    "df_boxplot_data = []\n",
    "for i in Provider_name_arr:\n",
    "    df_boxplot_data.append(df_sample_cleaned_full[df_sample_cleaned_full[\"PROVIDER NAME\"] == i][\"Milage\"].tolist())\n",
    "\n",
    "plt.figure(figsize = (15,10))\n",
    "plt.boxplot(df_boxplot_data,labels= Provider_name_arr)\n",
    "plt.xlabel(\"Providers\")\n",
    "plt.ylabel(\"Trip Milage\")\n",
    "plt.title(\"Boxplot Comparison of total charges Between Providers\")\n",
    "plt.show()"
   ]
  },
  {
   "cell_type": "markdown",
   "metadata": {},
   "source": [
    "#### Performing the Kruskal-Wallis bootstrapping test"
   ]
  },
  {
   "cell_type": "code",
   "execution_count": 85,
   "metadata": {},
   "outputs": [
    {
     "data": {
      "text/plain": [
       "3914.5176452450105"
      ]
     },
     "execution_count": 85,
     "metadata": {},
     "output_type": "execute_result"
    }
   ],
   "source": [
    "# check the means of Milage per provider \n",
    "\n",
    "# Your code here\n",
    "# Null Hypothesis - There is no significant difference in trip milage by Provider\n",
    "# Alternative hypothesis - there is significant difference in trip milage by Provider\n",
    "# Kruskal-Wallis Test\n",
    "df_total_data = df_sample_cleaned_full.loc[:,[\"PROVIDER NAME\",\"Milage\"]] # Combine the data all together\n",
    "Provider_name_arr= [\n",
    "    \"CMT\",                \n",
    "    \"DC VIP Cab\",         \n",
    "    \"Transco\",            \n",
    "    \"VeriFone\",           \n",
    "    \"Yellow Cab\",\n",
    "    \"Bay Cab\",            \n",
    "    \"Capitol Cab\",        \n",
    "    \"Grand Cab\",          \n",
    "    \"UVC\",                \n",
    "    \"Hitch\",              \n",
    "    \"My taxi Control\"   \n",
    "] \n",
    "\n",
    "# calculating observed \n",
    "\n",
    "# Sort the data for all groups/samples into ascending order in one combined set.\n",
    "df_total_data_sorted = df_total_data.sort_values(by = [\"Milage\"])\n",
    "\n",
    "# Assign ranks to the sorted data points\n",
    "Rank_arr = [i for i in range(len(df_total_data_sorted))]\n",
    "df_total_data_sorted.loc[:,\"Rank\"] = Rank_arr\n",
    "\n",
    "# Calculate T_j^2/n_j\n",
    "df_total_data_sumcount = []\n",
    "for i in Provider_name_arr:\n",
    "    df_total_data_sumcount.append(df_total_data_sorted[df_total_data_sorted[\"PROVIDER NAME\"] == i][\"Rank\"].tolist())\n",
    "\n",
    "df_Tjsqslashn_arr = []\n",
    "for i in range(len(Provider_name_arr)):\n",
    "    df_Tjsqslashn_arr.append((np.sum(df_total_data_sumcount[i]))**float(2) / (float(len(df_total_data_sumcount[i]))))\n",
    "\n",
    "\n",
    "# Calculate the H statistic:\n",
    "n = len(df_total_data_sorted)\n",
    "H_obs = ((12/(n*(n + 1)))*np.sum(df_Tjsqslashn_arr)) - 3*(n + 1)\n",
    "\n",
    "\n",
    "\n",
    "H_obs"
   ]
  },
  {
   "cell_type": "code",
   "execution_count": 86,
   "metadata": {},
   "outputs": [
    {
     "data": {
      "image/png": "[encoded data removed]",
      "text/plain": [
       "<Figure size 1000x600 with 1 Axes>"
      ]
     },
     "metadata": {},
     "output_type": "display_data"
    },
    {
     "data": {
      "image/png": "[encoded data removed]",
      "text/plain": [
       "<Figure size 1000x600 with 1 Axes>"
      ]
     },
     "metadata": {},
     "output_type": "display_data"
    },
    {
     "name": "stdout",
     "output_type": "stream",
     "text": [
      "____________________________________________________________________________________________________\n",
      "pvalue:  0.0000  Original h-statistic:  3914.5176452450105\n",
      "DECISION: REJECT THE NULL HYPOTHESIS\n",
      "CONCLUSION: It is evident that THERE IS significant difference in trip milage by Provider\n"
     ]
    }
   ],
   "source": [
    "# bootstrap sampling\n",
    "\n",
    "# initialize variables needed for bootstrap sampling\n",
    "num_samples = 10000\n",
    "H_bs = []\n",
    "sample_df_bs = df_sample_cleaned_full.loc[:,[\"PROVIDER NAME\", \"Milage\"]]\n",
    "\n",
    "\n",
    "\n",
    "# 47.3 sec per 1000 rep\n",
    "for _ in range(num_samples):\n",
    "    # get a bootstrap sample\n",
    "    sample_df_bs[\"Bs_Milage\"] = get_bootstrap_data(sample_df_bs[\"Milage\"],1)\n",
    "    # Sort the data for all groups/samples into ascending order in one combined set.\n",
    "    sample_df_sorted = sample_df_bs.sort_values(by = [\"Bs_Milage\"])\n",
    "    # Assign ranks to the sorted data points\n",
    "    Rank_arr_bs = [i for i in range(len(sample_df_bs))]\n",
    "    sample_df_sorted.loc[:,\"Bs_Rank\"] = Rank_arr_bs\n",
    "    # Calculate T_j^2/n_j\n",
    "    sample_df_ranks_arr_bs = []\n",
    "    for i in Provider_name_arr:\n",
    "        sample_df_ranks_arr_bs.append(sample_df_sorted[sample_df_sorted[\"PROVIDER NAME\"] == i][\"Bs_Rank\"].tolist())\n",
    "\n",
    "    sample_df_Tjsqslashn_arr_bs = []\n",
    "    for i in range(len(Provider_name_arr)):\n",
    "        sample_df_Tjsqslashn_arr_bs.append((np.sum(sample_df_ranks_arr_bs[i]))**float(2) / (float(len(sample_df_ranks_arr_bs[i]))))\n",
    "    # Calculate the H statistic:\n",
    "    n_bs = len(sample_df_sorted)\n",
    "    H_bs.append(((12/(n_bs*(n_bs + 1)))*np.sum(sample_df_Tjsqslashn_arr_bs)) - 3*(n_bs + 1))\n",
    "\n",
    "\n",
    "\n",
    "\n",
    "# plotting\n",
    "fig, ax = plt.subplots(figsize=(10,6))\n",
    "sns.histplot(x=H_bs, ax=ax, multiple='stack')\n",
    "ax.set_xlabel('$\\mu_0 - \\mu_1$')\n",
    "ax.set_title('Difference of Simulated bootstrap h-statistics')\n",
    "plt.show()\n",
    "\n",
    "\n",
    "fig, ax = plt.subplots(figsize=(10,6))\n",
    "sns.histplot(x=H_bs, ax=ax, multiple='stack')\n",
    "ax.axvline(H_obs, color='red', label='Observed Difference')\n",
    "ax.set_xlabel('$\\mu_0 - \\mu_1$')\n",
    "ax.set_title('Difference of Simulated bootstrap h-statistics compared to original')\n",
    "ax.legend()\n",
    "plt.show()\n",
    "\n",
    "# Hypothesis testing\n",
    "print(\"_\"*100)\n",
    "pvalue = np.mean(np.abs(H_bs) >= np.abs(H_obs))\n",
    "print(\"pvalue: \", \"{0:.4f}\".format(pvalue),\" Original h-statistic: \", H_obs)\n",
    "print(\"DECISION:\",end = \"\")\n",
    "if pvalue <= 0.05:\n",
    "    print(\" REJECT THE NULL HYPOTHESIS\")\n",
    "    print(\"CONCLUSION: It is evident that THERE IS significant difference in trip milage by Provider\")\n",
    "else:\n",
    "    print(\" DO NOT REJECT THE NULL HYPOTHESIS\")\n",
    "    print(\"CONCLUSION: It is evident that THERE IS NO significant difference in trip milage by Provider\")\n"
   ]
  },
  {
   "cell_type": "code",
   "execution_count": 87,
   "metadata": {},
   "outputs": [],
   "source": [
    "# store to not compute repeatedly\n",
    "Total_trip_milage_h_stats = H_bs\n",
    "Total_trip_milage_h_obs = H_obs\n",
    "Total_trip_milage_pval = pvalue"
   ]
  },
  {
   "cell_type": "markdown",
   "metadata": {},
   "source": [
    "#### Checking if the bootstrap test is true"
   ]
  },
  {
   "cell_type": "code",
   "execution_count": 88,
   "metadata": {},
   "outputs": [
    {
     "data": {
      "text/plain": [
       "KruskalResult(statistic=3899.69113331438, pvalue=0.0)"
      ]
     },
     "execution_count": 88,
     "metadata": {},
     "output_type": "execute_result"
    }
   ],
   "source": [
    "# test \n",
    "\n",
    "\n",
    "kruskal(df_boxplot_data[0],\n",
    "         df_boxplot_data[1],\n",
    "         df_boxplot_data[2],\n",
    "         df_boxplot_data[3],\n",
    "         df_boxplot_data[4],\n",
    "         df_boxplot_data[5],\n",
    "         df_boxplot_data[6],\n",
    "         df_boxplot_data[7],\n",
    "         df_boxplot_data[8],\n",
    "         df_boxplot_data[9],\n",
    "         df_boxplot_data[10])"
   ]
  },
  {
   "cell_type": "markdown",
   "metadata": {},
   "source": [
    "#### Lastly is I checked if there is a difference between the duration of taxi trips by provider"
   ]
  },
  {
   "cell_type": "code",
   "execution_count": 89,
   "metadata": {},
   "outputs": [
    {
     "data": {
      "text/html": [
       "<div>\n",
       "<style scoped>\n",
       "    .dataframe tbody tr th:only-of-type {\n",
       "        vertical-align: middle;\n",
       "    }\n",
       "\n",
       "    .dataframe tbody tr th {\n",
       "        vertical-align: top;\n",
       "    }\n",
       "\n",
       "    .dataframe thead th {\n",
       "        text-align: right;\n",
       "    }\n",
       "</style>\n",
       "<table border=\"1\" class=\"dataframe\">\n",
       "  <thead>\n",
       "    <tr style=\"text-align: right;\">\n",
       "      <th></th>\n",
       "      <th>count</th>\n",
       "      <th>mean</th>\n",
       "      <th>std</th>\n",
       "      <th>min</th>\n",
       "      <th>25%</th>\n",
       "      <th>50%</th>\n",
       "      <th>75%</th>\n",
       "      <th>max</th>\n",
       "    </tr>\n",
       "    <tr>\n",
       "      <th>PROVIDER NAME</th>\n",
       "      <th></th>\n",
       "      <th></th>\n",
       "      <th></th>\n",
       "      <th></th>\n",
       "      <th></th>\n",
       "      <th></th>\n",
       "      <th></th>\n",
       "      <th></th>\n",
       "    </tr>\n",
       "  </thead>\n",
       "  <tbody>\n",
       "    <tr>\n",
       "      <th>CMT</th>\n",
       "      <td>20589.0</td>\n",
       "      <td>13.001894</td>\n",
       "      <td>9.504605</td>\n",
       "      <td>0.0</td>\n",
       "      <td>7.0</td>\n",
       "      <td>11.0</td>\n",
       "      <td>16.0</td>\n",
       "      <td>210.0</td>\n",
       "    </tr>\n",
       "    <tr>\n",
       "      <th>DC VIP Cab</th>\n",
       "      <td>10412.0</td>\n",
       "      <td>113.552536</td>\n",
       "      <td>199.864685</td>\n",
       "      <td>1.0</td>\n",
       "      <td>10.0</td>\n",
       "      <td>16.0</td>\n",
       "      <td>36.0</td>\n",
       "      <td>720.0</td>\n",
       "    </tr>\n",
       "    <tr>\n",
       "      <th>Transco</th>\n",
       "      <td>12385.0</td>\n",
       "      <td>13.715866</td>\n",
       "      <td>9.962102</td>\n",
       "      <td>0.0</td>\n",
       "      <td>8.0</td>\n",
       "      <td>12.0</td>\n",
       "      <td>17.0</td>\n",
       "      <td>337.0</td>\n",
       "    </tr>\n",
       "    <tr>\n",
       "      <th>VeriFone</th>\n",
       "      <td>8452.0</td>\n",
       "      <td>14.020232</td>\n",
       "      <td>18.546961</td>\n",
       "      <td>0.0</td>\n",
       "      <td>8.0</td>\n",
       "      <td>12.0</td>\n",
       "      <td>17.0</td>\n",
       "      <td>515.0</td>\n",
       "    </tr>\n",
       "    <tr>\n",
       "      <th>Yellow Cab</th>\n",
       "      <td>10400.0</td>\n",
       "      <td>20.420095</td>\n",
       "      <td>51.039780</td>\n",
       "      <td>0.0</td>\n",
       "      <td>8.0</td>\n",
       "      <td>12.0</td>\n",
       "      <td>19.0</td>\n",
       "      <td>699.0</td>\n",
       "    </tr>\n",
       "    <tr>\n",
       "      <th>Bay Cab</th>\n",
       "      <td>3310.0</td>\n",
       "      <td>448.062225</td>\n",
       "      <td>168.551712</td>\n",
       "      <td>3.0</td>\n",
       "      <td>328.0</td>\n",
       "      <td>465.0</td>\n",
       "      <td>583.0</td>\n",
       "      <td>720.0</td>\n",
       "    </tr>\n",
       "    <tr>\n",
       "      <th>Capitol Cab</th>\n",
       "      <td>484.0</td>\n",
       "      <td>132.842972</td>\n",
       "      <td>221.328705</td>\n",
       "      <td>0.0</td>\n",
       "      <td>7.0</td>\n",
       "      <td>14.0</td>\n",
       "      <td>185.0</td>\n",
       "      <td>714.0</td>\n",
       "    </tr>\n",
       "    <tr>\n",
       "      <th>Grand Cab</th>\n",
       "      <td>1859.0</td>\n",
       "      <td>452.637451</td>\n",
       "      <td>165.719543</td>\n",
       "      <td>3.0</td>\n",
       "      <td>332.5</td>\n",
       "      <td>463.0</td>\n",
       "      <td>593.0</td>\n",
       "      <td>720.0</td>\n",
       "    </tr>\n",
       "    <tr>\n",
       "      <th>UVC</th>\n",
       "      <td>15990.0</td>\n",
       "      <td>167.233215</td>\n",
       "      <td>232.040985</td>\n",
       "      <td>0.0</td>\n",
       "      <td>9.0</td>\n",
       "      <td>16.0</td>\n",
       "      <td>355.0</td>\n",
       "      <td>720.0</td>\n",
       "    </tr>\n",
       "    <tr>\n",
       "      <th>Hitch</th>\n",
       "      <td>15668.0</td>\n",
       "      <td>12.681581</td>\n",
       "      <td>8.612576</td>\n",
       "      <td>0.0</td>\n",
       "      <td>7.0</td>\n",
       "      <td>11.0</td>\n",
       "      <td>16.0</td>\n",
       "      <td>98.0</td>\n",
       "    </tr>\n",
       "    <tr>\n",
       "      <th>My taxi Control</th>\n",
       "      <td>270.0</td>\n",
       "      <td>11.966666</td>\n",
       "      <td>8.582575</td>\n",
       "      <td>0.0</td>\n",
       "      <td>6.0</td>\n",
       "      <td>11.0</td>\n",
       "      <td>16.0</td>\n",
       "      <td>64.0</td>\n",
       "    </tr>\n",
       "  </tbody>\n",
       "</table>\n",
       "</div>"
      ],
      "text/plain": [
       "                   count        mean         std  min    25%    50%    75%  \\\n",
       "PROVIDER NAME                                                                \n",
       "CMT              20589.0   13.001894    9.504605  0.0    7.0   11.0   16.0   \n",
       "DC VIP Cab       10412.0  113.552536  199.864685  1.0   10.0   16.0   36.0   \n",
       "Transco          12385.0   13.715866    9.962102  0.0    8.0   12.0   17.0   \n",
       "VeriFone          8452.0   14.020232   18.546961  0.0    8.0   12.0   17.0   \n",
       "Yellow Cab       10400.0   20.420095   51.039780  0.0    8.0   12.0   19.0   \n",
       "Bay Cab           3310.0  448.062225  168.551712  3.0  328.0  465.0  583.0   \n",
       "Capitol Cab        484.0  132.842972  221.328705  0.0    7.0   14.0  185.0   \n",
       "Grand Cab         1859.0  452.637451  165.719543  3.0  332.5  463.0  593.0   \n",
       "UVC              15990.0  167.233215  232.040985  0.0    9.0   16.0  355.0   \n",
       "Hitch            15668.0   12.681581    8.612576  0.0    7.0   11.0   16.0   \n",
       "My taxi Control    270.0   11.966666    8.582575  0.0    6.0   11.0   16.0   \n",
       "\n",
       "                   max  \n",
       "PROVIDER NAME           \n",
       "CMT              210.0  \n",
       "DC VIP Cab       720.0  \n",
       "Transco          337.0  \n",
       "VeriFone         515.0  \n",
       "Yellow Cab       699.0  \n",
       "Bay Cab          720.0  \n",
       "Capitol Cab      714.0  \n",
       "Grand Cab        720.0  \n",
       "UVC              720.0  \n",
       "Hitch             98.0  \n",
       "My taxi Control   64.0  "
      ]
     },
     "execution_count": 89,
     "metadata": {},
     "output_type": "execute_result"
    }
   ],
   "source": [
    "df_sample_cleaned_full.groupby(\"PROVIDER NAME\", observed = True)[\"Duration\"].describe()"
   ]
  },
  {
   "cell_type": "markdown",
   "metadata": {},
   "source": [
    "#### Create boxplot for more insight"
   ]
  },
  {
   "cell_type": "code",
   "execution_count": 90,
   "metadata": {},
   "outputs": [
    {
     "data": {
      "image/png": "[encoded data removed]",
      "text/plain": [
       "<Figure size 1500x1000 with 1 Axes>"
      ]
     },
     "metadata": {},
     "output_type": "display_data"
    }
   ],
   "source": [
    "Provider_name_arr= [\n",
    "    \"CMT\",                \n",
    "    \"DC VIP Cab\",         \n",
    "    \"Transco\",            \n",
    "    \"VeriFone\",           \n",
    "    \"Yellow Cab\",\n",
    "    \"Bay Cab\",            \n",
    "    \"Capitol Cab\",        \n",
    "    \"Grand Cab\",          \n",
    "    \"UVC\",                \n",
    "    \"Hitch\",              \n",
    "    \"My taxi Control\"   \n",
    "] \n",
    "\n",
    "df_boxplot_data = []\n",
    "for i in Provider_name_arr:\n",
    "    df_boxplot_data.append(df_sample_cleaned_full[df_sample_cleaned_full[\"PROVIDER NAME\"] == i][\"Duration\"].tolist())\n",
    "\n",
    "plt.figure(figsize = (15,10))\n",
    "plt.boxplot(df_boxplot_data,labels= Provider_name_arr)\n",
    "plt.xlabel(\"Providers\")\n",
    "plt.ylabel(\"Trip Duration\")\n",
    "plt.title(\"Boxplot Comparison of total charges Between Providers\")\n",
    "plt.show()"
   ]
  },
  {
   "cell_type": "markdown",
   "metadata": {},
   "source": [
    "#### Perform Kruskal-Wallis bootstrap test"
   ]
  },
  {
   "cell_type": "code",
   "execution_count": 91,
   "metadata": {},
   "outputs": [
    {
     "data": {
      "text/plain": [
       "17851.169590299425"
      ]
     },
     "execution_count": 91,
     "metadata": {},
     "output_type": "execute_result"
    }
   ],
   "source": [
    "# check the means of Duration per provider \n",
    "\n",
    "# Your code here\n",
    "# Null Hypothesis - There is no significant difference in trip duration by Provider\n",
    "# Alternative hypothesis - there is significant difference in trip duration by Provider\n",
    "# Kruskal-Wallis Test\n",
    "df_total_data = df_sample_cleaned_full.loc[:,[\"PROVIDER NAME\",\"Duration\"]] # Combine the data all together\n",
    "Provider_name_arr= [\n",
    "    \"CMT\",                \n",
    "    \"DC VIP Cab\",         \n",
    "    \"Transco\",            \n",
    "    \"VeriFone\",           \n",
    "    \"Yellow Cab\",\n",
    "    \"Bay Cab\",            \n",
    "    \"Capitol Cab\",        \n",
    "    \"Grand Cab\",          \n",
    "    \"UVC\",                \n",
    "    \"Hitch\",              \n",
    "    \"My taxi Control\"   \n",
    "] \n",
    "\n",
    "# calculating observed \n",
    "\n",
    "# Sort the data for all groups/samples into ascending order in one combined set.\n",
    "df_total_data_sorted = df_total_data.sort_values(by = [\"Duration\"])\n",
    "\n",
    "# Assign ranks to the sorted data points\n",
    "Rank_arr = [i for i in range(len(df_total_data_sorted))]\n",
    "df_total_data_sorted.loc[:,\"Rank\"] = Rank_arr\n",
    "\n",
    "# Calculate T_j^2/n_j\n",
    "df_total_data_sumcount = []\n",
    "for i in Provider_name_arr:\n",
    "    df_total_data_sumcount.append(df_total_data_sorted[df_total_data_sorted[\"PROVIDER NAME\"] == i][\"Rank\"].tolist())\n",
    "\n",
    "df_Tjsqslashn_arr = []\n",
    "for i in range(len(Provider_name_arr)):\n",
    "    df_Tjsqslashn_arr.append((np.sum(df_total_data_sumcount[i]))**float(2) / (float(len(df_total_data_sumcount[i]))))\n",
    "\n",
    "\n",
    "# Calculate the H statistic:\n",
    "n = len(df_total_data_sorted)\n",
    "H_obs = ((12/(n*(n + 1)))*np.sum(df_Tjsqslashn_arr)) - 3*(n + 1)\n",
    "\n",
    "\n",
    "\n",
    "H_obs"
   ]
  },
  {
   "cell_type": "code",
   "execution_count": 92,
   "metadata": {},
   "outputs": [
    {
     "data": {
      "image/png": "[encoded data removed]",
      "text/plain": [
       "<Figure size 1000x600 with 1 Axes>"
      ]
     },
     "metadata": {},
     "output_type": "display_data"
    },
    {
     "data": {
      "image/png": "[encoded data removed]",
      "text/plain": [
       "<Figure size 1000x600 with 1 Axes>"
      ]
     },
     "metadata": {},
     "output_type": "display_data"
    },
    {
     "name": "stdout",
     "output_type": "stream",
     "text": [
      "____________________________________________________________________________________________________\n",
      "pvalue:  0.0000  Original h-statistic:  17851.169590299425\n",
      "DECISION: REJECT THE NULL HYPOTHESIS\n",
      "CONCLUSION: It is evident that THERE IS significant difference in trip duration by Provider\n"
     ]
    }
   ],
   "source": [
    "# bootstrap sampling\n",
    "\n",
    "# initialize variables needed for bootstrap sampling\n",
    "num_samples = 10000\n",
    "H_bs = []\n",
    "sample_df_bs = df_sample_cleaned_full.loc[:,[\"PROVIDER NAME\", \"Duration\"]]\n",
    "\n",
    "\n",
    "\n",
    "# 47.3 sec per 1000 rep\n",
    "for _ in range(num_samples):\n",
    "    # get a bootstrap sample\n",
    "    sample_df_bs[\"Bs_Duration\"] = get_bootstrap_data(sample_df_bs[\"Duration\"],1)\n",
    "    # Sort the data for all groups/samples into ascending order in one combined set.\n",
    "    sample_df_sorted = sample_df_bs.sort_values(by = [\"Bs_Duration\"])\n",
    "    # Assign ranks to the sorted data points\n",
    "    Rank_arr_bs = [i for i in range(len(sample_df_bs))]\n",
    "    sample_df_sorted.loc[:,\"Bs_Rank\"] = Rank_arr_bs\n",
    "    # Calculate T_j^2/n_j\n",
    "    sample_df_ranks_arr_bs = []\n",
    "    for i in Provider_name_arr:\n",
    "        sample_df_ranks_arr_bs.append(sample_df_sorted[sample_df_sorted[\"PROVIDER NAME\"] == i][\"Bs_Rank\"].tolist())\n",
    "\n",
    "    sample_df_Tjsqslashn_arr_bs = []\n",
    "    for i in range(len(Provider_name_arr)):\n",
    "        sample_df_Tjsqslashn_arr_bs.append((np.sum(sample_df_ranks_arr_bs[i]))**float(2) / (float(len(sample_df_ranks_arr_bs[i]))))\n",
    "    # Calculate the H statistic:\n",
    "    n_bs = len(sample_df_sorted)\n",
    "    H_bs.append(((12/(n_bs*(n_bs + 1)))*np.sum(sample_df_Tjsqslashn_arr_bs)) - 3*(n_bs + 1))\n",
    "\n",
    "\n",
    "\n",
    "\n",
    "# plotting\n",
    "fig, ax = plt.subplots(figsize=(10,6))\n",
    "sns.histplot(x=H_bs, ax=ax, multiple='stack')\n",
    "ax.set_xlabel('$\\mu_0 - \\mu_1$')\n",
    "ax.set_title('Difference of Simulated bootstrap h-statistics')\n",
    "plt.show()\n",
    "\n",
    "\n",
    "fig, ax = plt.subplots(figsize=(10,6))\n",
    "sns.histplot(x=H_bs, ax=ax, multiple='stack')\n",
    "ax.axvline(H_obs, color='red', label='Observed Difference')\n",
    "ax.set_xlabel('$\\mu_0 - \\mu_1$')\n",
    "ax.set_title('Difference of Simulated bootstrap h-statistics compared to original')\n",
    "ax.legend()\n",
    "plt.show()\n",
    "\n",
    "# Hypothesis testing\n",
    "print(\"_\"*100)\n",
    "pvalue = np.mean(np.abs(H_bs) >= np.abs(H_obs))\n",
    "print(\"pvalue: \", \"{0:.4f}\".format(pvalue),\" Original h-statistic: \", H_obs)\n",
    "print(\"DECISION:\",end = \"\")\n",
    "if pvalue <= 0.05:\n",
    "    print(\" REJECT THE NULL HYPOTHESIS\")\n",
    "    print(\"CONCLUSION: It is evident that THERE IS significant difference in trip duration by Provider\")\n",
    "else:\n",
    "    print(\" DO NOT REJECT THE NULL HYPOTHESIS\")\n",
    "    print(\"CONCLUSION: It is evident that THERE IS NO significant difference in trip duration by Provider\")\n"
   ]
  },
  {
   "cell_type": "code",
   "execution_count": 93,
   "metadata": {},
   "outputs": [],
   "source": [
    "# store to not compute repeatedly\n",
    "Total_trip_duration_h_stats = H_bs\n",
    "Total_trip_duration_h_obs = H_obs\n",
    "Total_trip_duration_pval = pvalue"
   ]
  },
  {
   "cell_type": "markdown",
   "metadata": {},
   "source": [
    "#### Checking if the bootstrap test is true"
   ]
  },
  {
   "cell_type": "code",
   "execution_count": 94,
   "metadata": {},
   "outputs": [
    {
     "data": {
      "text/plain": [
       "KruskalResult(statistic=17903.507345137506, pvalue=0.0)"
      ]
     },
     "execution_count": 94,
     "metadata": {},
     "output_type": "execute_result"
    }
   ],
   "source": [
    "\n",
    "kruskal(df_boxplot_data[0],\n",
    "         df_boxplot_data[1],\n",
    "         df_boxplot_data[2],\n",
    "         df_boxplot_data[3],\n",
    "         df_boxplot_data[4],\n",
    "         df_boxplot_data[5],\n",
    "         df_boxplot_data[6],\n",
    "         df_boxplot_data[7],\n",
    "         df_boxplot_data[8],\n",
    "         df_boxplot_data[9],\n",
    "         df_boxplot_data[10])"
   ]
  },
  {
   "cell_type": "markdown",
   "metadata": {},
   "source": [
    "### Now that we know that there is significant evidence that the means of Total Amount, Duration, and Milage are different by provider. We will look at the means of each provider to know what provider provides the better service in comparision to other providers"
   ]
  },
  {
   "cell_type": "code",
   "execution_count": 95,
   "metadata": {},
   "outputs": [
    {
     "data": {
      "text/plain": [
       "PROVIDER NAME\n",
       "Bay Cab             9.529831\n",
       "Grand Cab           9.856422\n",
       "UVC                12.820976\n",
       "Capitol Cab        13.211385\n",
       "My taxi Control    13.569111\n",
       "DC VIP Cab         13.610929\n",
       "Hitch              13.700873\n",
       "CMT                14.239275\n",
       "VeriFone           14.444237\n",
       "Transco            14.843058\n",
       "Yellow Cab         16.718428\n",
       "Name: TotalAmount, dtype: float32"
      ]
     },
     "execution_count": 95,
     "metadata": {},
     "output_type": "execute_result"
    }
   ],
   "source": [
    "df_sample_cleaned_full.groupby(\"PROVIDER NAME\",observed=True)[\"TotalAmount\"].mean().sort_values(ascending =True)"
   ]
  },
  {
   "cell_type": "code",
   "execution_count": 96,
   "metadata": {},
   "outputs": [
    {
     "data": {
      "text/plain": [
       "PROVIDER NAME\n",
       "Yellow Cab         5.196076\n",
       "Transco            3.132796\n",
       "VeriFone           2.998915\n",
       "My taxi Control    2.977630\n",
       "Capitol Cab        2.813347\n",
       "Hitch              2.808655\n",
       "CMT                2.630094\n",
       "DC VIP Cab         2.610846\n",
       "UVC                2.520458\n",
       "Grand Cab          1.418863\n",
       "Bay Cab            1.407861\n",
       "Name: Milage, dtype: float32"
      ]
     },
     "execution_count": 96,
     "metadata": {},
     "output_type": "execute_result"
    }
   ],
   "source": [
    "df_sample_cleaned_full.groupby(\"PROVIDER NAME\",observed=True)[\"Milage\"].mean().sort_values(ascending = False)"
   ]
  },
  {
   "cell_type": "code",
   "execution_count": 97,
   "metadata": {},
   "outputs": [
    {
     "data": {
      "text/plain": [
       "PROVIDER NAME\n",
       "My taxi Control     11.966666\n",
       "Hitch               12.681581\n",
       "CMT                 13.001894\n",
       "Transco             13.715866\n",
       "VeriFone            14.020232\n",
       "Yellow Cab          20.420095\n",
       "DC VIP Cab         113.552536\n",
       "Capitol Cab        132.842972\n",
       "UVC                167.233215\n",
       "Bay Cab            448.062225\n",
       "Grand Cab          452.637451\n",
       "Name: Duration, dtype: float32"
      ]
     },
     "execution_count": 97,
     "metadata": {},
     "output_type": "execute_result"
    }
   ],
   "source": [
    "df_sample_cleaned_full.groupby(\"PROVIDER NAME\",observed=True)[\"Duration\"].mean().sort_values(ascending = True)"
   ]
  },
  {
   "cell_type": "markdown",
   "metadata": {},
   "source": [
    "### FINDINGS\n",
    "### BASED ON THE MEANS OF TOTAL AMOUNT,MILAGE, AND DURATION, **MY TAXI CONTROL** IS THE BEST PROVIDER AS IT PROVIDES ON AVERAGE 5TH LOWEST TOTAL FARE WITH THE 4TH LONGEST MILE AND THE LEAST TRIP DURATION COMPARED TO ALL TAXI PROVIDERS"
   ]
  },
  {
   "cell_type": "markdown",
   "metadata": {},
   "source": [
    "# REFERENCE \n",
    "\n",
    "How many miles does an average taxi cab driver drive yearly? (2019, July 26). Career Trend. https://careertrend.com/how-many-miles-does-an-average-taxi-cab-driver-drive-yearly-13658842.html\n",
    "\n",
    "Taxicab fares. (n.d.). Dc Taxi. https://dfhv.dc.gov/page/taxicab-fares"
   ]
  },
  {
   "cell_type": "markdown",
   "metadata": {},
   "source": [
    "# DATA VISUALIZATION WITH COMBINED ANALYSIS"
   ]
  },
  {
   "cell_type": "markdown",
   "metadata": {},
   "source": [
    "- bar plot \n",
    "- pie chart\n",
    "- line plot "
   ]
  },
  {
   "cell_type": "code",
   "execution_count": 5,
   "metadata": {},
   "outputs": [],
   "source": [
    "import plotly.graph_objects as go\n",
    "from plotly.subplots import make_subplots\n",
    "import pandas as pd\n",
    "import numpy as np\n",
    "from scipy import stats"
   ]
  },
  {
   "cell_type": "code",
   "execution_count": 6,
   "metadata": {},
   "outputs": [],
   "source": [
    "df_sample_cleaned_full = pd.read_csv(\"df_taxi_cleaned_data.csv\")"
   ]
  },
  {
   "cell_type": "code",
   "execution_count": 7,
   "metadata": {},
   "outputs": [],
   "source": [
    "total_fare_amount_data = df_sample_cleaned_full.groupby(\"PROVIDER NAME\",observed=True)[\"TotalAmount\"].mean().round(2).sort_values(ascending =True)\n",
    "\n",
    "by = ['Bay Cab',\n",
    " 'Grand Cab',\n",
    " 'UVC',\n",
    " 'Capitol Cab',\n",
    " 'My taxi Control',\n",
    " 'DC VIP Cab',\n",
    " 'Hitch',\n",
    " 'CMT',\n",
    " 'VeriFone',\n",
    " 'Transco',\n",
    " 'Yellow Cab']"
   ]
  },
  {
   "cell_type": "code",
   "execution_count": 8,
   "metadata": {},
   "outputs": [],
   "source": [
    "milage_data =  df_sample_cleaned_full.groupby(\"PROVIDER NAME\",observed=True)[\"Milage\"].mean().round(2).sort_values(ascending = False)\n",
    "\n",
    "\n"
   ]
  },
  {
   "cell_type": "code",
   "execution_count": 9,
   "metadata": {},
   "outputs": [],
   "source": [
    "duration_data =  df_sample_cleaned_full.groupby(\"PROVIDER NAME\",observed=True)[\"Duration\"].mean().round(2).sort_values(ascending =True)\n"
   ]
  },
  {
   "cell_type": "code",
   "execution_count": 10,
   "metadata": {},
   "outputs": [],
   "source": [
    "total_fare_ranking = dict()\n",
    "for i,j in enumerate(total_fare_amount_data.keys()):\n",
    "    total_fare_ranking[j] = i + 1\n",
    "\n",
    "milage_ranking = dict()\n",
    "for i,j in enumerate(milage_data.keys()):\n",
    "    milage_ranking[j] = i + 1\n",
    "\n",
    "duration_ranking = dict()\n",
    "for i,j in enumerate(duration_data.keys()):\n",
    "    duration_ranking[j] = i + 1\n",
    "\n"
   ]
  },
  {
   "cell_type": "code",
   "execution_count": 11,
   "metadata": {},
   "outputs": [],
   "source": [
    "fare_marker_color_index_map_arr = dict()\n",
    "i2 =0\n",
    "for i,j in enumerate(total_fare_amount_data.keys()):\n",
    "    if i < 5:\n",
    "        fare_marker_color_index_map_arr[j] = i \n",
    "    else:\n",
    "        fare_marker_color_index_map_arr[j] = i2\n",
    "        i2+=1\n",
    "\n",
    "milage_marker_color_index_map_arr = dict()\n",
    "i2 =0\n",
    "for i,j in enumerate(milage_data.keys()):\n",
    "    if i < 5:\n",
    "        milage_marker_color_index_map_arr[j] = i \n",
    "    else:\n",
    "        milage_marker_color_index_map_arr[j] = i2\n",
    "        i2+=1\n",
    "\n",
    "duration_marker_color_index_map_arr = dict()\n",
    "i2 =0\n",
    "for i,j in enumerate(duration_data.keys()):\n",
    "    if i < 5:\n",
    "        duration_marker_color_index_map_arr[j] = i \n",
    "    else:\n",
    "        duration_marker_color_index_map_arr[j] = i2\n",
    "        i2+=1\n",
    "\n"
   ]
  },
  {
   "cell_type": "code",
   "execution_count": 12,
   "metadata": {},
   "outputs": [],
   "source": [
    "bar_design_temp_arr =  ['', '/', '\\\\', 'x', '-', '|', '+', '.']\n"
   ]
  },
  {
   "cell_type": "code",
   "execution_count": 20,
   "metadata": {},
   "outputs": [],
   "source": [
    "chosen = \"Bay Cab\"\n",
    "i = 3"
   ]
  },
  {
   "cell_type": "code",
   "execution_count": 21,
   "metadata": {},
   "outputs": [],
   "source": [
    "color_matrix = ['#000000','#000000','#000000','#000000','#000000','#000000']\n",
    "design_matrix = ['','','','','','']\n",
    "design_matrix[fare_marker_color_index_map_arr[chosen]] = bar_design_temp_arr[i]\n",
    "color_matrix[fare_marker_color_index_map_arr[chosen]] = \"#4CAF50\""
   ]
  },
  {
   "cell_type": "code",
   "execution_count": 22,
   "metadata": {},
   "outputs": [
    {
     "data": {
      "application/vnd.plotly.v1+json": {
       "config": {
        "plotlyServerURL": "https://plot.ly"
       },
       "data": [
        {
         "marker": {
          "color": [
           "#4CAF50",
           "#000000",
           "#000000",
           "#000000",
           "#000000",
           "#000000"
          ],
          "pattern": {
           "shape": [
            "x",
            "",
            "",
            "",
            "",
            ""
           ]
          }
         },
         "orientation": "h",
         "text": [
          "#1",
          "#2",
          "#3",
          "#4",
          "#5"
         ],
         "textfont": {
          "family": "verdana, sans-serif",
          "size": 13
         },
         "textposition": "outside",
         "type": "bar",
         "x": [
          9.53,
          9.86,
          12.82,
          13.21,
          13.57
         ],
         "y": [
          "Bay Cab",
          "Grand Cab",
          "UVC",
          "Capitol Cab",
          "My taxi Control"
         ]
        }
       ],
       "layout": {
        "font": {
         "color": "Black",
         "family": "verdana, sans-serif",
         "size": 8
        },
        "height": 600,
        "template": {
         "data": {
          "bar": [
           {
            "error_x": {
             "color": "#2a3f5f"
            },
            "error_y": {
             "color": "#2a3f5f"
            },
            "marker": {
             "line": {
              "color": "#E5ECF6",
              "width": 0.5
             },
             "pattern": {
              "fillmode": "overlay",
              "size": 10,
              "solidity": 0.2
             }
            },
            "type": "bar"
           }
          ],
          "barpolar": [
           {
            "marker": {
             "line": {
              "color": "#E5ECF6",
              "width": 0.5
             },
             "pattern": {
              "fillmode": "overlay",
              "size": 10,
              "solidity": 0.2
             }
            },
            "type": "barpolar"
           }
          ],
          "carpet": [
           {
            "aaxis": {
             "endlinecolor": "#2a3f5f",
             "gridcolor": "white",
             "linecolor": "white",
             "minorgridcolor": "white",
             "startlinecolor": "#2a3f5f"
            },
            "baxis": {
             "endlinecolor": "#2a3f5f",
             "gridcolor": "white",
             "linecolor": "white",
             "minorgridcolor": "white",
             "startlinecolor": "#2a3f5f"
            },
            "type": "carpet"
           }
          ],
          "choropleth": [
           {
            "colorbar": {
             "outlinewidth": 0,
             "ticks": ""
            },
            "type": "choropleth"
           }
          ],
          "contour": [
           {
            "colorbar": {
             "outlinewidth": 0,
             "ticks": ""
            },
            "colorscale": [
             [
              0,
              "#0d0887"
             ],
             [
              0.1111111111111111,
              "#46039f"
             ],
             [
              0.2222222222222222,
              "#7201a8"
             ],
             [
              0.3333333333333333,
              "#9c179e"
             ],
             [
              0.4444444444444444,
              "#bd3786"
             ],
             [
              0.5555555555555556,
              "#d8576b"
             ],
             [
              0.6666666666666666,
              "#ed7953"
             ],
             [
              0.7777777777777778,
              "#fb9f3a"
             ],
             [
              0.8888888888888888,
              "#fdca26"
             ],
             [
              1,
              "#f0f921"
             ]
            ],
            "type": "contour"
           }
          ],
          "contourcarpet": [
           {
            "colorbar": {
             "outlinewidth": 0,
             "ticks": ""
            },
            "type": "contourcarpet"
           }
          ],
          "heatmap": [
           {
            "colorbar": {
             "outlinewidth": 0,
             "ticks": ""
            },
            "colorscale": [
             [
              0,
              "#0d0887"
             ],
             [
              0.1111111111111111,
              "#46039f"
             ],
             [
              0.2222222222222222,
              "#7201a8"
             ],
             [
              0.3333333333333333,
              "#9c179e"
             ],
             [
              0.4444444444444444,
              "#bd3786"
             ],
             [
              0.5555555555555556,
              "#d8576b"
             ],
             [
              0.6666666666666666,
              "#ed7953"
             ],
             [
              0.7777777777777778,
              "#fb9f3a"
             ],
             [
              0.8888888888888888,
              "#fdca26"
             ],
             [
              1,
              "#f0f921"
             ]
            ],
            "type": "heatmap"
           }
          ],
          "heatmapgl": [
           {
            "colorbar": {
             "outlinewidth": 0,
             "ticks": ""
            },
            "colorscale": [
             [
              0,
              "#0d0887"
             ],
             [
              0.1111111111111111,
              "#46039f"
             ],
             [
              0.2222222222222222,
              "#7201a8"
             ],
             [
              0.3333333333333333,
              "#9c179e"
             ],
             [
              0.4444444444444444,
              "#bd3786"
             ],
             [
              0.5555555555555556,
              "#d8576b"
             ],
             [
              0.6666666666666666,
              "#ed7953"
             ],
             [
              0.7777777777777778,
              "#fb9f3a"
             ],
             [
              0.8888888888888888,
              "#fdca26"
             ],
             [
              1,
              "#f0f921"
             ]
            ],
            "type": "heatmapgl"
           }
          ],
          "histogram": [
           {
            "marker": {
             "pattern": {
              "fillmode": "overlay",
              "size": 10,
              "solidity": 0.2
             }
            },
            "type": "histogram"
           }
          ],
          "histogram2d": [
           {
            "colorbar": {
             "outlinewidth": 0,
             "ticks": ""
            },
            "colorscale": [
             [
              0,
              "#0d0887"
             ],
             [
              0.1111111111111111,
              "#46039f"
             ],
             [
              0.2222222222222222,
              "#7201a8"
             ],
             [
              0.3333333333333333,
              "#9c179e"
             ],
             [
              0.4444444444444444,
              "#bd3786"
             ],
             [
              0.5555555555555556,
              "#d8576b"
             ],
             [
              0.6666666666666666,
              "#ed7953"
             ],
             [
              0.7777777777777778,
              "#fb9f3a"
             ],
             [
              0.8888888888888888,
              "#fdca26"
             ],
             [
              1,
              "#f0f921"
             ]
            ],
            "type": "histogram2d"
           }
          ],
          "histogram2dcontour": [
           {
            "colorbar": {
             "outlinewidth": 0,
             "ticks": ""
            },
            "colorscale": [
             [
              0,
              "#0d0887"
             ],
             [
              0.1111111111111111,
              "#46039f"
             ],
             [
              0.2222222222222222,
              "#7201a8"
             ],
             [
              0.3333333333333333,
              "#9c179e"
             ],
             [
              0.4444444444444444,
              "#bd3786"
             ],
             [
              0.5555555555555556,
              "#d8576b"
             ],
             [
              0.6666666666666666,
              "#ed7953"
             ],
             [
              0.7777777777777778,
              "#fb9f3a"
             ],
             [
              0.8888888888888888,
              "#fdca26"
             ],
             [
              1,
              "#f0f921"
             ]
            ],
            "type": "histogram2dcontour"
           }
          ],
          "mesh3d": [
           {
            "colorbar": {
             "outlinewidth": 0,
             "ticks": ""
            },
            "type": "mesh3d"
           }
          ],
          "parcoords": [
           {
            "line": {
             "colorbar": {
              "outlinewidth": 0,
              "ticks": ""
             }
            },
            "type": "parcoords"
           }
          ],
          "pie": [
           {
            "automargin": true,
            "type": "pie"
           }
          ],
          "scatter": [
           {
            "fillpattern": {
             "fillmode": "overlay",
             "size": 10,
             "solidity": 0.2
            },
            "type": "scatter"
           }
          ],
          "scatter3d": [
           {
            "line": {
             "colorbar": {
              "outlinewidth": 0,
              "ticks": ""
             }
            },
            "marker": {
             "colorbar": {
              "outlinewidth": 0,
              "ticks": ""
             }
            },
            "type": "scatter3d"
           }
          ],
          "scattercarpet": [
           {
            "marker": {
             "colorbar": {
              "outlinewidth": 0,
              "ticks": ""
             }
            },
            "type": "scattercarpet"
           }
          ],
          "scattergeo": [
           {
            "marker": {
             "colorbar": {
              "outlinewidth": 0,
              "ticks": ""
             }
            },
            "type": "scattergeo"
           }
          ],
          "scattergl": [
           {
            "marker": {
             "colorbar": {
              "outlinewidth": 0,
              "ticks": ""
             }
            },
            "type": "scattergl"
           }
          ],
          "scattermapbox": [
           {
            "marker": {
             "colorbar": {
              "outlinewidth": 0,
              "ticks": ""
             }
            },
            "type": "scattermapbox"
           }
          ],
          "scatterpolar": [
           {
            "marker": {
             "colorbar": {
              "outlinewidth": 0,
              "ticks": ""
             }
            },
            "type": "scatterpolar"
           }
          ],
          "scatterpolargl": [
           {
            "marker": {
             "colorbar": {
              "outlinewidth": 0,
              "ticks": ""
             }
            },
            "type": "scatterpolargl"
           }
          ],
          "scatterternary": [
           {
            "marker": {
             "colorbar": {
              "outlinewidth": 0,
              "ticks": ""
             }
            },
            "type": "scatterternary"
           }
          ],
          "surface": [
           {
            "colorbar": {
             "outlinewidth": 0,
             "ticks": ""
            },
            "colorscale": [
             [
              0,
              "#0d0887"
             ],
             [
              0.1111111111111111,
              "#46039f"
             ],
             [
              0.2222222222222222,
              "#7201a8"
             ],
             [
              0.3333333333333333,
              "#9c179e"
             ],
             [
              0.4444444444444444,
              "#bd3786"
             ],
             [
              0.5555555555555556,
              "#d8576b"
             ],
             [
              0.6666666666666666,
              "#ed7953"
             ],
             [
              0.7777777777777778,
              "#fb9f3a"
             ],
             [
              0.8888888888888888,
              "#fdca26"
             ],
             [
              1,
              "#f0f921"
             ]
            ],
            "type": "surface"
           }
          ],
          "table": [
           {
            "cells": {
             "fill": {
              "color": "#EBF0F8"
             },
             "line": {
              "color": "white"
             }
            },
            "header": {
             "fill": {
              "color": "#C8D4E3"
             },
             "line": {
              "color": "white"
             }
            },
            "type": "table"
           }
          ]
         },
         "layout": {
          "annotationdefaults": {
           "arrowcolor": "#2a3f5f",
           "arrowhead": 0,
           "arrowwidth": 1
          },
          "autotypenumbers": "strict",
          "coloraxis": {
           "colorbar": {
            "outlinewidth": 0,
            "ticks": ""
           }
          },
          "colorscale": {
           "diverging": [
            [
             0,
             "#8e0152"
            ],
            [
             0.1,
             "#c51b7d"
            ],
            [
             0.2,
             "#de77ae"
            ],
            [
             0.3,
             "#f1b6da"
            ],
            [
             0.4,
             "#fde0ef"
            ],
            [
             0.5,
             "#f7f7f7"
            ],
            [
             0.6,
             "#e6f5d0"
            ],
            [
             0.7,
             "#b8e186"
            ],
            [
             0.8,
             "#7fbc41"
            ],
            [
             0.9,
             "#4d9221"
            ],
            [
             1,
             "#276419"
            ]
           ],
           "sequential": [
            [
             0,
             "#0d0887"
            ],
            [
             0.1111111111111111,
             "#46039f"
            ],
            [
             0.2222222222222222,
             "#7201a8"
            ],
            [
             0.3333333333333333,
             "#9c179e"
            ],
            [
             0.4444444444444444,
             "#bd3786"
            ],
            [
             0.5555555555555556,
             "#d8576b"
            ],
            [
             0.6666666666666666,
             "#ed7953"
            ],
            [
             0.7777777777777778,
             "#fb9f3a"
            ],
            [
             0.8888888888888888,
             "#fdca26"
            ],
            [
             1,
             "#f0f921"
            ]
           ],
           "sequentialminus": [
            [
             0,
             "#0d0887"
            ],
            [
             0.1111111111111111,
             "#46039f"
            ],
            [
             0.2222222222222222,
             "#7201a8"
            ],
            [
             0.3333333333333333,
             "#9c179e"
            ],
            [
             0.4444444444444444,
             "#bd3786"
            ],
            [
             0.5555555555555556,
             "#d8576b"
            ],
            [
             0.6666666666666666,
             "#ed7953"
            ],
            [
             0.7777777777777778,
             "#fb9f3a"
            ],
            [
             0.8888888888888888,
             "#fdca26"
            ],
            [
             1,
             "#f0f921"
            ]
           ]
          },
          "colorway": [
           "#636efa",
           "#EF553B",
           "#00cc96",
           "#ab63fa",
           "#FFA15A",
           "#19d3f3",
           "#FF6692",
           "#B6E880",
           "#FF97FF",
           "#FECB52"
          ],
          "font": {
           "color": "#2a3f5f"
          },
          "geo": {
           "bgcolor": "white",
           "lakecolor": "white",
           "landcolor": "#E5ECF6",
           "showlakes": true,
           "showland": true,
           "subunitcolor": "white"
          },
          "hoverlabel": {
           "align": "left"
          },
          "hovermode": "closest",
          "mapbox": {
           "style": "light"
          },
          "paper_bgcolor": "white",
          "plot_bgcolor": "#E5ECF6",
          "polar": {
           "angularaxis": {
            "gridcolor": "white",
            "linecolor": "white",
            "ticks": ""
           },
           "bgcolor": "#E5ECF6",
           "radialaxis": {
            "gridcolor": "white",
            "linecolor": "white",
            "ticks": ""
           }
          },
          "scene": {
           "xaxis": {
            "backgroundcolor": "#E5ECF6",
            "gridcolor": "white",
            "gridwidth": 2,
            "linecolor": "white",
            "showbackground": true,
            "ticks": "",
            "zerolinecolor": "white"
           },
           "yaxis": {
            "backgroundcolor": "#E5ECF6",
            "gridcolor": "white",
            "gridwidth": 2,
            "linecolor": "white",
            "showbackground": true,
            "ticks": "",
            "zerolinecolor": "white"
           },
           "zaxis": {
            "backgroundcolor": "#E5ECF6",
            "gridcolor": "white",
            "gridwidth": 2,
            "linecolor": "white",
            "showbackground": true,
            "ticks": "",
            "zerolinecolor": "white"
           }
          },
          "shapedefaults": {
           "line": {
            "color": "#2a3f5f"
           }
          },
          "ternary": {
           "aaxis": {
            "gridcolor": "white",
            "linecolor": "white",
            "ticks": ""
           },
           "baxis": {
            "gridcolor": "white",
            "linecolor": "white",
            "ticks": ""
           },
           "bgcolor": "#E5ECF6",
           "caxis": {
            "gridcolor": "white",
            "linecolor": "white",
            "ticks": ""
           }
          },
          "title": {
           "x": 0.05
          },
          "xaxis": {
           "automargin": true,
           "gridcolor": "white",
           "linecolor": "white",
           "ticks": "",
           "title": {
            "standoff": 15
           },
           "zerolinecolor": "white",
           "zerolinewidth": 2
          },
          "yaxis": {
           "automargin": true,
           "gridcolor": "white",
           "linecolor": "white",
           "ticks": "",
           "title": {
            "standoff": 15
           },
           "zerolinecolor": "white",
           "zerolinewidth": 2
          }
         }
        },
        "title": {
         "text": "Difference of Total Amount Means by Provider"
        },
        "width": 700,
        "xaxis": {
         "tickfont": {
          "family": "verdana, sans-serif",
          "size": 14
         },
         "title": {
          "font": {
           "family": "verdana, sans-serif",
           "size": 14
          },
          "text": "Means"
         }
        },
        "yaxis": {
         "tickfont": {
          "family": "verdana, sans-serif",
          "size": 14
         },
         "title": {
          "font": {
           "family": "verdana, sans-serif",
           "size": 14
          },
          "text": "Providers"
         }
        }
       }
      }
     },
     "metadata": {},
     "output_type": "display_data"
    }
   ],
   "source": [
    "# change plot size, text font, marker shape, and color \n",
    "if total_fare_ranking[chosen] < 6:\n",
    "    bottom_top_index = [0,5]\n",
    "elif total_fare_ranking[chosen] >= 6:\n",
    "    bottom_top_index = [5,11]\n",
    "\n",
    "fig2 = go.Figure()\n",
    "fig2.add_trace(go.Bar(x= total_fare_amount_data.values[bottom_top_index[0]:bottom_top_index[1]], y= total_fare_amount_data.keys()[bottom_top_index[0]:bottom_top_index[1]],orientation= 'h',\n",
    "                      text = [f'#{total_fare_ranking[i]}' for i in total_fare_amount_data.keys()][bottom_top_index[0]:bottom_top_index[1]],textposition=\"outside\",marker_pattern_shape = design_matrix))\n",
    "fig2.update_traces(marker = dict(color = color_matrix), textfont=dict(family=\"verdana, sans-serif\", size=13))\n",
    "fig2.update_layout(\n",
    "    height = 600,\n",
    "    width = 700,\n",
    "    title = \"Difference of Total Amount Means by Provider\",\n",
    "    xaxis=dict(\n",
    "        title='Means',\n",
    "        title_font=dict(size=14, family=\"verdana, sans-serif\"),\n",
    "        tickfont=dict(size=14, family=\"verdana, sans-serif\")  # Set the font size of the tick labels\n",
    "    ),\n",
    "    yaxis=dict(\n",
    "        title='Providers',\n",
    "        title_font=dict(size=14, family=\"verdana, sans-serif\"),\n",
    "        tickfont=dict(size=14, family=\"verdana, sans-serif\")  # Set the font size of the tick labels\n",
    "    ),\n",
    "    font=dict(family=\"verdana, sans-serif\", size=8, color=\"Black\")\n",
    ")"
   ]
  },
  {
   "cell_type": "code",
   "execution_count": 23,
   "metadata": {},
   "outputs": [],
   "source": [
    "color_matrix = ['#000000','#000000','#000000','#000000','#000000','#000000']\n",
    "design_matrix = ['','','','','','']\n",
    "design_matrix[milage_marker_color_index_map_arr[chosen]] = bar_design_temp_arr[i]\n",
    "color_matrix[milage_marker_color_index_map_arr[chosen]] = \"#4CAF50\""
   ]
  },
  {
   "cell_type": "code",
   "execution_count": 24,
   "metadata": {},
   "outputs": [
    {
     "data": {
      "application/vnd.plotly.v1+json": {
       "config": {
        "plotlyServerURL": "https://plot.ly"
       },
       "data": [
        {
         "marker": {
          "color": [
           "#000000",
           "#000000",
           "#000000",
           "#000000",
           "#000000",
           "#4CAF50"
          ],
          "pattern": {
           "shape": [
            "",
            "",
            "",
            "",
            "",
            "x"
           ]
          }
         },
         "orientation": "h",
         "text": [
          "#6",
          "#7",
          "#8",
          "#9",
          "#10",
          "#11"
         ],
         "textfont": {
          "family": "verdana, sans-serif",
          "size": 13
         },
         "textposition": "outside",
         "type": "bar",
         "x": [
          2.81,
          2.63,
          2.61,
          2.52,
          1.42,
          1.41
         ],
         "y": [
          "Hitch",
          "CMT",
          "DC VIP Cab",
          "UVC",
          "Grand Cab",
          "Bay Cab"
         ]
        }
       ],
       "layout": {
        "font": {
         "color": "Black",
         "family": "verdana, sans-serif",
         "size": 8
        },
        "height": 400,
        "template": {
         "data": {
          "bar": [
           {
            "error_x": {
             "color": "#2a3f5f"
            },
            "error_y": {
             "color": "#2a3f5f"
            },
            "marker": {
             "line": {
              "color": "#E5ECF6",
              "width": 0.5
             },
             "pattern": {
              "fillmode": "overlay",
              "size": 10,
              "solidity": 0.2
             }
            },
            "type": "bar"
           }
          ],
          "barpolar": [
           {
            "marker": {
             "line": {
              "color": "#E5ECF6",
              "width": 0.5
             },
             "pattern": {
              "fillmode": "overlay",
              "size": 10,
              "solidity": 0.2
             }
            },
            "type": "barpolar"
           }
          ],
          "carpet": [
           {
            "aaxis": {
             "endlinecolor": "#2a3f5f",
             "gridcolor": "white",
             "linecolor": "white",
             "minorgridcolor": "white",
             "startlinecolor": "#2a3f5f"
            },
            "baxis": {
             "endlinecolor": "#2a3f5f",
             "gridcolor": "white",
             "linecolor": "white",
             "minorgridcolor": "white",
             "startlinecolor": "#2a3f5f"
            },
            "type": "carpet"
           }
          ],
          "choropleth": [
           {
            "colorbar": {
             "outlinewidth": 0,
             "ticks": ""
            },
            "type": "choropleth"
           }
          ],
          "contour": [
           {
            "colorbar": {
             "outlinewidth": 0,
             "ticks": ""
            },
            "colorscale": [
             [
              0,
              "#0d0887"
             ],
             [
              0.1111111111111111,
              "#46039f"
             ],
             [
              0.2222222222222222,
              "#7201a8"
             ],
             [
              0.3333333333333333,
              "#9c179e"
             ],
             [
              0.4444444444444444,
              "#bd3786"
             ],
             [
              0.5555555555555556,
              "#d8576b"
             ],
             [
              0.6666666666666666,
              "#ed7953"
             ],
             [
              0.7777777777777778,
              "#fb9f3a"
             ],
             [
              0.8888888888888888,
              "#fdca26"
             ],
             [
              1,
              "#f0f921"
             ]
            ],
            "type": "contour"
           }
          ],
          "contourcarpet": [
           {
            "colorbar": {
             "outlinewidth": 0,
             "ticks": ""
            },
            "type": "contourcarpet"
           }
          ],
          "heatmap": [
           {
            "colorbar": {
             "outlinewidth": 0,
             "ticks": ""
            },
            "colorscale": [
             [
              0,
              "#0d0887"
             ],
             [
              0.1111111111111111,
              "#46039f"
             ],
             [
              0.2222222222222222,
              "#7201a8"
             ],
             [
              0.3333333333333333,
              "#9c179e"
             ],
             [
              0.4444444444444444,
              "#bd3786"
             ],
             [
              0.5555555555555556,
              "#d8576b"
             ],
             [
              0.6666666666666666,
              "#ed7953"
             ],
             [
              0.7777777777777778,
              "#fb9f3a"
             ],
             [
              0.8888888888888888,
              "#fdca26"
             ],
             [
              1,
              "#f0f921"
             ]
            ],
            "type": "heatmap"
           }
          ],
          "heatmapgl": [
           {
            "colorbar": {
             "outlinewidth": 0,
             "ticks": ""
            },
            "colorscale": [
             [
              0,
              "#0d0887"
             ],
             [
              0.1111111111111111,
              "#46039f"
             ],
             [
              0.2222222222222222,
              "#7201a8"
             ],
             [
              0.3333333333333333,
              "#9c179e"
             ],
             [
              0.4444444444444444,
              "#bd3786"
             ],
             [
              0.5555555555555556,
              "#d8576b"
             ],
             [
              0.6666666666666666,
              "#ed7953"
             ],
             [
              0.7777777777777778,
              "#fb9f3a"
             ],
             [
              0.8888888888888888,
              "#fdca26"
             ],
             [
              1,
              "#f0f921"
             ]
            ],
            "type": "heatmapgl"
           }
          ],
          "histogram": [
           {
            "marker": {
             "pattern": {
              "fillmode": "overlay",
              "size": 10,
              "solidity": 0.2
             }
            },
            "type": "histogram"
           }
          ],
          "histogram2d": [
           {
            "colorbar": {
             "outlinewidth": 0,
             "ticks": ""
            },
            "colorscale": [
             [
              0,
              "#0d0887"
             ],
             [
              0.1111111111111111,
              "#46039f"
             ],
             [
              0.2222222222222222,
              "#7201a8"
             ],
             [
              0.3333333333333333,
              "#9c179e"
             ],
             [
              0.4444444444444444,
              "#bd3786"
             ],
             [
              0.5555555555555556,
              "#d8576b"
             ],
             [
              0.6666666666666666,
              "#ed7953"
             ],
             [
              0.7777777777777778,
              "#fb9f3a"
             ],
             [
              0.8888888888888888,
              "#fdca26"
             ],
             [
              1,
              "#f0f921"
             ]
            ],
            "type": "histogram2d"
           }
          ],
          "histogram2dcontour": [
           {
            "colorbar": {
             "outlinewidth": 0,
             "ticks": ""
            },
            "colorscale": [
             [
              0,
              "#0d0887"
             ],
             [
              0.1111111111111111,
              "#46039f"
             ],
             [
              0.2222222222222222,
              "#7201a8"
             ],
             [
              0.3333333333333333,
              "#9c179e"
             ],
             [
              0.4444444444444444,
              "#bd3786"
             ],
             [
              0.5555555555555556,
              "#d8576b"
             ],
             [
              0.6666666666666666,
              "#ed7953"
             ],
             [
              0.7777777777777778,
              "#fb9f3a"
             ],
             [
              0.8888888888888888,
              "#fdca26"
             ],
             [
              1,
              "#f0f921"
             ]
            ],
            "type": "histogram2dcontour"
           }
          ],
          "mesh3d": [
           {
            "colorbar": {
             "outlinewidth": 0,
             "ticks": ""
            },
            "type": "mesh3d"
           }
          ],
          "parcoords": [
           {
            "line": {
             "colorbar": {
              "outlinewidth": 0,
              "ticks": ""
             }
            },
            "type": "parcoords"
           }
          ],
          "pie": [
           {
            "automargin": true,
            "type": "pie"
           }
          ],
          "scatter": [
           {
            "fillpattern": {
             "fillmode": "overlay",
             "size": 10,
             "solidity": 0.2
            },
            "type": "scatter"
           }
          ],
          "scatter3d": [
           {
            "line": {
             "colorbar": {
              "outlinewidth": 0,
              "ticks": ""
             }
            },
            "marker": {
             "colorbar": {
              "outlinewidth": 0,
              "ticks": ""
             }
            },
            "type": "scatter3d"
           }
          ],
          "scattercarpet": [
           {
            "marker": {
             "colorbar": {
              "outlinewidth": 0,
              "ticks": ""
             }
            },
            "type": "scattercarpet"
           }
          ],
          "scattergeo": [
           {
            "marker": {
             "colorbar": {
              "outlinewidth": 0,
              "ticks": ""
             }
            },
            "type": "scattergeo"
           }
          ],
          "scattergl": [
           {
            "marker": {
             "colorbar": {
              "outlinewidth": 0,
              "ticks": ""
             }
            },
            "type": "scattergl"
           }
          ],
          "scattermapbox": [
           {
            "marker": {
             "colorbar": {
              "outlinewidth": 0,
              "ticks": ""
             }
            },
            "type": "scattermapbox"
           }
          ],
          "scatterpolar": [
           {
            "marker": {
             "colorbar": {
              "outlinewidth": 0,
              "ticks": ""
             }
            },
            "type": "scatterpolar"
           }
          ],
          "scatterpolargl": [
           {
            "marker": {
             "colorbar": {
              "outlinewidth": 0,
              "ticks": ""
             }
            },
            "type": "scatterpolargl"
           }
          ],
          "scatterternary": [
           {
            "marker": {
             "colorbar": {
              "outlinewidth": 0,
              "ticks": ""
             }
            },
            "type": "scatterternary"
           }
          ],
          "surface": [
           {
            "colorbar": {
             "outlinewidth": 0,
             "ticks": ""
            },
            "colorscale": [
             [
              0,
              "#0d0887"
             ],
             [
              0.1111111111111111,
              "#46039f"
             ],
             [
              0.2222222222222222,
              "#7201a8"
             ],
             [
              0.3333333333333333,
              "#9c179e"
             ],
             [
              0.4444444444444444,
              "#bd3786"
             ],
             [
              0.5555555555555556,
              "#d8576b"
             ],
             [
              0.6666666666666666,
              "#ed7953"
             ],
             [
              0.7777777777777778,
              "#fb9f3a"
             ],
             [
              0.8888888888888888,
              "#fdca26"
             ],
             [
              1,
              "#f0f921"
             ]
            ],
            "type": "surface"
           }
          ],
          "table": [
           {
            "cells": {
             "fill": {
              "color": "#EBF0F8"
             },
             "line": {
              "color": "white"
             }
            },
            "header": {
             "fill": {
              "color": "#C8D4E3"
             },
             "line": {
              "color": "white"
             }
            },
            "type": "table"
           }
          ]
         },
         "layout": {
          "annotationdefaults": {
           "arrowcolor": "#2a3f5f",
           "arrowhead": 0,
           "arrowwidth": 1
          },
          "autotypenumbers": "strict",
          "coloraxis": {
           "colorbar": {
            "outlinewidth": 0,
            "ticks": ""
           }
          },
          "colorscale": {
           "diverging": [
            [
             0,
             "#8e0152"
            ],
            [
             0.1,
             "#c51b7d"
            ],
            [
             0.2,
             "#de77ae"
            ],
            [
             0.3,
             "#f1b6da"
            ],
            [
             0.4,
             "#fde0ef"
            ],
            [
             0.5,
             "#f7f7f7"
            ],
            [
             0.6,
             "#e6f5d0"
            ],
            [
             0.7,
             "#b8e186"
            ],
            [
             0.8,
             "#7fbc41"
            ],
            [
             0.9,
             "#4d9221"
            ],
            [
             1,
             "#276419"
            ]
           ],
           "sequential": [
            [
             0,
             "#0d0887"
            ],
            [
             0.1111111111111111,
             "#46039f"
            ],
            [
             0.2222222222222222,
             "#7201a8"
            ],
            [
             0.3333333333333333,
             "#9c179e"
            ],
            [
             0.4444444444444444,
             "#bd3786"
            ],
            [
             0.5555555555555556,
             "#d8576b"
            ],
            [
             0.6666666666666666,
             "#ed7953"
            ],
            [
             0.7777777777777778,
             "#fb9f3a"
            ],
            [
             0.8888888888888888,
             "#fdca26"
            ],
            [
             1,
             "#f0f921"
            ]
           ],
           "sequentialminus": [
            [
             0,
             "#0d0887"
            ],
            [
             0.1111111111111111,
             "#46039f"
            ],
            [
             0.2222222222222222,
             "#7201a8"
            ],
            [
             0.3333333333333333,
             "#9c179e"
            ],
            [
             0.4444444444444444,
             "#bd3786"
            ],
            [
             0.5555555555555556,
             "#d8576b"
            ],
            [
             0.6666666666666666,
             "#ed7953"
            ],
            [
             0.7777777777777778,
             "#fb9f3a"
            ],
            [
             0.8888888888888888,
             "#fdca26"
            ],
            [
             1,
             "#f0f921"
            ]
           ]
          },
          "colorway": [
           "#636efa",
           "#EF553B",
           "#00cc96",
           "#ab63fa",
           "#FFA15A",
           "#19d3f3",
           "#FF6692",
           "#B6E880",
           "#FF97FF",
           "#FECB52"
          ],
          "font": {
           "color": "#2a3f5f"
          },
          "geo": {
           "bgcolor": "white",
           "lakecolor": "white",
           "landcolor": "#E5ECF6",
           "showlakes": true,
           "showland": true,
           "subunitcolor": "white"
          },
          "hoverlabel": {
           "align": "left"
          },
          "hovermode": "closest",
          "mapbox": {
           "style": "light"
          },
          "paper_bgcolor": "white",
          "plot_bgcolor": "#E5ECF6",
          "polar": {
           "angularaxis": {
            "gridcolor": "white",
            "linecolor": "white",
            "ticks": ""
           },
           "bgcolor": "#E5ECF6",
           "radialaxis": {
            "gridcolor": "white",
            "linecolor": "white",
            "ticks": ""
           }
          },
          "scene": {
           "xaxis": {
            "backgroundcolor": "#E5ECF6",
            "gridcolor": "white",
            "gridwidth": 2,
            "linecolor": "white",
            "showbackground": true,
            "ticks": "",
            "zerolinecolor": "white"
           },
           "yaxis": {
            "backgroundcolor": "#E5ECF6",
            "gridcolor": "white",
            "gridwidth": 2,
            "linecolor": "white",
            "showbackground": true,
            "ticks": "",
            "zerolinecolor": "white"
           },
           "zaxis": {
            "backgroundcolor": "#E5ECF6",
            "gridcolor": "white",
            "gridwidth": 2,
            "linecolor": "white",
            "showbackground": true,
            "ticks": "",
            "zerolinecolor": "white"
           }
          },
          "shapedefaults": {
           "line": {
            "color": "#2a3f5f"
           }
          },
          "ternary": {
           "aaxis": {
            "gridcolor": "white",
            "linecolor": "white",
            "ticks": ""
           },
           "baxis": {
            "gridcolor": "white",
            "linecolor": "white",
            "ticks": ""
           },
           "bgcolor": "#E5ECF6",
           "caxis": {
            "gridcolor": "white",
            "linecolor": "white",
            "ticks": ""
           }
          },
          "title": {
           "x": 0.05
          },
          "xaxis": {
           "automargin": true,
           "gridcolor": "white",
           "linecolor": "white",
           "ticks": "",
           "title": {
            "standoff": 15
           },
           "zerolinecolor": "white",
           "zerolinewidth": 2
          },
          "yaxis": {
           "automargin": true,
           "gridcolor": "white",
           "linecolor": "white",
           "ticks": "",
           "title": {
            "standoff": 15
           },
           "zerolinecolor": "white",
           "zerolinewidth": 2
          }
         }
        },
        "title": {
         "text": "Difference of Average Trip Milage Means by Provider"
        },
        "width": 700,
        "xaxis": {
         "tickfont": {
          "family": "verdana, sans-serif",
          "size": 14
         },
         "title": {
          "font": {
           "family": "verdana, sans-serif",
           "size": 14
          },
          "text": "Means"
         }
        },
        "yaxis": {
         "tickfont": {
          "family": "verdana, sans-serif",
          "size": 14
         },
         "title": {
          "font": {
           "family": "verdana, sans-serif",
           "size": 14
          },
          "text": "Providers"
         }
        }
       }
      }
     },
     "metadata": {},
     "output_type": "display_data"
    }
   ],
   "source": [
    "# change plot size, text font, marker shape, and color \n",
    "if milage_ranking[chosen] < 6:\n",
    "    bottom_top_index = [0,5]\n",
    "elif milage_ranking[chosen] >= 6:\n",
    "    bottom_top_index = [5,11]\n",
    "\n",
    "\n",
    "fig2 = go.Figure()\n",
    "fig2.add_trace(go.Bar(x= milage_data.values[bottom_top_index[0]:bottom_top_index[1]], y= milage_data.keys()[bottom_top_index[0]:bottom_top_index[1]],orientation= 'h',\n",
    "                      text = [f'#{milage_ranking[i]}' for i in milage_data.keys()][bottom_top_index[0]:bottom_top_index[1]],textposition=\"outside\",marker_pattern_shape = design_matrix))\n",
    "fig2.update_traces(marker = dict(color = color_matrix), textfont=dict(family=\"verdana, sans-serif\", size=13))\n",
    "fig2.update_layout(\n",
    "    height = 400,\n",
    "    width = 700,\n",
    "    title = \"Difference of Average Trip Milage Means by Provider\",\n",
    "    xaxis=dict(\n",
    "        title='Means',\n",
    "        title_font=dict(size=14, family=\"verdana, sans-serif\"),\n",
    "        tickfont=dict(size=14, family=\"verdana, sans-serif\")  # Set the font size of the tick labels\n",
    "    ),\n",
    "    yaxis=dict(\n",
    "        title='Providers',\n",
    "        title_font=dict(size=14, family=\"verdana, sans-serif\"),\n",
    "        tickfont=dict(size=14, family=\"verdana, sans-serif\")  # Set the font size of the tick labels\n",
    "    ),\n",
    "    font=dict(family=\"verdana, sans-serif\", size=8, color=\"Black\")\n",
    ")"
   ]
  },
  {
   "cell_type": "code",
   "execution_count": 25,
   "metadata": {},
   "outputs": [],
   "source": [
    "color_matrix = ['#000000','#000000','#000000','#000000','#000000','#000000']\n",
    "design_matrix = ['','','','','','']\n",
    "design_matrix[duration_marker_color_index_map_arr[chosen]] = bar_design_temp_arr[i]\n",
    "color_matrix[duration_marker_color_index_map_arr[chosen]] = \"#4CAF50\""
   ]
  },
  {
   "cell_type": "code",
   "execution_count": 26,
   "metadata": {},
   "outputs": [
    {
     "data": {
      "application/vnd.plotly.v1+json": {
       "config": {
        "plotlyServerURL": "https://plot.ly"
       },
       "data": [
        {
         "marker": {
          "color": [
           "#000000",
           "#000000",
           "#000000",
           "#000000",
           "#4CAF50",
           "#000000"
          ],
          "pattern": {
           "shape": [
            "",
            "",
            "",
            "",
            "x",
            ""
           ]
          }
         },
         "orientation": "h",
         "text": [
          "#6",
          "#7",
          "#8",
          "#9",
          "#10",
          "#11"
         ],
         "textfont": {
          "family": "verdana, sans-serif",
          "size": 10
         },
         "textposition": "outside",
         "type": "bar",
         "x": [
          20.42,
          113.55,
          132.84,
          167.23,
          448.06,
          452.64
         ],
         "y": [
          "Yellow Cab",
          "DC VIP Cab",
          "Capitol Cab",
          "UVC",
          "Bay Cab",
          "Grand Cab"
         ]
        }
       ],
       "layout": {
        "font": {
         "color": "Black",
         "family": "verdana, sans-serif",
         "size": 8
        },
        "height": 500,
        "template": {
         "data": {
          "bar": [
           {
            "error_x": {
             "color": "#2a3f5f"
            },
            "error_y": {
             "color": "#2a3f5f"
            },
            "marker": {
             "line": {
              "color": "#E5ECF6",
              "width": 0.5
             },
             "pattern": {
              "fillmode": "overlay",
              "size": 10,
              "solidity": 0.2
             }
            },
            "type": "bar"
           }
          ],
          "barpolar": [
           {
            "marker": {
             "line": {
              "color": "#E5ECF6",
              "width": 0.5
             },
             "pattern": {
              "fillmode": "overlay",
              "size": 10,
              "solidity": 0.2
             }
            },
            "type": "barpolar"
           }
          ],
          "carpet": [
           {
            "aaxis": {
             "endlinecolor": "#2a3f5f",
             "gridcolor": "white",
             "linecolor": "white",
             "minorgridcolor": "white",
             "startlinecolor": "#2a3f5f"
            },
            "baxis": {
             "endlinecolor": "#2a3f5f",
             "gridcolor": "white",
             "linecolor": "white",
             "minorgridcolor": "white",
             "startlinecolor": "#2a3f5f"
            },
            "type": "carpet"
           }
          ],
          "choropleth": [
           {
            "colorbar": {
             "outlinewidth": 0,
             "ticks": ""
            },
            "type": "choropleth"
           }
          ],
          "contour": [
           {
            "colorbar": {
             "outlinewidth": 0,
             "ticks": ""
            },
            "colorscale": [
             [
              0,
              "#0d0887"
             ],
             [
              0.1111111111111111,
              "#46039f"
             ],
             [
              0.2222222222222222,
              "#7201a8"
             ],
             [
              0.3333333333333333,
              "#9c179e"
             ],
             [
              0.4444444444444444,
              "#bd3786"
             ],
             [
              0.5555555555555556,
              "#d8576b"
             ],
             [
              0.6666666666666666,
              "#ed7953"
             ],
             [
              0.7777777777777778,
              "#fb9f3a"
             ],
             [
              0.8888888888888888,
              "#fdca26"
             ],
             [
              1,
              "#f0f921"
             ]
            ],
            "type": "contour"
           }
          ],
          "contourcarpet": [
           {
            "colorbar": {
             "outlinewidth": 0,
             "ticks": ""
            },
            "type": "contourcarpet"
           }
          ],
          "heatmap": [
           {
            "colorbar": {
             "outlinewidth": 0,
             "ticks": ""
            },
            "colorscale": [
             [
              0,
              "#0d0887"
             ],
             [
              0.1111111111111111,
              "#46039f"
             ],
             [
              0.2222222222222222,
              "#7201a8"
             ],
             [
              0.3333333333333333,
              "#9c179e"
             ],
             [
              0.4444444444444444,
              "#bd3786"
             ],
             [
              0.5555555555555556,
              "#d8576b"
             ],
             [
              0.6666666666666666,
              "#ed7953"
             ],
             [
              0.7777777777777778,
              "#fb9f3a"
             ],
             [
              0.8888888888888888,
              "#fdca26"
             ],
             [
              1,
              "#f0f921"
             ]
            ],
            "type": "heatmap"
           }
          ],
          "heatmapgl": [
           {
            "colorbar": {
             "outlinewidth": 0,
             "ticks": ""
            },
            "colorscale": [
             [
              0,
              "#0d0887"
             ],
             [
              0.1111111111111111,
              "#46039f"
             ],
             [
              0.2222222222222222,
              "#7201a8"
             ],
             [
              0.3333333333333333,
              "#9c179e"
             ],
             [
              0.4444444444444444,
              "#bd3786"
             ],
             [
              0.5555555555555556,
              "#d8576b"
             ],
             [
              0.6666666666666666,
              "#ed7953"
             ],
             [
              0.7777777777777778,
              "#fb9f3a"
             ],
             [
              0.8888888888888888,
              "#fdca26"
             ],
             [
              1,
              "#f0f921"
             ]
            ],
            "type": "heatmapgl"
           }
          ],
          "histogram": [
           {
            "marker": {
             "pattern": {
              "fillmode": "overlay",
              "size": 10,
              "solidity": 0.2
             }
            },
            "type": "histogram"
           }
          ],
          "histogram2d": [
           {
            "colorbar": {
             "outlinewidth": 0,
             "ticks": ""
            },
            "colorscale": [
             [
              0,
              "#0d0887"
             ],
             [
              0.1111111111111111,
              "#46039f"
             ],
             [
              0.2222222222222222,
              "#7201a8"
             ],
             [
              0.3333333333333333,
              "#9c179e"
             ],
             [
              0.4444444444444444,
              "#bd3786"
             ],
             [
              0.5555555555555556,
              "#d8576b"
             ],
             [
              0.6666666666666666,
              "#ed7953"
             ],
             [
              0.7777777777777778,
              "#fb9f3a"
             ],
             [
              0.8888888888888888,
              "#fdca26"
             ],
             [
              1,
              "#f0f921"
             ]
            ],
            "type": "histogram2d"
           }
          ],
          "histogram2dcontour": [
           {
            "colorbar": {
             "outlinewidth": 0,
             "ticks": ""
            },
            "colorscale": [
             [
              0,
              "#0d0887"
             ],
             [
              0.1111111111111111,
              "#46039f"
             ],
             [
              0.2222222222222222,
              "#7201a8"
             ],
             [
              0.3333333333333333,
              "#9c179e"
             ],
             [
              0.4444444444444444,
              "#bd3786"
             ],
             [
              0.5555555555555556,
              "#d8576b"
             ],
             [
              0.6666666666666666,
              "#ed7953"
             ],
             [
              0.7777777777777778,
              "#fb9f3a"
             ],
             [
              0.8888888888888888,
              "#fdca26"
             ],
             [
              1,
              "#f0f921"
             ]
            ],
            "type": "histogram2dcontour"
           }
          ],
          "mesh3d": [
           {
            "colorbar": {
             "outlinewidth": 0,
             "ticks": ""
            },
            "type": "mesh3d"
           }
          ],
          "parcoords": [
           {
            "line": {
             "colorbar": {
              "outlinewidth": 0,
              "ticks": ""
             }
            },
            "type": "parcoords"
           }
          ],
          "pie": [
           {
            "automargin": true,
            "type": "pie"
           }
          ],
          "scatter": [
           {
            "fillpattern": {
             "fillmode": "overlay",
             "size": 10,
             "solidity": 0.2
            },
            "type": "scatter"
           }
          ],
          "scatter3d": [
           {
            "line": {
             "colorbar": {
              "outlinewidth": 0,
              "ticks": ""
             }
            },
            "marker": {
             "colorbar": {
              "outlinewidth": 0,
              "ticks": ""
             }
            },
            "type": "scatter3d"
           }
          ],
          "scattercarpet": [
           {
            "marker": {
             "colorbar": {
              "outlinewidth": 0,
              "ticks": ""
             }
            },
            "type": "scattercarpet"
           }
          ],
          "scattergeo": [
           {
            "marker": {
             "colorbar": {
              "outlinewidth": 0,
              "ticks": ""
             }
            },
            "type": "scattergeo"
           }
          ],
          "scattergl": [
           {
            "marker": {
             "colorbar": {
              "outlinewidth": 0,
              "ticks": ""
             }
            },
            "type": "scattergl"
           }
          ],
          "scattermapbox": [
           {
            "marker": {
             "colorbar": {
              "outlinewidth": 0,
              "ticks": ""
             }
            },
            "type": "scattermapbox"
           }
          ],
          "scatterpolar": [
           {
            "marker": {
             "colorbar": {
              "outlinewidth": 0,
              "ticks": ""
             }
            },
            "type": "scatterpolar"
           }
          ],
          "scatterpolargl": [
           {
            "marker": {
             "colorbar": {
              "outlinewidth": 0,
              "ticks": ""
             }
            },
            "type": "scatterpolargl"
           }
          ],
          "scatterternary": [
           {
            "marker": {
             "colorbar": {
              "outlinewidth": 0,
              "ticks": ""
             }
            },
            "type": "scatterternary"
           }
          ],
          "surface": [
           {
            "colorbar": {
             "outlinewidth": 0,
             "ticks": ""
            },
            "colorscale": [
             [
              0,
              "#0d0887"
             ],
             [
              0.1111111111111111,
              "#46039f"
             ],
             [
              0.2222222222222222,
              "#7201a8"
             ],
             [
              0.3333333333333333,
              "#9c179e"
             ],
             [
              0.4444444444444444,
              "#bd3786"
             ],
             [
              0.5555555555555556,
              "#d8576b"
             ],
             [
              0.6666666666666666,
              "#ed7953"
             ],
             [
              0.7777777777777778,
              "#fb9f3a"
             ],
             [
              0.8888888888888888,
              "#fdca26"
             ],
             [
              1,
              "#f0f921"
             ]
            ],
            "type": "surface"
           }
          ],
          "table": [
           {
            "cells": {
             "fill": {
              "color": "#EBF0F8"
             },
             "line": {
              "color": "white"
             }
            },
            "header": {
             "fill": {
              "color": "#C8D4E3"
             },
             "line": {
              "color": "white"
             }
            },
            "type": "table"
           }
          ]
         },
         "layout": {
          "annotationdefaults": {
           "arrowcolor": "#2a3f5f",
           "arrowhead": 0,
           "arrowwidth": 1
          },
          "autotypenumbers": "strict",
          "coloraxis": {
           "colorbar": {
            "outlinewidth": 0,
            "ticks": ""
           }
          },
          "colorscale": {
           "diverging": [
            [
             0,
             "#8e0152"
            ],
            [
             0.1,
             "#c51b7d"
            ],
            [
             0.2,
             "#de77ae"
            ],
            [
             0.3,
             "#f1b6da"
            ],
            [
             0.4,
             "#fde0ef"
            ],
            [
             0.5,
             "#f7f7f7"
            ],
            [
             0.6,
             "#e6f5d0"
            ],
            [
             0.7,
             "#b8e186"
            ],
            [
             0.8,
             "#7fbc41"
            ],
            [
             0.9,
             "#4d9221"
            ],
            [
             1,
             "#276419"
            ]
           ],
           "sequential": [
            [
             0,
             "#0d0887"
            ],
            [
             0.1111111111111111,
             "#46039f"
            ],
            [
             0.2222222222222222,
             "#7201a8"
            ],
            [
             0.3333333333333333,
             "#9c179e"
            ],
            [
             0.4444444444444444,
             "#bd3786"
            ],
            [
             0.5555555555555556,
             "#d8576b"
            ],
            [
             0.6666666666666666,
             "#ed7953"
            ],
            [
             0.7777777777777778,
             "#fb9f3a"
            ],
            [
             0.8888888888888888,
             "#fdca26"
            ],
            [
             1,
             "#f0f921"
            ]
           ],
           "sequentialminus": [
            [
             0,
             "#0d0887"
            ],
            [
             0.1111111111111111,
             "#46039f"
            ],
            [
             0.2222222222222222,
             "#7201a8"
            ],
            [
             0.3333333333333333,
             "#9c179e"
            ],
            [
             0.4444444444444444,
             "#bd3786"
            ],
            [
             0.5555555555555556,
             "#d8576b"
            ],
            [
             0.6666666666666666,
             "#ed7953"
            ],
            [
             0.7777777777777778,
             "#fb9f3a"
            ],
            [
             0.8888888888888888,
             "#fdca26"
            ],
            [
             1,
             "#f0f921"
            ]
           ]
          },
          "colorway": [
           "#636efa",
           "#EF553B",
           "#00cc96",
           "#ab63fa",
           "#FFA15A",
           "#19d3f3",
           "#FF6692",
           "#B6E880",
           "#FF97FF",
           "#FECB52"
          ],
          "font": {
           "color": "#2a3f5f"
          },
          "geo": {
           "bgcolor": "white",
           "lakecolor": "white",
           "landcolor": "#E5ECF6",
           "showlakes": true,
           "showland": true,
           "subunitcolor": "white"
          },
          "hoverlabel": {
           "align": "left"
          },
          "hovermode": "closest",
          "mapbox": {
           "style": "light"
          },
          "paper_bgcolor": "white",
          "plot_bgcolor": "#E5ECF6",
          "polar": {
           "angularaxis": {
            "gridcolor": "white",
            "linecolor": "white",
            "ticks": ""
           },
           "bgcolor": "#E5ECF6",
           "radialaxis": {
            "gridcolor": "white",
            "linecolor": "white",
            "ticks": ""
           }
          },
          "scene": {
           "xaxis": {
            "backgroundcolor": "#E5ECF6",
            "gridcolor": "white",
            "gridwidth": 2,
            "linecolor": "white",
            "showbackground": true,
            "ticks": "",
            "zerolinecolor": "white"
           },
           "yaxis": {
            "backgroundcolor": "#E5ECF6",
            "gridcolor": "white",
            "gridwidth": 2,
            "linecolor": "white",
            "showbackground": true,
            "ticks": "",
            "zerolinecolor": "white"
           },
           "zaxis": {
            "backgroundcolor": "#E5ECF6",
            "gridcolor": "white",
            "gridwidth": 2,
            "linecolor": "white",
            "showbackground": true,
            "ticks": "",
            "zerolinecolor": "white"
           }
          },
          "shapedefaults": {
           "line": {
            "color": "#2a3f5f"
           }
          },
          "ternary": {
           "aaxis": {
            "gridcolor": "white",
            "linecolor": "white",
            "ticks": ""
           },
           "baxis": {
            "gridcolor": "white",
            "linecolor": "white",
            "ticks": ""
           },
           "bgcolor": "#E5ECF6",
           "caxis": {
            "gridcolor": "white",
            "linecolor": "white",
            "ticks": ""
           }
          },
          "title": {
           "x": 0.05
          },
          "xaxis": {
           "automargin": true,
           "gridcolor": "white",
           "linecolor": "white",
           "ticks": "",
           "title": {
            "standoff": 15
           },
           "zerolinecolor": "white",
           "zerolinewidth": 2
          },
          "yaxis": {
           "automargin": true,
           "gridcolor": "white",
           "linecolor": "white",
           "ticks": "",
           "title": {
            "standoff": 15
           },
           "zerolinecolor": "white",
           "zerolinewidth": 2
          }
         }
        },
        "title": {
         "text": "Difference of Duration Means by Provider"
        },
        "width": 600,
        "xaxis": {
         "tickfont": {
          "family": "verdana, sans-serif",
          "size": 14
         },
         "title": {
          "font": {
           "family": "verdana, sans-serif",
           "size": 14
          },
          "text": "Means"
         }
        },
        "yaxis": {
         "tickfont": {
          "family": "verdana, sans-serif",
          "size": 14
         },
         "title": {
          "font": {
           "family": "verdana, sans-serif",
           "size": 14
          },
          "text": "Providers"
         }
        }
       }
      }
     },
     "metadata": {},
     "output_type": "display_data"
    }
   ],
   "source": [
    "# change plot size, text font, marker shape, and color \n",
    "if duration_ranking[chosen] < 6:\n",
    "    bottom_top_index = [0,5]\n",
    "elif duration_ranking[chosen] >= 6:\n",
    "    bottom_top_index = [5,11]\n",
    "\n",
    "fig2 = go.Figure()\n",
    "fig2.add_trace(go.Bar(x= duration_data.values[bottom_top_index[0]:bottom_top_index[1]], y= duration_data.keys()[bottom_top_index[0]:bottom_top_index[1]],orientation= 'h',\n",
    "                      text = [f'#{duration_ranking[i]}' for i in duration_data.keys()][bottom_top_index[0]:bottom_top_index[1]], textposition=\"outside\",marker_pattern_shape = design_matrix ))\n",
    "fig2.update_traces(marker = dict(color = color_matrix), textfont=dict(family=\"verdana, sans-serif\", size=10))\n",
    "fig2.update_layout(\n",
    "    height = 500,\n",
    "    width = 600,\n",
    "    title = \"Difference of Duration Means by Provider\",\n",
    "    xaxis=dict(\n",
    "        title='Means',\n",
    "        title_font=dict(size=14, family=\"verdana, sans-serif\"),\n",
    "        tickfont=dict(size=14, family=\"verdana, sans-serif\")  # Set the font size of the tick labels\n",
    "    ),\n",
    "    yaxis=dict(\n",
    "        title='Providers',\n",
    "        title_font=dict(size=14, family=\"verdana, sans-serif\"),\n",
    "        tickfont=dict(size=14, family=\"verdana, sans-serif\")  # Set the font size of the tick labels\n",
    "    ),\n",
    "    font=dict(family=\"verdana, sans-serif\", size=8, color=\"Black\")\n",
    ")"
   ]
  }
 ],
 "metadata": {
  "kernelspec": {
   "display_name": "Python 3",
   "language": "python",
   "name": "python3"
  },
  "language_info": {
   "codemirror_mode": {
    "name": "ipython",
    "version": 3
   },
   "file_extension": ".py",
   "mimetype": "text/x-python",
   "name": "python",
   "nbconvert_exporter": "python",
   "pygments_lexer": "ipython3",
   "version": "3.11.5"
  },
  "orig_nbformat": 4
 },
 "nbformat": 4,
 "nbformat_minor": 2
}
