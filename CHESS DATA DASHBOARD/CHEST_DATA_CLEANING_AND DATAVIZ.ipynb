{
 "cells": [
  {
   "cell_type": "code",
   "execution_count": 1,
   "metadata": {},
   "outputs": [],
   "source": [
    "import numpy as np \n",
    "import pandas as pd\n",
    "import matplotlib.pyplot as plt \n",
    "import ast"
   ]
  },
  {
   "cell_type": "code",
   "execution_count": 2,
   "metadata": {},
   "outputs": [],
   "source": [
    "df = pd.read_csv(\"..\\\\..\\\\..\\\\Zeta_export\\\\Advanced\\\\CHESS DATA DASHBOARD\\\\chess_data_raw.csv\")"
   ]
  },
  {
   "cell_type": "code",
   "execution_count": 3,
   "metadata": {},
   "outputs": [
    {
     "data": {
      "text/plain": [
       "perf\n",
       "classical    1092\n",
       "rapid        7456\n",
       "Name: id, dtype: int64"
      ]
     },
     "execution_count": 3,
     "metadata": {},
     "output_type": "execute_result"
    }
   ],
   "source": [
    "df.groupby(\"perf\").count()[\"id\"]"
   ]
  },
  {
   "cell_type": "code",
   "execution_count": 4,
   "metadata": {},
   "outputs": [
    {
     "data": {
      "text/plain": [
       "id               0\n",
       "rated            0\n",
       "variant          0\n",
       "speed            0\n",
       "perf             0\n",
       "createdAt        0\n",
       "lastMoveAt       0\n",
       "status           0\n",
       "players          0\n",
       "opening          0\n",
       "moves            0\n",
       "clock            0\n",
       "winner         362\n",
       "analysis      6410\n",
       "tournament    7231\n",
       "dtype: int64"
      ]
     },
     "execution_count": 4,
     "metadata": {},
     "output_type": "execute_result"
    }
   ],
   "source": [
    "df.isna().sum()"
   ]
  },
  {
   "cell_type": "code",
   "execution_count": 5,
   "metadata": {},
   "outputs": [],
   "source": [
    "df.loc[(df[\"winner\"].isna()) & (df[\"status\"] != \"draw\"), \"winner\"] = \"no decision\"\n",
    "df.loc[(df[\"winner\"].isna()) & (df[\"status\"] == \"draw\"), \"winner\"] = \"draw\""
   ]
  },
  {
   "cell_type": "code",
   "execution_count": 6,
   "metadata": {},
   "outputs": [
    {
     "data": {
      "text/html": [
       "<div>\n",
       "<style scoped>\n",
       "    .dataframe tbody tr th:only-of-type {\n",
       "        vertical-align: middle;\n",
       "    }\n",
       "\n",
       "    .dataframe tbody tr th {\n",
       "        vertical-align: top;\n",
       "    }\n",
       "\n",
       "    .dataframe thead th {\n",
       "        text-align: right;\n",
       "    }\n",
       "</style>\n",
       "<table border=\"1\" class=\"dataframe\">\n",
       "  <thead>\n",
       "    <tr style=\"text-align: right;\">\n",
       "      <th></th>\n",
       "      <th>id</th>\n",
       "      <th>rated</th>\n",
       "      <th>variant</th>\n",
       "      <th>speed</th>\n",
       "      <th>perf</th>\n",
       "      <th>createdAt</th>\n",
       "      <th>lastMoveAt</th>\n",
       "      <th>status</th>\n",
       "      <th>players</th>\n",
       "      <th>opening</th>\n",
       "      <th>moves</th>\n",
       "      <th>clock</th>\n",
       "      <th>winner</th>\n",
       "      <th>analysis</th>\n",
       "      <th>tournament</th>\n",
       "    </tr>\n",
       "  </thead>\n",
       "  <tbody>\n",
       "    <tr>\n",
       "      <th>0</th>\n",
       "      <td>GlTzWj5E</td>\n",
       "      <td>True</td>\n",
       "      <td>standard</td>\n",
       "      <td>rapid</td>\n",
       "      <td>rapid</td>\n",
       "      <td>1501663250307</td>\n",
       "      <td>1501663631820</td>\n",
       "      <td>draw</td>\n",
       "      <td>{'white': {'user': {'name': 'jobwoge', 'id': '...</td>\n",
       "      <td>{'eco': 'B01', 'name': 'Scandinavian Defense',...</td>\n",
       "      <td>e4 d5 e5 Bf5 d4 e6 Nc3 c5 Bd3 Bxd3 Qxd3 cxd4 Q...</td>\n",
       "      <td>{'initial': 420, 'increment': 5, 'totalTime': ...</td>\n",
       "      <td>draw</td>\n",
       "      <td>NaN</td>\n",
       "      <td>NaN</td>\n",
       "    </tr>\n",
       "    <tr>\n",
       "      <th>1</th>\n",
       "      <td>rbcpm9pr</td>\n",
       "      <td>True</td>\n",
       "      <td>standard</td>\n",
       "      <td>rapid</td>\n",
       "      <td>rapid</td>\n",
       "      <td>1503667901927</td>\n",
       "      <td>1503668681752</td>\n",
       "      <td>mate</td>\n",
       "      <td>{'white': {'user': {'name': 'fischerdipper', '...</td>\n",
       "      <td>{'eco': 'B53', 'name': 'Sicilian Defense: Chek...</td>\n",
       "      <td>e4 c5 Nf3 d6 d4 cxd4 Qxd4 a6 Nc3 e6 Bd3 Nc6 Qa...</td>\n",
       "      <td>{'initial': 300, 'increment': 5, 'totalTime': ...</td>\n",
       "      <td>white</td>\n",
       "      <td>NaN</td>\n",
       "      <td>NaN</td>\n",
       "    </tr>\n",
       "    <tr>\n",
       "      <th>2</th>\n",
       "      <td>lfKoLKHr</td>\n",
       "      <td>True</td>\n",
       "      <td>standard</td>\n",
       "      <td>rapid</td>\n",
       "      <td>rapid</td>\n",
       "      <td>1503077258251</td>\n",
       "      <td>1503077931494</td>\n",
       "      <td>resign</td>\n",
       "      <td>{'white': {'user': {'name': 'koepkos', 'id': '...</td>\n",
       "      <td>{'eco': 'B06', 'name': 'Modern Defense: Three ...</td>\n",
       "      <td>e4 g6 f4 Bg7 d4 e6 c3 d6 Nf3 Ne7 Bd3 a6 O-O b5...</td>\n",
       "      <td>{'initial': 300, 'increment': 5, 'totalTime': ...</td>\n",
       "      <td>white</td>\n",
       "      <td>NaN</td>\n",
       "      <td>NaN</td>\n",
       "    </tr>\n",
       "    <tr>\n",
       "      <th>3</th>\n",
       "      <td>Fl7n8wyn</td>\n",
       "      <td>True</td>\n",
       "      <td>standard</td>\n",
       "      <td>rapid</td>\n",
       "      <td>rapid</td>\n",
       "      <td>1502989712946</td>\n",
       "      <td>1502990495511</td>\n",
       "      <td>resign</td>\n",
       "      <td>{'white': {'user': {'name': 'adhen', 'id': 'ad...</td>\n",
       "      <td>{'eco': 'A15', 'name': 'English Opening: Anglo...</td>\n",
       "      <td>c4 Nf6 Qc2 d5 e3 e6 a3 c6 Nf3 Be7 Bd3 Nbd7 O-O...</td>\n",
       "      <td>{'initial': 300, 'increment': 5, 'totalTime': ...</td>\n",
       "      <td>white</td>\n",
       "      <td>NaN</td>\n",
       "      <td>NaN</td>\n",
       "    </tr>\n",
       "    <tr>\n",
       "      <th>4</th>\n",
       "      <td>BAKj62Jt</td>\n",
       "      <td>True</td>\n",
       "      <td>standard</td>\n",
       "      <td>rapid</td>\n",
       "      <td>rapid</td>\n",
       "      <td>1502903237747</td>\n",
       "      <td>1502903335119</td>\n",
       "      <td>mate</td>\n",
       "      <td>{'white': {'user': {'name': 'fischerdipper', '...</td>\n",
       "      <td>{'eco': 'C21', 'name': 'Danish Gambit Accepted...</td>\n",
       "      <td>e4 e5 d4 exd4 c3 dxc3 Bc4 cxb2 Bxb2 Nf6 e5 Nh5...</td>\n",
       "      <td>{'initial': 600, 'increment': 3, 'totalTime': ...</td>\n",
       "      <td>white</td>\n",
       "      <td>NaN</td>\n",
       "      <td>NaN</td>\n",
       "    </tr>\n",
       "    <tr>\n",
       "      <th>...</th>\n",
       "      <td>...</td>\n",
       "      <td>...</td>\n",
       "      <td>...</td>\n",
       "      <td>...</td>\n",
       "      <td>...</td>\n",
       "      <td>...</td>\n",
       "      <td>...</td>\n",
       "      <td>...</td>\n",
       "      <td>...</td>\n",
       "      <td>...</td>\n",
       "      <td>...</td>\n",
       "      <td>...</td>\n",
       "      <td>...</td>\n",
       "      <td>...</td>\n",
       "      <td>...</td>\n",
       "    </tr>\n",
       "    <tr>\n",
       "      <th>8543</th>\n",
       "      <td>rdD9KSfi</td>\n",
       "      <td>False</td>\n",
       "      <td>standard</td>\n",
       "      <td>rapid</td>\n",
       "      <td>rapid</td>\n",
       "      <td>1462851363686</td>\n",
       "      <td>1462852046766</td>\n",
       "      <td>resign</td>\n",
       "      <td>{'white': {'user': {'name': 'vzg100', 'id': 'v...</td>\n",
       "      <td>{'eco': 'B07', 'name': \"King's Pawn Game: Maró...</td>\n",
       "      <td>e4 e5 d4 d6 dxe5 dxe5 Qxd8+ Kxd8 Nf3 Nc6 Bc4 f...</td>\n",
       "      <td>{'initial': 600, 'increment': 0, 'totalTime': ...</td>\n",
       "      <td>white</td>\n",
       "      <td>NaN</td>\n",
       "      <td>NaN</td>\n",
       "    </tr>\n",
       "    <tr>\n",
       "      <th>8544</th>\n",
       "      <td>P5uLal64</td>\n",
       "      <td>True</td>\n",
       "      <td>standard</td>\n",
       "      <td>classical</td>\n",
       "      <td>classical</td>\n",
       "      <td>1456095775727</td>\n",
       "      <td>1456096599664</td>\n",
       "      <td>resign</td>\n",
       "      <td>{'white': {'user': {'name': 'mikaone', 'id': '...</td>\n",
       "      <td>{'eco': 'C24', 'name': \"Bishop's Opening: Berl...</td>\n",
       "      <td>e4 e5 Bc4 Nf6 d3 Nc6 Bg5 h6 Bxf6 Qxf6 h3 Bc5 c...</td>\n",
       "      <td>{'initial': 1800, 'increment': 0, 'totalTime':...</td>\n",
       "      <td>black</td>\n",
       "      <td>NaN</td>\n",
       "      <td>NaN</td>\n",
       "    </tr>\n",
       "    <tr>\n",
       "      <th>8545</th>\n",
       "      <td>hSqBGEK8</td>\n",
       "      <td>False</td>\n",
       "      <td>standard</td>\n",
       "      <td>rapid</td>\n",
       "      <td>rapid</td>\n",
       "      <td>1422405047620</td>\n",
       "      <td>1422405612330</td>\n",
       "      <td>outoftime</td>\n",
       "      <td>{'white': {'user': {'name': 'persian_girl', 'i...</td>\n",
       "      <td>{'eco': 'D06', 'name': \"Queen's Gambit Decline...</td>\n",
       "      <td>d4 d5 c4 Nf6 Nf3 Nc6 Nc3 Bg4 h3 Bxf3 gxf3 dxc4...</td>\n",
       "      <td>{'initial': 300, 'increment': 5, 'totalTime': ...</td>\n",
       "      <td>black</td>\n",
       "      <td>[{'eval': 25}, {'eval': 22}, {'eval': 25}, {'e...</td>\n",
       "      <td>NaN</td>\n",
       "    </tr>\n",
       "    <tr>\n",
       "      <th>8546</th>\n",
       "      <td>OhsyNZSG</td>\n",
       "      <td>False</td>\n",
       "      <td>standard</td>\n",
       "      <td>rapid</td>\n",
       "      <td>rapid</td>\n",
       "      <td>1422404470960</td>\n",
       "      <td>1422404842924</td>\n",
       "      <td>resign</td>\n",
       "      <td>{'white': {'user': {'name': 'malinna', 'id': '...</td>\n",
       "      <td>{'eco': 'B00', 'name': 'Nimzowitsch Defense: F...</td>\n",
       "      <td>e4 Nc6 Nf3 e6 d4 Nf6 e5 Nd5 c4 Nb6 d5 exd5 cxd...</td>\n",
       "      <td>{'initial': 300, 'increment': 5, 'totalTime': ...</td>\n",
       "      <td>white</td>\n",
       "      <td>[{'eval': 10}, {'eval': 31}, {'eval': 24}, {'e...</td>\n",
       "      <td>NaN</td>\n",
       "    </tr>\n",
       "    <tr>\n",
       "      <th>8547</th>\n",
       "      <td>cr5iuIrQ</td>\n",
       "      <td>True</td>\n",
       "      <td>standard</td>\n",
       "      <td>rapid</td>\n",
       "      <td>rapid</td>\n",
       "      <td>1425385753435</td>\n",
       "      <td>1425386308759</td>\n",
       "      <td>outoftime</td>\n",
       "      <td>{'white': {'user': {'name': 'DMKA', 'id': 'dmk...</td>\n",
       "      <td>{'eco': 'B01', 'name': 'Scandinavian Defense',...</td>\n",
       "      <td>e4 d5 e5</td>\n",
       "      <td>{'initial': 360, 'increment': 8, 'totalTime': ...</td>\n",
       "      <td>white</td>\n",
       "      <td>NaN</td>\n",
       "      <td>NaN</td>\n",
       "    </tr>\n",
       "  </tbody>\n",
       "</table>\n",
       "<p>8548 rows × 15 columns</p>\n",
       "</div>"
      ],
      "text/plain": [
       "            id  rated   variant      speed       perf      createdAt  \\\n",
       "0     GlTzWj5E   True  standard      rapid      rapid  1501663250307   \n",
       "1     rbcpm9pr   True  standard      rapid      rapid  1503667901927   \n",
       "2     lfKoLKHr   True  standard      rapid      rapid  1503077258251   \n",
       "3     Fl7n8wyn   True  standard      rapid      rapid  1502989712946   \n",
       "4     BAKj62Jt   True  standard      rapid      rapid  1502903237747   \n",
       "...        ...    ...       ...        ...        ...            ...   \n",
       "8543  rdD9KSfi  False  standard      rapid      rapid  1462851363686   \n",
       "8544  P5uLal64   True  standard  classical  classical  1456095775727   \n",
       "8545  hSqBGEK8  False  standard      rapid      rapid  1422405047620   \n",
       "8546  OhsyNZSG  False  standard      rapid      rapid  1422404470960   \n",
       "8547  cr5iuIrQ   True  standard      rapid      rapid  1425385753435   \n",
       "\n",
       "         lastMoveAt     status  \\\n",
       "0     1501663631820       draw   \n",
       "1     1503668681752       mate   \n",
       "2     1503077931494     resign   \n",
       "3     1502990495511     resign   \n",
       "4     1502903335119       mate   \n",
       "...             ...        ...   \n",
       "8543  1462852046766     resign   \n",
       "8544  1456096599664     resign   \n",
       "8545  1422405612330  outoftime   \n",
       "8546  1422404842924     resign   \n",
       "8547  1425386308759  outoftime   \n",
       "\n",
       "                                                players  \\\n",
       "0     {'white': {'user': {'name': 'jobwoge', 'id': '...   \n",
       "1     {'white': {'user': {'name': 'fischerdipper', '...   \n",
       "2     {'white': {'user': {'name': 'koepkos', 'id': '...   \n",
       "3     {'white': {'user': {'name': 'adhen', 'id': 'ad...   \n",
       "4     {'white': {'user': {'name': 'fischerdipper', '...   \n",
       "...                                                 ...   \n",
       "8543  {'white': {'user': {'name': 'vzg100', 'id': 'v...   \n",
       "8544  {'white': {'user': {'name': 'mikaone', 'id': '...   \n",
       "8545  {'white': {'user': {'name': 'persian_girl', 'i...   \n",
       "8546  {'white': {'user': {'name': 'malinna', 'id': '...   \n",
       "8547  {'white': {'user': {'name': 'DMKA', 'id': 'dmk...   \n",
       "\n",
       "                                                opening  \\\n",
       "0     {'eco': 'B01', 'name': 'Scandinavian Defense',...   \n",
       "1     {'eco': 'B53', 'name': 'Sicilian Defense: Chek...   \n",
       "2     {'eco': 'B06', 'name': 'Modern Defense: Three ...   \n",
       "3     {'eco': 'A15', 'name': 'English Opening: Anglo...   \n",
       "4     {'eco': 'C21', 'name': 'Danish Gambit Accepted...   \n",
       "...                                                 ...   \n",
       "8543  {'eco': 'B07', 'name': \"King's Pawn Game: Maró...   \n",
       "8544  {'eco': 'C24', 'name': \"Bishop's Opening: Berl...   \n",
       "8545  {'eco': 'D06', 'name': \"Queen's Gambit Decline...   \n",
       "8546  {'eco': 'B00', 'name': 'Nimzowitsch Defense: F...   \n",
       "8547  {'eco': 'B01', 'name': 'Scandinavian Defense',...   \n",
       "\n",
       "                                                  moves  \\\n",
       "0     e4 d5 e5 Bf5 d4 e6 Nc3 c5 Bd3 Bxd3 Qxd3 cxd4 Q...   \n",
       "1     e4 c5 Nf3 d6 d4 cxd4 Qxd4 a6 Nc3 e6 Bd3 Nc6 Qa...   \n",
       "2     e4 g6 f4 Bg7 d4 e6 c3 d6 Nf3 Ne7 Bd3 a6 O-O b5...   \n",
       "3     c4 Nf6 Qc2 d5 e3 e6 a3 c6 Nf3 Be7 Bd3 Nbd7 O-O...   \n",
       "4     e4 e5 d4 exd4 c3 dxc3 Bc4 cxb2 Bxb2 Nf6 e5 Nh5...   \n",
       "...                                                 ...   \n",
       "8543  e4 e5 d4 d6 dxe5 dxe5 Qxd8+ Kxd8 Nf3 Nc6 Bc4 f...   \n",
       "8544  e4 e5 Bc4 Nf6 d3 Nc6 Bg5 h6 Bxf6 Qxf6 h3 Bc5 c...   \n",
       "8545  d4 d5 c4 Nf6 Nf3 Nc6 Nc3 Bg4 h3 Bxf3 gxf3 dxc4...   \n",
       "8546  e4 Nc6 Nf3 e6 d4 Nf6 e5 Nd5 c4 Nb6 d5 exd5 cxd...   \n",
       "8547                                           e4 d5 e5   \n",
       "\n",
       "                                                  clock winner  \\\n",
       "0     {'initial': 420, 'increment': 5, 'totalTime': ...   draw   \n",
       "1     {'initial': 300, 'increment': 5, 'totalTime': ...  white   \n",
       "2     {'initial': 300, 'increment': 5, 'totalTime': ...  white   \n",
       "3     {'initial': 300, 'increment': 5, 'totalTime': ...  white   \n",
       "4     {'initial': 600, 'increment': 3, 'totalTime': ...  white   \n",
       "...                                                 ...    ...   \n",
       "8543  {'initial': 600, 'increment': 0, 'totalTime': ...  white   \n",
       "8544  {'initial': 1800, 'increment': 0, 'totalTime':...  black   \n",
       "8545  {'initial': 300, 'increment': 5, 'totalTime': ...  black   \n",
       "8546  {'initial': 300, 'increment': 5, 'totalTime': ...  white   \n",
       "8547  {'initial': 360, 'increment': 8, 'totalTime': ...  white   \n",
       "\n",
       "                                               analysis tournament  \n",
       "0                                                   NaN        NaN  \n",
       "1                                                   NaN        NaN  \n",
       "2                                                   NaN        NaN  \n",
       "3                                                   NaN        NaN  \n",
       "4                                                   NaN        NaN  \n",
       "...                                                 ...        ...  \n",
       "8543                                                NaN        NaN  \n",
       "8544                                                NaN        NaN  \n",
       "8545  [{'eval': 25}, {'eval': 22}, {'eval': 25}, {'e...        NaN  \n",
       "8546  [{'eval': 10}, {'eval': 31}, {'eval': 24}, {'e...        NaN  \n",
       "8547                                                NaN        NaN  \n",
       "\n",
       "[8548 rows x 15 columns]"
      ]
     },
     "execution_count": 6,
     "metadata": {},
     "output_type": "execute_result"
    }
   ],
   "source": [
    "df"
   ]
  },
  {
   "cell_type": "code",
   "execution_count": 7,
   "metadata": {},
   "outputs": [
    {
     "data": {
      "text/plain": [
       "id               0\n",
       "rated            0\n",
       "variant          0\n",
       "speed            0\n",
       "perf             0\n",
       "createdAt        0\n",
       "lastMoveAt       0\n",
       "status           0\n",
       "players          0\n",
       "opening          0\n",
       "moves            0\n",
       "clock            0\n",
       "winner           0\n",
       "analysis      6410\n",
       "tournament    7231\n",
       "dtype: int64"
      ]
     },
     "execution_count": 7,
     "metadata": {},
     "output_type": "execute_result"
    }
   ],
   "source": [
    "df.isna().sum()"
   ]
  },
  {
   "cell_type": "code",
   "execution_count": 8,
   "metadata": {},
   "outputs": [
    {
     "data": {
      "text/plain": [
       "8       [{'eval': 25}, {'eval': 25}, {'eval': 23}, {'e...\n",
       "9       [{'eval': 30}, {'eval': 29}, {'eval': 29}, {'e...\n",
       "17      [{'eval': 18}, {'eval': 29}, {'eval': 11}, {'e...\n",
       "24      [{'eval': 25}, {'eval': 18}, {'eval': 39}, {'e...\n",
       "25      [{'eval': 16}, {'eval': 30}, {'eval': 15}, {'e...\n",
       "                              ...                        \n",
       "8512    [{'eval': 22}, {'eval': 54}, {'eval': 65}, {'e...\n",
       "8515    [{'eval': 16}, {'eval': 39}, {'eval': 32}, {'e...\n",
       "8519    [{'eval': 21}, {'eval': 46}, {'eval': 51}, {'e...\n",
       "8538    [{'eval': 27}, {'eval': 43}, {'eval': 0}, {'ev...\n",
       "8539    [{'eval': 35}, {'eval': 14}, {'eval': 22}, {'e...\n",
       "Name: analysis, Length: 1838, dtype: object"
      ]
     },
     "execution_count": 8,
     "metadata": {},
     "output_type": "execute_result"
    }
   ],
   "source": [
    "df.loc[(df[\"rated\"] == True) & df[\"analysis\"].notna()][\"analysis\"]\n"
   ]
  },
  {
   "cell_type": "code",
   "execution_count": 9,
   "metadata": {},
   "outputs": [
    {
     "data": {
      "text/html": [
       "<div>\n",
       "<style scoped>\n",
       "    .dataframe tbody tr th:only-of-type {\n",
       "        vertical-align: middle;\n",
       "    }\n",
       "\n",
       "    .dataframe tbody tr th {\n",
       "        vertical-align: top;\n",
       "    }\n",
       "\n",
       "    .dataframe thead th {\n",
       "        text-align: right;\n",
       "    }\n",
       "</style>\n",
       "<table border=\"1\" class=\"dataframe\">\n",
       "  <thead>\n",
       "    <tr style=\"text-align: right;\">\n",
       "      <th></th>\n",
       "      <th>rated</th>\n",
       "      <th>variant</th>\n",
       "      <th>speed</th>\n",
       "      <th>perf</th>\n",
       "      <th>createdAt</th>\n",
       "      <th>lastMoveAt</th>\n",
       "      <th>status</th>\n",
       "      <th>players</th>\n",
       "      <th>opening</th>\n",
       "      <th>moves</th>\n",
       "      <th>clock</th>\n",
       "      <th>winner</th>\n",
       "    </tr>\n",
       "  </thead>\n",
       "  <tbody>\n",
       "    <tr>\n",
       "      <th>0</th>\n",
       "      <td>True</td>\n",
       "      <td>standard</td>\n",
       "      <td>rapid</td>\n",
       "      <td>rapid</td>\n",
       "      <td>1501663250307</td>\n",
       "      <td>1501663631820</td>\n",
       "      <td>draw</td>\n",
       "      <td>{'white': {'user': {'name': 'jobwoge', 'id': '...</td>\n",
       "      <td>{'eco': 'B01', 'name': 'Scandinavian Defense',...</td>\n",
       "      <td>e4 d5 e5 Bf5 d4 e6 Nc3 c5 Bd3 Bxd3 Qxd3 cxd4 Q...</td>\n",
       "      <td>{'initial': 420, 'increment': 5, 'totalTime': ...</td>\n",
       "      <td>draw</td>\n",
       "    </tr>\n",
       "    <tr>\n",
       "      <th>1</th>\n",
       "      <td>True</td>\n",
       "      <td>standard</td>\n",
       "      <td>rapid</td>\n",
       "      <td>rapid</td>\n",
       "      <td>1503667901927</td>\n",
       "      <td>1503668681752</td>\n",
       "      <td>mate</td>\n",
       "      <td>{'white': {'user': {'name': 'fischerdipper', '...</td>\n",
       "      <td>{'eco': 'B53', 'name': 'Sicilian Defense: Chek...</td>\n",
       "      <td>e4 c5 Nf3 d6 d4 cxd4 Qxd4 a6 Nc3 e6 Bd3 Nc6 Qa...</td>\n",
       "      <td>{'initial': 300, 'increment': 5, 'totalTime': ...</td>\n",
       "      <td>white</td>\n",
       "    </tr>\n",
       "    <tr>\n",
       "      <th>2</th>\n",
       "      <td>True</td>\n",
       "      <td>standard</td>\n",
       "      <td>rapid</td>\n",
       "      <td>rapid</td>\n",
       "      <td>1503077258251</td>\n",
       "      <td>1503077931494</td>\n",
       "      <td>resign</td>\n",
       "      <td>{'white': {'user': {'name': 'koepkos', 'id': '...</td>\n",
       "      <td>{'eco': 'B06', 'name': 'Modern Defense: Three ...</td>\n",
       "      <td>e4 g6 f4 Bg7 d4 e6 c3 d6 Nf3 Ne7 Bd3 a6 O-O b5...</td>\n",
       "      <td>{'initial': 300, 'increment': 5, 'totalTime': ...</td>\n",
       "      <td>white</td>\n",
       "    </tr>\n",
       "    <tr>\n",
       "      <th>3</th>\n",
       "      <td>True</td>\n",
       "      <td>standard</td>\n",
       "      <td>rapid</td>\n",
       "      <td>rapid</td>\n",
       "      <td>1502989712946</td>\n",
       "      <td>1502990495511</td>\n",
       "      <td>resign</td>\n",
       "      <td>{'white': {'user': {'name': 'adhen', 'id': 'ad...</td>\n",
       "      <td>{'eco': 'A15', 'name': 'English Opening: Anglo...</td>\n",
       "      <td>c4 Nf6 Qc2 d5 e3 e6 a3 c6 Nf3 Be7 Bd3 Nbd7 O-O...</td>\n",
       "      <td>{'initial': 300, 'increment': 5, 'totalTime': ...</td>\n",
       "      <td>white</td>\n",
       "    </tr>\n",
       "    <tr>\n",
       "      <th>4</th>\n",
       "      <td>True</td>\n",
       "      <td>standard</td>\n",
       "      <td>rapid</td>\n",
       "      <td>rapid</td>\n",
       "      <td>1502903237747</td>\n",
       "      <td>1502903335119</td>\n",
       "      <td>mate</td>\n",
       "      <td>{'white': {'user': {'name': 'fischerdipper', '...</td>\n",
       "      <td>{'eco': 'C21', 'name': 'Danish Gambit Accepted...</td>\n",
       "      <td>e4 e5 d4 exd4 c3 dxc3 Bc4 cxb2 Bxb2 Nf6 e5 Nh5...</td>\n",
       "      <td>{'initial': 600, 'increment': 3, 'totalTime': ...</td>\n",
       "      <td>white</td>\n",
       "    </tr>\n",
       "    <tr>\n",
       "      <th>...</th>\n",
       "      <td>...</td>\n",
       "      <td>...</td>\n",
       "      <td>...</td>\n",
       "      <td>...</td>\n",
       "      <td>...</td>\n",
       "      <td>...</td>\n",
       "      <td>...</td>\n",
       "      <td>...</td>\n",
       "      <td>...</td>\n",
       "      <td>...</td>\n",
       "      <td>...</td>\n",
       "      <td>...</td>\n",
       "    </tr>\n",
       "    <tr>\n",
       "      <th>8543</th>\n",
       "      <td>False</td>\n",
       "      <td>standard</td>\n",
       "      <td>rapid</td>\n",
       "      <td>rapid</td>\n",
       "      <td>1462851363686</td>\n",
       "      <td>1462852046766</td>\n",
       "      <td>resign</td>\n",
       "      <td>{'white': {'user': {'name': 'vzg100', 'id': 'v...</td>\n",
       "      <td>{'eco': 'B07', 'name': \"King's Pawn Game: Maró...</td>\n",
       "      <td>e4 e5 d4 d6 dxe5 dxe5 Qxd8+ Kxd8 Nf3 Nc6 Bc4 f...</td>\n",
       "      <td>{'initial': 600, 'increment': 0, 'totalTime': ...</td>\n",
       "      <td>white</td>\n",
       "    </tr>\n",
       "    <tr>\n",
       "      <th>8544</th>\n",
       "      <td>True</td>\n",
       "      <td>standard</td>\n",
       "      <td>classical</td>\n",
       "      <td>classical</td>\n",
       "      <td>1456095775727</td>\n",
       "      <td>1456096599664</td>\n",
       "      <td>resign</td>\n",
       "      <td>{'white': {'user': {'name': 'mikaone', 'id': '...</td>\n",
       "      <td>{'eco': 'C24', 'name': \"Bishop's Opening: Berl...</td>\n",
       "      <td>e4 e5 Bc4 Nf6 d3 Nc6 Bg5 h6 Bxf6 Qxf6 h3 Bc5 c...</td>\n",
       "      <td>{'initial': 1800, 'increment': 0, 'totalTime':...</td>\n",
       "      <td>black</td>\n",
       "    </tr>\n",
       "    <tr>\n",
       "      <th>8545</th>\n",
       "      <td>False</td>\n",
       "      <td>standard</td>\n",
       "      <td>rapid</td>\n",
       "      <td>rapid</td>\n",
       "      <td>1422405047620</td>\n",
       "      <td>1422405612330</td>\n",
       "      <td>outoftime</td>\n",
       "      <td>{'white': {'user': {'name': 'persian_girl', 'i...</td>\n",
       "      <td>{'eco': 'D06', 'name': \"Queen's Gambit Decline...</td>\n",
       "      <td>d4 d5 c4 Nf6 Nf3 Nc6 Nc3 Bg4 h3 Bxf3 gxf3 dxc4...</td>\n",
       "      <td>{'initial': 300, 'increment': 5, 'totalTime': ...</td>\n",
       "      <td>black</td>\n",
       "    </tr>\n",
       "    <tr>\n",
       "      <th>8546</th>\n",
       "      <td>False</td>\n",
       "      <td>standard</td>\n",
       "      <td>rapid</td>\n",
       "      <td>rapid</td>\n",
       "      <td>1422404470960</td>\n",
       "      <td>1422404842924</td>\n",
       "      <td>resign</td>\n",
       "      <td>{'white': {'user': {'name': 'malinna', 'id': '...</td>\n",
       "      <td>{'eco': 'B00', 'name': 'Nimzowitsch Defense: F...</td>\n",
       "      <td>e4 Nc6 Nf3 e6 d4 Nf6 e5 Nd5 c4 Nb6 d5 exd5 cxd...</td>\n",
       "      <td>{'initial': 300, 'increment': 5, 'totalTime': ...</td>\n",
       "      <td>white</td>\n",
       "    </tr>\n",
       "    <tr>\n",
       "      <th>8547</th>\n",
       "      <td>True</td>\n",
       "      <td>standard</td>\n",
       "      <td>rapid</td>\n",
       "      <td>rapid</td>\n",
       "      <td>1425385753435</td>\n",
       "      <td>1425386308759</td>\n",
       "      <td>outoftime</td>\n",
       "      <td>{'white': {'user': {'name': 'DMKA', 'id': 'dmk...</td>\n",
       "      <td>{'eco': 'B01', 'name': 'Scandinavian Defense',...</td>\n",
       "      <td>e4 d5 e5</td>\n",
       "      <td>{'initial': 360, 'increment': 8, 'totalTime': ...</td>\n",
       "      <td>white</td>\n",
       "    </tr>\n",
       "  </tbody>\n",
       "</table>\n",
       "<p>8548 rows × 12 columns</p>\n",
       "</div>"
      ],
      "text/plain": [
       "      rated   variant      speed       perf      createdAt     lastMoveAt  \\\n",
       "0      True  standard      rapid      rapid  1501663250307  1501663631820   \n",
       "1      True  standard      rapid      rapid  1503667901927  1503668681752   \n",
       "2      True  standard      rapid      rapid  1503077258251  1503077931494   \n",
       "3      True  standard      rapid      rapid  1502989712946  1502990495511   \n",
       "4      True  standard      rapid      rapid  1502903237747  1502903335119   \n",
       "...     ...       ...        ...        ...            ...            ...   \n",
       "8543  False  standard      rapid      rapid  1462851363686  1462852046766   \n",
       "8544   True  standard  classical  classical  1456095775727  1456096599664   \n",
       "8545  False  standard      rapid      rapid  1422405047620  1422405612330   \n",
       "8546  False  standard      rapid      rapid  1422404470960  1422404842924   \n",
       "8547   True  standard      rapid      rapid  1425385753435  1425386308759   \n",
       "\n",
       "         status                                            players  \\\n",
       "0          draw  {'white': {'user': {'name': 'jobwoge', 'id': '...   \n",
       "1          mate  {'white': {'user': {'name': 'fischerdipper', '...   \n",
       "2        resign  {'white': {'user': {'name': 'koepkos', 'id': '...   \n",
       "3        resign  {'white': {'user': {'name': 'adhen', 'id': 'ad...   \n",
       "4          mate  {'white': {'user': {'name': 'fischerdipper', '...   \n",
       "...         ...                                                ...   \n",
       "8543     resign  {'white': {'user': {'name': 'vzg100', 'id': 'v...   \n",
       "8544     resign  {'white': {'user': {'name': 'mikaone', 'id': '...   \n",
       "8545  outoftime  {'white': {'user': {'name': 'persian_girl', 'i...   \n",
       "8546     resign  {'white': {'user': {'name': 'malinna', 'id': '...   \n",
       "8547  outoftime  {'white': {'user': {'name': 'DMKA', 'id': 'dmk...   \n",
       "\n",
       "                                                opening  \\\n",
       "0     {'eco': 'B01', 'name': 'Scandinavian Defense',...   \n",
       "1     {'eco': 'B53', 'name': 'Sicilian Defense: Chek...   \n",
       "2     {'eco': 'B06', 'name': 'Modern Defense: Three ...   \n",
       "3     {'eco': 'A15', 'name': 'English Opening: Anglo...   \n",
       "4     {'eco': 'C21', 'name': 'Danish Gambit Accepted...   \n",
       "...                                                 ...   \n",
       "8543  {'eco': 'B07', 'name': \"King's Pawn Game: Maró...   \n",
       "8544  {'eco': 'C24', 'name': \"Bishop's Opening: Berl...   \n",
       "8545  {'eco': 'D06', 'name': \"Queen's Gambit Decline...   \n",
       "8546  {'eco': 'B00', 'name': 'Nimzowitsch Defense: F...   \n",
       "8547  {'eco': 'B01', 'name': 'Scandinavian Defense',...   \n",
       "\n",
       "                                                  moves  \\\n",
       "0     e4 d5 e5 Bf5 d4 e6 Nc3 c5 Bd3 Bxd3 Qxd3 cxd4 Q...   \n",
       "1     e4 c5 Nf3 d6 d4 cxd4 Qxd4 a6 Nc3 e6 Bd3 Nc6 Qa...   \n",
       "2     e4 g6 f4 Bg7 d4 e6 c3 d6 Nf3 Ne7 Bd3 a6 O-O b5...   \n",
       "3     c4 Nf6 Qc2 d5 e3 e6 a3 c6 Nf3 Be7 Bd3 Nbd7 O-O...   \n",
       "4     e4 e5 d4 exd4 c3 dxc3 Bc4 cxb2 Bxb2 Nf6 e5 Nh5...   \n",
       "...                                                 ...   \n",
       "8543  e4 e5 d4 d6 dxe5 dxe5 Qxd8+ Kxd8 Nf3 Nc6 Bc4 f...   \n",
       "8544  e4 e5 Bc4 Nf6 d3 Nc6 Bg5 h6 Bxf6 Qxf6 h3 Bc5 c...   \n",
       "8545  d4 d5 c4 Nf6 Nf3 Nc6 Nc3 Bg4 h3 Bxf3 gxf3 dxc4...   \n",
       "8546  e4 Nc6 Nf3 e6 d4 Nf6 e5 Nd5 c4 Nb6 d5 exd5 cxd...   \n",
       "8547                                           e4 d5 e5   \n",
       "\n",
       "                                                  clock winner  \n",
       "0     {'initial': 420, 'increment': 5, 'totalTime': ...   draw  \n",
       "1     {'initial': 300, 'increment': 5, 'totalTime': ...  white  \n",
       "2     {'initial': 300, 'increment': 5, 'totalTime': ...  white  \n",
       "3     {'initial': 300, 'increment': 5, 'totalTime': ...  white  \n",
       "4     {'initial': 600, 'increment': 3, 'totalTime': ...  white  \n",
       "...                                                 ...    ...  \n",
       "8543  {'initial': 600, 'increment': 0, 'totalTime': ...  white  \n",
       "8544  {'initial': 1800, 'increment': 0, 'totalTime':...  black  \n",
       "8545  {'initial': 300, 'increment': 5, 'totalTime': ...  black  \n",
       "8546  {'initial': 300, 'increment': 5, 'totalTime': ...  white  \n",
       "8547  {'initial': 360, 'increment': 8, 'totalTime': ...  white  \n",
       "\n",
       "[8548 rows x 12 columns]"
      ]
     },
     "execution_count": 9,
     "metadata": {},
     "output_type": "execute_result"
    }
   ],
   "source": [
    "df_sliced = df.iloc[:,1:13]\n",
    "\n",
    "\n",
    "df_sliced\n"
   ]
  },
  {
   "cell_type": "code",
   "execution_count": 10,
   "metadata": {},
   "outputs": [
    {
     "data": {
      "text/plain": [
       "\"{'white': {'user': {'name': 'jobwoge', 'id': 'jobwoge'}, 'rating': 1356, 'ratingDiff': 4}, 'black': {'user': {'name': 'kyanh', 'id': 'kyanh'}, 'rating': 1491, 'ratingDiff': -4}}\""
      ]
     },
     "execution_count": 10,
     "metadata": {},
     "output_type": "execute_result"
    }
   ],
   "source": [
    "df_sliced[\"players\"][0]"
   ]
  },
  {
   "cell_type": "code",
   "execution_count": 11,
   "metadata": {},
   "outputs": [
    {
     "data": {
      "text/plain": [
       "\"{'eco': 'B01', 'name': 'Scandinavian Defense', 'ply': 2}\""
      ]
     },
     "execution_count": 11,
     "metadata": {},
     "output_type": "execute_result"
    }
   ],
   "source": [
    "df_sliced[\"opening\"][0]"
   ]
  },
  {
   "cell_type": "code",
   "execution_count": 12,
   "metadata": {},
   "outputs": [
    {
     "data": {
      "text/plain": [
       "\"{'initial': 420, 'increment': 5, 'totalTime': 620}\""
      ]
     },
     "execution_count": 12,
     "metadata": {},
     "output_type": "execute_result"
    }
   ],
   "source": [
    "df_sliced[\"clock\"][0]"
   ]
  },
  {
   "cell_type": "code",
   "execution_count": 13,
   "metadata": {},
   "outputs": [
    {
     "data": {
      "text/plain": [
       "'e4 d5 e5 Bf5 d4 e6 Nc3 c5 Bd3 Bxd3 Qxd3 cxd4 Qxd4 Nc6 Qd3 Nxe5 Qg3 Bd6 Bf4 Qf6 Ne4 dxe4 Bxe5 Qxe5 Qxe5 Bxe5 O-O-O Ne7 f3 exf3 Nxf3 Bf6 Rhe1 O-O Kb1 a5 a3 b5 Nd4 Nd5 Nxb5 Rfb8 c4 Nc3+ bxc3 Bxc3'"
      ]
     },
     "execution_count": 13,
     "metadata": {},
     "output_type": "execute_result"
    }
   ],
   "source": [
    "df_sliced[\"moves\"][0]"
   ]
  },
  {
   "cell_type": "code",
   "execution_count": 14,
   "metadata": {},
   "outputs": [
    {
     "data": {
      "text/plain": [
       "'d5'"
      ]
     },
     "execution_count": 14,
     "metadata": {},
     "output_type": "execute_result"
    }
   ],
   "source": [
    "df_sliced.loc[:,\"moves\"][0][3:5]"
   ]
  },
  {
   "cell_type": "code",
   "execution_count": 15,
   "metadata": {},
   "outputs": [],
   "source": [
    "df_cleaned = df_sliced.iloc[:,:2]\n",
    "\n",
    "player_data = df_sliced[\"players\"].tolist()\n",
    "time_data = df_sliced[\"clock\"].tolist()\n",
    "opening_data = df_sliced[\"opening\"].tolist()\n",
    "\n",
    "white_player_arr = []\n",
    "white_player_id_arr = []\n",
    "\n",
    "\n",
    "black_player_arr = []\n",
    "black_player_id_arr = []\n",
    "\n",
    "\n",
    "white_rating_arr = []\n",
    "black_rating_arr = []\n",
    "\n",
    "\n",
    "\n",
    "\n",
    "initial_time_arr = []\n",
    "total_time_arr = []\n",
    "\n",
    "eco_arr = []\n",
    "opening_data_arr = []\n",
    "\n",
    "first_white_move_arr = []\n",
    "first_black_move_arr = []\n",
    "\n",
    "for i in df_sliced.index:\n",
    "    \n",
    "    white_player_arr.append(ast.literal_eval(player_data[i])[\"white\"][\"user\"][\"name\"])\n",
    "    white_player_id_arr.append(ast.literal_eval(player_data[i])[\"white\"][\"user\"][\"id\"])\n",
    "\n",
    "    black_player_arr.append(ast.literal_eval(player_data[i])[\"black\"][\"user\"][\"name\"])\n",
    "    black_player_id_arr.append(ast.literal_eval(player_data[i])[\"black\"][\"user\"][\"id\"])\n",
    "    \n",
    "    white_rating_arr.append(ast.literal_eval(player_data[i])[\"white\"][\"rating\"])\n",
    "    black_rating_arr.append(ast.literal_eval(player_data[i])[\"black\"][\"rating\"])\n",
    "\n",
    "    initial_time_arr.append(ast.literal_eval(time_data[i])[\"initial\"])\n",
    "    total_time_arr.append(ast.literal_eval(time_data[i])[\"totalTime\"])\n",
    "    \n",
    "    opening_data_arr.append(ast.literal_eval(opening_data[i])[\"name\"])\n",
    "    eco_arr.append(ast.literal_eval(opening_data[i])[\"eco\"])\n",
    "    first_white_move_arr.append(df_sliced.loc[:,\"moves\"][i][:2])\n",
    "    first_black_move_arr.append(df_sliced.loc[:,\"moves\"][i][3:5])\n",
    "\n",
    "\n"
   ]
  },
  {
   "cell_type": "code",
   "execution_count": 16,
   "metadata": {},
   "outputs": [
    {
     "data": {
      "text/html": [
       "<div>\n",
       "<style scoped>\n",
       "    .dataframe tbody tr th:only-of-type {\n",
       "        vertical-align: middle;\n",
       "    }\n",
       "\n",
       "    .dataframe tbody tr th {\n",
       "        vertical-align: top;\n",
       "    }\n",
       "\n",
       "    .dataframe thead th {\n",
       "        text-align: right;\n",
       "    }\n",
       "</style>\n",
       "<table border=\"1\" class=\"dataframe\">\n",
       "  <thead>\n",
       "    <tr style=\"text-align: right;\">\n",
       "      <th></th>\n",
       "      <th>rated</th>\n",
       "      <th>variant</th>\n",
       "    </tr>\n",
       "  </thead>\n",
       "  <tbody>\n",
       "    <tr>\n",
       "      <th>0</th>\n",
       "      <td>True</td>\n",
       "      <td>standard</td>\n",
       "    </tr>\n",
       "    <tr>\n",
       "      <th>1</th>\n",
       "      <td>True</td>\n",
       "      <td>standard</td>\n",
       "    </tr>\n",
       "    <tr>\n",
       "      <th>2</th>\n",
       "      <td>True</td>\n",
       "      <td>standard</td>\n",
       "    </tr>\n",
       "    <tr>\n",
       "      <th>3</th>\n",
       "      <td>True</td>\n",
       "      <td>standard</td>\n",
       "    </tr>\n",
       "    <tr>\n",
       "      <th>4</th>\n",
       "      <td>True</td>\n",
       "      <td>standard</td>\n",
       "    </tr>\n",
       "    <tr>\n",
       "      <th>...</th>\n",
       "      <td>...</td>\n",
       "      <td>...</td>\n",
       "    </tr>\n",
       "    <tr>\n",
       "      <th>8543</th>\n",
       "      <td>False</td>\n",
       "      <td>standard</td>\n",
       "    </tr>\n",
       "    <tr>\n",
       "      <th>8544</th>\n",
       "      <td>True</td>\n",
       "      <td>standard</td>\n",
       "    </tr>\n",
       "    <tr>\n",
       "      <th>8545</th>\n",
       "      <td>False</td>\n",
       "      <td>standard</td>\n",
       "    </tr>\n",
       "    <tr>\n",
       "      <th>8546</th>\n",
       "      <td>False</td>\n",
       "      <td>standard</td>\n",
       "    </tr>\n",
       "    <tr>\n",
       "      <th>8547</th>\n",
       "      <td>True</td>\n",
       "      <td>standard</td>\n",
       "    </tr>\n",
       "  </tbody>\n",
       "</table>\n",
       "<p>8548 rows × 2 columns</p>\n",
       "</div>"
      ],
      "text/plain": [
       "      rated   variant\n",
       "0      True  standard\n",
       "1      True  standard\n",
       "2      True  standard\n",
       "3      True  standard\n",
       "4      True  standard\n",
       "...     ...       ...\n",
       "8543  False  standard\n",
       "8544   True  standard\n",
       "8545  False  standard\n",
       "8546  False  standard\n",
       "8547   True  standard\n",
       "\n",
       "[8548 rows x 2 columns]"
      ]
     },
     "execution_count": 16,
     "metadata": {},
     "output_type": "execute_result"
    }
   ],
   "source": [
    "df_cleaned"
   ]
  },
  {
   "cell_type": "code",
   "execution_count": 17,
   "metadata": {},
   "outputs": [],
   "source": [
    "df_cleaned[\"match_type\"] = df_sliced[\"speed\"]\n",
    "df_cleaned[\"createdAt\"] = df_sliced[\"createdAt\"]\n",
    "df_cleaned[\"status\"] = df_sliced[\"status\"]\n",
    "\n",
    "Array_datas = [   \n",
    "    white_player_arr ,\n",
    "    white_player_id_arr ,\n",
    "    white_rating_arr ,\n",
    "    black_player_arr ,\n",
    "    black_player_id_arr ,\n",
    "    black_rating_arr ,\n",
    "    initial_time_arr ,\n",
    "    total_time_arr ,\n",
    "    opening_data_arr,\n",
    "    eco_arr ]\n",
    "\n",
    "Array_names = [\n",
    "    \"white_player\" ,\n",
    "    \"white_player_id\" ,\n",
    "    \"white_rating\" ,\n",
    "    \"black_player\" ,\n",
    "    \"black_player_id\" ,\n",
    "    \"black_rating\" ,\n",
    "    \"initial_time\" ,\n",
    "    \"total_time\" ,\n",
    "    \"opening_data\",\n",
    "    \"eco\"\n",
    "]\n",
    "\n",
    "for i,j in enumerate(Array_datas):\n",
    "    df_cleaned.loc[:,Array_names[i]] = j\n",
    "\n",
    "match_winner_arr = []\n",
    "for i in df_cleaned.index:\n",
    "    if df_sliced[\"winner\"][i] == \"white\":\n",
    "        match_winner_arr.append(df_cleaned[\"white_player\"][i])\n",
    "    elif df_sliced[\"winner\"][i] == \"black\":\n",
    "        match_winner_arr.append(df_cleaned[\"black_player\"][i])\n",
    "    elif df_sliced[\"winner\"][i] == \"draw\":\n",
    "        match_winner_arr.append(\"draw\")\n",
    "    else: \n",
    "        match_winner_arr.append(\"no decision\")\n",
    "\n",
    "df_cleaned.loc[:,\"match_winner\"] = match_winner_arr\n",
    "df_cleaned.loc[:,\"moves\"] = df_sliced[\"moves\"]\n",
    "df_cleaned.loc[:,\"white_first_move\"] = first_white_move_arr\n",
    "df_cleaned.loc[:,\"black_first_move\"] = first_black_move_arr"
   ]
  },
  {
   "cell_type": "code",
   "execution_count": 18,
   "metadata": {},
   "outputs": [
    {
     "data": {
      "text/html": [
       "<div>\n",
       "<style scoped>\n",
       "    .dataframe tbody tr th:only-of-type {\n",
       "        vertical-align: middle;\n",
       "    }\n",
       "\n",
       "    .dataframe tbody tr th {\n",
       "        vertical-align: top;\n",
       "    }\n",
       "\n",
       "    .dataframe thead th {\n",
       "        text-align: right;\n",
       "    }\n",
       "</style>\n",
       "<table border=\"1\" class=\"dataframe\">\n",
       "  <thead>\n",
       "    <tr style=\"text-align: right;\">\n",
       "      <th></th>\n",
       "      <th>rated</th>\n",
       "      <th>variant</th>\n",
       "      <th>match_type</th>\n",
       "      <th>createdAt</th>\n",
       "      <th>status</th>\n",
       "      <th>white_player</th>\n",
       "      <th>white_player_id</th>\n",
       "      <th>white_rating</th>\n",
       "      <th>black_player</th>\n",
       "      <th>black_player_id</th>\n",
       "      <th>black_rating</th>\n",
       "      <th>initial_time</th>\n",
       "      <th>total_time</th>\n",
       "      <th>opening_data</th>\n",
       "      <th>eco</th>\n",
       "      <th>match_winner</th>\n",
       "      <th>moves</th>\n",
       "      <th>white_first_move</th>\n",
       "      <th>black_first_move</th>\n",
       "    </tr>\n",
       "  </thead>\n",
       "  <tbody>\n",
       "    <tr>\n",
       "      <th>0</th>\n",
       "      <td>True</td>\n",
       "      <td>standard</td>\n",
       "      <td>rapid</td>\n",
       "      <td>1501663250307</td>\n",
       "      <td>draw</td>\n",
       "      <td>jobwoge</td>\n",
       "      <td>jobwoge</td>\n",
       "      <td>1356</td>\n",
       "      <td>kyanh</td>\n",
       "      <td>kyanh</td>\n",
       "      <td>1491</td>\n",
       "      <td>420</td>\n",
       "      <td>620</td>\n",
       "      <td>Scandinavian Defense</td>\n",
       "      <td>B01</td>\n",
       "      <td>draw</td>\n",
       "      <td>e4 d5 e5 Bf5 d4 e6 Nc3 c5 Bd3 Bxd3 Qxd3 cxd4 Q...</td>\n",
       "      <td>e4</td>\n",
       "      <td>d5</td>\n",
       "    </tr>\n",
       "    <tr>\n",
       "      <th>1</th>\n",
       "      <td>True</td>\n",
       "      <td>standard</td>\n",
       "      <td>rapid</td>\n",
       "      <td>1503667901927</td>\n",
       "      <td>mate</td>\n",
       "      <td>fischerdipper</td>\n",
       "      <td>fischerdipper</td>\n",
       "      <td>1626</td>\n",
       "      <td>george_35</td>\n",
       "      <td>george_35</td>\n",
       "      <td>1384</td>\n",
       "      <td>300</td>\n",
       "      <td>500</td>\n",
       "      <td>Sicilian Defense: Chekhover Variation</td>\n",
       "      <td>B53</td>\n",
       "      <td>fischerdipper</td>\n",
       "      <td>e4 c5 Nf3 d6 d4 cxd4 Qxd4 a6 Nc3 e6 Bd3 Nc6 Qa...</td>\n",
       "      <td>e4</td>\n",
       "      <td>c5</td>\n",
       "    </tr>\n",
       "    <tr>\n",
       "      <th>2</th>\n",
       "      <td>True</td>\n",
       "      <td>standard</td>\n",
       "      <td>rapid</td>\n",
       "      <td>1503077258251</td>\n",
       "      <td>resign</td>\n",
       "      <td>koepkos</td>\n",
       "      <td>koepkos</td>\n",
       "      <td>1667</td>\n",
       "      <td>fischerdipper</td>\n",
       "      <td>fischerdipper</td>\n",
       "      <td>1668</td>\n",
       "      <td>300</td>\n",
       "      <td>500</td>\n",
       "      <td>Modern Defense: Three Pawns Attack</td>\n",
       "      <td>B06</td>\n",
       "      <td>koepkos</td>\n",
       "      <td>e4 g6 f4 Bg7 d4 e6 c3 d6 Nf3 Ne7 Bd3 a6 O-O b5...</td>\n",
       "      <td>e4</td>\n",
       "      <td>g6</td>\n",
       "    </tr>\n",
       "    <tr>\n",
       "      <th>3</th>\n",
       "      <td>True</td>\n",
       "      <td>standard</td>\n",
       "      <td>rapid</td>\n",
       "      <td>1502989712946</td>\n",
       "      <td>resign</td>\n",
       "      <td>adhen</td>\n",
       "      <td>adhen</td>\n",
       "      <td>1752</td>\n",
       "      <td>fischerdipper</td>\n",
       "      <td>fischerdipper</td>\n",
       "      <td>1677</td>\n",
       "      <td>300</td>\n",
       "      <td>500</td>\n",
       "      <td>English Opening: Anglo-Indian Defense</td>\n",
       "      <td>A15</td>\n",
       "      <td>adhen</td>\n",
       "      <td>c4 Nf6 Qc2 d5 e3 e6 a3 c6 Nf3 Be7 Bd3 Nbd7 O-O...</td>\n",
       "      <td>c4</td>\n",
       "      <td>Nf</td>\n",
       "    </tr>\n",
       "    <tr>\n",
       "      <th>4</th>\n",
       "      <td>True</td>\n",
       "      <td>standard</td>\n",
       "      <td>rapid</td>\n",
       "      <td>1502903237747</td>\n",
       "      <td>mate</td>\n",
       "      <td>fischerdipper</td>\n",
       "      <td>fischerdipper</td>\n",
       "      <td>1678</td>\n",
       "      <td>coco31</td>\n",
       "      <td>coco31</td>\n",
       "      <td>1148</td>\n",
       "      <td>600</td>\n",
       "      <td>720</td>\n",
       "      <td>Danish Gambit Accepted: Classical Defense</td>\n",
       "      <td>C21</td>\n",
       "      <td>fischerdipper</td>\n",
       "      <td>e4 e5 d4 exd4 c3 dxc3 Bc4 cxb2 Bxb2 Nf6 e5 Nh5...</td>\n",
       "      <td>e4</td>\n",
       "      <td>e5</td>\n",
       "    </tr>\n",
       "    <tr>\n",
       "      <th>...</th>\n",
       "      <td>...</td>\n",
       "      <td>...</td>\n",
       "      <td>...</td>\n",
       "      <td>...</td>\n",
       "      <td>...</td>\n",
       "      <td>...</td>\n",
       "      <td>...</td>\n",
       "      <td>...</td>\n",
       "      <td>...</td>\n",
       "      <td>...</td>\n",
       "      <td>...</td>\n",
       "      <td>...</td>\n",
       "      <td>...</td>\n",
       "      <td>...</td>\n",
       "      <td>...</td>\n",
       "      <td>...</td>\n",
       "      <td>...</td>\n",
       "      <td>...</td>\n",
       "      <td>...</td>\n",
       "    </tr>\n",
       "    <tr>\n",
       "      <th>8543</th>\n",
       "      <td>False</td>\n",
       "      <td>standard</td>\n",
       "      <td>rapid</td>\n",
       "      <td>1462851363686</td>\n",
       "      <td>resign</td>\n",
       "      <td>vzg100</td>\n",
       "      <td>vzg100</td>\n",
       "      <td>1588</td>\n",
       "      <td>rei_maior</td>\n",
       "      <td>rei_maior</td>\n",
       "      <td>1500</td>\n",
       "      <td>600</td>\n",
       "      <td>600</td>\n",
       "      <td>King's Pawn Game: Maróczy Defense</td>\n",
       "      <td>B07</td>\n",
       "      <td>vzg100</td>\n",
       "      <td>e4 e5 d4 d6 dxe5 dxe5 Qxd8+ Kxd8 Nf3 Nc6 Bc4 f...</td>\n",
       "      <td>e4</td>\n",
       "      <td>e5</td>\n",
       "    </tr>\n",
       "    <tr>\n",
       "      <th>8544</th>\n",
       "      <td>True</td>\n",
       "      <td>standard</td>\n",
       "      <td>classical</td>\n",
       "      <td>1456095775727</td>\n",
       "      <td>resign</td>\n",
       "      <td>mikaone</td>\n",
       "      <td>mikaone</td>\n",
       "      <td>1697</td>\n",
       "      <td>vzg100</td>\n",
       "      <td>vzg100</td>\n",
       "      <td>1566</td>\n",
       "      <td>1800</td>\n",
       "      <td>1800</td>\n",
       "      <td>Bishop's Opening: Berlin Defense</td>\n",
       "      <td>C24</td>\n",
       "      <td>vzg100</td>\n",
       "      <td>e4 e5 Bc4 Nf6 d3 Nc6 Bg5 h6 Bxf6 Qxf6 h3 Bc5 c...</td>\n",
       "      <td>e4</td>\n",
       "      <td>e5</td>\n",
       "    </tr>\n",
       "    <tr>\n",
       "      <th>8545</th>\n",
       "      <td>False</td>\n",
       "      <td>standard</td>\n",
       "      <td>rapid</td>\n",
       "      <td>1422405047620</td>\n",
       "      <td>outoftime</td>\n",
       "      <td>persian_girl</td>\n",
       "      <td>persian_girl</td>\n",
       "      <td>1662</td>\n",
       "      <td>malinna</td>\n",
       "      <td>malinna</td>\n",
       "      <td>1586</td>\n",
       "      <td>300</td>\n",
       "      <td>500</td>\n",
       "      <td>Queen's Gambit Declined: Marshall Defense</td>\n",
       "      <td>D06</td>\n",
       "      <td>malinna</td>\n",
       "      <td>d4 d5 c4 Nf6 Nf3 Nc6 Nc3 Bg4 h3 Bxf3 gxf3 dxc4...</td>\n",
       "      <td>d4</td>\n",
       "      <td>d5</td>\n",
       "    </tr>\n",
       "    <tr>\n",
       "      <th>8546</th>\n",
       "      <td>False</td>\n",
       "      <td>standard</td>\n",
       "      <td>rapid</td>\n",
       "      <td>1422404470960</td>\n",
       "      <td>resign</td>\n",
       "      <td>malinna</td>\n",
       "      <td>malinna</td>\n",
       "      <td>1586</td>\n",
       "      <td>persian_girl</td>\n",
       "      <td>persian_girl</td>\n",
       "      <td>1662</td>\n",
       "      <td>300</td>\n",
       "      <td>500</td>\n",
       "      <td>Nimzowitsch Defense: Franco-Nimzowitsch Variation</td>\n",
       "      <td>B00</td>\n",
       "      <td>malinna</td>\n",
       "      <td>e4 Nc6 Nf3 e6 d4 Nf6 e5 Nd5 c4 Nb6 d5 exd5 cxd...</td>\n",
       "      <td>e4</td>\n",
       "      <td>Nc</td>\n",
       "    </tr>\n",
       "    <tr>\n",
       "      <th>8547</th>\n",
       "      <td>True</td>\n",
       "      <td>standard</td>\n",
       "      <td>rapid</td>\n",
       "      <td>1425385753435</td>\n",
       "      <td>outoftime</td>\n",
       "      <td>DMKA</td>\n",
       "      <td>dmka</td>\n",
       "      <td>1362</td>\n",
       "      <td>Arfhan</td>\n",
       "      <td>arfhan</td>\n",
       "      <td>1265</td>\n",
       "      <td>360</td>\n",
       "      <td>680</td>\n",
       "      <td>Scandinavian Defense</td>\n",
       "      <td>B01</td>\n",
       "      <td>DMKA</td>\n",
       "      <td>e4 d5 e5</td>\n",
       "      <td>e4</td>\n",
       "      <td>d5</td>\n",
       "    </tr>\n",
       "  </tbody>\n",
       "</table>\n",
       "<p>8548 rows × 19 columns</p>\n",
       "</div>"
      ],
      "text/plain": [
       "      rated   variant match_type      createdAt     status   white_player  \\\n",
       "0      True  standard      rapid  1501663250307       draw        jobwoge   \n",
       "1      True  standard      rapid  1503667901927       mate  fischerdipper   \n",
       "2      True  standard      rapid  1503077258251     resign        koepkos   \n",
       "3      True  standard      rapid  1502989712946     resign          adhen   \n",
       "4      True  standard      rapid  1502903237747       mate  fischerdipper   \n",
       "...     ...       ...        ...            ...        ...            ...   \n",
       "8543  False  standard      rapid  1462851363686     resign         vzg100   \n",
       "8544   True  standard  classical  1456095775727     resign        mikaone   \n",
       "8545  False  standard      rapid  1422405047620  outoftime   persian_girl   \n",
       "8546  False  standard      rapid  1422404470960     resign        malinna   \n",
       "8547   True  standard      rapid  1425385753435  outoftime           DMKA   \n",
       "\n",
       "     white_player_id  white_rating   black_player black_player_id  \\\n",
       "0            jobwoge          1356          kyanh           kyanh   \n",
       "1      fischerdipper          1626      george_35       george_35   \n",
       "2            koepkos          1667  fischerdipper   fischerdipper   \n",
       "3              adhen          1752  fischerdipper   fischerdipper   \n",
       "4      fischerdipper          1678         coco31          coco31   \n",
       "...              ...           ...            ...             ...   \n",
       "8543          vzg100          1588      rei_maior       rei_maior   \n",
       "8544         mikaone          1697         vzg100          vzg100   \n",
       "8545    persian_girl          1662        malinna         malinna   \n",
       "8546         malinna          1586   persian_girl    persian_girl   \n",
       "8547            dmka          1362         Arfhan          arfhan   \n",
       "\n",
       "      black_rating  initial_time  total_time  \\\n",
       "0             1491           420         620   \n",
       "1             1384           300         500   \n",
       "2             1668           300         500   \n",
       "3             1677           300         500   \n",
       "4             1148           600         720   \n",
       "...            ...           ...         ...   \n",
       "8543          1500           600         600   \n",
       "8544          1566          1800        1800   \n",
       "8545          1586           300         500   \n",
       "8546          1662           300         500   \n",
       "8547          1265           360         680   \n",
       "\n",
       "                                           opening_data  eco   match_winner  \\\n",
       "0                                  Scandinavian Defense  B01           draw   \n",
       "1                 Sicilian Defense: Chekhover Variation  B53  fischerdipper   \n",
       "2                    Modern Defense: Three Pawns Attack  B06        koepkos   \n",
       "3                 English Opening: Anglo-Indian Defense  A15          adhen   \n",
       "4             Danish Gambit Accepted: Classical Defense  C21  fischerdipper   \n",
       "...                                                 ...  ...            ...   \n",
       "8543                  King's Pawn Game: Maróczy Defense  B07         vzg100   \n",
       "8544                   Bishop's Opening: Berlin Defense  C24         vzg100   \n",
       "8545          Queen's Gambit Declined: Marshall Defense  D06        malinna   \n",
       "8546  Nimzowitsch Defense: Franco-Nimzowitsch Variation  B00        malinna   \n",
       "8547                               Scandinavian Defense  B01           DMKA   \n",
       "\n",
       "                                                  moves white_first_move  \\\n",
       "0     e4 d5 e5 Bf5 d4 e6 Nc3 c5 Bd3 Bxd3 Qxd3 cxd4 Q...               e4   \n",
       "1     e4 c5 Nf3 d6 d4 cxd4 Qxd4 a6 Nc3 e6 Bd3 Nc6 Qa...               e4   \n",
       "2     e4 g6 f4 Bg7 d4 e6 c3 d6 Nf3 Ne7 Bd3 a6 O-O b5...               e4   \n",
       "3     c4 Nf6 Qc2 d5 e3 e6 a3 c6 Nf3 Be7 Bd3 Nbd7 O-O...               c4   \n",
       "4     e4 e5 d4 exd4 c3 dxc3 Bc4 cxb2 Bxb2 Nf6 e5 Nh5...               e4   \n",
       "...                                                 ...              ...   \n",
       "8543  e4 e5 d4 d6 dxe5 dxe5 Qxd8+ Kxd8 Nf3 Nc6 Bc4 f...               e4   \n",
       "8544  e4 e5 Bc4 Nf6 d3 Nc6 Bg5 h6 Bxf6 Qxf6 h3 Bc5 c...               e4   \n",
       "8545  d4 d5 c4 Nf6 Nf3 Nc6 Nc3 Bg4 h3 Bxf3 gxf3 dxc4...               d4   \n",
       "8546  e4 Nc6 Nf3 e6 d4 Nf6 e5 Nd5 c4 Nb6 d5 exd5 cxd...               e4   \n",
       "8547                                           e4 d5 e5               e4   \n",
       "\n",
       "     black_first_move  \n",
       "0                  d5  \n",
       "1                  c5  \n",
       "2                  g6  \n",
       "3                  Nf  \n",
       "4                  e5  \n",
       "...               ...  \n",
       "8543               e5  \n",
       "8544               e5  \n",
       "8545               d5  \n",
       "8546               Nc  \n",
       "8547               d5  \n",
       "\n",
       "[8548 rows x 19 columns]"
      ]
     },
     "execution_count": 18,
     "metadata": {},
     "output_type": "execute_result"
    }
   ],
   "source": [
    "df_cleaned"
   ]
  },
  {
   "cell_type": "code",
   "execution_count": 19,
   "metadata": {},
   "outputs": [
    {
     "data": {
      "text/html": [
       "<div>\n",
       "<style scoped>\n",
       "    .dataframe tbody tr th:only-of-type {\n",
       "        vertical-align: middle;\n",
       "    }\n",
       "\n",
       "    .dataframe tbody tr th {\n",
       "        vertical-align: top;\n",
       "    }\n",
       "\n",
       "    .dataframe thead th {\n",
       "        text-align: right;\n",
       "    }\n",
       "</style>\n",
       "<table border=\"1\" class=\"dataframe\">\n",
       "  <thead>\n",
       "    <tr style=\"text-align: right;\">\n",
       "      <th></th>\n",
       "      <th>id</th>\n",
       "      <th>rated</th>\n",
       "      <th>variant</th>\n",
       "      <th>speed</th>\n",
       "      <th>perf</th>\n",
       "      <th>createdAt</th>\n",
       "      <th>lastMoveAt</th>\n",
       "      <th>status</th>\n",
       "      <th>players</th>\n",
       "      <th>opening</th>\n",
       "      <th>moves</th>\n",
       "      <th>clock</th>\n",
       "      <th>winner</th>\n",
       "      <th>analysis</th>\n",
       "      <th>tournament</th>\n",
       "    </tr>\n",
       "  </thead>\n",
       "  <tbody>\n",
       "    <tr>\n",
       "      <th>0</th>\n",
       "      <td>GlTzWj5E</td>\n",
       "      <td>True</td>\n",
       "      <td>standard</td>\n",
       "      <td>rapid</td>\n",
       "      <td>rapid</td>\n",
       "      <td>1501663250307</td>\n",
       "      <td>1501663631820</td>\n",
       "      <td>draw</td>\n",
       "      <td>{'white': {'user': {'name': 'jobwoge', 'id': '...</td>\n",
       "      <td>{'eco': 'B01', 'name': 'Scandinavian Defense',...</td>\n",
       "      <td>e4 d5 e5 Bf5 d4 e6 Nc3 c5 Bd3 Bxd3 Qxd3 cxd4 Q...</td>\n",
       "      <td>{'initial': 420, 'increment': 5, 'totalTime': ...</td>\n",
       "      <td>draw</td>\n",
       "      <td>NaN</td>\n",
       "      <td>NaN</td>\n",
       "    </tr>\n",
       "    <tr>\n",
       "      <th>1</th>\n",
       "      <td>rbcpm9pr</td>\n",
       "      <td>True</td>\n",
       "      <td>standard</td>\n",
       "      <td>rapid</td>\n",
       "      <td>rapid</td>\n",
       "      <td>1503667901927</td>\n",
       "      <td>1503668681752</td>\n",
       "      <td>mate</td>\n",
       "      <td>{'white': {'user': {'name': 'fischerdipper', '...</td>\n",
       "      <td>{'eco': 'B53', 'name': 'Sicilian Defense: Chek...</td>\n",
       "      <td>e4 c5 Nf3 d6 d4 cxd4 Qxd4 a6 Nc3 e6 Bd3 Nc6 Qa...</td>\n",
       "      <td>{'initial': 300, 'increment': 5, 'totalTime': ...</td>\n",
       "      <td>white</td>\n",
       "      <td>NaN</td>\n",
       "      <td>NaN</td>\n",
       "    </tr>\n",
       "    <tr>\n",
       "      <th>2</th>\n",
       "      <td>lfKoLKHr</td>\n",
       "      <td>True</td>\n",
       "      <td>standard</td>\n",
       "      <td>rapid</td>\n",
       "      <td>rapid</td>\n",
       "      <td>1503077258251</td>\n",
       "      <td>1503077931494</td>\n",
       "      <td>resign</td>\n",
       "      <td>{'white': {'user': {'name': 'koepkos', 'id': '...</td>\n",
       "      <td>{'eco': 'B06', 'name': 'Modern Defense: Three ...</td>\n",
       "      <td>e4 g6 f4 Bg7 d4 e6 c3 d6 Nf3 Ne7 Bd3 a6 O-O b5...</td>\n",
       "      <td>{'initial': 300, 'increment': 5, 'totalTime': ...</td>\n",
       "      <td>white</td>\n",
       "      <td>NaN</td>\n",
       "      <td>NaN</td>\n",
       "    </tr>\n",
       "    <tr>\n",
       "      <th>3</th>\n",
       "      <td>Fl7n8wyn</td>\n",
       "      <td>True</td>\n",
       "      <td>standard</td>\n",
       "      <td>rapid</td>\n",
       "      <td>rapid</td>\n",
       "      <td>1502989712946</td>\n",
       "      <td>1502990495511</td>\n",
       "      <td>resign</td>\n",
       "      <td>{'white': {'user': {'name': 'adhen', 'id': 'ad...</td>\n",
       "      <td>{'eco': 'A15', 'name': 'English Opening: Anglo...</td>\n",
       "      <td>c4 Nf6 Qc2 d5 e3 e6 a3 c6 Nf3 Be7 Bd3 Nbd7 O-O...</td>\n",
       "      <td>{'initial': 300, 'increment': 5, 'totalTime': ...</td>\n",
       "      <td>white</td>\n",
       "      <td>NaN</td>\n",
       "      <td>NaN</td>\n",
       "    </tr>\n",
       "    <tr>\n",
       "      <th>4</th>\n",
       "      <td>BAKj62Jt</td>\n",
       "      <td>True</td>\n",
       "      <td>standard</td>\n",
       "      <td>rapid</td>\n",
       "      <td>rapid</td>\n",
       "      <td>1502903237747</td>\n",
       "      <td>1502903335119</td>\n",
       "      <td>mate</td>\n",
       "      <td>{'white': {'user': {'name': 'fischerdipper', '...</td>\n",
       "      <td>{'eco': 'C21', 'name': 'Danish Gambit Accepted...</td>\n",
       "      <td>e4 e5 d4 exd4 c3 dxc3 Bc4 cxb2 Bxb2 Nf6 e5 Nh5...</td>\n",
       "      <td>{'initial': 600, 'increment': 3, 'totalTime': ...</td>\n",
       "      <td>white</td>\n",
       "      <td>NaN</td>\n",
       "      <td>NaN</td>\n",
       "    </tr>\n",
       "    <tr>\n",
       "      <th>...</th>\n",
       "      <td>...</td>\n",
       "      <td>...</td>\n",
       "      <td>...</td>\n",
       "      <td>...</td>\n",
       "      <td>...</td>\n",
       "      <td>...</td>\n",
       "      <td>...</td>\n",
       "      <td>...</td>\n",
       "      <td>...</td>\n",
       "      <td>...</td>\n",
       "      <td>...</td>\n",
       "      <td>...</td>\n",
       "      <td>...</td>\n",
       "      <td>...</td>\n",
       "      <td>...</td>\n",
       "    </tr>\n",
       "    <tr>\n",
       "      <th>8543</th>\n",
       "      <td>rdD9KSfi</td>\n",
       "      <td>False</td>\n",
       "      <td>standard</td>\n",
       "      <td>rapid</td>\n",
       "      <td>rapid</td>\n",
       "      <td>1462851363686</td>\n",
       "      <td>1462852046766</td>\n",
       "      <td>resign</td>\n",
       "      <td>{'white': {'user': {'name': 'vzg100', 'id': 'v...</td>\n",
       "      <td>{'eco': 'B07', 'name': \"King's Pawn Game: Maró...</td>\n",
       "      <td>e4 e5 d4 d6 dxe5 dxe5 Qxd8+ Kxd8 Nf3 Nc6 Bc4 f...</td>\n",
       "      <td>{'initial': 600, 'increment': 0, 'totalTime': ...</td>\n",
       "      <td>white</td>\n",
       "      <td>NaN</td>\n",
       "      <td>NaN</td>\n",
       "    </tr>\n",
       "    <tr>\n",
       "      <th>8544</th>\n",
       "      <td>P5uLal64</td>\n",
       "      <td>True</td>\n",
       "      <td>standard</td>\n",
       "      <td>classical</td>\n",
       "      <td>classical</td>\n",
       "      <td>1456095775727</td>\n",
       "      <td>1456096599664</td>\n",
       "      <td>resign</td>\n",
       "      <td>{'white': {'user': {'name': 'mikaone', 'id': '...</td>\n",
       "      <td>{'eco': 'C24', 'name': \"Bishop's Opening: Berl...</td>\n",
       "      <td>e4 e5 Bc4 Nf6 d3 Nc6 Bg5 h6 Bxf6 Qxf6 h3 Bc5 c...</td>\n",
       "      <td>{'initial': 1800, 'increment': 0, 'totalTime':...</td>\n",
       "      <td>black</td>\n",
       "      <td>NaN</td>\n",
       "      <td>NaN</td>\n",
       "    </tr>\n",
       "    <tr>\n",
       "      <th>8545</th>\n",
       "      <td>hSqBGEK8</td>\n",
       "      <td>False</td>\n",
       "      <td>standard</td>\n",
       "      <td>rapid</td>\n",
       "      <td>rapid</td>\n",
       "      <td>1422405047620</td>\n",
       "      <td>1422405612330</td>\n",
       "      <td>outoftime</td>\n",
       "      <td>{'white': {'user': {'name': 'persian_girl', 'i...</td>\n",
       "      <td>{'eco': 'D06', 'name': \"Queen's Gambit Decline...</td>\n",
       "      <td>d4 d5 c4 Nf6 Nf3 Nc6 Nc3 Bg4 h3 Bxf3 gxf3 dxc4...</td>\n",
       "      <td>{'initial': 300, 'increment': 5, 'totalTime': ...</td>\n",
       "      <td>black</td>\n",
       "      <td>[{'eval': 25}, {'eval': 22}, {'eval': 25}, {'e...</td>\n",
       "      <td>NaN</td>\n",
       "    </tr>\n",
       "    <tr>\n",
       "      <th>8546</th>\n",
       "      <td>OhsyNZSG</td>\n",
       "      <td>False</td>\n",
       "      <td>standard</td>\n",
       "      <td>rapid</td>\n",
       "      <td>rapid</td>\n",
       "      <td>1422404470960</td>\n",
       "      <td>1422404842924</td>\n",
       "      <td>resign</td>\n",
       "      <td>{'white': {'user': {'name': 'malinna', 'id': '...</td>\n",
       "      <td>{'eco': 'B00', 'name': 'Nimzowitsch Defense: F...</td>\n",
       "      <td>e4 Nc6 Nf3 e6 d4 Nf6 e5 Nd5 c4 Nb6 d5 exd5 cxd...</td>\n",
       "      <td>{'initial': 300, 'increment': 5, 'totalTime': ...</td>\n",
       "      <td>white</td>\n",
       "      <td>[{'eval': 10}, {'eval': 31}, {'eval': 24}, {'e...</td>\n",
       "      <td>NaN</td>\n",
       "    </tr>\n",
       "    <tr>\n",
       "      <th>8547</th>\n",
       "      <td>cr5iuIrQ</td>\n",
       "      <td>True</td>\n",
       "      <td>standard</td>\n",
       "      <td>rapid</td>\n",
       "      <td>rapid</td>\n",
       "      <td>1425385753435</td>\n",
       "      <td>1425386308759</td>\n",
       "      <td>outoftime</td>\n",
       "      <td>{'white': {'user': {'name': 'DMKA', 'id': 'dmk...</td>\n",
       "      <td>{'eco': 'B01', 'name': 'Scandinavian Defense',...</td>\n",
       "      <td>e4 d5 e5</td>\n",
       "      <td>{'initial': 360, 'increment': 8, 'totalTime': ...</td>\n",
       "      <td>white</td>\n",
       "      <td>NaN</td>\n",
       "      <td>NaN</td>\n",
       "    </tr>\n",
       "  </tbody>\n",
       "</table>\n",
       "<p>8548 rows × 15 columns</p>\n",
       "</div>"
      ],
      "text/plain": [
       "            id  rated   variant      speed       perf      createdAt  \\\n",
       "0     GlTzWj5E   True  standard      rapid      rapid  1501663250307   \n",
       "1     rbcpm9pr   True  standard      rapid      rapid  1503667901927   \n",
       "2     lfKoLKHr   True  standard      rapid      rapid  1503077258251   \n",
       "3     Fl7n8wyn   True  standard      rapid      rapid  1502989712946   \n",
       "4     BAKj62Jt   True  standard      rapid      rapid  1502903237747   \n",
       "...        ...    ...       ...        ...        ...            ...   \n",
       "8543  rdD9KSfi  False  standard      rapid      rapid  1462851363686   \n",
       "8544  P5uLal64   True  standard  classical  classical  1456095775727   \n",
       "8545  hSqBGEK8  False  standard      rapid      rapid  1422405047620   \n",
       "8546  OhsyNZSG  False  standard      rapid      rapid  1422404470960   \n",
       "8547  cr5iuIrQ   True  standard      rapid      rapid  1425385753435   \n",
       "\n",
       "         lastMoveAt     status  \\\n",
       "0     1501663631820       draw   \n",
       "1     1503668681752       mate   \n",
       "2     1503077931494     resign   \n",
       "3     1502990495511     resign   \n",
       "4     1502903335119       mate   \n",
       "...             ...        ...   \n",
       "8543  1462852046766     resign   \n",
       "8544  1456096599664     resign   \n",
       "8545  1422405612330  outoftime   \n",
       "8546  1422404842924     resign   \n",
       "8547  1425386308759  outoftime   \n",
       "\n",
       "                                                players  \\\n",
       "0     {'white': {'user': {'name': 'jobwoge', 'id': '...   \n",
       "1     {'white': {'user': {'name': 'fischerdipper', '...   \n",
       "2     {'white': {'user': {'name': 'koepkos', 'id': '...   \n",
       "3     {'white': {'user': {'name': 'adhen', 'id': 'ad...   \n",
       "4     {'white': {'user': {'name': 'fischerdipper', '...   \n",
       "...                                                 ...   \n",
       "8543  {'white': {'user': {'name': 'vzg100', 'id': 'v...   \n",
       "8544  {'white': {'user': {'name': 'mikaone', 'id': '...   \n",
       "8545  {'white': {'user': {'name': 'persian_girl', 'i...   \n",
       "8546  {'white': {'user': {'name': 'malinna', 'id': '...   \n",
       "8547  {'white': {'user': {'name': 'DMKA', 'id': 'dmk...   \n",
       "\n",
       "                                                opening  \\\n",
       "0     {'eco': 'B01', 'name': 'Scandinavian Defense',...   \n",
       "1     {'eco': 'B53', 'name': 'Sicilian Defense: Chek...   \n",
       "2     {'eco': 'B06', 'name': 'Modern Defense: Three ...   \n",
       "3     {'eco': 'A15', 'name': 'English Opening: Anglo...   \n",
       "4     {'eco': 'C21', 'name': 'Danish Gambit Accepted...   \n",
       "...                                                 ...   \n",
       "8543  {'eco': 'B07', 'name': \"King's Pawn Game: Maró...   \n",
       "8544  {'eco': 'C24', 'name': \"Bishop's Opening: Berl...   \n",
       "8545  {'eco': 'D06', 'name': \"Queen's Gambit Decline...   \n",
       "8546  {'eco': 'B00', 'name': 'Nimzowitsch Defense: F...   \n",
       "8547  {'eco': 'B01', 'name': 'Scandinavian Defense',...   \n",
       "\n",
       "                                                  moves  \\\n",
       "0     e4 d5 e5 Bf5 d4 e6 Nc3 c5 Bd3 Bxd3 Qxd3 cxd4 Q...   \n",
       "1     e4 c5 Nf3 d6 d4 cxd4 Qxd4 a6 Nc3 e6 Bd3 Nc6 Qa...   \n",
       "2     e4 g6 f4 Bg7 d4 e6 c3 d6 Nf3 Ne7 Bd3 a6 O-O b5...   \n",
       "3     c4 Nf6 Qc2 d5 e3 e6 a3 c6 Nf3 Be7 Bd3 Nbd7 O-O...   \n",
       "4     e4 e5 d4 exd4 c3 dxc3 Bc4 cxb2 Bxb2 Nf6 e5 Nh5...   \n",
       "...                                                 ...   \n",
       "8543  e4 e5 d4 d6 dxe5 dxe5 Qxd8+ Kxd8 Nf3 Nc6 Bc4 f...   \n",
       "8544  e4 e5 Bc4 Nf6 d3 Nc6 Bg5 h6 Bxf6 Qxf6 h3 Bc5 c...   \n",
       "8545  d4 d5 c4 Nf6 Nf3 Nc6 Nc3 Bg4 h3 Bxf3 gxf3 dxc4...   \n",
       "8546  e4 Nc6 Nf3 e6 d4 Nf6 e5 Nd5 c4 Nb6 d5 exd5 cxd...   \n",
       "8547                                           e4 d5 e5   \n",
       "\n",
       "                                                  clock winner  \\\n",
       "0     {'initial': 420, 'increment': 5, 'totalTime': ...   draw   \n",
       "1     {'initial': 300, 'increment': 5, 'totalTime': ...  white   \n",
       "2     {'initial': 300, 'increment': 5, 'totalTime': ...  white   \n",
       "3     {'initial': 300, 'increment': 5, 'totalTime': ...  white   \n",
       "4     {'initial': 600, 'increment': 3, 'totalTime': ...  white   \n",
       "...                                                 ...    ...   \n",
       "8543  {'initial': 600, 'increment': 0, 'totalTime': ...  white   \n",
       "8544  {'initial': 1800, 'increment': 0, 'totalTime':...  black   \n",
       "8545  {'initial': 300, 'increment': 5, 'totalTime': ...  black   \n",
       "8546  {'initial': 300, 'increment': 5, 'totalTime': ...  white   \n",
       "8547  {'initial': 360, 'increment': 8, 'totalTime': ...  white   \n",
       "\n",
       "                                               analysis tournament  \n",
       "0                                                   NaN        NaN  \n",
       "1                                                   NaN        NaN  \n",
       "2                                                   NaN        NaN  \n",
       "3                                                   NaN        NaN  \n",
       "4                                                   NaN        NaN  \n",
       "...                                                 ...        ...  \n",
       "8543                                                NaN        NaN  \n",
       "8544                                                NaN        NaN  \n",
       "8545  [{'eval': 25}, {'eval': 22}, {'eval': 25}, {'e...        NaN  \n",
       "8546  [{'eval': 10}, {'eval': 31}, {'eval': 24}, {'e...        NaN  \n",
       "8547                                                NaN        NaN  \n",
       "\n",
       "[8548 rows x 15 columns]"
      ]
     },
     "execution_count": 19,
     "metadata": {},
     "output_type": "execute_result"
    }
   ],
   "source": [
    "df"
   ]
  },
  {
   "cell_type": "code",
   "execution_count": 20,
   "metadata": {},
   "outputs": [
    {
     "data": {
      "text/html": [
       "<div>\n",
       "<style scoped>\n",
       "    .dataframe tbody tr th:only-of-type {\n",
       "        vertical-align: middle;\n",
       "    }\n",
       "\n",
       "    .dataframe tbody tr th {\n",
       "        vertical-align: top;\n",
       "    }\n",
       "\n",
       "    .dataframe thead th {\n",
       "        text-align: right;\n",
       "    }\n",
       "</style>\n",
       "<table border=\"1\" class=\"dataframe\">\n",
       "  <thead>\n",
       "    <tr style=\"text-align: right;\">\n",
       "      <th></th>\n",
       "      <th>rated</th>\n",
       "      <th>variant</th>\n",
       "      <th>match_type</th>\n",
       "      <th>createdAt</th>\n",
       "      <th>status</th>\n",
       "      <th>white_player</th>\n",
       "      <th>white_player_id</th>\n",
       "      <th>white_rating</th>\n",
       "      <th>black_player</th>\n",
       "      <th>black_player_id</th>\n",
       "      <th>black_rating</th>\n",
       "      <th>initial_time</th>\n",
       "      <th>total_time</th>\n",
       "      <th>opening_data</th>\n",
       "      <th>eco</th>\n",
       "      <th>match_winner</th>\n",
       "      <th>moves</th>\n",
       "      <th>white_first_move</th>\n",
       "      <th>black_first_move</th>\n",
       "    </tr>\n",
       "  </thead>\n",
       "  <tbody>\n",
       "    <tr>\n",
       "      <th>6867</th>\n",
       "      <td>True</td>\n",
       "      <td>standard</td>\n",
       "      <td>rapid</td>\n",
       "      <td>1504448538642</td>\n",
       "      <td>resign</td>\n",
       "      <td>sostar</td>\n",
       "      <td>sostar</td>\n",
       "      <td>1456</td>\n",
       "      <td>Dipset</td>\n",
       "      <td>dipset</td>\n",
       "      <td>1467</td>\n",
       "      <td>420</td>\n",
       "      <td>700</td>\n",
       "      <td>Scandinavian Defense</td>\n",
       "      <td>B01</td>\n",
       "      <td>sostar</td>\n",
       "      <td>e4 d5 exd5 Bf5 Nc3 e6 g4 Bg6 dxe6 fxe6 Nf3 Bd6...</td>\n",
       "      <td>e4</td>\n",
       "      <td>d5</td>\n",
       "    </tr>\n",
       "    <tr>\n",
       "      <th>6868</th>\n",
       "      <td>True</td>\n",
       "      <td>standard</td>\n",
       "      <td>rapid</td>\n",
       "      <td>1504466932859</td>\n",
       "      <td>resign</td>\n",
       "      <td>BaranOrnarli</td>\n",
       "      <td>baranornarli</td>\n",
       "      <td>1794</td>\n",
       "      <td>SEFRmarzy65</td>\n",
       "      <td>sefrmarzy65</td>\n",
       "      <td>1784</td>\n",
       "      <td>900</td>\n",
       "      <td>900</td>\n",
       "      <td>Queen's Gambit Declined: Marshall Defense</td>\n",
       "      <td>D06</td>\n",
       "      <td>BaranOrnarli</td>\n",
       "      <td>d4 Nf6 c4 d5 Nf3 Bf5 Nc3 e6 Nh4 Bg6 Nxg6 hxg6 ...</td>\n",
       "      <td>d4</td>\n",
       "      <td>Nf</td>\n",
       "    </tr>\n",
       "    <tr>\n",
       "      <th>6869</th>\n",
       "      <td>True</td>\n",
       "      <td>standard</td>\n",
       "      <td>rapid</td>\n",
       "      <td>1504467738844</td>\n",
       "      <td>resign</td>\n",
       "      <td>talip1</td>\n",
       "      <td>talip1</td>\n",
       "      <td>1832</td>\n",
       "      <td>BaranOrnarli</td>\n",
       "      <td>baranornarli</td>\n",
       "      <td>1805</td>\n",
       "      <td>900</td>\n",
       "      <td>900</td>\n",
       "      <td>Sicilian Defense: Taimanov Variation, Szén Var...</td>\n",
       "      <td>B44</td>\n",
       "      <td>talip1</td>\n",
       "      <td>e4 c5 Nf3 e6 d4 cxd4 Nxd4 Nc6 Nb5 a6 Nd6+ Bxd6...</td>\n",
       "      <td>e4</td>\n",
       "      <td>c5</td>\n",
       "    </tr>\n",
       "    <tr>\n",
       "      <th>6870</th>\n",
       "      <td>True</td>\n",
       "      <td>standard</td>\n",
       "      <td>rapid</td>\n",
       "      <td>1504469296019</td>\n",
       "      <td>outoftime</td>\n",
       "      <td>argoscacchi</td>\n",
       "      <td>argoscacchi</td>\n",
       "      <td>1621</td>\n",
       "      <td>Chez91</td>\n",
       "      <td>chez91</td>\n",
       "      <td>1487</td>\n",
       "      <td>600</td>\n",
       "      <td>600</td>\n",
       "      <td>Scandinavian Defense: Main Line</td>\n",
       "      <td>B01</td>\n",
       "      <td>Chez91</td>\n",
       "      <td>e4 d5 exd5 Qxd5 Nc3 Qa5 Be2 c6 Nf3 Bg4 O-O Bxf...</td>\n",
       "      <td>e4</td>\n",
       "      <td>d5</td>\n",
       "    </tr>\n",
       "    <tr>\n",
       "      <th>6871</th>\n",
       "      <td>True</td>\n",
       "      <td>standard</td>\n",
       "      <td>rapid</td>\n",
       "      <td>1504469855693</td>\n",
       "      <td>mate</td>\n",
       "      <td>BaranOrnarli</td>\n",
       "      <td>baranornarli</td>\n",
       "      <td>1795</td>\n",
       "      <td>naumi</td>\n",
       "      <td>naumi</td>\n",
       "      <td>1811</td>\n",
       "      <td>900</td>\n",
       "      <td>900</td>\n",
       "      <td>Queen's Gambit Declined: Capablanca Variation</td>\n",
       "      <td>D30</td>\n",
       "      <td>BaranOrnarli</td>\n",
       "      <td>d4 Nf6 c4 e6 Nf3 d5 Bg5 h6 Bxf6 Qxf6 Nc3 c6 cx...</td>\n",
       "      <td>d4</td>\n",
       "      <td>Nf</td>\n",
       "    </tr>\n",
       "  </tbody>\n",
       "</table>\n",
       "</div>"
      ],
      "text/plain": [
       "      rated   variant match_type      createdAt     status  white_player  \\\n",
       "6867   True  standard      rapid  1504448538642     resign        sostar   \n",
       "6868   True  standard      rapid  1504466932859     resign  BaranOrnarli   \n",
       "6869   True  standard      rapid  1504467738844     resign        talip1   \n",
       "6870   True  standard      rapid  1504469296019  outoftime   argoscacchi   \n",
       "6871   True  standard      rapid  1504469855693       mate  BaranOrnarli   \n",
       "\n",
       "     white_player_id  white_rating  black_player black_player_id  \\\n",
       "6867          sostar          1456        Dipset          dipset   \n",
       "6868    baranornarli          1794   SEFRmarzy65     sefrmarzy65   \n",
       "6869          talip1          1832  BaranOrnarli    baranornarli   \n",
       "6870     argoscacchi          1621        Chez91          chez91   \n",
       "6871    baranornarli          1795         naumi           naumi   \n",
       "\n",
       "      black_rating  initial_time  total_time  \\\n",
       "6867          1467           420         700   \n",
       "6868          1784           900         900   \n",
       "6869          1805           900         900   \n",
       "6870          1487           600         600   \n",
       "6871          1811           900         900   \n",
       "\n",
       "                                           opening_data  eco  match_winner  \\\n",
       "6867                               Scandinavian Defense  B01        sostar   \n",
       "6868          Queen's Gambit Declined: Marshall Defense  D06  BaranOrnarli   \n",
       "6869  Sicilian Defense: Taimanov Variation, Szén Var...  B44        talip1   \n",
       "6870                    Scandinavian Defense: Main Line  B01        Chez91   \n",
       "6871      Queen's Gambit Declined: Capablanca Variation  D30  BaranOrnarli   \n",
       "\n",
       "                                                  moves white_first_move  \\\n",
       "6867  e4 d5 exd5 Bf5 Nc3 e6 g4 Bg6 dxe6 fxe6 Nf3 Bd6...               e4   \n",
       "6868  d4 Nf6 c4 d5 Nf3 Bf5 Nc3 e6 Nh4 Bg6 Nxg6 hxg6 ...               d4   \n",
       "6869  e4 c5 Nf3 e6 d4 cxd4 Nxd4 Nc6 Nb5 a6 Nd6+ Bxd6...               e4   \n",
       "6870  e4 d5 exd5 Qxd5 Nc3 Qa5 Be2 c6 Nf3 Bg4 O-O Bxf...               e4   \n",
       "6871  d4 Nf6 c4 e6 Nf3 d5 Bg5 h6 Bxf6 Qxf6 Nc3 c6 cx...               d4   \n",
       "\n",
       "     black_first_move  \n",
       "6867               d5  \n",
       "6868               Nf  \n",
       "6869               c5  \n",
       "6870               d5  \n",
       "6871               Nf  "
      ]
     },
     "execution_count": 20,
     "metadata": {},
     "output_type": "execute_result"
    }
   ],
   "source": [
    "df_final_cleaned = df_cleaned[df_cleaned[\"rated\"] == True].sort_values(by= \"createdAt\" ).reset_index(drop= True)\n",
    "\n",
    "df_final_cleaned.tail()"
   ]
  },
  {
   "cell_type": "markdown",
   "metadata": {},
   "source": [
    "## REFERENCE\n",
    "\n",
    "https://www.chessjournal.com/eco/\n",
    "\n"
   ]
  },
  {
   "cell_type": "code",
   "execution_count": 21,
   "metadata": {},
   "outputs": [],
   "source": [
    "df_final_cleaned.to_csv(path_or_buf= \"cleaned_data_act_2.csv\",index= False)"
   ]
  },
  {
   "cell_type": "markdown",
   "metadata": {},
   "source": [
    "## DATA VISUALIATION"
   ]
  },
  {
   "cell_type": "code",
   "execution_count": 22,
   "metadata": {},
   "outputs": [],
   "source": [
    "import plotly.graph_objects as go \n",
    "import plotly.express as px\n",
    "from plotly.subplots import make_subplots"
   ]
  },
  {
   "cell_type": "code",
   "execution_count": 24,
   "metadata": {},
   "outputs": [],
   "source": [
    "df_viz = pd.read_csv(\"cleaned_data_act_2.csv\")"
   ]
  },
  {
   "cell_type": "code",
   "execution_count": 25,
   "metadata": {},
   "outputs": [
    {
     "data": {
      "text/html": [
       "<div>\n",
       "<style scoped>\n",
       "    .dataframe tbody tr th:only-of-type {\n",
       "        vertical-align: middle;\n",
       "    }\n",
       "\n",
       "    .dataframe tbody tr th {\n",
       "        vertical-align: top;\n",
       "    }\n",
       "\n",
       "    .dataframe thead th {\n",
       "        text-align: right;\n",
       "    }\n",
       "</style>\n",
       "<table border=\"1\" class=\"dataframe\">\n",
       "  <thead>\n",
       "    <tr style=\"text-align: right;\">\n",
       "      <th></th>\n",
       "      <th>rated</th>\n",
       "      <th>variant</th>\n",
       "      <th>match_type</th>\n",
       "      <th>createdAt</th>\n",
       "      <th>status</th>\n",
       "      <th>white_player</th>\n",
       "      <th>white_player_id</th>\n",
       "      <th>white_rating</th>\n",
       "      <th>black_player</th>\n",
       "      <th>black_player_id</th>\n",
       "      <th>black_rating</th>\n",
       "      <th>initial_time</th>\n",
       "      <th>total_time</th>\n",
       "      <th>opening_data</th>\n",
       "      <th>eco</th>\n",
       "      <th>match_winner</th>\n",
       "      <th>moves</th>\n",
       "      <th>white_first_move</th>\n",
       "      <th>black_first_move</th>\n",
       "    </tr>\n",
       "  </thead>\n",
       "  <tbody>\n",
       "    <tr>\n",
       "      <th>0</th>\n",
       "      <td>True</td>\n",
       "      <td>standard</td>\n",
       "      <td>rapid</td>\n",
       "      <td>1407882877361</td>\n",
       "      <td>mate</td>\n",
       "      <td>seifca90</td>\n",
       "      <td>seifca90</td>\n",
       "      <td>1500</td>\n",
       "      <td>Cocomo</td>\n",
       "      <td>cocomo</td>\n",
       "      <td>1258</td>\n",
       "      <td>600</td>\n",
       "      <td>1000</td>\n",
       "      <td>Queen's Pawn Game</td>\n",
       "      <td>D00</td>\n",
       "      <td>Cocomo</td>\n",
       "      <td>d4 d5 e3 Nc6 Qf3 Nf6 c3 e6 Bb5 Bd7 Nh3 a6 Bd3 ...</td>\n",
       "      <td>d4</td>\n",
       "      <td>d5</td>\n",
       "    </tr>\n",
       "    <tr>\n",
       "      <th>1</th>\n",
       "      <td>True</td>\n",
       "      <td>standard</td>\n",
       "      <td>rapid</td>\n",
       "      <td>1407883535817</td>\n",
       "      <td>mate</td>\n",
       "      <td>Cocomo</td>\n",
       "      <td>cocomo</td>\n",
       "      <td>1269</td>\n",
       "      <td>seifca90</td>\n",
       "      <td>seifca90</td>\n",
       "      <td>1162</td>\n",
       "      <td>600</td>\n",
       "      <td>1000</td>\n",
       "      <td>Philidor Defense</td>\n",
       "      <td>C41</td>\n",
       "      <td>seifca90</td>\n",
       "      <td>e4 e5 Nf3 d6 Nc3 Nc6 Bc4 Nf6 d3 Be6 b3 Bxc4 bx...</td>\n",
       "      <td>e4</td>\n",
       "      <td>e5</td>\n",
       "    </tr>\n",
       "    <tr>\n",
       "      <th>2</th>\n",
       "      <td>True</td>\n",
       "      <td>standard</td>\n",
       "      <td>rapid</td>\n",
       "      <td>1407884185251</td>\n",
       "      <td>outoftime</td>\n",
       "      <td>seifca90</td>\n",
       "      <td>seifca90</td>\n",
       "      <td>1500</td>\n",
       "      <td>ghost</td>\n",
       "      <td>ghost</td>\n",
       "      <td>1707</td>\n",
       "      <td>120</td>\n",
       "      <td>520</td>\n",
       "      <td>Yusupov-Rubinstein System</td>\n",
       "      <td>A46</td>\n",
       "      <td>ghost</td>\n",
       "      <td>d4 Nf6 e3 e6 Nf3 c5 Bc4 b6 b3 Bb7 Nc3 a6 O-O B...</td>\n",
       "      <td>d4</td>\n",
       "      <td>Nf</td>\n",
       "    </tr>\n",
       "    <tr>\n",
       "      <th>3</th>\n",
       "      <td>True</td>\n",
       "      <td>standard</td>\n",
       "      <td>rapid</td>\n",
       "      <td>1407933702987</td>\n",
       "      <td>mate</td>\n",
       "      <td>seifca90</td>\n",
       "      <td>seifca90</td>\n",
       "      <td>1340</td>\n",
       "      <td>rest</td>\n",
       "      <td>rest</td>\n",
       "      <td>1366</td>\n",
       "      <td>540</td>\n",
       "      <td>1220</td>\n",
       "      <td>Queen's Pawn Game</td>\n",
       "      <td>D00</td>\n",
       "      <td>rest</td>\n",
       "      <td>d4 d5 e3 Nc6 Qf3 Nf6 Nh3 Bxh3 Qxh3 Qd7 Bb5 e6 ...</td>\n",
       "      <td>d4</td>\n",
       "      <td>d5</td>\n",
       "    </tr>\n",
       "    <tr>\n",
       "      <th>4</th>\n",
       "      <td>True</td>\n",
       "      <td>standard</td>\n",
       "      <td>classical</td>\n",
       "      <td>1415445294865</td>\n",
       "      <td>resign</td>\n",
       "      <td>cam999</td>\n",
       "      <td>cam999</td>\n",
       "      <td>1597</td>\n",
       "      <td>Salemchess5</td>\n",
       "      <td>salemchess5</td>\n",
       "      <td>1500</td>\n",
       "      <td>2700</td>\n",
       "      <td>2740</td>\n",
       "      <td>Mikenas Defense</td>\n",
       "      <td>A40</td>\n",
       "      <td>Salemchess5</td>\n",
       "      <td>d4 Nc6 c4 e6 a3 Qe7 b4 Nxd4 Qxd4 Qxb4+ axb4 Rb...</td>\n",
       "      <td>d4</td>\n",
       "      <td>Nc</td>\n",
       "    </tr>\n",
       "  </tbody>\n",
       "</table>\n",
       "</div>"
      ],
      "text/plain": [
       "   rated   variant match_type      createdAt     status white_player  \\\n",
       "0   True  standard      rapid  1407882877361       mate     seifca90   \n",
       "1   True  standard      rapid  1407883535817       mate       Cocomo   \n",
       "2   True  standard      rapid  1407884185251  outoftime     seifca90   \n",
       "3   True  standard      rapid  1407933702987       mate     seifca90   \n",
       "4   True  standard  classical  1415445294865     resign       cam999   \n",
       "\n",
       "  white_player_id  white_rating black_player black_player_id  black_rating  \\\n",
       "0        seifca90          1500       Cocomo          cocomo          1258   \n",
       "1          cocomo          1269     seifca90        seifca90          1162   \n",
       "2        seifca90          1500        ghost           ghost          1707   \n",
       "3        seifca90          1340         rest            rest          1366   \n",
       "4          cam999          1597  Salemchess5     salemchess5          1500   \n",
       "\n",
       "   initial_time  total_time               opening_data  eco match_winner  \\\n",
       "0           600        1000          Queen's Pawn Game  D00       Cocomo   \n",
       "1           600        1000           Philidor Defense  C41     seifca90   \n",
       "2           120         520  Yusupov-Rubinstein System  A46        ghost   \n",
       "3           540        1220          Queen's Pawn Game  D00         rest   \n",
       "4          2700        2740            Mikenas Defense  A40  Salemchess5   \n",
       "\n",
       "                                               moves white_first_move  \\\n",
       "0  d4 d5 e3 Nc6 Qf3 Nf6 c3 e6 Bb5 Bd7 Nh3 a6 Bd3 ...               d4   \n",
       "1  e4 e5 Nf3 d6 Nc3 Nc6 Bc4 Nf6 d3 Be6 b3 Bxc4 bx...               e4   \n",
       "2  d4 Nf6 e3 e6 Nf3 c5 Bc4 b6 b3 Bb7 Nc3 a6 O-O B...               d4   \n",
       "3  d4 d5 e3 Nc6 Qf3 Nf6 Nh3 Bxh3 Qxh3 Qd7 Bb5 e6 ...               d4   \n",
       "4  d4 Nc6 c4 e6 a3 Qe7 b4 Nxd4 Qxd4 Qxb4+ axb4 Rb...               d4   \n",
       "\n",
       "  black_first_move  \n",
       "0               d5  \n",
       "1               e5  \n",
       "2               Nf  \n",
       "3               d5  \n",
       "4               Nc  "
      ]
     },
     "execution_count": 25,
     "metadata": {},
     "output_type": "execute_result"
    }
   ],
   "source": [
    "df_viz.head()"
   ]
  },
  {
   "cell_type": "code",
   "execution_count": 26,
   "metadata": {},
   "outputs": [],
   "source": [
    "# most matches by player \n",
    "matches_played_arr = []\n",
    "win_rate_per_player_arr = []\n",
    "time_rapidandclassic = []\n",
    "all_player_data =pd.concat([df_viz[\"white_player\"],df_viz[\"black_player\"]]).unique()\n",
    "all_player_id = pd.concat([df_viz[\"white_player_id\"],df_viz[\"black_player_id\"]]).unique()\n",
    "\n",
    "for i in all_player_data:\n",
    "    matches_played_arr.append(df_viz.loc[(df_viz[\"white_player\"] == i) | (df_viz[\"black_player\"] == i),\"createdAt\"].count())\n",
    "    \n",
    "    win_i = (df_viz.loc[((df_viz[\"white_player\"] == i) | (df_viz[\"black_player\"] == i)) & (df_viz[\"match_winner\"] == i),\"createdAt\"].count())\n",
    "    all_i = (df_viz.loc[((df_viz[\"white_player\"] == i) | (df_viz[\"black_player\"] == i)),\"createdAt\"].count())\n",
    "    if all_i != 0:\n",
    "        win_rate_per_player_arr.append(round((win_i / all_i) *100,2))\n",
    "    else:\n",
    "        win_rate_per_player_arr.append(0)\n",
    "\n",
    "\n",
    "player_match_df = pd.DataFrame({\"Players\":all_player_data,\"Player_ID\": all_player_id ,\"Matches_Played\":matches_played_arr,\"Win_rate\":win_rate_per_player_arr}).sort_values(by= [\"Matches_Played\",\"Win_rate\"],ascending= False).reset_index(drop= True)\n",
    "\n"
   ]
  },
  {
   "cell_type": "code",
   "execution_count": 27,
   "metadata": {},
   "outputs": [
    {
     "data": {
      "text/html": [
       "<div>\n",
       "<style scoped>\n",
       "    .dataframe tbody tr th:only-of-type {\n",
       "        vertical-align: middle;\n",
       "    }\n",
       "\n",
       "    .dataframe tbody tr th {\n",
       "        vertical-align: top;\n",
       "    }\n",
       "\n",
       "    .dataframe thead th {\n",
       "        text-align: right;\n",
       "    }\n",
       "</style>\n",
       "<table border=\"1\" class=\"dataframe\">\n",
       "  <thead>\n",
       "    <tr style=\"text-align: right;\">\n",
       "      <th></th>\n",
       "      <th>Players</th>\n",
       "      <th>Player_ID</th>\n",
       "      <th>Matches_Played</th>\n",
       "      <th>Win_rate</th>\n",
       "    </tr>\n",
       "  </thead>\n",
       "  <tbody>\n",
       "    <tr>\n",
       "      <th>0</th>\n",
       "      <td>BlazingDragon</td>\n",
       "      <td>blazingdragon</td>\n",
       "      <td>48</td>\n",
       "      <td>35.42</td>\n",
       "    </tr>\n",
       "    <tr>\n",
       "      <th>1</th>\n",
       "      <td>FandM-Lancaster</td>\n",
       "      <td>fandm-lancaster</td>\n",
       "      <td>48</td>\n",
       "      <td>22.92</td>\n",
       "    </tr>\n",
       "    <tr>\n",
       "      <th>2</th>\n",
       "      <td>juncinmestrella</td>\n",
       "      <td>juncinmestrella</td>\n",
       "      <td>46</td>\n",
       "      <td>50.00</td>\n",
       "    </tr>\n",
       "    <tr>\n",
       "      <th>3</th>\n",
       "      <td>kevchod</td>\n",
       "      <td>kevchod</td>\n",
       "      <td>46</td>\n",
       "      <td>34.78</td>\n",
       "    </tr>\n",
       "    <tr>\n",
       "      <th>4</th>\n",
       "      <td>islam01</td>\n",
       "      <td>islam01</td>\n",
       "      <td>46</td>\n",
       "      <td>34.78</td>\n",
       "    </tr>\n",
       "    <tr>\n",
       "      <th>...</th>\n",
       "      <td>...</td>\n",
       "      <td>...</td>\n",
       "      <td>...</td>\n",
       "      <td>...</td>\n",
       "    </tr>\n",
       "    <tr>\n",
       "      <th>6288</th>\n",
       "      <td>Kevinsitho2</td>\n",
       "      <td>kevinsitho2</td>\n",
       "      <td>1</td>\n",
       "      <td>0.00</td>\n",
       "    </tr>\n",
       "    <tr>\n",
       "      <th>6289</th>\n",
       "      <td>Alkis1986</td>\n",
       "      <td>alkis1986</td>\n",
       "      <td>1</td>\n",
       "      <td>0.00</td>\n",
       "    </tr>\n",
       "    <tr>\n",
       "      <th>6290</th>\n",
       "      <td>k9mecromance3000</td>\n",
       "      <td>k9mecromance3000</td>\n",
       "      <td>1</td>\n",
       "      <td>0.00</td>\n",
       "    </tr>\n",
       "    <tr>\n",
       "      <th>6291</th>\n",
       "      <td>SEFRmarzy65</td>\n",
       "      <td>sefrmarzy65</td>\n",
       "      <td>1</td>\n",
       "      <td>0.00</td>\n",
       "    </tr>\n",
       "    <tr>\n",
       "      <th>6292</th>\n",
       "      <td>naumi</td>\n",
       "      <td>naumi</td>\n",
       "      <td>1</td>\n",
       "      <td>0.00</td>\n",
       "    </tr>\n",
       "  </tbody>\n",
       "</table>\n",
       "<p>6293 rows × 4 columns</p>\n",
       "</div>"
      ],
      "text/plain": [
       "               Players         Player_ID  Matches_Played  Win_rate\n",
       "0        BlazingDragon     blazingdragon              48     35.42\n",
       "1      FandM-Lancaster   fandm-lancaster              48     22.92\n",
       "2      juncinmestrella   juncinmestrella              46     50.00\n",
       "3              kevchod           kevchod              46     34.78\n",
       "4              islam01           islam01              46     34.78\n",
       "...                ...               ...             ...       ...\n",
       "6288       Kevinsitho2       kevinsitho2               1      0.00\n",
       "6289         Alkis1986         alkis1986               1      0.00\n",
       "6290  k9mecromance3000  k9mecromance3000               1      0.00\n",
       "6291       SEFRmarzy65       sefrmarzy65               1      0.00\n",
       "6292             naumi             naumi               1      0.00\n",
       "\n",
       "[6293 rows x 4 columns]"
      ]
     },
     "execution_count": 27,
     "metadata": {},
     "output_type": "execute_result"
    }
   ],
   "source": [
    "player_match_df"
   ]
  },
  {
   "cell_type": "code",
   "execution_count": 28,
   "metadata": {},
   "outputs": [],
   "source": [
    "player_match_df.to_csv(path_or_buf= \"chest_player_match_data.csv\",index= False)"
   ]
  },
  {
   "cell_type": "code",
   "execution_count": 31,
   "metadata": {},
   "outputs": [
    {
     "data": {
      "text/html": [
       "<div>\n",
       "<style scoped>\n",
       "    .dataframe tbody tr th:only-of-type {\n",
       "        vertical-align: middle;\n",
       "    }\n",
       "\n",
       "    .dataframe tbody tr th {\n",
       "        vertical-align: top;\n",
       "    }\n",
       "\n",
       "    .dataframe thead th {\n",
       "        text-align: right;\n",
       "    }\n",
       "</style>\n",
       "<table border=\"1\" class=\"dataframe\">\n",
       "  <thead>\n",
       "    <tr style=\"text-align: right;\">\n",
       "      <th></th>\n",
       "      <th>Players</th>\n",
       "      <th>Player_ID</th>\n",
       "      <th>Matches_Played</th>\n",
       "      <th>Win_rate</th>\n",
       "      <th>Drop_down_data</th>\n",
       "    </tr>\n",
       "  </thead>\n",
       "  <tbody>\n",
       "    <tr>\n",
       "      <th>0</th>\n",
       "      <td>BlazingDragon</td>\n",
       "      <td>blazingdragon</td>\n",
       "      <td>48</td>\n",
       "      <td>35.42</td>\n",
       "      <td>BlazingDragon (MP: 48, Win Rate: 35.42)</td>\n",
       "    </tr>\n",
       "    <tr>\n",
       "      <th>1</th>\n",
       "      <td>FandM-Lancaster</td>\n",
       "      <td>fandm-lancaster</td>\n",
       "      <td>48</td>\n",
       "      <td>22.92</td>\n",
       "      <td>FandM-Lancaster (MP: 48, Win Rate: 22.92)</td>\n",
       "    </tr>\n",
       "    <tr>\n",
       "      <th>2</th>\n",
       "      <td>juncinmestrella</td>\n",
       "      <td>juncinmestrella</td>\n",
       "      <td>46</td>\n",
       "      <td>50.00</td>\n",
       "      <td>juncinmestrella (MP: 46, Win Rate: 50.0)</td>\n",
       "    </tr>\n",
       "    <tr>\n",
       "      <th>3</th>\n",
       "      <td>kevchod</td>\n",
       "      <td>kevchod</td>\n",
       "      <td>46</td>\n",
       "      <td>34.78</td>\n",
       "      <td>kevchod (MP: 46, Win Rate: 34.78)</td>\n",
       "    </tr>\n",
       "    <tr>\n",
       "      <th>4</th>\n",
       "      <td>islam01</td>\n",
       "      <td>islam01</td>\n",
       "      <td>46</td>\n",
       "      <td>34.78</td>\n",
       "      <td>islam01 (MP: 46, Win Rate: 34.78)</td>\n",
       "    </tr>\n",
       "    <tr>\n",
       "      <th>...</th>\n",
       "      <td>...</td>\n",
       "      <td>...</td>\n",
       "      <td>...</td>\n",
       "      <td>...</td>\n",
       "      <td>...</td>\n",
       "    </tr>\n",
       "    <tr>\n",
       "      <th>6288</th>\n",
       "      <td>Kevinsitho2</td>\n",
       "      <td>kevinsitho2</td>\n",
       "      <td>1</td>\n",
       "      <td>0.00</td>\n",
       "      <td>Kevinsitho2 (MP: 1, Win Rate: 0.0)</td>\n",
       "    </tr>\n",
       "    <tr>\n",
       "      <th>6289</th>\n",
       "      <td>Alkis1986</td>\n",
       "      <td>alkis1986</td>\n",
       "      <td>1</td>\n",
       "      <td>0.00</td>\n",
       "      <td>Alkis1986 (MP: 1, Win Rate: 0.0)</td>\n",
       "    </tr>\n",
       "    <tr>\n",
       "      <th>6290</th>\n",
       "      <td>k9mecromance3000</td>\n",
       "      <td>k9mecromance3000</td>\n",
       "      <td>1</td>\n",
       "      <td>0.00</td>\n",
       "      <td>k9mecromance3000 (MP: 1, Win Rate: 0.0)</td>\n",
       "    </tr>\n",
       "    <tr>\n",
       "      <th>6291</th>\n",
       "      <td>SEFRmarzy65</td>\n",
       "      <td>sefrmarzy65</td>\n",
       "      <td>1</td>\n",
       "      <td>0.00</td>\n",
       "      <td>SEFRmarzy65 (MP: 1, Win Rate: 0.0)</td>\n",
       "    </tr>\n",
       "    <tr>\n",
       "      <th>6292</th>\n",
       "      <td>naumi</td>\n",
       "      <td>naumi</td>\n",
       "      <td>1</td>\n",
       "      <td>0.00</td>\n",
       "      <td>naumi (MP: 1, Win Rate: 0.0)</td>\n",
       "    </tr>\n",
       "  </tbody>\n",
       "</table>\n",
       "<p>6293 rows × 5 columns</p>\n",
       "</div>"
      ],
      "text/plain": [
       "               Players         Player_ID  Matches_Played  Win_rate  \\\n",
       "0        BlazingDragon     blazingdragon              48     35.42   \n",
       "1      FandM-Lancaster   fandm-lancaster              48     22.92   \n",
       "2      juncinmestrella   juncinmestrella              46     50.00   \n",
       "3              kevchod           kevchod              46     34.78   \n",
       "4              islam01           islam01              46     34.78   \n",
       "...                ...               ...             ...       ...   \n",
       "6288       Kevinsitho2       kevinsitho2               1      0.00   \n",
       "6289         Alkis1986         alkis1986               1      0.00   \n",
       "6290  k9mecromance3000  k9mecromance3000               1      0.00   \n",
       "6291       SEFRmarzy65       sefrmarzy65               1      0.00   \n",
       "6292             naumi             naumi               1      0.00   \n",
       "\n",
       "                                 Drop_down_data  \n",
       "0       BlazingDragon (MP: 48, Win Rate: 35.42)  \n",
       "1     FandM-Lancaster (MP: 48, Win Rate: 22.92)  \n",
       "2      juncinmestrella (MP: 46, Win Rate: 50.0)  \n",
       "3             kevchod (MP: 46, Win Rate: 34.78)  \n",
       "4             islam01 (MP: 46, Win Rate: 34.78)  \n",
       "...                                         ...  \n",
       "6288         Kevinsitho2 (MP: 1, Win Rate: 0.0)  \n",
       "6289           Alkis1986 (MP: 1, Win Rate: 0.0)  \n",
       "6290    k9mecromance3000 (MP: 1, Win Rate: 0.0)  \n",
       "6291         SEFRmarzy65 (MP: 1, Win Rate: 0.0)  \n",
       "6292               naumi (MP: 1, Win Rate: 0.0)  \n",
       "\n",
       "[6293 rows x 5 columns]"
      ]
     },
     "execution_count": 31,
     "metadata": {},
     "output_type": "execute_result"
    }
   ],
   "source": [
    "# player info data \n",
    "\n",
    "player_info_data = pd.read_csv(\"chest_player_match_data.csv\")\n",
    "drop_down_data = []\n",
    "for i,j in enumerate(player_info_data[\"Players\"]):\n",
    "    drop_down_data.append(j + \" (MP: \" + str(player_info_data.loc[i,\"Matches_Played\"]) +\", Win Rate: \" + str(player_info_data.loc[i,\"Win_rate\"]) + \")\")\n",
    "player_info_data[\"Drop_down_data\"] = drop_down_data\n",
    "player_info_data"
   ]
  },
  {
   "cell_type": "code",
   "execution_count": 32,
   "metadata": {},
   "outputs": [
    {
     "data": {
      "text/plain": [
       "'juncinmestrella'"
      ]
     },
     "execution_count": 32,
     "metadata": {},
     "output_type": "execute_result"
    }
   ],
   "source": [
    "player_info_data[\"Drop_down_data\"] = drop_down_data\n",
    "target_name = player_info_data[player_info_data[\"Drop_down_data\"] == str(drop_down_data[2])][\"Players\"].reset_index(drop= True)[0]\n",
    "target_name"
   ]
  },
  {
   "cell_type": "markdown",
   "metadata": {},
   "source": [
    "### Number of wins vs numbber of loses and draws"
   ]
  },
  {
   "cell_type": "code",
   "execution_count": 33,
   "metadata": {},
   "outputs": [
    {
     "data": {
      "text/html": [
       "<div>\n",
       "<style scoped>\n",
       "    .dataframe tbody tr th:only-of-type {\n",
       "        vertical-align: middle;\n",
       "    }\n",
       "\n",
       "    .dataframe tbody tr th {\n",
       "        vertical-align: top;\n",
       "    }\n",
       "\n",
       "    .dataframe thead th {\n",
       "        text-align: right;\n",
       "    }\n",
       "</style>\n",
       "<table border=\"1\" class=\"dataframe\">\n",
       "  <thead>\n",
       "    <tr style=\"text-align: right;\">\n",
       "      <th></th>\n",
       "      <th>Events</th>\n",
       "      <th>Counts</th>\n",
       "    </tr>\n",
       "  </thead>\n",
       "  <tbody>\n",
       "    <tr>\n",
       "      <th>0</th>\n",
       "      <td>win</td>\n",
       "      <td>23</td>\n",
       "    </tr>\n",
       "    <tr>\n",
       "      <th>1</th>\n",
       "      <td>loss</td>\n",
       "      <td>20</td>\n",
       "    </tr>\n",
       "    <tr>\n",
       "      <th>2</th>\n",
       "      <td>draw</td>\n",
       "      <td>3</td>\n",
       "    </tr>\n",
       "  </tbody>\n",
       "</table>\n",
       "</div>"
      ],
      "text/plain": [
       "  Events  Counts\n",
       "0    win      23\n",
       "1   loss      20\n",
       "2   draw       3"
      ]
     },
     "execution_count": 33,
     "metadata": {},
     "output_type": "execute_result"
    }
   ],
   "source": [
    "win_pie_arr = {}\n",
    "\n",
    "win_pie_arr[\"win\"] = (df_viz.loc[((df_viz[\"white_player\"] == target_name) | (df_viz[\"black_player\"] == target_name)) & (df_viz[\"match_winner\"] == target_name),\"match_winner\"].count())\n",
    "win_pie_arr[\"loss\"] = (df_viz.loc[((df_viz[\"white_player\"] == target_name) | (df_viz[\"black_player\"] == target_name)) & (df_viz[\"match_winner\"] != target_name) & (df_viz[\"match_winner\"] != \"draw\"),\"match_winner\"].count())\n",
    "win_pie_arr[\"draw\"] = (df_viz.loc[((df_viz[\"white_player\"] == target_name) | (df_viz[\"black_player\"] == target_name)) & (df_viz[\"match_winner\"] != target_name) & (df_viz[\"match_winner\"] == \"draw\"),\"match_winner\"].count())\n",
    "\n",
    "\n",
    "win_df = pd.DataFrame({\"Events\":win_pie_arr.keys(),\"Counts\": win_pie_arr.values()})\n",
    "\n",
    "win_df"
   ]
  },
  {
   "cell_type": "code",
   "execution_count": 34,
   "metadata": {},
   "outputs": [
    {
     "data": {
      "application/vnd.plotly.v1+json": {
       "config": {
        "plotlyServerURL": "https://plot.ly"
       },
       "data": [
        {
         "alignmentgroup": "True",
         "hovertemplate": "Events=%{y}<br>Counts=%{text}<extra></extra>",
         "legendgroup": "win",
         "marker": {
          "color": "yellow",
          "pattern": {
           "shape": ""
          }
         },
         "name": "win",
         "offsetgroup": "win",
         "orientation": "h",
         "showlegend": true,
         "text": [
          23
         ],
         "textfont": {
          "family": "verdana, sans-serif",
          "size": 30
         },
         "textposition": "outside",
         "type": "bar",
         "x": [
          23
         ],
         "xaxis": "x",
         "y": [
          "win"
         ],
         "yaxis": "y"
        },
        {
         "alignmentgroup": "True",
         "hovertemplate": "Events=%{y}<br>Counts=%{text}<extra></extra>",
         "legendgroup": "loss",
         "marker": {
          "color": "grey",
          "pattern": {
           "shape": ""
          }
         },
         "name": "loss",
         "offsetgroup": "loss",
         "orientation": "h",
         "showlegend": true,
         "text": [
          20
         ],
         "textfont": {
          "family": "verdana, sans-serif",
          "size": 30
         },
         "textposition": "outside",
         "type": "bar",
         "x": [
          20
         ],
         "xaxis": "x",
         "y": [
          "loss"
         ],
         "yaxis": "y"
        },
        {
         "alignmentgroup": "True",
         "hovertemplate": "Events=%{y}<br>Counts=%{text}<extra></extra>",
         "legendgroup": "draw",
         "marker": {
          "color": "grey",
          "pattern": {
           "shape": ""
          }
         },
         "name": "draw",
         "offsetgroup": "draw",
         "orientation": "h",
         "showlegend": true,
         "text": [
          3
         ],
         "textfont": {
          "family": "verdana, sans-serif",
          "size": 30
         },
         "textposition": "outside",
         "type": "bar",
         "x": [
          3
         ],
         "xaxis": "x",
         "y": [
          "draw"
         ],
         "yaxis": "y"
        }
       ],
       "layout": {
        "autosize": true,
        "barmode": "relative",
        "font": {
         "color": "Black",
         "family": "verdana, sans-serif",
         "size": 20
        },
        "legend": {
         "title": {
          "text": "Events"
         },
         "tracegroupgap": 0
        },
        "margin": {
         "t": 60
        },
        "template": {
         "data": {
          "bar": [
           {
            "error_x": {
             "color": "#2a3f5f"
            },
            "error_y": {
             "color": "#2a3f5f"
            },
            "marker": {
             "line": {
              "color": "#E5ECF6",
              "width": 0.5
             },
             "pattern": {
              "fillmode": "overlay",
              "size": 10,
              "solidity": 0.2
             }
            },
            "type": "bar"
           }
          ],
          "barpolar": [
           {
            "marker": {
             "line": {
              "color": "#E5ECF6",
              "width": 0.5
             },
             "pattern": {
              "fillmode": "overlay",
              "size": 10,
              "solidity": 0.2
             }
            },
            "type": "barpolar"
           }
          ],
          "carpet": [
           {
            "aaxis": {
             "endlinecolor": "#2a3f5f",
             "gridcolor": "white",
             "linecolor": "white",
             "minorgridcolor": "white",
             "startlinecolor": "#2a3f5f"
            },
            "baxis": {
             "endlinecolor": "#2a3f5f",
             "gridcolor": "white",
             "linecolor": "white",
             "minorgridcolor": "white",
             "startlinecolor": "#2a3f5f"
            },
            "type": "carpet"
           }
          ],
          "choropleth": [
           {
            "colorbar": {
             "outlinewidth": 0,
             "ticks": ""
            },
            "type": "choropleth"
           }
          ],
          "contour": [
           {
            "colorbar": {
             "outlinewidth": 0,
             "ticks": ""
            },
            "colorscale": [
             [
              0,
              "#0d0887"
             ],
             [
              0.1111111111111111,
              "#46039f"
             ],
             [
              0.2222222222222222,
              "#7201a8"
             ],
             [
              0.3333333333333333,
              "#9c179e"
             ],
             [
              0.4444444444444444,
              "#bd3786"
             ],
             [
              0.5555555555555556,
              "#d8576b"
             ],
             [
              0.6666666666666666,
              "#ed7953"
             ],
             [
              0.7777777777777778,
              "#fb9f3a"
             ],
             [
              0.8888888888888888,
              "#fdca26"
             ],
             [
              1,
              "#f0f921"
             ]
            ],
            "type": "contour"
           }
          ],
          "contourcarpet": [
           {
            "colorbar": {
             "outlinewidth": 0,
             "ticks": ""
            },
            "type": "contourcarpet"
           }
          ],
          "heatmap": [
           {
            "colorbar": {
             "outlinewidth": 0,
             "ticks": ""
            },
            "colorscale": [
             [
              0,
              "#0d0887"
             ],
             [
              0.1111111111111111,
              "#46039f"
             ],
             [
              0.2222222222222222,
              "#7201a8"
             ],
             [
              0.3333333333333333,
              "#9c179e"
             ],
             [
              0.4444444444444444,
              "#bd3786"
             ],
             [
              0.5555555555555556,
              "#d8576b"
             ],
             [
              0.6666666666666666,
              "#ed7953"
             ],
             [
              0.7777777777777778,
              "#fb9f3a"
             ],
             [
              0.8888888888888888,
              "#fdca26"
             ],
             [
              1,
              "#f0f921"
             ]
            ],
            "type": "heatmap"
           }
          ],
          "heatmapgl": [
           {
            "colorbar": {
             "outlinewidth": 0,
             "ticks": ""
            },
            "colorscale": [
             [
              0,
              "#0d0887"
             ],
             [
              0.1111111111111111,
              "#46039f"
             ],
             [
              0.2222222222222222,
              "#7201a8"
             ],
             [
              0.3333333333333333,
              "#9c179e"
             ],
             [
              0.4444444444444444,
              "#bd3786"
             ],
             [
              0.5555555555555556,
              "#d8576b"
             ],
             [
              0.6666666666666666,
              "#ed7953"
             ],
             [
              0.7777777777777778,
              "#fb9f3a"
             ],
             [
              0.8888888888888888,
              "#fdca26"
             ],
             [
              1,
              "#f0f921"
             ]
            ],
            "type": "heatmapgl"
           }
          ],
          "histogram": [
           {
            "marker": {
             "pattern": {
              "fillmode": "overlay",
              "size": 10,
              "solidity": 0.2
             }
            },
            "type": "histogram"
           }
          ],
          "histogram2d": [
           {
            "colorbar": {
             "outlinewidth": 0,
             "ticks": ""
            },
            "colorscale": [
             [
              0,
              "#0d0887"
             ],
             [
              0.1111111111111111,
              "#46039f"
             ],
             [
              0.2222222222222222,
              "#7201a8"
             ],
             [
              0.3333333333333333,
              "#9c179e"
             ],
             [
              0.4444444444444444,
              "#bd3786"
             ],
             [
              0.5555555555555556,
              "#d8576b"
             ],
             [
              0.6666666666666666,
              "#ed7953"
             ],
             [
              0.7777777777777778,
              "#fb9f3a"
             ],
             [
              0.8888888888888888,
              "#fdca26"
             ],
             [
              1,
              "#f0f921"
             ]
            ],
            "type": "histogram2d"
           }
          ],
          "histogram2dcontour": [
           {
            "colorbar": {
             "outlinewidth": 0,
             "ticks": ""
            },
            "colorscale": [
             [
              0,
              "#0d0887"
             ],
             [
              0.1111111111111111,
              "#46039f"
             ],
             [
              0.2222222222222222,
              "#7201a8"
             ],
             [
              0.3333333333333333,
              "#9c179e"
             ],
             [
              0.4444444444444444,
              "#bd3786"
             ],
             [
              0.5555555555555556,
              "#d8576b"
             ],
             [
              0.6666666666666666,
              "#ed7953"
             ],
             [
              0.7777777777777778,
              "#fb9f3a"
             ],
             [
              0.8888888888888888,
              "#fdca26"
             ],
             [
              1,
              "#f0f921"
             ]
            ],
            "type": "histogram2dcontour"
           }
          ],
          "mesh3d": [
           {
            "colorbar": {
             "outlinewidth": 0,
             "ticks": ""
            },
            "type": "mesh3d"
           }
          ],
          "parcoords": [
           {
            "line": {
             "colorbar": {
              "outlinewidth": 0,
              "ticks": ""
             }
            },
            "type": "parcoords"
           }
          ],
          "pie": [
           {
            "automargin": true,
            "type": "pie"
           }
          ],
          "scatter": [
           {
            "fillpattern": {
             "fillmode": "overlay",
             "size": 10,
             "solidity": 0.2
            },
            "type": "scatter"
           }
          ],
          "scatter3d": [
           {
            "line": {
             "colorbar": {
              "outlinewidth": 0,
              "ticks": ""
             }
            },
            "marker": {
             "colorbar": {
              "outlinewidth": 0,
              "ticks": ""
             }
            },
            "type": "scatter3d"
           }
          ],
          "scattercarpet": [
           {
            "marker": {
             "colorbar": {
              "outlinewidth": 0,
              "ticks": ""
             }
            },
            "type": "scattercarpet"
           }
          ],
          "scattergeo": [
           {
            "marker": {
             "colorbar": {
              "outlinewidth": 0,
              "ticks": ""
             }
            },
            "type": "scattergeo"
           }
          ],
          "scattergl": [
           {
            "marker": {
             "colorbar": {
              "outlinewidth": 0,
              "ticks": ""
             }
            },
            "type": "scattergl"
           }
          ],
          "scattermapbox": [
           {
            "marker": {
             "colorbar": {
              "outlinewidth": 0,
              "ticks": ""
             }
            },
            "type": "scattermapbox"
           }
          ],
          "scatterpolar": [
           {
            "marker": {
             "colorbar": {
              "outlinewidth": 0,
              "ticks": ""
             }
            },
            "type": "scatterpolar"
           }
          ],
          "scatterpolargl": [
           {
            "marker": {
             "colorbar": {
              "outlinewidth": 0,
              "ticks": ""
             }
            },
            "type": "scatterpolargl"
           }
          ],
          "scatterternary": [
           {
            "marker": {
             "colorbar": {
              "outlinewidth": 0,
              "ticks": ""
             }
            },
            "type": "scatterternary"
           }
          ],
          "surface": [
           {
            "colorbar": {
             "outlinewidth": 0,
             "ticks": ""
            },
            "colorscale": [
             [
              0,
              "#0d0887"
             ],
             [
              0.1111111111111111,
              "#46039f"
             ],
             [
              0.2222222222222222,
              "#7201a8"
             ],
             [
              0.3333333333333333,
              "#9c179e"
             ],
             [
              0.4444444444444444,
              "#bd3786"
             ],
             [
              0.5555555555555556,
              "#d8576b"
             ],
             [
              0.6666666666666666,
              "#ed7953"
             ],
             [
              0.7777777777777778,
              "#fb9f3a"
             ],
             [
              0.8888888888888888,
              "#fdca26"
             ],
             [
              1,
              "#f0f921"
             ]
            ],
            "type": "surface"
           }
          ],
          "table": [
           {
            "cells": {
             "fill": {
              "color": "#EBF0F8"
             },
             "line": {
              "color": "white"
             }
            },
            "header": {
             "fill": {
              "color": "#C8D4E3"
             },
             "line": {
              "color": "white"
             }
            },
            "type": "table"
           }
          ]
         },
         "layout": {
          "annotationdefaults": {
           "arrowcolor": "#2a3f5f",
           "arrowhead": 0,
           "arrowwidth": 1
          },
          "autotypenumbers": "strict",
          "coloraxis": {
           "colorbar": {
            "outlinewidth": 0,
            "ticks": ""
           }
          },
          "colorscale": {
           "diverging": [
            [
             0,
             "#8e0152"
            ],
            [
             0.1,
             "#c51b7d"
            ],
            [
             0.2,
             "#de77ae"
            ],
            [
             0.3,
             "#f1b6da"
            ],
            [
             0.4,
             "#fde0ef"
            ],
            [
             0.5,
             "#f7f7f7"
            ],
            [
             0.6,
             "#e6f5d0"
            ],
            [
             0.7,
             "#b8e186"
            ],
            [
             0.8,
             "#7fbc41"
            ],
            [
             0.9,
             "#4d9221"
            ],
            [
             1,
             "#276419"
            ]
           ],
           "sequential": [
            [
             0,
             "#0d0887"
            ],
            [
             0.1111111111111111,
             "#46039f"
            ],
            [
             0.2222222222222222,
             "#7201a8"
            ],
            [
             0.3333333333333333,
             "#9c179e"
            ],
            [
             0.4444444444444444,
             "#bd3786"
            ],
            [
             0.5555555555555556,
             "#d8576b"
            ],
            [
             0.6666666666666666,
             "#ed7953"
            ],
            [
             0.7777777777777778,
             "#fb9f3a"
            ],
            [
             0.8888888888888888,
             "#fdca26"
            ],
            [
             1,
             "#f0f921"
            ]
           ],
           "sequentialminus": [
            [
             0,
             "#0d0887"
            ],
            [
             0.1111111111111111,
             "#46039f"
            ],
            [
             0.2222222222222222,
             "#7201a8"
            ],
            [
             0.3333333333333333,
             "#9c179e"
            ],
            [
             0.4444444444444444,
             "#bd3786"
            ],
            [
             0.5555555555555556,
             "#d8576b"
            ],
            [
             0.6666666666666666,
             "#ed7953"
            ],
            [
             0.7777777777777778,
             "#fb9f3a"
            ],
            [
             0.8888888888888888,
             "#fdca26"
            ],
            [
             1,
             "#f0f921"
            ]
           ]
          },
          "colorway": [
           "#636efa",
           "#EF553B",
           "#00cc96",
           "#ab63fa",
           "#FFA15A",
           "#19d3f3",
           "#FF6692",
           "#B6E880",
           "#FF97FF",
           "#FECB52"
          ],
          "font": {
           "color": "#2a3f5f"
          },
          "geo": {
           "bgcolor": "white",
           "lakecolor": "white",
           "landcolor": "#E5ECF6",
           "showlakes": true,
           "showland": true,
           "subunitcolor": "white"
          },
          "hoverlabel": {
           "align": "left"
          },
          "hovermode": "closest",
          "mapbox": {
           "style": "light"
          },
          "paper_bgcolor": "white",
          "plot_bgcolor": "#E5ECF6",
          "polar": {
           "angularaxis": {
            "gridcolor": "white",
            "linecolor": "white",
            "ticks": ""
           },
           "bgcolor": "#E5ECF6",
           "radialaxis": {
            "gridcolor": "white",
            "linecolor": "white",
            "ticks": ""
           }
          },
          "scene": {
           "xaxis": {
            "backgroundcolor": "#E5ECF6",
            "gridcolor": "white",
            "gridwidth": 2,
            "linecolor": "white",
            "showbackground": true,
            "ticks": "",
            "zerolinecolor": "white"
           },
           "yaxis": {
            "backgroundcolor": "#E5ECF6",
            "gridcolor": "white",
            "gridwidth": 2,
            "linecolor": "white",
            "showbackground": true,
            "ticks": "",
            "zerolinecolor": "white"
           },
           "zaxis": {
            "backgroundcolor": "#E5ECF6",
            "gridcolor": "white",
            "gridwidth": 2,
            "linecolor": "white",
            "showbackground": true,
            "ticks": "",
            "zerolinecolor": "white"
           }
          },
          "shapedefaults": {
           "line": {
            "color": "#2a3f5f"
           }
          },
          "ternary": {
           "aaxis": {
            "gridcolor": "white",
            "linecolor": "white",
            "ticks": ""
           },
           "baxis": {
            "gridcolor": "white",
            "linecolor": "white",
            "ticks": ""
           },
           "bgcolor": "#E5ECF6",
           "caxis": {
            "gridcolor": "white",
            "linecolor": "white",
            "ticks": ""
           }
          },
          "title": {
           "x": 0.05
          },
          "xaxis": {
           "automargin": true,
           "gridcolor": "white",
           "linecolor": "white",
           "ticks": "",
           "title": {
            "standoff": 15
           },
           "zerolinecolor": "white",
           "zerolinewidth": 2
          },
          "yaxis": {
           "automargin": true,
           "gridcolor": "white",
           "linecolor": "white",
           "ticks": "",
           "title": {
            "standoff": 15
           },
           "zerolinecolor": "white",
           "zerolinewidth": 2
          }
         }
        },
        "title": {
         "font": {
          "family": "verdana, sans-serif",
          "size": 18
         }
        },
        "xaxis": {
         "anchor": "y",
         "domain": [
          0,
          1
         ],
         "title": {
          "text": "Count"
         }
        },
        "yaxis": {
         "anchor": "x",
         "categoryarray": [
          "draw",
          "loss",
          "win"
         ],
         "categoryorder": "array",
         "domain": [
          0,
          1
         ],
         "title": {
          "text": "Results"
         }
        }
       }
      }
     },
     "metadata": {},
     "output_type": "display_data"
    }
   ],
   "source": [
    "fig1 = px.bar(win_df, x='Counts', y='Events', text='Counts', orientation= 'h' , color='Events',color_discrete_sequence = [\"yellow\", \"grey\",\"grey\"])\n",
    "fig1.update_traces(textposition=\"outside\", textfont=dict(family=\"verdana, sans-serif\", size=30))\n",
    "fig1.update_layout(\n",
    "    autosize= True,\n",
    "    xaxis_title='Count',\n",
    "    yaxis_title='Results',\n",
    "    title_font=dict(size=18, family=\"verdana, sans-serif\"),\n",
    "    font=dict(family=\"verdana, sans-serif\", size = 20, color=\"Black\")\n",
    ")\n"
   ]
  },
  {
   "cell_type": "code",
   "execution_count": 36,
   "metadata": {},
   "outputs": [
    {
     "data": {
      "text/plain": [
       "'50.0%'"
      ]
     },
     "execution_count": 36,
     "metadata": {},
     "output_type": "execute_result"
    }
   ],
   "source": [
    "win_rate_df = pd.read_csv(filepath_or_buffer= \"chest_player_match_data.csv\")\n",
    "str(win_rate_df.loc[win_rate_df[\"Players\"] == target_name,\"Win_rate\"].reset_index(drop= True)[0]) + \"%\""
   ]
  },
  {
   "cell_type": "markdown",
   "metadata": {},
   "source": [
    "### Most Used Opening Moves"
   ]
  },
  {
   "cell_type": "code",
   "execution_count": 37,
   "metadata": {},
   "outputs": [
    {
     "data": {
      "text/plain": [
       "{'Other Moves': 42, 'French Defense: Knight Variation': 4}"
      ]
     },
     "execution_count": 37,
     "metadata": {},
     "output_type": "execute_result"
    }
   ],
   "source": [
    "strat_num = df_viz.loc[((df_viz[\"white_player\"] == target_name) | (df_viz[\"black_player\"] == target_name))].groupby(\"opening_data\").count()[\"createdAt\"].sort_values(ascending= False)\n",
    "strat_names = strat_num.keys()\n",
    "string_strat_values = str()\n",
    "Strat_data_values = {\"Other Moves\":0}\n",
    "for i,j in enumerate(strat_num):\n",
    "    if j == strat_num.values.max():\n",
    "      Strat_data_values[strat_num.keys()[i]] = j\n",
    "      string_strat_values += str(strat_num.keys()[i]) + \", \"\n",
    "         \n",
    "      continue\n",
    "    Strat_data_values[\"Other Moves\"] += j\n",
    "\n",
    "\n",
    "Strat_data_values"
   ]
  },
  {
   "cell_type": "code",
   "execution_count": 38,
   "metadata": {},
   "outputs": [
    {
     "data": {
      "text/plain": [
       "'French Defense: Knight Variation'"
      ]
     },
     "execution_count": 38,
     "metadata": {},
     "output_type": "execute_result"
    }
   ],
   "source": [
    "string_strat_values[:-2]"
   ]
  },
  {
   "cell_type": "code",
   "execution_count": 40,
   "metadata": {},
   "outputs": [
    {
     "data": {
      "application/vnd.plotly.v1+json": {
       "config": {
        "plotlyServerURL": "https://plot.ly"
       },
       "data": [
        {
         "hoverinfo": "label+value",
         "labels": [
          "Other Moves",
          "French Defense: Knight Variation"
         ],
         "marker": {
          "colors": [
           "grey",
           "yellow"
          ],
          "line": {
           "color": "black",
           "width": 2
          }
         },
         "textfont": {
          "color": "black",
          "family": "verdana, sans-serif",
          "size": 20
         },
         "textinfo": "percent",
         "type": "pie",
         "values": [
          42,
          4
         ]
        }
       ],
       "layout": {
        "autosize": false,
        "font": {
         "color": "Black",
         "family": "verdana, sans-serif",
         "size": 12
        },
        "height": 1000,
        "template": {
         "data": {
          "bar": [
           {
            "error_x": {
             "color": "#2a3f5f"
            },
            "error_y": {
             "color": "#2a3f5f"
            },
            "marker": {
             "line": {
              "color": "#E5ECF6",
              "width": 0.5
             },
             "pattern": {
              "fillmode": "overlay",
              "size": 10,
              "solidity": 0.2
             }
            },
            "type": "bar"
           }
          ],
          "barpolar": [
           {
            "marker": {
             "line": {
              "color": "#E5ECF6",
              "width": 0.5
             },
             "pattern": {
              "fillmode": "overlay",
              "size": 10,
              "solidity": 0.2
             }
            },
            "type": "barpolar"
           }
          ],
          "carpet": [
           {
            "aaxis": {
             "endlinecolor": "#2a3f5f",
             "gridcolor": "white",
             "linecolor": "white",
             "minorgridcolor": "white",
             "startlinecolor": "#2a3f5f"
            },
            "baxis": {
             "endlinecolor": "#2a3f5f",
             "gridcolor": "white",
             "linecolor": "white",
             "minorgridcolor": "white",
             "startlinecolor": "#2a3f5f"
            },
            "type": "carpet"
           }
          ],
          "choropleth": [
           {
            "colorbar": {
             "outlinewidth": 0,
             "ticks": ""
            },
            "type": "choropleth"
           }
          ],
          "contour": [
           {
            "colorbar": {
             "outlinewidth": 0,
             "ticks": ""
            },
            "colorscale": [
             [
              0,
              "#0d0887"
             ],
             [
              0.1111111111111111,
              "#46039f"
             ],
             [
              0.2222222222222222,
              "#7201a8"
             ],
             [
              0.3333333333333333,
              "#9c179e"
             ],
             [
              0.4444444444444444,
              "#bd3786"
             ],
             [
              0.5555555555555556,
              "#d8576b"
             ],
             [
              0.6666666666666666,
              "#ed7953"
             ],
             [
              0.7777777777777778,
              "#fb9f3a"
             ],
             [
              0.8888888888888888,
              "#fdca26"
             ],
             [
              1,
              "#f0f921"
             ]
            ],
            "type": "contour"
           }
          ],
          "contourcarpet": [
           {
            "colorbar": {
             "outlinewidth": 0,
             "ticks": ""
            },
            "type": "contourcarpet"
           }
          ],
          "heatmap": [
           {
            "colorbar": {
             "outlinewidth": 0,
             "ticks": ""
            },
            "colorscale": [
             [
              0,
              "#0d0887"
             ],
             [
              0.1111111111111111,
              "#46039f"
             ],
             [
              0.2222222222222222,
              "#7201a8"
             ],
             [
              0.3333333333333333,
              "#9c179e"
             ],
             [
              0.4444444444444444,
              "#bd3786"
             ],
             [
              0.5555555555555556,
              "#d8576b"
             ],
             [
              0.6666666666666666,
              "#ed7953"
             ],
             [
              0.7777777777777778,
              "#fb9f3a"
             ],
             [
              0.8888888888888888,
              "#fdca26"
             ],
             [
              1,
              "#f0f921"
             ]
            ],
            "type": "heatmap"
           }
          ],
          "heatmapgl": [
           {
            "colorbar": {
             "outlinewidth": 0,
             "ticks": ""
            },
            "colorscale": [
             [
              0,
              "#0d0887"
             ],
             [
              0.1111111111111111,
              "#46039f"
             ],
             [
              0.2222222222222222,
              "#7201a8"
             ],
             [
              0.3333333333333333,
              "#9c179e"
             ],
             [
              0.4444444444444444,
              "#bd3786"
             ],
             [
              0.5555555555555556,
              "#d8576b"
             ],
             [
              0.6666666666666666,
              "#ed7953"
             ],
             [
              0.7777777777777778,
              "#fb9f3a"
             ],
             [
              0.8888888888888888,
              "#fdca26"
             ],
             [
              1,
              "#f0f921"
             ]
            ],
            "type": "heatmapgl"
           }
          ],
          "histogram": [
           {
            "marker": {
             "pattern": {
              "fillmode": "overlay",
              "size": 10,
              "solidity": 0.2
             }
            },
            "type": "histogram"
           }
          ],
          "histogram2d": [
           {
            "colorbar": {
             "outlinewidth": 0,
             "ticks": ""
            },
            "colorscale": [
             [
              0,
              "#0d0887"
             ],
             [
              0.1111111111111111,
              "#46039f"
             ],
             [
              0.2222222222222222,
              "#7201a8"
             ],
             [
              0.3333333333333333,
              "#9c179e"
             ],
             [
              0.4444444444444444,
              "#bd3786"
             ],
             [
              0.5555555555555556,
              "#d8576b"
             ],
             [
              0.6666666666666666,
              "#ed7953"
             ],
             [
              0.7777777777777778,
              "#fb9f3a"
             ],
             [
              0.8888888888888888,
              "#fdca26"
             ],
             [
              1,
              "#f0f921"
             ]
            ],
            "type": "histogram2d"
           }
          ],
          "histogram2dcontour": [
           {
            "colorbar": {
             "outlinewidth": 0,
             "ticks": ""
            },
            "colorscale": [
             [
              0,
              "#0d0887"
             ],
             [
              0.1111111111111111,
              "#46039f"
             ],
             [
              0.2222222222222222,
              "#7201a8"
             ],
             [
              0.3333333333333333,
              "#9c179e"
             ],
             [
              0.4444444444444444,
              "#bd3786"
             ],
             [
              0.5555555555555556,
              "#d8576b"
             ],
             [
              0.6666666666666666,
              "#ed7953"
             ],
             [
              0.7777777777777778,
              "#fb9f3a"
             ],
             [
              0.8888888888888888,
              "#fdca26"
             ],
             [
              1,
              "#f0f921"
             ]
            ],
            "type": "histogram2dcontour"
           }
          ],
          "mesh3d": [
           {
            "colorbar": {
             "outlinewidth": 0,
             "ticks": ""
            },
            "type": "mesh3d"
           }
          ],
          "parcoords": [
           {
            "line": {
             "colorbar": {
              "outlinewidth": 0,
              "ticks": ""
             }
            },
            "type": "parcoords"
           }
          ],
          "pie": [
           {
            "automargin": true,
            "type": "pie"
           }
          ],
          "scatter": [
           {
            "fillpattern": {
             "fillmode": "overlay",
             "size": 10,
             "solidity": 0.2
            },
            "type": "scatter"
           }
          ],
          "scatter3d": [
           {
            "line": {
             "colorbar": {
              "outlinewidth": 0,
              "ticks": ""
             }
            },
            "marker": {
             "colorbar": {
              "outlinewidth": 0,
              "ticks": ""
             }
            },
            "type": "scatter3d"
           }
          ],
          "scattercarpet": [
           {
            "marker": {
             "colorbar": {
              "outlinewidth": 0,
              "ticks": ""
             }
            },
            "type": "scattercarpet"
           }
          ],
          "scattergeo": [
           {
            "marker": {
             "colorbar": {
              "outlinewidth": 0,
              "ticks": ""
             }
            },
            "type": "scattergeo"
           }
          ],
          "scattergl": [
           {
            "marker": {
             "colorbar": {
              "outlinewidth": 0,
              "ticks": ""
             }
            },
            "type": "scattergl"
           }
          ],
          "scattermapbox": [
           {
            "marker": {
             "colorbar": {
              "outlinewidth": 0,
              "ticks": ""
             }
            },
            "type": "scattermapbox"
           }
          ],
          "scatterpolar": [
           {
            "marker": {
             "colorbar": {
              "outlinewidth": 0,
              "ticks": ""
             }
            },
            "type": "scatterpolar"
           }
          ],
          "scatterpolargl": [
           {
            "marker": {
             "colorbar": {
              "outlinewidth": 0,
              "ticks": ""
             }
            },
            "type": "scatterpolargl"
           }
          ],
          "scatterternary": [
           {
            "marker": {
             "colorbar": {
              "outlinewidth": 0,
              "ticks": ""
             }
            },
            "type": "scatterternary"
           }
          ],
          "surface": [
           {
            "colorbar": {
             "outlinewidth": 0,
             "ticks": ""
            },
            "colorscale": [
             [
              0,
              "#0d0887"
             ],
             [
              0.1111111111111111,
              "#46039f"
             ],
             [
              0.2222222222222222,
              "#7201a8"
             ],
             [
              0.3333333333333333,
              "#9c179e"
             ],
             [
              0.4444444444444444,
              "#bd3786"
             ],
             [
              0.5555555555555556,
              "#d8576b"
             ],
             [
              0.6666666666666666,
              "#ed7953"
             ],
             [
              0.7777777777777778,
              "#fb9f3a"
             ],
             [
              0.8888888888888888,
              "#fdca26"
             ],
             [
              1,
              "#f0f921"
             ]
            ],
            "type": "surface"
           }
          ],
          "table": [
           {
            "cells": {
             "fill": {
              "color": "#EBF0F8"
             },
             "line": {
              "color": "white"
             }
            },
            "header": {
             "fill": {
              "color": "#C8D4E3"
             },
             "line": {
              "color": "white"
             }
            },
            "type": "table"
           }
          ]
         },
         "layout": {
          "annotationdefaults": {
           "arrowcolor": "#2a3f5f",
           "arrowhead": 0,
           "arrowwidth": 1
          },
          "autotypenumbers": "strict",
          "coloraxis": {
           "colorbar": {
            "outlinewidth": 0,
            "ticks": ""
           }
          },
          "colorscale": {
           "diverging": [
            [
             0,
             "#8e0152"
            ],
            [
             0.1,
             "#c51b7d"
            ],
            [
             0.2,
             "#de77ae"
            ],
            [
             0.3,
             "#f1b6da"
            ],
            [
             0.4,
             "#fde0ef"
            ],
            [
             0.5,
             "#f7f7f7"
            ],
            [
             0.6,
             "#e6f5d0"
            ],
            [
             0.7,
             "#b8e186"
            ],
            [
             0.8,
             "#7fbc41"
            ],
            [
             0.9,
             "#4d9221"
            ],
            [
             1,
             "#276419"
            ]
           ],
           "sequential": [
            [
             0,
             "#0d0887"
            ],
            [
             0.1111111111111111,
             "#46039f"
            ],
            [
             0.2222222222222222,
             "#7201a8"
            ],
            [
             0.3333333333333333,
             "#9c179e"
            ],
            [
             0.4444444444444444,
             "#bd3786"
            ],
            [
             0.5555555555555556,
             "#d8576b"
            ],
            [
             0.6666666666666666,
             "#ed7953"
            ],
            [
             0.7777777777777778,
             "#fb9f3a"
            ],
            [
             0.8888888888888888,
             "#fdca26"
            ],
            [
             1,
             "#f0f921"
            ]
           ],
           "sequentialminus": [
            [
             0,
             "#0d0887"
            ],
            [
             0.1111111111111111,
             "#46039f"
            ],
            [
             0.2222222222222222,
             "#7201a8"
            ],
            [
             0.3333333333333333,
             "#9c179e"
            ],
            [
             0.4444444444444444,
             "#bd3786"
            ],
            [
             0.5555555555555556,
             "#d8576b"
            ],
            [
             0.6666666666666666,
             "#ed7953"
            ],
            [
             0.7777777777777778,
             "#fb9f3a"
            ],
            [
             0.8888888888888888,
             "#fdca26"
            ],
            [
             1,
             "#f0f921"
            ]
           ]
          },
          "colorway": [
           "#636efa",
           "#EF553B",
           "#00cc96",
           "#ab63fa",
           "#FFA15A",
           "#19d3f3",
           "#FF6692",
           "#B6E880",
           "#FF97FF",
           "#FECB52"
          ],
          "font": {
           "color": "#2a3f5f"
          },
          "geo": {
           "bgcolor": "white",
           "lakecolor": "white",
           "landcolor": "#E5ECF6",
           "showlakes": true,
           "showland": true,
           "subunitcolor": "white"
          },
          "hoverlabel": {
           "align": "left"
          },
          "hovermode": "closest",
          "mapbox": {
           "style": "light"
          },
          "paper_bgcolor": "white",
          "plot_bgcolor": "#E5ECF6",
          "polar": {
           "angularaxis": {
            "gridcolor": "white",
            "linecolor": "white",
            "ticks": ""
           },
           "bgcolor": "#E5ECF6",
           "radialaxis": {
            "gridcolor": "white",
            "linecolor": "white",
            "ticks": ""
           }
          },
          "scene": {
           "xaxis": {
            "backgroundcolor": "#E5ECF6",
            "gridcolor": "white",
            "gridwidth": 2,
            "linecolor": "white",
            "showbackground": true,
            "ticks": "",
            "zerolinecolor": "white"
           },
           "yaxis": {
            "backgroundcolor": "#E5ECF6",
            "gridcolor": "white",
            "gridwidth": 2,
            "linecolor": "white",
            "showbackground": true,
            "ticks": "",
            "zerolinecolor": "white"
           },
           "zaxis": {
            "backgroundcolor": "#E5ECF6",
            "gridcolor": "white",
            "gridwidth": 2,
            "linecolor": "white",
            "showbackground": true,
            "ticks": "",
            "zerolinecolor": "white"
           }
          },
          "shapedefaults": {
           "line": {
            "color": "#2a3f5f"
           }
          },
          "ternary": {
           "aaxis": {
            "gridcolor": "white",
            "linecolor": "white",
            "ticks": ""
           },
           "baxis": {
            "gridcolor": "white",
            "linecolor": "white",
            "ticks": ""
           },
           "bgcolor": "#E5ECF6",
           "caxis": {
            "gridcolor": "white",
            "linecolor": "white",
            "ticks": ""
           }
          },
          "title": {
           "x": 0.05
          },
          "xaxis": {
           "automargin": true,
           "gridcolor": "white",
           "linecolor": "white",
           "ticks": "",
           "title": {
            "standoff": 15
           },
           "zerolinecolor": "white",
           "zerolinewidth": 2
          },
          "yaxis": {
           "automargin": true,
           "gridcolor": "white",
           "linecolor": "white",
           "ticks": "",
           "title": {
            "standoff": 15
           },
           "zerolinecolor": "white",
           "zerolinewidth": 2
          }
         }
        },
        "title": {
         "text": "Strategies Used"
        },
        "width": 1000,
        "xaxis": {
         "title": {
          "font": {
           "family": "verdana, sans-serif",
           "size": 18
          },
          "text": "X-axis"
         }
        },
        "yaxis": {
         "title": {
          "font": {
           "family": "verdana, sans-serif",
           "size": 18
          },
          "text": "Y-axis"
         }
        }
       }
      }
     },
     "metadata": {},
     "output_type": "display_data"
    }
   ],
   "source": [
    "\n",
    "\n",
    "# Create a pie chart\n",
    "fig2 = go.Figure(data=[go.Pie(labels=list(Strat_data_values.keys()), values= list(Strat_data_values.values()))])\n",
    "\n",
    "# Update the layout\n",
    "fig2.update_layout(\n",
    "    autosize= False,\n",
    "    width=1000,\n",
    "    height=1000,\n",
    "    title='Strategies Used',\n",
    "    xaxis=dict(title='X-axis', title_font=dict(size=18, family=\"verdana, sans-serif\")),\n",
    "    yaxis=dict(title='Y-axis', title_font=dict(size=18, family=\"verdana, sans-serif\")),\n",
    "    font=dict(family=\"verdana, sans-serif\", size=12, color=\"Black\")\n",
    ")\n",
    "\n",
    "# Update the pie chart properties\n",
    "fig2.update_traces( \n",
    "                  hoverinfo='label+value', \n",
    "                  textinfo='percent', \n",
    "                  marker=dict(colors=[\"grey\",\"yellow\"], \n",
    "                              line=dict(color='black', width=2)),\n",
    "                   textfont=dict(family=\"verdana, sans-serif\", size=20, color = \"black\")          \n",
    "                     )\n"
   ]
  },
  {
   "cell_type": "code",
   "execution_count": 41,
   "metadata": {},
   "outputs": [],
   "source": [
    "df_open_white = df_viz[((df_viz[\"white_player\"] == target_name))]\n",
    "df_open_black = df_viz[((df_viz[\"black_player\"] == target_name))]\n",
    "first_move_white_data = df_open_white.groupby(\"white_first_move\").count()[\"createdAt\"].sort_values(ascending= False)\n",
    "first_move_black_data = df_open_black.groupby(\"black_first_move\").count()[\"createdAt\"].sort_values(ascending= False)\n",
    "\n",
    "\n",
    "\n"
   ]
  },
  {
   "cell_type": "code",
   "execution_count": 44,
   "metadata": {},
   "outputs": [
    {
     "data": {
      "application/vnd.plotly.v1+json": {
       "config": {
        "plotlyServerURL": "https://plot.ly"
       },
       "data": [
        {
         "domain": {
          "x": [
           0,
           0.45
          ],
          "y": [
           0,
           1
          ]
         },
         "hole": 0.55,
         "hoverinfo": "label+value",
         "labels": [
          "e4"
         ],
         "marker": {
          "line": {
           "color": "black",
           "width": 2
          }
         },
         "textfont": {
          "color": "black",
          "family": "verdana, sans-serif",
          "size": 20
         },
         "textinfo": "percent",
         "type": "pie",
         "values": [
          24
         ]
        },
        {
         "domain": {
          "x": [
           0.55,
           1
          ],
          "y": [
           0,
           1
          ]
         },
         "hole": 0.55,
         "hoverinfo": "label+value",
         "labels": [
          "e6",
          "d5",
          "e5"
         ],
         "marker": {
          "line": {
           "color": "black",
           "width": 2
          }
         },
         "textfont": {
          "color": "black",
          "family": "verdana, sans-serif",
          "size": 20
         },
         "textinfo": "percent",
         "type": "pie",
         "values": [
          17,
          4,
          1
         ]
        }
       ],
       "layout": {
        "annotations": [
         {
          "font": {
           "color": "black",
           "family": "verdana, sans-serif",
           "size": 35
          },
          "showarrow": false,
          "text": "<b>WHITE</b>",
          "x": 0.184,
          "y": 0.5
         },
         {
          "font": {
           "color": "black",
           "family": "verdana, sans-serif",
           "size": 35
          },
          "showarrow": false,
          "text": "<b>BLACK</b>",
          "x": 0.815,
          "y": 0.5
         }
        ],
        "autosize": true,
        "font": {
         "color": "black",
         "family": "verdana, sans-serif",
         "size": 20
        },
        "legend": {
         "title": {
          "text": "Chest Moves"
         }
        },
        "template": {
         "data": {
          "bar": [
           {
            "error_x": {
             "color": "#2a3f5f"
            },
            "error_y": {
             "color": "#2a3f5f"
            },
            "marker": {
             "line": {
              "color": "#E5ECF6",
              "width": 0.5
             },
             "pattern": {
              "fillmode": "overlay",
              "size": 10,
              "solidity": 0.2
             }
            },
            "type": "bar"
           }
          ],
          "barpolar": [
           {
            "marker": {
             "line": {
              "color": "#E5ECF6",
              "width": 0.5
             },
             "pattern": {
              "fillmode": "overlay",
              "size": 10,
              "solidity": 0.2
             }
            },
            "type": "barpolar"
           }
          ],
          "carpet": [
           {
            "aaxis": {
             "endlinecolor": "#2a3f5f",
             "gridcolor": "white",
             "linecolor": "white",
             "minorgridcolor": "white",
             "startlinecolor": "#2a3f5f"
            },
            "baxis": {
             "endlinecolor": "#2a3f5f",
             "gridcolor": "white",
             "linecolor": "white",
             "minorgridcolor": "white",
             "startlinecolor": "#2a3f5f"
            },
            "type": "carpet"
           }
          ],
          "choropleth": [
           {
            "colorbar": {
             "outlinewidth": 0,
             "ticks": ""
            },
            "type": "choropleth"
           }
          ],
          "contour": [
           {
            "colorbar": {
             "outlinewidth": 0,
             "ticks": ""
            },
            "colorscale": [
             [
              0,
              "#0d0887"
             ],
             [
              0.1111111111111111,
              "#46039f"
             ],
             [
              0.2222222222222222,
              "#7201a8"
             ],
             [
              0.3333333333333333,
              "#9c179e"
             ],
             [
              0.4444444444444444,
              "#bd3786"
             ],
             [
              0.5555555555555556,
              "#d8576b"
             ],
             [
              0.6666666666666666,
              "#ed7953"
             ],
             [
              0.7777777777777778,
              "#fb9f3a"
             ],
             [
              0.8888888888888888,
              "#fdca26"
             ],
             [
              1,
              "#f0f921"
             ]
            ],
            "type": "contour"
           }
          ],
          "contourcarpet": [
           {
            "colorbar": {
             "outlinewidth": 0,
             "ticks": ""
            },
            "type": "contourcarpet"
           }
          ],
          "heatmap": [
           {
            "colorbar": {
             "outlinewidth": 0,
             "ticks": ""
            },
            "colorscale": [
             [
              0,
              "#0d0887"
             ],
             [
              0.1111111111111111,
              "#46039f"
             ],
             [
              0.2222222222222222,
              "#7201a8"
             ],
             [
              0.3333333333333333,
              "#9c179e"
             ],
             [
              0.4444444444444444,
              "#bd3786"
             ],
             [
              0.5555555555555556,
              "#d8576b"
             ],
             [
              0.6666666666666666,
              "#ed7953"
             ],
             [
              0.7777777777777778,
              "#fb9f3a"
             ],
             [
              0.8888888888888888,
              "#fdca26"
             ],
             [
              1,
              "#f0f921"
             ]
            ],
            "type": "heatmap"
           }
          ],
          "heatmapgl": [
           {
            "colorbar": {
             "outlinewidth": 0,
             "ticks": ""
            },
            "colorscale": [
             [
              0,
              "#0d0887"
             ],
             [
              0.1111111111111111,
              "#46039f"
             ],
             [
              0.2222222222222222,
              "#7201a8"
             ],
             [
              0.3333333333333333,
              "#9c179e"
             ],
             [
              0.4444444444444444,
              "#bd3786"
             ],
             [
              0.5555555555555556,
              "#d8576b"
             ],
             [
              0.6666666666666666,
              "#ed7953"
             ],
             [
              0.7777777777777778,
              "#fb9f3a"
             ],
             [
              0.8888888888888888,
              "#fdca26"
             ],
             [
              1,
              "#f0f921"
             ]
            ],
            "type": "heatmapgl"
           }
          ],
          "histogram": [
           {
            "marker": {
             "pattern": {
              "fillmode": "overlay",
              "size": 10,
              "solidity": 0.2
             }
            },
            "type": "histogram"
           }
          ],
          "histogram2d": [
           {
            "colorbar": {
             "outlinewidth": 0,
             "ticks": ""
            },
            "colorscale": [
             [
              0,
              "#0d0887"
             ],
             [
              0.1111111111111111,
              "#46039f"
             ],
             [
              0.2222222222222222,
              "#7201a8"
             ],
             [
              0.3333333333333333,
              "#9c179e"
             ],
             [
              0.4444444444444444,
              "#bd3786"
             ],
             [
              0.5555555555555556,
              "#d8576b"
             ],
             [
              0.6666666666666666,
              "#ed7953"
             ],
             [
              0.7777777777777778,
              "#fb9f3a"
             ],
             [
              0.8888888888888888,
              "#fdca26"
             ],
             [
              1,
              "#f0f921"
             ]
            ],
            "type": "histogram2d"
           }
          ],
          "histogram2dcontour": [
           {
            "colorbar": {
             "outlinewidth": 0,
             "ticks": ""
            },
            "colorscale": [
             [
              0,
              "#0d0887"
             ],
             [
              0.1111111111111111,
              "#46039f"
             ],
             [
              0.2222222222222222,
              "#7201a8"
             ],
             [
              0.3333333333333333,
              "#9c179e"
             ],
             [
              0.4444444444444444,
              "#bd3786"
             ],
             [
              0.5555555555555556,
              "#d8576b"
             ],
             [
              0.6666666666666666,
              "#ed7953"
             ],
             [
              0.7777777777777778,
              "#fb9f3a"
             ],
             [
              0.8888888888888888,
              "#fdca26"
             ],
             [
              1,
              "#f0f921"
             ]
            ],
            "type": "histogram2dcontour"
           }
          ],
          "mesh3d": [
           {
            "colorbar": {
             "outlinewidth": 0,
             "ticks": ""
            },
            "type": "mesh3d"
           }
          ],
          "parcoords": [
           {
            "line": {
             "colorbar": {
              "outlinewidth": 0,
              "ticks": ""
             }
            },
            "type": "parcoords"
           }
          ],
          "pie": [
           {
            "automargin": true,
            "type": "pie"
           }
          ],
          "scatter": [
           {
            "fillpattern": {
             "fillmode": "overlay",
             "size": 10,
             "solidity": 0.2
            },
            "type": "scatter"
           }
          ],
          "scatter3d": [
           {
            "line": {
             "colorbar": {
              "outlinewidth": 0,
              "ticks": ""
             }
            },
            "marker": {
             "colorbar": {
              "outlinewidth": 0,
              "ticks": ""
             }
            },
            "type": "scatter3d"
           }
          ],
          "scattercarpet": [
           {
            "marker": {
             "colorbar": {
              "outlinewidth": 0,
              "ticks": ""
             }
            },
            "type": "scattercarpet"
           }
          ],
          "scattergeo": [
           {
            "marker": {
             "colorbar": {
              "outlinewidth": 0,
              "ticks": ""
             }
            },
            "type": "scattergeo"
           }
          ],
          "scattergl": [
           {
            "marker": {
             "colorbar": {
              "outlinewidth": 0,
              "ticks": ""
             }
            },
            "type": "scattergl"
           }
          ],
          "scattermapbox": [
           {
            "marker": {
             "colorbar": {
              "outlinewidth": 0,
              "ticks": ""
             }
            },
            "type": "scattermapbox"
           }
          ],
          "scatterpolar": [
           {
            "marker": {
             "colorbar": {
              "outlinewidth": 0,
              "ticks": ""
             }
            },
            "type": "scatterpolar"
           }
          ],
          "scatterpolargl": [
           {
            "marker": {
             "colorbar": {
              "outlinewidth": 0,
              "ticks": ""
             }
            },
            "type": "scatterpolargl"
           }
          ],
          "scatterternary": [
           {
            "marker": {
             "colorbar": {
              "outlinewidth": 0,
              "ticks": ""
             }
            },
            "type": "scatterternary"
           }
          ],
          "surface": [
           {
            "colorbar": {
             "outlinewidth": 0,
             "ticks": ""
            },
            "colorscale": [
             [
              0,
              "#0d0887"
             ],
             [
              0.1111111111111111,
              "#46039f"
             ],
             [
              0.2222222222222222,
              "#7201a8"
             ],
             [
              0.3333333333333333,
              "#9c179e"
             ],
             [
              0.4444444444444444,
              "#bd3786"
             ],
             [
              0.5555555555555556,
              "#d8576b"
             ],
             [
              0.6666666666666666,
              "#ed7953"
             ],
             [
              0.7777777777777778,
              "#fb9f3a"
             ],
             [
              0.8888888888888888,
              "#fdca26"
             ],
             [
              1,
              "#f0f921"
             ]
            ],
            "type": "surface"
           }
          ],
          "table": [
           {
            "cells": {
             "fill": {
              "color": "#EBF0F8"
             },
             "line": {
              "color": "white"
             }
            },
            "header": {
             "fill": {
              "color": "#C8D4E3"
             },
             "line": {
              "color": "white"
             }
            },
            "type": "table"
           }
          ]
         },
         "layout": {
          "annotationdefaults": {
           "arrowcolor": "#2a3f5f",
           "arrowhead": 0,
           "arrowwidth": 1
          },
          "autotypenumbers": "strict",
          "coloraxis": {
           "colorbar": {
            "outlinewidth": 0,
            "ticks": ""
           }
          },
          "colorscale": {
           "diverging": [
            [
             0,
             "#8e0152"
            ],
            [
             0.1,
             "#c51b7d"
            ],
            [
             0.2,
             "#de77ae"
            ],
            [
             0.3,
             "#f1b6da"
            ],
            [
             0.4,
             "#fde0ef"
            ],
            [
             0.5,
             "#f7f7f7"
            ],
            [
             0.6,
             "#e6f5d0"
            ],
            [
             0.7,
             "#b8e186"
            ],
            [
             0.8,
             "#7fbc41"
            ],
            [
             0.9,
             "#4d9221"
            ],
            [
             1,
             "#276419"
            ]
           ],
           "sequential": [
            [
             0,
             "#0d0887"
            ],
            [
             0.1111111111111111,
             "#46039f"
            ],
            [
             0.2222222222222222,
             "#7201a8"
            ],
            [
             0.3333333333333333,
             "#9c179e"
            ],
            [
             0.4444444444444444,
             "#bd3786"
            ],
            [
             0.5555555555555556,
             "#d8576b"
            ],
            [
             0.6666666666666666,
             "#ed7953"
            ],
            [
             0.7777777777777778,
             "#fb9f3a"
            ],
            [
             0.8888888888888888,
             "#fdca26"
            ],
            [
             1,
             "#f0f921"
            ]
           ],
           "sequentialminus": [
            [
             0,
             "#0d0887"
            ],
            [
             0.1111111111111111,
             "#46039f"
            ],
            [
             0.2222222222222222,
             "#7201a8"
            ],
            [
             0.3333333333333333,
             "#9c179e"
            ],
            [
             0.4444444444444444,
             "#bd3786"
            ],
            [
             0.5555555555555556,
             "#d8576b"
            ],
            [
             0.6666666666666666,
             "#ed7953"
            ],
            [
             0.7777777777777778,
             "#fb9f3a"
            ],
            [
             0.8888888888888888,
             "#fdca26"
            ],
            [
             1,
             "#f0f921"
            ]
           ]
          },
          "colorway": [
           "#636efa",
           "#EF553B",
           "#00cc96",
           "#ab63fa",
           "#FFA15A",
           "#19d3f3",
           "#FF6692",
           "#B6E880",
           "#FF97FF",
           "#FECB52"
          ],
          "font": {
           "color": "#2a3f5f"
          },
          "geo": {
           "bgcolor": "white",
           "lakecolor": "white",
           "landcolor": "#E5ECF6",
           "showlakes": true,
           "showland": true,
           "subunitcolor": "white"
          },
          "hoverlabel": {
           "align": "left"
          },
          "hovermode": "closest",
          "mapbox": {
           "style": "light"
          },
          "paper_bgcolor": "white",
          "plot_bgcolor": "#E5ECF6",
          "polar": {
           "angularaxis": {
            "gridcolor": "white",
            "linecolor": "white",
            "ticks": ""
           },
           "bgcolor": "#E5ECF6",
           "radialaxis": {
            "gridcolor": "white",
            "linecolor": "white",
            "ticks": ""
           }
          },
          "scene": {
           "xaxis": {
            "backgroundcolor": "#E5ECF6",
            "gridcolor": "white",
            "gridwidth": 2,
            "linecolor": "white",
            "showbackground": true,
            "ticks": "",
            "zerolinecolor": "white"
           },
           "yaxis": {
            "backgroundcolor": "#E5ECF6",
            "gridcolor": "white",
            "gridwidth": 2,
            "linecolor": "white",
            "showbackground": true,
            "ticks": "",
            "zerolinecolor": "white"
           },
           "zaxis": {
            "backgroundcolor": "#E5ECF6",
            "gridcolor": "white",
            "gridwidth": 2,
            "linecolor": "white",
            "showbackground": true,
            "ticks": "",
            "zerolinecolor": "white"
           }
          },
          "shapedefaults": {
           "line": {
            "color": "#2a3f5f"
           }
          },
          "ternary": {
           "aaxis": {
            "gridcolor": "white",
            "linecolor": "white",
            "ticks": ""
           },
           "baxis": {
            "gridcolor": "white",
            "linecolor": "white",
            "ticks": ""
           },
           "bgcolor": "#E5ECF6",
           "caxis": {
            "gridcolor": "white",
            "linecolor": "white",
            "ticks": ""
           }
          },
          "title": {
           "x": 0.05
          },
          "xaxis": {
           "automargin": true,
           "gridcolor": "white",
           "linecolor": "white",
           "ticks": "",
           "title": {
            "standoff": 15
           },
           "zerolinecolor": "white",
           "zerolinewidth": 2
          },
          "yaxis": {
           "automargin": true,
           "gridcolor": "white",
           "linecolor": "white",
           "ticks": "",
           "title": {
            "standoff": 15
           },
           "zerolinecolor": "white",
           "zerolinewidth": 2
          }
         }
        },
        "title": {
         "text": "Player First Moves"
        }
       }
      }
     },
     "metadata": {},
     "output_type": "display_data"
    }
   ],
   "source": [
    "fig3 = go.Figure(data=[go.Pie(labels= list(first_move_white_data.keys()), values= list(first_move_white_data.values))])\n",
    "\n",
    "# Update the layout\n",
    "fig3.update_layout(\n",
    "    autosize= True,\n",
    "    font=dict(family=\"verdana, sans-serif\", size=12, color=\"Black\"),\n",
    ")\n",
    "\n",
    "# Update the pie chart properties\n",
    "fig3.update_traces(hole=0.55, \n",
    "                  hoverinfo='label+value', \n",
    "                  textinfo='percent', \n",
    "                  marker=dict( \n",
    "                              line=dict(color='black', width=2)),\n",
    "                   textfont=dict(family=\"verdana, sans-serif\", size=20, color = \"black\")          \n",
    ")\n",
    "\n",
    "\n",
    "\n",
    "\n",
    "fig4 = go.Figure(data=[go.Pie(labels= list(first_move_black_data.keys()), values= list(first_move_black_data.values))])\n",
    "\n",
    "# Update the layout\n",
    "fig4.update_layout(\n",
    "    autosize= True,\n",
    "    font=dict(family=\"verdana, sans-serif\", size=12, color=\"Black\"),\n",
    ")\n",
    "\n",
    "# Update the pie chart properties\n",
    "fig4.update_traces(hole=0.55, \n",
    "                  hoverinfo='label+value', \n",
    "                  textinfo='percent', \n",
    "                  marker=dict( \n",
    "                              line=dict(color='black', width=2)),\n",
    "                   textfont=dict(family=\"verdana, sans-serif\", size=20, color = \"black\")              \n",
    ")\n",
    "\n",
    "\n",
    "\n",
    "fig3_4 = make_subplots(rows = 1, cols= 2,specs=[[{'type': 'domain'}, {'type': 'domain'}]])\n",
    "fig3_4.add_trace(fig3.data[0], row=1, col=1)\n",
    "fig3_4.add_trace(fig4.data[0], row=1, col=2)\n",
    "fig3_4.update_layout(title_text=\"Player First Moves\",\n",
    "    autosize=True,\n",
    "    annotations = [\n",
    "        dict(text='<b>WHITE</b>', x=0.184, y=0.5, font = dict(family=\"verdana, sans-serif\", size=35, color = \"black\"), showarrow=False),\n",
    "        dict(text='<b>BLACK</b>', x=0.815, y=0.5, font = dict(family=\"verdana, sans-serif\", size=35, color = \"black\"), showarrow=False)\n",
    "    ],\n",
    "    font = dict(family=\"verdana, sans-serif\", size=20, color = \"black\"), \n",
    "    legend_title_text= \"Chest Moves\"               \n",
    ")\n",
    "\n",
    "\n"
   ]
  },
  {
   "cell_type": "code",
   "execution_count": 45,
   "metadata": {},
   "outputs": [
    {
     "data": {
      "text/plain": [
       "match_type\n",
       "rapid    46\n",
       "Name: createdAt, dtype: int64"
      ]
     },
     "execution_count": 45,
     "metadata": {},
     "output_type": "execute_result"
    }
   ],
   "source": [
    "chest_type = df_viz[((df_viz[\"white_player\"] == target_name) | (df_viz[\"black_player\"] == target_name))]\n",
    "chest_type_data = chest_type.groupby(\"match_type\").count()[\"createdAt\"]\n",
    "\n",
    "chest_type_data"
   ]
  },
  {
   "cell_type": "code",
   "execution_count": 47,
   "metadata": {},
   "outputs": [
    {
     "data": {
      "application/vnd.plotly.v1+json": {
       "config": {
        "plotlyServerURL": "https://plot.ly"
       },
       "data": [
        {
         "hoverinfo": "label+value",
         "labels": [
          "rapid"
         ],
         "marker": {
          "line": {
           "color": "black",
           "width": 2
          }
         },
         "textfont": {
          "color": "black",
          "family": "verdana, sans-serif",
          "size": 20
         },
         "textinfo": "percent",
         "type": "pie",
         "values": [
          46
         ]
        }
       ],
       "layout": {
        "autosize": false,
        "font": {
         "color": "Black",
         "family": "verdana, sans-serif",
         "size": 15
        },
        "height": 500,
        "template": {
         "data": {
          "bar": [
           {
            "error_x": {
             "color": "#2a3f5f"
            },
            "error_y": {
             "color": "#2a3f5f"
            },
            "marker": {
             "line": {
              "color": "#E5ECF6",
              "width": 0.5
             },
             "pattern": {
              "fillmode": "overlay",
              "size": 10,
              "solidity": 0.2
             }
            },
            "type": "bar"
           }
          ],
          "barpolar": [
           {
            "marker": {
             "line": {
              "color": "#E5ECF6",
              "width": 0.5
             },
             "pattern": {
              "fillmode": "overlay",
              "size": 10,
              "solidity": 0.2
             }
            },
            "type": "barpolar"
           }
          ],
          "carpet": [
           {
            "aaxis": {
             "endlinecolor": "#2a3f5f",
             "gridcolor": "white",
             "linecolor": "white",
             "minorgridcolor": "white",
             "startlinecolor": "#2a3f5f"
            },
            "baxis": {
             "endlinecolor": "#2a3f5f",
             "gridcolor": "white",
             "linecolor": "white",
             "minorgridcolor": "white",
             "startlinecolor": "#2a3f5f"
            },
            "type": "carpet"
           }
          ],
          "choropleth": [
           {
            "colorbar": {
             "outlinewidth": 0,
             "ticks": ""
            },
            "type": "choropleth"
           }
          ],
          "contour": [
           {
            "colorbar": {
             "outlinewidth": 0,
             "ticks": ""
            },
            "colorscale": [
             [
              0,
              "#0d0887"
             ],
             [
              0.1111111111111111,
              "#46039f"
             ],
             [
              0.2222222222222222,
              "#7201a8"
             ],
             [
              0.3333333333333333,
              "#9c179e"
             ],
             [
              0.4444444444444444,
              "#bd3786"
             ],
             [
              0.5555555555555556,
              "#d8576b"
             ],
             [
              0.6666666666666666,
              "#ed7953"
             ],
             [
              0.7777777777777778,
              "#fb9f3a"
             ],
             [
              0.8888888888888888,
              "#fdca26"
             ],
             [
              1,
              "#f0f921"
             ]
            ],
            "type": "contour"
           }
          ],
          "contourcarpet": [
           {
            "colorbar": {
             "outlinewidth": 0,
             "ticks": ""
            },
            "type": "contourcarpet"
           }
          ],
          "heatmap": [
           {
            "colorbar": {
             "outlinewidth": 0,
             "ticks": ""
            },
            "colorscale": [
             [
              0,
              "#0d0887"
             ],
             [
              0.1111111111111111,
              "#46039f"
             ],
             [
              0.2222222222222222,
              "#7201a8"
             ],
             [
              0.3333333333333333,
              "#9c179e"
             ],
             [
              0.4444444444444444,
              "#bd3786"
             ],
             [
              0.5555555555555556,
              "#d8576b"
             ],
             [
              0.6666666666666666,
              "#ed7953"
             ],
             [
              0.7777777777777778,
              "#fb9f3a"
             ],
             [
              0.8888888888888888,
              "#fdca26"
             ],
             [
              1,
              "#f0f921"
             ]
            ],
            "type": "heatmap"
           }
          ],
          "heatmapgl": [
           {
            "colorbar": {
             "outlinewidth": 0,
             "ticks": ""
            },
            "colorscale": [
             [
              0,
              "#0d0887"
             ],
             [
              0.1111111111111111,
              "#46039f"
             ],
             [
              0.2222222222222222,
              "#7201a8"
             ],
             [
              0.3333333333333333,
              "#9c179e"
             ],
             [
              0.4444444444444444,
              "#bd3786"
             ],
             [
              0.5555555555555556,
              "#d8576b"
             ],
             [
              0.6666666666666666,
              "#ed7953"
             ],
             [
              0.7777777777777778,
              "#fb9f3a"
             ],
             [
              0.8888888888888888,
              "#fdca26"
             ],
             [
              1,
              "#f0f921"
             ]
            ],
            "type": "heatmapgl"
           }
          ],
          "histogram": [
           {
            "marker": {
             "pattern": {
              "fillmode": "overlay",
              "size": 10,
              "solidity": 0.2
             }
            },
            "type": "histogram"
           }
          ],
          "histogram2d": [
           {
            "colorbar": {
             "outlinewidth": 0,
             "ticks": ""
            },
            "colorscale": [
             [
              0,
              "#0d0887"
             ],
             [
              0.1111111111111111,
              "#46039f"
             ],
             [
              0.2222222222222222,
              "#7201a8"
             ],
             [
              0.3333333333333333,
              "#9c179e"
             ],
             [
              0.4444444444444444,
              "#bd3786"
             ],
             [
              0.5555555555555556,
              "#d8576b"
             ],
             [
              0.6666666666666666,
              "#ed7953"
             ],
             [
              0.7777777777777778,
              "#fb9f3a"
             ],
             [
              0.8888888888888888,
              "#fdca26"
             ],
             [
              1,
              "#f0f921"
             ]
            ],
            "type": "histogram2d"
           }
          ],
          "histogram2dcontour": [
           {
            "colorbar": {
             "outlinewidth": 0,
             "ticks": ""
            },
            "colorscale": [
             [
              0,
              "#0d0887"
             ],
             [
              0.1111111111111111,
              "#46039f"
             ],
             [
              0.2222222222222222,
              "#7201a8"
             ],
             [
              0.3333333333333333,
              "#9c179e"
             ],
             [
              0.4444444444444444,
              "#bd3786"
             ],
             [
              0.5555555555555556,
              "#d8576b"
             ],
             [
              0.6666666666666666,
              "#ed7953"
             ],
             [
              0.7777777777777778,
              "#fb9f3a"
             ],
             [
              0.8888888888888888,
              "#fdca26"
             ],
             [
              1,
              "#f0f921"
             ]
            ],
            "type": "histogram2dcontour"
           }
          ],
          "mesh3d": [
           {
            "colorbar": {
             "outlinewidth": 0,
             "ticks": ""
            },
            "type": "mesh3d"
           }
          ],
          "parcoords": [
           {
            "line": {
             "colorbar": {
              "outlinewidth": 0,
              "ticks": ""
             }
            },
            "type": "parcoords"
           }
          ],
          "pie": [
           {
            "automargin": true,
            "type": "pie"
           }
          ],
          "scatter": [
           {
            "fillpattern": {
             "fillmode": "overlay",
             "size": 10,
             "solidity": 0.2
            },
            "type": "scatter"
           }
          ],
          "scatter3d": [
           {
            "line": {
             "colorbar": {
              "outlinewidth": 0,
              "ticks": ""
             }
            },
            "marker": {
             "colorbar": {
              "outlinewidth": 0,
              "ticks": ""
             }
            },
            "type": "scatter3d"
           }
          ],
          "scattercarpet": [
           {
            "marker": {
             "colorbar": {
              "outlinewidth": 0,
              "ticks": ""
             }
            },
            "type": "scattercarpet"
           }
          ],
          "scattergeo": [
           {
            "marker": {
             "colorbar": {
              "outlinewidth": 0,
              "ticks": ""
             }
            },
            "type": "scattergeo"
           }
          ],
          "scattergl": [
           {
            "marker": {
             "colorbar": {
              "outlinewidth": 0,
              "ticks": ""
             }
            },
            "type": "scattergl"
           }
          ],
          "scattermapbox": [
           {
            "marker": {
             "colorbar": {
              "outlinewidth": 0,
              "ticks": ""
             }
            },
            "type": "scattermapbox"
           }
          ],
          "scatterpolar": [
           {
            "marker": {
             "colorbar": {
              "outlinewidth": 0,
              "ticks": ""
             }
            },
            "type": "scatterpolar"
           }
          ],
          "scatterpolargl": [
           {
            "marker": {
             "colorbar": {
              "outlinewidth": 0,
              "ticks": ""
             }
            },
            "type": "scatterpolargl"
           }
          ],
          "scatterternary": [
           {
            "marker": {
             "colorbar": {
              "outlinewidth": 0,
              "ticks": ""
             }
            },
            "type": "scatterternary"
           }
          ],
          "surface": [
           {
            "colorbar": {
             "outlinewidth": 0,
             "ticks": ""
            },
            "colorscale": [
             [
              0,
              "#0d0887"
             ],
             [
              0.1111111111111111,
              "#46039f"
             ],
             [
              0.2222222222222222,
              "#7201a8"
             ],
             [
              0.3333333333333333,
              "#9c179e"
             ],
             [
              0.4444444444444444,
              "#bd3786"
             ],
             [
              0.5555555555555556,
              "#d8576b"
             ],
             [
              0.6666666666666666,
              "#ed7953"
             ],
             [
              0.7777777777777778,
              "#fb9f3a"
             ],
             [
              0.8888888888888888,
              "#fdca26"
             ],
             [
              1,
              "#f0f921"
             ]
            ],
            "type": "surface"
           }
          ],
          "table": [
           {
            "cells": {
             "fill": {
              "color": "#EBF0F8"
             },
             "line": {
              "color": "white"
             }
            },
            "header": {
             "fill": {
              "color": "#C8D4E3"
             },
             "line": {
              "color": "white"
             }
            },
            "type": "table"
           }
          ]
         },
         "layout": {
          "annotationdefaults": {
           "arrowcolor": "#2a3f5f",
           "arrowhead": 0,
           "arrowwidth": 1
          },
          "autotypenumbers": "strict",
          "coloraxis": {
           "colorbar": {
            "outlinewidth": 0,
            "ticks": ""
           }
          },
          "colorscale": {
           "diverging": [
            [
             0,
             "#8e0152"
            ],
            [
             0.1,
             "#c51b7d"
            ],
            [
             0.2,
             "#de77ae"
            ],
            [
             0.3,
             "#f1b6da"
            ],
            [
             0.4,
             "#fde0ef"
            ],
            [
             0.5,
             "#f7f7f7"
            ],
            [
             0.6,
             "#e6f5d0"
            ],
            [
             0.7,
             "#b8e186"
            ],
            [
             0.8,
             "#7fbc41"
            ],
            [
             0.9,
             "#4d9221"
            ],
            [
             1,
             "#276419"
            ]
           ],
           "sequential": [
            [
             0,
             "#0d0887"
            ],
            [
             0.1111111111111111,
             "#46039f"
            ],
            [
             0.2222222222222222,
             "#7201a8"
            ],
            [
             0.3333333333333333,
             "#9c179e"
            ],
            [
             0.4444444444444444,
             "#bd3786"
            ],
            [
             0.5555555555555556,
             "#d8576b"
            ],
            [
             0.6666666666666666,
             "#ed7953"
            ],
            [
             0.7777777777777778,
             "#fb9f3a"
            ],
            [
             0.8888888888888888,
             "#fdca26"
            ],
            [
             1,
             "#f0f921"
            ]
           ],
           "sequentialminus": [
            [
             0,
             "#0d0887"
            ],
            [
             0.1111111111111111,
             "#46039f"
            ],
            [
             0.2222222222222222,
             "#7201a8"
            ],
            [
             0.3333333333333333,
             "#9c179e"
            ],
            [
             0.4444444444444444,
             "#bd3786"
            ],
            [
             0.5555555555555556,
             "#d8576b"
            ],
            [
             0.6666666666666666,
             "#ed7953"
            ],
            [
             0.7777777777777778,
             "#fb9f3a"
            ],
            [
             0.8888888888888888,
             "#fdca26"
            ],
            [
             1,
             "#f0f921"
            ]
           ]
          },
          "colorway": [
           "#636efa",
           "#EF553B",
           "#00cc96",
           "#ab63fa",
           "#FFA15A",
           "#19d3f3",
           "#FF6692",
           "#B6E880",
           "#FF97FF",
           "#FECB52"
          ],
          "font": {
           "color": "#2a3f5f"
          },
          "geo": {
           "bgcolor": "white",
           "lakecolor": "white",
           "landcolor": "#E5ECF6",
           "showlakes": true,
           "showland": true,
           "subunitcolor": "white"
          },
          "hoverlabel": {
           "align": "left"
          },
          "hovermode": "closest",
          "mapbox": {
           "style": "light"
          },
          "paper_bgcolor": "white",
          "plot_bgcolor": "#E5ECF6",
          "polar": {
           "angularaxis": {
            "gridcolor": "white",
            "linecolor": "white",
            "ticks": ""
           },
           "bgcolor": "#E5ECF6",
           "radialaxis": {
            "gridcolor": "white",
            "linecolor": "white",
            "ticks": ""
           }
          },
          "scene": {
           "xaxis": {
            "backgroundcolor": "#E5ECF6",
            "gridcolor": "white",
            "gridwidth": 2,
            "linecolor": "white",
            "showbackground": true,
            "ticks": "",
            "zerolinecolor": "white"
           },
           "yaxis": {
            "backgroundcolor": "#E5ECF6",
            "gridcolor": "white",
            "gridwidth": 2,
            "linecolor": "white",
            "showbackground": true,
            "ticks": "",
            "zerolinecolor": "white"
           },
           "zaxis": {
            "backgroundcolor": "#E5ECF6",
            "gridcolor": "white",
            "gridwidth": 2,
            "linecolor": "white",
            "showbackground": true,
            "ticks": "",
            "zerolinecolor": "white"
           }
          },
          "shapedefaults": {
           "line": {
            "color": "#2a3f5f"
           }
          },
          "ternary": {
           "aaxis": {
            "gridcolor": "white",
            "linecolor": "white",
            "ticks": ""
           },
           "baxis": {
            "gridcolor": "white",
            "linecolor": "white",
            "ticks": ""
           },
           "bgcolor": "#E5ECF6",
           "caxis": {
            "gridcolor": "white",
            "linecolor": "white",
            "ticks": ""
           }
          },
          "title": {
           "x": 0.05
          },
          "xaxis": {
           "automargin": true,
           "gridcolor": "white",
           "linecolor": "white",
           "ticks": "",
           "title": {
            "standoff": 15
           },
           "zerolinecolor": "white",
           "zerolinewidth": 2
          },
          "yaxis": {
           "automargin": true,
           "gridcolor": "white",
           "linecolor": "white",
           "ticks": "",
           "title": {
            "standoff": 15
           },
           "zerolinecolor": "white",
           "zerolinewidth": 2
          }
         }
        },
        "title": {
         "text": "Type of Chest Match Played"
        },
        "width": 600,
        "xaxis": {
         "title": {
          "font": {
           "family": "verdana, sans-serif",
           "size": 18
          },
          "text": "X-axis"
         }
        },
        "yaxis": {
         "title": {
          "font": {
           "family": "verdana, sans-serif",
           "size": 18
          },
          "text": "Y-axis"
         }
        }
       }
      }
     },
     "metadata": {},
     "output_type": "display_data"
    }
   ],
   "source": [
    "# type of chest match played \n",
    "\n",
    "fig3 = go.Figure(data=[go.Pie(labels= list(chest_type_data.keys()), values= list(chest_type_data.values))])\n",
    "\n",
    "# Update the layout\n",
    "fig3.update_layout(\n",
    "    autosize=False,\n",
    "    width=600,\n",
    "    height=500,\n",
    "    title='Type of Chest Match Played',\n",
    "    xaxis=dict(title='X-axis', title_font=dict(size=18, family=\"verdana, sans-serif\")),\n",
    "    yaxis=dict(title='Y-axis', title_font=dict(size=18, family=\"verdana, sans-serif\")),\n",
    "    font=dict(family=\"verdana, sans-serif\", size=15, color=\"Black\")\n",
    ")\n",
    "\n",
    "# Update the pie chart properties\n",
    "fig3.update_traces( \n",
    "                hoverinfo='label+value', \n",
    "                textinfo='percent', \n",
    "                marker=dict( \n",
    "                            line=dict(color='black', width=2)),\n",
    "                textfont=dict(family=\"verdana, sans-serif\", size=20, color = \"black\")   \n",
    ")    "
   ]
  },
  {
   "cell_type": "markdown",
   "metadata": {},
   "source": [
    "### History"
   ]
  },
  {
   "cell_type": "code",
   "execution_count": 48,
   "metadata": {},
   "outputs": [
    {
     "data": {
      "text/html": [
       "<div>\n",
       "<style scoped>\n",
       "    .dataframe tbody tr th:only-of-type {\n",
       "        vertical-align: middle;\n",
       "    }\n",
       "\n",
       "    .dataframe tbody tr th {\n",
       "        vertical-align: top;\n",
       "    }\n",
       "\n",
       "    .dataframe thead th {\n",
       "        text-align: right;\n",
       "    }\n",
       "</style>\n",
       "<table border=\"1\" class=\"dataframe\">\n",
       "  <thead>\n",
       "    <tr style=\"text-align: right;\">\n",
       "      <th></th>\n",
       "      <th>match_type</th>\n",
       "      <th>player_side</th>\n",
       "      <th>player_rating</th>\n",
       "      <th>matches</th>\n",
       "      <th>enemy_rating</th>\n",
       "      <th>enemy_side</th>\n",
       "      <th>result</th>\n",
       "    </tr>\n",
       "  </thead>\n",
       "  <tbody>\n",
       "    <tr>\n",
       "      <th>0</th>\n",
       "      <td>rapid</td>\n",
       "      <td>white</td>\n",
       "      <td>1787</td>\n",
       "      <td>juncinmestrella vs pogo123</td>\n",
       "      <td>1749</td>\n",
       "      <td>black</td>\n",
       "      <td>loss</td>\n",
       "    </tr>\n",
       "    <tr>\n",
       "      <th>1</th>\n",
       "      <td>rapid</td>\n",
       "      <td>white</td>\n",
       "      <td>1802</td>\n",
       "      <td>juncinmestrella vs rodelitobrazal</td>\n",
       "      <td>1691</td>\n",
       "      <td>black</td>\n",
       "      <td>loss</td>\n",
       "    </tr>\n",
       "    <tr>\n",
       "      <th>2</th>\n",
       "      <td>rapid</td>\n",
       "      <td>white</td>\n",
       "      <td>1799</td>\n",
       "      <td>juncinmestrella vs sansebastian</td>\n",
       "      <td>1408</td>\n",
       "      <td>black</td>\n",
       "      <td>win</td>\n",
       "    </tr>\n",
       "    <tr>\n",
       "      <th>3</th>\n",
       "      <td>rapid</td>\n",
       "      <td>black</td>\n",
       "      <td>1805</td>\n",
       "      <td>juncinmestrella vs chess0158</td>\n",
       "      <td>2019</td>\n",
       "      <td>white</td>\n",
       "      <td>loss</td>\n",
       "    </tr>\n",
       "    <tr>\n",
       "      <th>4</th>\n",
       "      <td>rapid</td>\n",
       "      <td>white</td>\n",
       "      <td>1812</td>\n",
       "      <td>juncinmestrella vs bartsimpson6</td>\n",
       "      <td>1949</td>\n",
       "      <td>black</td>\n",
       "      <td>loss</td>\n",
       "    </tr>\n",
       "    <tr>\n",
       "      <th>5</th>\n",
       "      <td>rapid</td>\n",
       "      <td>black</td>\n",
       "      <td>1825</td>\n",
       "      <td>juncinmestrella vs BFLz</td>\n",
       "      <td>1757</td>\n",
       "      <td>white</td>\n",
       "      <td>loss</td>\n",
       "    </tr>\n",
       "    <tr>\n",
       "      <th>6</th>\n",
       "      <td>rapid</td>\n",
       "      <td>black</td>\n",
       "      <td>1829</td>\n",
       "      <td>juncinmestrella vs naster1</td>\n",
       "      <td>2150</td>\n",
       "      <td>white</td>\n",
       "      <td>loss</td>\n",
       "    </tr>\n",
       "    <tr>\n",
       "      <th>7</th>\n",
       "      <td>rapid</td>\n",
       "      <td>black</td>\n",
       "      <td>1819</td>\n",
       "      <td>juncinmestrella vs Mhamed_Basti</td>\n",
       "      <td>1766</td>\n",
       "      <td>white</td>\n",
       "      <td>win</td>\n",
       "    </tr>\n",
       "    <tr>\n",
       "      <th>8</th>\n",
       "      <td>rapid</td>\n",
       "      <td>white</td>\n",
       "      <td>1827</td>\n",
       "      <td>juncinmestrella vs MarioCrippa</td>\n",
       "      <td>1933</td>\n",
       "      <td>black</td>\n",
       "      <td>loss</td>\n",
       "    </tr>\n",
       "    <tr>\n",
       "      <th>9</th>\n",
       "      <td>rapid</td>\n",
       "      <td>black</td>\n",
       "      <td>1829</td>\n",
       "      <td>juncinmestrella vs Erhan</td>\n",
       "      <td>1590</td>\n",
       "      <td>white</td>\n",
       "      <td>win</td>\n",
       "    </tr>\n",
       "    <tr>\n",
       "      <th>10</th>\n",
       "      <td>rapid</td>\n",
       "      <td>white</td>\n",
       "      <td>1844</td>\n",
       "      <td>juncinmestrella vs chandu007</td>\n",
       "      <td>1731</td>\n",
       "      <td>black</td>\n",
       "      <td>loss</td>\n",
       "    </tr>\n",
       "    <tr>\n",
       "      <th>11</th>\n",
       "      <td>rapid</td>\n",
       "      <td>black</td>\n",
       "      <td>1859</td>\n",
       "      <td>juncinmestrella vs mmaric</td>\n",
       "      <td>1723</td>\n",
       "      <td>white</td>\n",
       "      <td>loss</td>\n",
       "    </tr>\n",
       "    <tr>\n",
       "      <th>12</th>\n",
       "      <td>rapid</td>\n",
       "      <td>white</td>\n",
       "      <td>1853</td>\n",
       "      <td>juncinmestrella vs CCH</td>\n",
       "      <td>1675</td>\n",
       "      <td>black</td>\n",
       "      <td>win</td>\n",
       "    </tr>\n",
       "    <tr>\n",
       "      <th>13</th>\n",
       "      <td>rapid</td>\n",
       "      <td>white</td>\n",
       "      <td>1859</td>\n",
       "      <td>juncinmestrella vs Bert-W</td>\n",
       "      <td>1674</td>\n",
       "      <td>black</td>\n",
       "      <td>draw</td>\n",
       "    </tr>\n",
       "    <tr>\n",
       "      <th>14</th>\n",
       "      <td>rapid</td>\n",
       "      <td>black</td>\n",
       "      <td>1848</td>\n",
       "      <td>juncinmestrella vs vlada555</td>\n",
       "      <td>1834</td>\n",
       "      <td>white</td>\n",
       "      <td>win</td>\n",
       "    </tr>\n",
       "    <tr>\n",
       "      <th>15</th>\n",
       "      <td>rapid</td>\n",
       "      <td>black</td>\n",
       "      <td>1837</td>\n",
       "      <td>juncinmestrella vs nick_p</td>\n",
       "      <td>1804</td>\n",
       "      <td>white</td>\n",
       "      <td>win</td>\n",
       "    </tr>\n",
       "    <tr>\n",
       "      <th>16</th>\n",
       "      <td>rapid</td>\n",
       "      <td>white</td>\n",
       "      <td>1850</td>\n",
       "      <td>juncinmestrella vs Qxxxx</td>\n",
       "      <td>1811</td>\n",
       "      <td>black</td>\n",
       "      <td>loss</td>\n",
       "    </tr>\n",
       "    <tr>\n",
       "      <th>17</th>\n",
       "      <td>rapid</td>\n",
       "      <td>white</td>\n",
       "      <td>1834</td>\n",
       "      <td>juncinmestrella vs rezvik</td>\n",
       "      <td>1856</td>\n",
       "      <td>black</td>\n",
       "      <td>win</td>\n",
       "    </tr>\n",
       "    <tr>\n",
       "      <th>18</th>\n",
       "      <td>rapid</td>\n",
       "      <td>black</td>\n",
       "      <td>1830</td>\n",
       "      <td>juncinmestrella vs Nik221107</td>\n",
       "      <td>1526</td>\n",
       "      <td>white</td>\n",
       "      <td>win</td>\n",
       "    </tr>\n",
       "    <tr>\n",
       "      <th>19</th>\n",
       "      <td>rapid</td>\n",
       "      <td>black</td>\n",
       "      <td>1818</td>\n",
       "      <td>juncinmestrella vs vlada555</td>\n",
       "      <td>1843</td>\n",
       "      <td>white</td>\n",
       "      <td>win</td>\n",
       "    </tr>\n",
       "    <tr>\n",
       "      <th>20</th>\n",
       "      <td>rapid</td>\n",
       "      <td>white</td>\n",
       "      <td>1844</td>\n",
       "      <td>juncinmestrella vs Sosnovsky</td>\n",
       "      <td>1713</td>\n",
       "      <td>black</td>\n",
       "      <td>loss</td>\n",
       "    </tr>\n",
       "    <tr>\n",
       "      <th>21</th>\n",
       "      <td>rapid</td>\n",
       "      <td>black</td>\n",
       "      <td>1844</td>\n",
       "      <td>juncinmestrella vs eltrog</td>\n",
       "      <td>1845</td>\n",
       "      <td>white</td>\n",
       "      <td>draw</td>\n",
       "    </tr>\n",
       "    <tr>\n",
       "      <th>22</th>\n",
       "      <td>rapid</td>\n",
       "      <td>black</td>\n",
       "      <td>1859</td>\n",
       "      <td>juncinmestrella vs kerespaul</td>\n",
       "      <td>1728</td>\n",
       "      <td>white</td>\n",
       "      <td>loss</td>\n",
       "    </tr>\n",
       "    <tr>\n",
       "      <th>23</th>\n",
       "      <td>rapid</td>\n",
       "      <td>white</td>\n",
       "      <td>1865</td>\n",
       "      <td>juncinmestrella vs da19</td>\n",
       "      <td>2076</td>\n",
       "      <td>black</td>\n",
       "      <td>loss</td>\n",
       "    </tr>\n",
       "    <tr>\n",
       "      <th>24</th>\n",
       "      <td>rapid</td>\n",
       "      <td>black</td>\n",
       "      <td>1870</td>\n",
       "      <td>juncinmestrella vs Pietro41youtube</td>\n",
       "      <td>2096</td>\n",
       "      <td>white</td>\n",
       "      <td>loss</td>\n",
       "    </tr>\n",
       "    <tr>\n",
       "      <th>25</th>\n",
       "      <td>rapid</td>\n",
       "      <td>white</td>\n",
       "      <td>1860</td>\n",
       "      <td>juncinmestrella vs selami011235</td>\n",
       "      <td>1800</td>\n",
       "      <td>black</td>\n",
       "      <td>win</td>\n",
       "    </tr>\n",
       "    <tr>\n",
       "      <th>26</th>\n",
       "      <td>rapid</td>\n",
       "      <td>black</td>\n",
       "      <td>1856</td>\n",
       "      <td>juncinmestrella vs Lancel0t</td>\n",
       "      <td>1610</td>\n",
       "      <td>white</td>\n",
       "      <td>win</td>\n",
       "    </tr>\n",
       "    <tr>\n",
       "      <th>27</th>\n",
       "      <td>rapid</td>\n",
       "      <td>white</td>\n",
       "      <td>1846</td>\n",
       "      <td>juncinmestrella vs Panisaggg25</td>\n",
       "      <td>1778</td>\n",
       "      <td>black</td>\n",
       "      <td>win</td>\n",
       "    </tr>\n",
       "    <tr>\n",
       "      <th>28</th>\n",
       "      <td>rapid</td>\n",
       "      <td>black</td>\n",
       "      <td>1843</td>\n",
       "      <td>juncinmestrella vs eraldii</td>\n",
       "      <td>1936</td>\n",
       "      <td>white</td>\n",
       "      <td>draw</td>\n",
       "    </tr>\n",
       "    <tr>\n",
       "      <th>29</th>\n",
       "      <td>rapid</td>\n",
       "      <td>white</td>\n",
       "      <td>1842</td>\n",
       "      <td>juncinmestrella vs VkmansFTW</td>\n",
       "      <td>1300</td>\n",
       "      <td>black</td>\n",
       "      <td>win</td>\n",
       "    </tr>\n",
       "    <tr>\n",
       "      <th>30</th>\n",
       "      <td>rapid</td>\n",
       "      <td>white</td>\n",
       "      <td>1862</td>\n",
       "      <td>juncinmestrella vs Schein-N</td>\n",
       "      <td>1556</td>\n",
       "      <td>black</td>\n",
       "      <td>loss</td>\n",
       "    </tr>\n",
       "    <tr>\n",
       "      <th>31</th>\n",
       "      <td>rapid</td>\n",
       "      <td>black</td>\n",
       "      <td>1850</td>\n",
       "      <td>juncinmestrella vs Kamil2009</td>\n",
       "      <td>1865</td>\n",
       "      <td>white</td>\n",
       "      <td>win</td>\n",
       "    </tr>\n",
       "    <tr>\n",
       "      <th>32</th>\n",
       "      <td>rapid</td>\n",
       "      <td>black</td>\n",
       "      <td>1831</td>\n",
       "      <td>juncinmestrella vs ContagemMG</td>\n",
       "      <td>1771</td>\n",
       "      <td>white</td>\n",
       "      <td>win</td>\n",
       "    </tr>\n",
       "    <tr>\n",
       "      <th>33</th>\n",
       "      <td>rapid</td>\n",
       "      <td>white</td>\n",
       "      <td>1844</td>\n",
       "      <td>juncinmestrella vs Rissal</td>\n",
       "      <td>1793</td>\n",
       "      <td>black</td>\n",
       "      <td>loss</td>\n",
       "    </tr>\n",
       "    <tr>\n",
       "      <th>34</th>\n",
       "      <td>rapid</td>\n",
       "      <td>white</td>\n",
       "      <td>1848</td>\n",
       "      <td>juncinmestrella vs Sailor7</td>\n",
       "      <td>2098</td>\n",
       "      <td>black</td>\n",
       "      <td>loss</td>\n",
       "    </tr>\n",
       "    <tr>\n",
       "      <th>35</th>\n",
       "      <td>rapid</td>\n",
       "      <td>black</td>\n",
       "      <td>1838</td>\n",
       "      <td>juncinmestrella vs AlfredGjoncari</td>\n",
       "      <td>1789</td>\n",
       "      <td>white</td>\n",
       "      <td>win</td>\n",
       "    </tr>\n",
       "    <tr>\n",
       "      <th>36</th>\n",
       "      <td>rapid</td>\n",
       "      <td>white</td>\n",
       "      <td>1820</td>\n",
       "      <td>juncinmestrella vs yakiravalkinta</td>\n",
       "      <td>2095</td>\n",
       "      <td>black</td>\n",
       "      <td>win</td>\n",
       "    </tr>\n",
       "    <tr>\n",
       "      <th>37</th>\n",
       "      <td>rapid</td>\n",
       "      <td>black</td>\n",
       "      <td>1805</td>\n",
       "      <td>juncinmestrella vs Benuard</td>\n",
       "      <td>1891</td>\n",
       "      <td>white</td>\n",
       "      <td>win</td>\n",
       "    </tr>\n",
       "    <tr>\n",
       "      <th>38</th>\n",
       "      <td>rapid</td>\n",
       "      <td>white</td>\n",
       "      <td>1785</td>\n",
       "      <td>juncinmestrella vs yakiravalkinta</td>\n",
       "      <td>2116</td>\n",
       "      <td>black</td>\n",
       "      <td>win</td>\n",
       "    </tr>\n",
       "    <tr>\n",
       "      <th>39</th>\n",
       "      <td>rapid</td>\n",
       "      <td>white</td>\n",
       "      <td>1769</td>\n",
       "      <td>juncinmestrella vs sqs198627</td>\n",
       "      <td>1926</td>\n",
       "      <td>black</td>\n",
       "      <td>win</td>\n",
       "    </tr>\n",
       "    <tr>\n",
       "      <th>40</th>\n",
       "      <td>rapid</td>\n",
       "      <td>black</td>\n",
       "      <td>1775</td>\n",
       "      <td>juncinmestrella vs dmekro</td>\n",
       "      <td>1967</td>\n",
       "      <td>white</td>\n",
       "      <td>loss</td>\n",
       "    </tr>\n",
       "    <tr>\n",
       "      <th>41</th>\n",
       "      <td>rapid</td>\n",
       "      <td>black</td>\n",
       "      <td>1766</td>\n",
       "      <td>juncinmestrella vs karmaboanil</td>\n",
       "      <td>1711</td>\n",
       "      <td>white</td>\n",
       "      <td>win</td>\n",
       "    </tr>\n",
       "    <tr>\n",
       "      <th>42</th>\n",
       "      <td>rapid</td>\n",
       "      <td>white</td>\n",
       "      <td>1754</td>\n",
       "      <td>juncinmestrella vs craig77</td>\n",
       "      <td>1768</td>\n",
       "      <td>black</td>\n",
       "      <td>win</td>\n",
       "    </tr>\n",
       "    <tr>\n",
       "      <th>43</th>\n",
       "      <td>rapid</td>\n",
       "      <td>black</td>\n",
       "      <td>1765</td>\n",
       "      <td>juncinmestrella vs Knightbane</td>\n",
       "      <td>1756</td>\n",
       "      <td>white</td>\n",
       "      <td>loss</td>\n",
       "    </tr>\n",
       "    <tr>\n",
       "      <th>44</th>\n",
       "      <td>rapid</td>\n",
       "      <td>white</td>\n",
       "      <td>1778</td>\n",
       "      <td>juncinmestrella vs Revod</td>\n",
       "      <td>1757</td>\n",
       "      <td>black</td>\n",
       "      <td>loss</td>\n",
       "    </tr>\n",
       "    <tr>\n",
       "      <th>45</th>\n",
       "      <td>rapid</td>\n",
       "      <td>white</td>\n",
       "      <td>1910</td>\n",
       "      <td>juncinmestrella vs Isachess</td>\n",
       "      <td>1862</td>\n",
       "      <td>black</td>\n",
       "      <td>win</td>\n",
       "    </tr>\n",
       "  </tbody>\n",
       "</table>\n",
       "</div>"
      ],
      "text/plain": [
       "   match_type player_side  player_rating                             matches  \\\n",
       "0       rapid       white           1787          juncinmestrella vs pogo123   \n",
       "1       rapid       white           1802   juncinmestrella vs rodelitobrazal   \n",
       "2       rapid       white           1799     juncinmestrella vs sansebastian   \n",
       "3       rapid       black           1805        juncinmestrella vs chess0158   \n",
       "4       rapid       white           1812     juncinmestrella vs bartsimpson6   \n",
       "5       rapid       black           1825             juncinmestrella vs BFLz   \n",
       "6       rapid       black           1829          juncinmestrella vs naster1   \n",
       "7       rapid       black           1819     juncinmestrella vs Mhamed_Basti   \n",
       "8       rapid       white           1827      juncinmestrella vs MarioCrippa   \n",
       "9       rapid       black           1829            juncinmestrella vs Erhan   \n",
       "10      rapid       white           1844        juncinmestrella vs chandu007   \n",
       "11      rapid       black           1859           juncinmestrella vs mmaric   \n",
       "12      rapid       white           1853              juncinmestrella vs CCH   \n",
       "13      rapid       white           1859           juncinmestrella vs Bert-W   \n",
       "14      rapid       black           1848         juncinmestrella vs vlada555   \n",
       "15      rapid       black           1837           juncinmestrella vs nick_p   \n",
       "16      rapid       white           1850            juncinmestrella vs Qxxxx   \n",
       "17      rapid       white           1834           juncinmestrella vs rezvik   \n",
       "18      rapid       black           1830        juncinmestrella vs Nik221107   \n",
       "19      rapid       black           1818         juncinmestrella vs vlada555   \n",
       "20      rapid       white           1844        juncinmestrella vs Sosnovsky   \n",
       "21      rapid       black           1844           juncinmestrella vs eltrog   \n",
       "22      rapid       black           1859        juncinmestrella vs kerespaul   \n",
       "23      rapid       white           1865             juncinmestrella vs da19   \n",
       "24      rapid       black           1870  juncinmestrella vs Pietro41youtube   \n",
       "25      rapid       white           1860     juncinmestrella vs selami011235   \n",
       "26      rapid       black           1856         juncinmestrella vs Lancel0t   \n",
       "27      rapid       white           1846      juncinmestrella vs Panisaggg25   \n",
       "28      rapid       black           1843          juncinmestrella vs eraldii   \n",
       "29      rapid       white           1842        juncinmestrella vs VkmansFTW   \n",
       "30      rapid       white           1862         juncinmestrella vs Schein-N   \n",
       "31      rapid       black           1850        juncinmestrella vs Kamil2009   \n",
       "32      rapid       black           1831       juncinmestrella vs ContagemMG   \n",
       "33      rapid       white           1844           juncinmestrella vs Rissal   \n",
       "34      rapid       white           1848          juncinmestrella vs Sailor7   \n",
       "35      rapid       black           1838   juncinmestrella vs AlfredGjoncari   \n",
       "36      rapid       white           1820   juncinmestrella vs yakiravalkinta   \n",
       "37      rapid       black           1805          juncinmestrella vs Benuard   \n",
       "38      rapid       white           1785   juncinmestrella vs yakiravalkinta   \n",
       "39      rapid       white           1769        juncinmestrella vs sqs198627   \n",
       "40      rapid       black           1775           juncinmestrella vs dmekro   \n",
       "41      rapid       black           1766      juncinmestrella vs karmaboanil   \n",
       "42      rapid       white           1754          juncinmestrella vs craig77   \n",
       "43      rapid       black           1765       juncinmestrella vs Knightbane   \n",
       "44      rapid       white           1778            juncinmestrella vs Revod   \n",
       "45      rapid       white           1910         juncinmestrella vs Isachess   \n",
       "\n",
       "    enemy_rating enemy_side result  \n",
       "0           1749      black   loss  \n",
       "1           1691      black   loss  \n",
       "2           1408      black    win  \n",
       "3           2019      white   loss  \n",
       "4           1949      black   loss  \n",
       "5           1757      white   loss  \n",
       "6           2150      white   loss  \n",
       "7           1766      white    win  \n",
       "8           1933      black   loss  \n",
       "9           1590      white    win  \n",
       "10          1731      black   loss  \n",
       "11          1723      white   loss  \n",
       "12          1675      black    win  \n",
       "13          1674      black   draw  \n",
       "14          1834      white    win  \n",
       "15          1804      white    win  \n",
       "16          1811      black   loss  \n",
       "17          1856      black    win  \n",
       "18          1526      white    win  \n",
       "19          1843      white    win  \n",
       "20          1713      black   loss  \n",
       "21          1845      white   draw  \n",
       "22          1728      white   loss  \n",
       "23          2076      black   loss  \n",
       "24          2096      white   loss  \n",
       "25          1800      black    win  \n",
       "26          1610      white    win  \n",
       "27          1778      black    win  \n",
       "28          1936      white   draw  \n",
       "29          1300      black    win  \n",
       "30          1556      black   loss  \n",
       "31          1865      white    win  \n",
       "32          1771      white    win  \n",
       "33          1793      black   loss  \n",
       "34          2098      black   loss  \n",
       "35          1789      white    win  \n",
       "36          2095      black    win  \n",
       "37          1891      white    win  \n",
       "38          2116      black    win  \n",
       "39          1926      black    win  \n",
       "40          1967      white   loss  \n",
       "41          1711      white    win  \n",
       "42          1768      black    win  \n",
       "43          1756      white   loss  \n",
       "44          1757      black   loss  \n",
       "45          1862      black    win  "
      ]
     },
     "execution_count": 48,
     "metadata": {},
     "output_type": "execute_result"
    }
   ],
   "source": [
    "chest_type_white = df_viz.loc[df_viz[\"white_player\"] == target_name,[\"createdAt\",\"match_type\",\"white_rating\",\"white_player\",\"black_player\",\"black_rating\",\"match_winner\"]]\n",
    "chest_type_white[\"player_side\"] = \"white\"\n",
    "chest_type_white[\"enemy_side\"] = \"black\"\n",
    "chest_type_white = chest_type_white.rename(columns= {\"white_player\": \"player_name\",\"white_rating\":\"player_rating\",\"black_player\": \"enemy_name\",\"black_rating\":\"enemy_rating\"})\n",
    "\n",
    "chest_type_black = df_viz.loc[df_viz[\"black_player\"] == target_name,[\"createdAt\",\"match_type\",\"black_rating\",\"black_player\",\"white_player\",\"white_rating\",\"match_winner\"]]\n",
    "chest_type_black[\"player_side\"] = \"black\"\n",
    "chest_type_black[\"enemy_side\"] = \"white\"\n",
    "chest_type_black = chest_type_black.rename(columns= {\"black_player\": \"player_name\",\"black_rating\":\"player_rating\",\"white_player\": \"enemy_name\",\"white_rating\":\"enemy_rating\"})\n",
    "\n",
    "\n",
    "\n",
    "\n",
    "chest_type_inital_data = pd.concat([chest_type_white,chest_type_black]).sort_values(by= \"createdAt\",ascending= False).reset_index(drop = True)\n",
    "\n",
    "versus_data_arr = []\n",
    "for i in chest_type_inital_data.index:\n",
    "    versus_data_arr.append(chest_type_inital_data.loc[i,\"player_name\"] + \" vs \" + chest_type_inital_data.loc[i,\"enemy_name\"]) \n",
    "\n",
    "changed_match_winner = []\n",
    "for i in chest_type_inital_data[\"match_winner\"]:\n",
    "    if i == \"draw\":\n",
    "        changed_match_winner.append(\"draw\")\n",
    "        continue\n",
    "    if i == target_name:\n",
    "        changed_match_winner.append(\"win\")\n",
    "    else:\n",
    "        changed_match_winner.append(\"loss\")\n",
    "\n",
    "\n",
    "chest_type_inital_data[\"matches\"] = versus_data_arr\n",
    "\n",
    "chest_type_inital_data[\"result\"] = changed_match_winner\n",
    "\n",
    "\n",
    "\n",
    "chest_type_hist_final = chest_type_inital_data.loc[:,[\"match_type\",\"player_side\",\"player_rating\",\"matches\", \"enemy_rating\",\"enemy_side\",\"result\"]]\n",
    "\n",
    "chest_type_hist_final\n"
   ]
  },
  {
   "cell_type": "code",
   "execution_count": 49,
   "metadata": {},
   "outputs": [
    {
     "data": {
      "text/plain": [
       "'juncinmestrella'"
      ]
     },
     "execution_count": 49,
     "metadata": {},
     "output_type": "execute_result"
    }
   ],
   "source": [
    "player_id = player_info_data[player_info_data[\"Players\"] == target_name][\"Player_ID\"].reset_index(drop= True)[0]\n",
    "player_id"
   ]
  },
  {
   "cell_type": "code",
   "execution_count": 50,
   "metadata": {},
   "outputs": [
    {
     "data": {
      "text/plain": [
       "1787"
      ]
     },
     "execution_count": 50,
     "metadata": {},
     "output_type": "execute_result"
    }
   ],
   "source": [
    "player_ranking = chest_type_inital_data[chest_type_inital_data[\"player_name\"] == target_name][\"player_rating\"][0]\n",
    "player_ranking"
   ]
  },
  {
   "cell_type": "code",
   "execution_count": 51,
   "metadata": {},
   "outputs": [
    {
     "data": {
      "text/plain": [
       "46"
      ]
     },
     "execution_count": 51,
     "metadata": {},
     "output_type": "execute_result"
    }
   ],
   "source": [
    "player_match_played = player_info_data[player_info_data[\"Players\"] == target_name][\"Matches_Played\"].reset_index(drop= True)[0]\n",
    "player_match_played"
   ]
  },
  {
   "cell_type": "code",
   "execution_count": 52,
   "metadata": {},
   "outputs": [
    {
     "data": {
      "text/plain": [
       "'50.0%'"
      ]
     },
     "execution_count": 52,
     "metadata": {},
     "output_type": "execute_result"
    }
   ],
   "source": [
    "player_win_rate = player_info_data[player_info_data[\"Players\"] == target_name][\"Win_rate\"].reset_index(drop= True)[0]\n",
    "str(player_win_rate) + \"%\""
   ]
  },
  {
   "cell_type": "code",
   "execution_count": 53,
   "metadata": {},
   "outputs": [
    {
     "data": {
      "text/plain": [
       "{'Other Moves': 42, 'French Defense: Knight Variation': 4}"
      ]
     },
     "execution_count": 53,
     "metadata": {},
     "output_type": "execute_result"
    }
   ],
   "source": [
    "player_pref_strat = Strat_data_values\n",
    "\n",
    "player_pref_strat"
   ]
  },
  {
   "cell_type": "code",
   "execution_count": 54,
   "metadata": {},
   "outputs": [
    {
     "data": {
      "text/plain": [
       "143"
      ]
     },
     "execution_count": 54,
     "metadata": {},
     "output_type": "execute_result"
    }
   ],
   "source": [
    "len(\"French Defense: Exchange Variation, French Defense: Knight Variation, French Defense: Rubinstein Variation, Blackburne Defense, Horwitz Defense\")"
   ]
  }
 ],
 "metadata": {
  "kernelspec": {
   "display_name": "Python 3",
   "language": "python",
   "name": "python3"
  },
  "language_info": {
   "codemirror_mode": {
    "name": "ipython",
    "version": 3
   },
   "file_extension": ".py",
   "mimetype": "text/x-python",
   "name": "python",
   "nbconvert_exporter": "python",
   "pygments_lexer": "ipython3",
   "version": "3.11.5"
  }
 },
 "nbformat": 4,
 "nbformat_minor": 2
}
